{
 "cells": [
  {
   "cell_type": "code",
   "execution_count": 33,
   "id": "7c9841c8",
   "metadata": {},
   "outputs": [],
   "source": [
    "class MacBookAir:\n",
    "    def __init__(selfy, model, color):\n",
    "        selfy.macModel = model       # attribute\n",
    "        selfy.macColor = color\n",
    "    def show(selfy):                 #method\n",
    "        print(f'You got an Macbook {selfy.macModel} with {selfy.macColor} Color')\n",
    "        \n",
    "shubham = MacBookAir('M1','Space Grey')     # object\n",
    "\n",
    "#pep8 according we are using self, but we can use anything"
   ]
  },
  {
   "cell_type": "code",
   "execution_count": 34,
   "id": "2bddfe73",
   "metadata": {},
   "outputs": [
    {
     "data": {
      "text/plain": [
       "<__main__.MacBookAir at 0x7f939231aeb0>"
      ]
     },
     "execution_count": 34,
     "metadata": {},
     "output_type": "execute_result"
    }
   ],
   "source": [
    "shubham"
   ]
  },
  {
   "cell_type": "code",
   "execution_count": 35,
   "id": "1e175ed1",
   "metadata": {},
   "outputs": [
    {
     "name": "stdout",
     "output_type": "stream",
     "text": [
      "You got an Macbook M1 with Space Grey Color\n"
     ]
    }
   ],
   "source": [
    "shubham.show()"
   ]
  },
  {
   "cell_type": "code",
   "execution_count": 1,
   "id": "22b8a1e5",
   "metadata": {},
   "outputs": [],
   "source": [
    "class MacBookAir:\n",
    "    def __init__(selfy, model, color):\n",
    "        selfy.macModel = model       \n",
    "        selfy.macColor = color\n",
    "    def show(selfy,storage):                \n",
    "        print(f'You got an Macbook {selfy.macModel} with {selfy.macColor} Color and having {selfy.storage} RAM')\n",
    "        \n",
    "\n",
    "\n"
   ]
  },
  {
   "cell_type": "code",
   "execution_count": 2,
   "id": "baafd0cf",
   "metadata": {},
   "outputs": [],
   "source": [
    "shubham = MacBookAir('M1','Space Grey')     # object"
   ]
  },
  {
   "cell_type": "code",
   "execution_count": 3,
   "id": "e1de0eca",
   "metadata": {},
   "outputs": [
    {
     "ename": "TypeError",
     "evalue": "show() missing 1 required positional argument: 'storage'",
     "output_type": "error",
     "traceback": [
      "\u001b[0;31m---------------------------------------------------------------------------\u001b[0m",
      "\u001b[0;31mTypeError\u001b[0m                                 Traceback (most recent call last)",
      "\u001b[0;32m/var/folders/28/xzg4vjpj3gj6x32fqvxyzd440000gn/T/ipykernel_5953/2881971987.py\u001b[0m in \u001b[0;36m<module>\u001b[0;34m\u001b[0m\n\u001b[0;32m----> 1\u001b[0;31m \u001b[0mshubham\u001b[0m\u001b[0;34m.\u001b[0m\u001b[0mshow\u001b[0m\u001b[0;34m(\u001b[0m\u001b[0;34m)\u001b[0m\u001b[0;34m\u001b[0m\u001b[0;34m\u001b[0m\u001b[0m\n\u001b[0m",
      "\u001b[0;31mTypeError\u001b[0m: show() missing 1 required positional argument: 'storage'"
     ]
    }
   ],
   "source": [
    "shubham.show()"
   ]
  },
  {
   "cell_type": "code",
   "execution_count": 4,
   "id": "dd2b4bf7",
   "metadata": {},
   "outputs": [
    {
     "ename": "AttributeError",
     "evalue": "'MacBookAir' object has no attribute 'storage'",
     "output_type": "error",
     "traceback": [
      "\u001b[0;31m---------------------------------------------------------------------------\u001b[0m",
      "\u001b[0;31mAttributeError\u001b[0m                            Traceback (most recent call last)",
      "\u001b[0;32m/var/folders/28/xzg4vjpj3gj6x32fqvxyzd440000gn/T/ipykernel_5953/2989661872.py\u001b[0m in \u001b[0;36m<module>\u001b[0;34m\u001b[0m\n\u001b[0;32m----> 1\u001b[0;31m \u001b[0mshubham\u001b[0m\u001b[0;34m.\u001b[0m\u001b[0mshow\u001b[0m\u001b[0;34m(\u001b[0m\u001b[0;34m'8 GB'\u001b[0m\u001b[0;34m)\u001b[0m\u001b[0;34m\u001b[0m\u001b[0;34m\u001b[0m\u001b[0m\n\u001b[0m",
      "\u001b[0;32m/var/folders/28/xzg4vjpj3gj6x32fqvxyzd440000gn/T/ipykernel_5953/1039689840.py\u001b[0m in \u001b[0;36mshow\u001b[0;34m(selfy, storage)\u001b[0m\n\u001b[1;32m      4\u001b[0m         \u001b[0mselfy\u001b[0m\u001b[0;34m.\u001b[0m\u001b[0mmacColor\u001b[0m \u001b[0;34m=\u001b[0m \u001b[0mcolor\u001b[0m\u001b[0;34m\u001b[0m\u001b[0;34m\u001b[0m\u001b[0m\n\u001b[1;32m      5\u001b[0m     \u001b[0;32mdef\u001b[0m \u001b[0mshow\u001b[0m\u001b[0;34m(\u001b[0m\u001b[0mselfy\u001b[0m\u001b[0;34m,\u001b[0m\u001b[0mstorage\u001b[0m\u001b[0;34m)\u001b[0m\u001b[0;34m:\u001b[0m\u001b[0;34m\u001b[0m\u001b[0;34m\u001b[0m\u001b[0m\n\u001b[0;32m----> 6\u001b[0;31m         \u001b[0mprint\u001b[0m\u001b[0;34m(\u001b[0m\u001b[0;34mf'You got an Macbook {selfy.macModel} with {selfy.macColor} Color and having {selfy.storage} RAM'\u001b[0m\u001b[0;34m)\u001b[0m\u001b[0;34m\u001b[0m\u001b[0;34m\u001b[0m\u001b[0m\n\u001b[0m\u001b[1;32m      7\u001b[0m \u001b[0;34m\u001b[0m\u001b[0m\n\u001b[1;32m      8\u001b[0m \u001b[0;34m\u001b[0m\u001b[0m\n",
      "\u001b[0;31mAttributeError\u001b[0m: 'MacBookAir' object has no attribute 'storage'"
     ]
    }
   ],
   "source": [
    "shubham.show('8 GB')"
   ]
  },
  {
   "cell_type": "code",
   "execution_count": 8,
   "id": "7c7144a6",
   "metadata": {},
   "outputs": [],
   "source": [
    "class MacBookAir:\n",
    "    def __init__(selfy, model, color):\n",
    "        selfy.macModel = model       \n",
    "        selfy.macColor = color\n",
    "        \n",
    "    def show(selfy,storage):                \n",
    "        print(f'You got an Macbook {selfy.macModel} with {selfy.macColor} Color and having {storage} RAM')\n",
    "        #no need of giving selfy here \n",
    "\n"
   ]
  },
  {
   "cell_type": "code",
   "execution_count": 12,
   "id": "824f532e",
   "metadata": {},
   "outputs": [],
   "source": [
    "shubham = MacBookAir(\"M1\",\"grey\")\n"
   ]
  },
  {
   "cell_type": "code",
   "execution_count": 11,
   "id": "384af972",
   "metadata": {},
   "outputs": [
    {
     "name": "stdout",
     "output_type": "stream",
     "text": [
      "You got an Macbook M1 with grey Color and having 8 GB RAM\n"
     ]
    }
   ],
   "source": [
    "shubham.show(\"8 GB\")"
   ]
  },
  {
   "cell_type": "code",
   "execution_count": 29,
   "id": "3cd7639b",
   "metadata": {},
   "outputs": [],
   "source": [
    "class MacBookAir:\n",
    "    buy = 0         #class object variable\n",
    "    def __init__(selfy, model, color):\n",
    "        selfy.macModel = model       \n",
    "        selfy.macColor = color\n",
    "        \n",
    "    def show(selfy,storage):                \n",
    "        print(f'You got an Macbook {selfy.macModel} with {selfy.macColor} Color and having {storage} RAM')\n",
    "        \n",
    "    def buying_count(selfy,name):\n",
    "        selfy.buy += 1\n",
    "        \n"
   ]
  },
  {
   "cell_type": "code",
   "execution_count": 30,
   "id": "22622ce4",
   "metadata": {},
   "outputs": [],
   "source": [
    "shubham = MacBookAir('M1',\"black\")"
   ]
  },
  {
   "cell_type": "code",
   "execution_count": 31,
   "id": "68135cb7",
   "metadata": {},
   "outputs": [
    {
     "name": "stdout",
     "output_type": "stream",
     "text": [
      "You got an Macbook M1 with black Color and having 8 GB RAM\n"
     ]
    }
   ],
   "source": [
    "shubham.show('8 GB')"
   ]
  },
  {
   "cell_type": "code",
   "execution_count": 32,
   "id": "e62985af",
   "metadata": {},
   "outputs": [],
   "source": [
    "shubham.buying_count('for brother')"
   ]
  },
  {
   "cell_type": "code",
   "execution_count": 33,
   "id": "2f21abae",
   "metadata": {},
   "outputs": [
    {
     "name": "stdout",
     "output_type": "stream",
     "text": [
      "1\n"
     ]
    }
   ],
   "source": [
    "print(shubham.buy)"
   ]
  },
  {
   "cell_type": "code",
   "execution_count": 34,
   "id": "6c3ae77d",
   "metadata": {},
   "outputs": [
    {
     "name": "stdout",
     "output_type": "stream",
     "text": [
      "2\n"
     ]
    }
   ],
   "source": [
    "shubham.buying_count('for sister')\n",
    "print(shubham.buy)"
   ]
  },
  {
   "cell_type": "code",
   "execution_count": 49,
   "id": "1c0e47af",
   "metadata": {},
   "outputs": [
    {
     "name": "stdout",
     "output_type": "stream",
     "text": [
      "3632.152\n"
     ]
    }
   ],
   "source": [
    "class Circle:\n",
    "    pi =3.142 # class attribute\n",
    "    def __init__(self,radius):\n",
    "        \n",
    "        result = self.pi * radius **2\n",
    "        \n",
    "        print(result)\n",
    "        \n",
    "rad1 = Circle(34)"
   ]
  },
  {
   "cell_type": "code",
   "execution_count": null,
   "id": "94ceb354",
   "metadata": {},
   "outputs": [],
   "source": []
  },
  {
   "cell_type": "code",
   "execution_count": 75,
   "id": "1001c867",
   "metadata": {},
   "outputs": [],
   "source": [
    "class Circle:\n",
    "    pi =3.142 # class attribute\n",
    "    def __init__(self,radius):\n",
    "        self.radius = radius\n",
    "        self.area = self.pi * radius **2\n",
    "        self.result = self.area\n",
    "        \n",
    "    def show(self):\n",
    "        print('The radius is {} and area is {}'.format(self.radius,self.result))\n",
    "        \n",
    "        \n"
   ]
  },
  {
   "cell_type": "code",
   "execution_count": 76,
   "id": "2306663e",
   "metadata": {},
   "outputs": [],
   "source": [
    "rad1 = Circle(34)"
   ]
  },
  {
   "cell_type": "code",
   "execution_count": 77,
   "id": "59a791dc",
   "metadata": {},
   "outputs": [
    {
     "name": "stdout",
     "output_type": "stream",
     "text": [
      "The radius is 34 and area is 3632.152\n"
     ]
    }
   ],
   "source": [
    "rad1.show()"
   ]
  },
  {
   "cell_type": "code",
   "execution_count": 81,
   "id": "9445b955",
   "metadata": {},
   "outputs": [],
   "source": [
    "class Circle:\n",
    "    pi =3.142 # class attribute\n",
    "    def __init__(self,radius):\n",
    "        self.radius = radius\n",
    "        self.area = Circle.pi * radius **2                   # should right class name so can identify easily\n",
    "        self.result = self.area\n",
    "        \n",
    "    def show(self):\n",
    "        print('The radius is {} and area is {}'.format(self.radius,self.result))\n",
    "        \n",
    "        \n",
    "#This is not the way you create "
   ]
  },
  {
   "cell_type": "code",
   "execution_count": 79,
   "id": "6de784ea",
   "metadata": {},
   "outputs": [],
   "source": [
    "rad1 = Circle(32)"
   ]
  },
  {
   "cell_type": "code",
   "execution_count": 80,
   "id": "c8a60f19",
   "metadata": {},
   "outputs": [
    {
     "name": "stdout",
     "output_type": "stream",
     "text": [
      "The radius is 32 and area is 3217.408\n"
     ]
    }
   ],
   "source": [
    "rad1.show()"
   ]
  },
  {
   "cell_type": "code",
   "execution_count": 84,
   "id": "12567187",
   "metadata": {},
   "outputs": [],
   "source": [
    "\n",
    "class Circle:\n",
    "    pi =3.142 \n",
    "    def __init__(self,radius=2):\n",
    "        self.radius = radius\n",
    "        self.area = Circle.pi * self.radius **2\n",
    "\n",
    "    def circumference(self):\n",
    "        result = 2 * Circle.pi * self.radius\n",
    "        return result\n",
    "    \n",
    "    \n",
    "radius_1 = Circle(4)\n",
    "\n"
   ]
  },
  {
   "cell_type": "code",
   "execution_count": 86,
   "id": "9acabfd0",
   "metadata": {},
   "outputs": [
    {
     "name": "stdout",
     "output_type": "stream",
     "text": [
      "50.272\n"
     ]
    }
   ],
   "source": [
    "print(radius_1.area)"
   ]
  },
  {
   "cell_type": "code",
   "execution_count": 87,
   "id": "fcc9cfb0",
   "metadata": {},
   "outputs": [
    {
     "name": "stdout",
     "output_type": "stream",
     "text": [
      "3.142\n"
     ]
    }
   ],
   "source": [
    "print(radius_1.pi)"
   ]
  },
  {
   "cell_type": "code",
   "execution_count": 89,
   "id": "4521eaf5",
   "metadata": {},
   "outputs": [
    {
     "name": "stdout",
     "output_type": "stream",
     "text": [
      "25.136\n"
     ]
    }
   ],
   "source": [
    "print(radius_1.circumference())"
   ]
  },
  {
   "cell_type": "code",
   "execution_count": null,
   "id": "29fbf351",
   "metadata": {},
   "outputs": [],
   "source": [
    "#triangle \n",
    "\n",
    "#area = 1/2*b*h\n",
    "# perimeter = a+b+c\n",
    "\n"
   ]
  },
  {
   "cell_type": "code",
   "execution_count": 118,
   "id": "e4cfaa76",
   "metadata": {},
   "outputs": [],
   "source": [
    "class Triangle:\n",
    "#     def __init__(self):\n",
    "#         pass   \n",
    "    def area(self, base, height):\n",
    "        self.base = base\n",
    "        self.height = height\n",
    "        self.result = 0.5 * self.base * self.height\n",
    "        print(\"The area of base({}) and height({}) of triangle is {}\".format(self.base,self.height,self.result))\n",
    "    \n",
    "    def perimeter(self,a,b,c):\n",
    "        self.a = a\n",
    "        self.b = b\n",
    "        self.c = c\n",
    "        return self.a + self.b + self.c\n",
    "    \n",
    "obj = Triangle()"
   ]
  },
  {
   "cell_type": "code",
   "execution_count": 119,
   "id": "77974844",
   "metadata": {},
   "outputs": [
    {
     "name": "stdout",
     "output_type": "stream",
     "text": [
      "The area of base(12) and height(3) of triangle is 18.0\n"
     ]
    }
   ],
   "source": [
    "obj.area(12,3)"
   ]
  },
  {
   "cell_type": "code",
   "execution_count": 123,
   "id": "d2627252",
   "metadata": {},
   "outputs": [
    {
     "data": {
      "text/plain": [
       "6"
      ]
     },
     "execution_count": 123,
     "metadata": {},
     "output_type": "execute_result"
    }
   ],
   "source": [
    "obj.perimeter(1,2,3)"
   ]
  },
  {
   "cell_type": "code",
   "execution_count": 124,
   "id": "114d388b",
   "metadata": {},
   "outputs": [
    {
     "name": "stdout",
     "output_type": "stream",
     "text": [
      "The area of base(5) and height(10) of triangle is 25.0\n",
      "The perimeter of the triangle with sides (5, 10, 7) is 22\n"
     ]
    },
    {
     "data": {
      "text/plain": [
       "22"
      ]
     },
     "execution_count": 124,
     "metadata": {},
     "output_type": "execute_result"
    }
   ],
   "source": [
    "# google\n",
    "class Triangle:\n",
    "    def __init__(self):\n",
    "        # Initialize attributes if needed (optional)\n",
    "        self.base = 0\n",
    "        self.height = 0\n",
    "        self.a = 0\n",
    "        self.b = 0\n",
    "        self.c = 0\n",
    "\n",
    "    def area(self, base, height):\n",
    "        self.base = base\n",
    "        self.height = height\n",
    "        self.result = 0.5 * self.base * self.height\n",
    "        print(\"The area of base({}) and height({}) of triangle is {}\".format(self.base, self.height, self.result))\n",
    "\n",
    "    def perimeter(self, a, b, c):\n",
    "        self.a = a\n",
    "        self.b = b\n",
    "        self.c = c\n",
    "        perimeter_result = self.a + self.b + self.c\n",
    "        print(\"The perimeter of the triangle with sides ({}, {}, {}) is {}\".format(self.a, self.b, self.c, perimeter_result))\n",
    "        return perimeter_result\n",
    "\n",
    "# Create an object of the Triangle class\n",
    "obj = Triangle()\n",
    "\n",
    "# Call the area method\n",
    "obj.area(5, 10)\n",
    "\n",
    "# Call the perimeter method\n",
    "obj.perimeter(5, 10, 7)\n"
   ]
  },
  {
   "cell_type": "code",
   "execution_count": 125,
   "id": "34f414e4",
   "metadata": {},
   "outputs": [],
   "source": [
    "#when i want constant value like pi for all instances use class object variable"
   ]
  },
  {
   "cell_type": "code",
   "execution_count": 126,
   "id": "200949c9",
   "metadata": {},
   "outputs": [],
   "source": [
    "#when i want to assign radius to each instance uniquely, inside the __init__ method."
   ]
  },
  {
   "cell_type": "code",
   "execution_count": 132,
   "id": "b149932a",
   "metadata": {},
   "outputs": [],
   "source": [
    "#A = l * b\n",
    "# P = (L + W) × 2, \n",
    "class Rectangle:\n",
    "    def __init__(self,length,width):\n",
    "        self.length = length\n",
    "        self.width = width\n",
    "        \n",
    "    def area(self):\n",
    "        return self.length * self.width\n",
    "    \n",
    "    \n",
    "    def perimeter(self):\n",
    "        return 2 * (self.width + self.length)\n",
    "    \n",
    "    "
   ]
  },
  {
   "cell_type": "code",
   "execution_count": 133,
   "id": "57c61de5",
   "metadata": {},
   "outputs": [],
   "source": [
    "obj1 = Rectangle(23,12)"
   ]
  },
  {
   "cell_type": "code",
   "execution_count": 134,
   "id": "752107cf",
   "metadata": {},
   "outputs": [
    {
     "data": {
      "text/plain": [
       "276"
      ]
     },
     "execution_count": 134,
     "metadata": {},
     "output_type": "execute_result"
    }
   ],
   "source": [
    "obj1.area()"
   ]
  },
  {
   "cell_type": "code",
   "execution_count": 135,
   "id": "f0029d56",
   "metadata": {},
   "outputs": [
    {
     "data": {
      "text/plain": [
       "70"
      ]
     },
     "execution_count": 135,
     "metadata": {},
     "output_type": "execute_result"
    }
   ],
   "source": [
    "obj1.perimeter()"
   ]
  },
  {
   "cell_type": "code",
   "execution_count": null,
   "id": "3f61fae4",
   "metadata": {},
   "outputs": [],
   "source": []
  },
  {
   "cell_type": "code",
   "execution_count": 141,
   "id": "9cea281c",
   "metadata": {},
   "outputs": [],
   "source": [
    "#inheritance\n",
    "class Human:\n",
    "    def __init__(self,eye,nose):\n",
    "        self.eye = eye\n",
    "        self.nose = nose\n",
    "    def work(self):\n",
    "        print(\"hi i can work\")\n",
    "        \n",
    "        \n",
    "class Male(Human):\n",
    "    def work(self):\n",
    "        #super().work()\n",
    "        print('i can code')\n"
   ]
  },
  {
   "cell_type": "code",
   "execution_count": 142,
   "id": "ab5402c0",
   "metadata": {},
   "outputs": [],
   "source": [
    "obj = Male(2,1)"
   ]
  },
  {
   "cell_type": "code",
   "execution_count": 144,
   "id": "90af3680",
   "metadata": {},
   "outputs": [
    {
     "name": "stdout",
     "output_type": "stream",
     "text": [
      "i can code\n"
     ]
    }
   ],
   "source": [
    "obj.work()     # overriding "
   ]
  },
  {
   "cell_type": "code",
   "execution_count": 145,
   "id": "07e8b959",
   "metadata": {},
   "outputs": [],
   "source": [
    "class Human:\n",
    "    def __init__(self,eye,nose):\n",
    "        self.eye = eye\n",
    "        self.nose = nose\n",
    "    def work(self):\n",
    "        print(\"hi i can work\")\n",
    "        \n",
    "        \n",
    "class Male(Human):\n",
    "    def work(self):\n",
    "        super().work()\n",
    "        print('i can code')\n"
   ]
  },
  {
   "cell_type": "code",
   "execution_count": 147,
   "id": "c4c2659f",
   "metadata": {},
   "outputs": [],
   "source": [
    "obj2 = Male(2,1)"
   ]
  },
  {
   "cell_type": "code",
   "execution_count": 148,
   "id": "81aa5bbd",
   "metadata": {},
   "outputs": [
    {
     "name": "stdout",
     "output_type": "stream",
     "text": [
      "hi i can work\n",
      "i can code\n"
     ]
    }
   ],
   "source": [
    "obj2.work()"
   ]
  },
  {
   "cell_type": "code",
   "execution_count": 149,
   "id": "c4a6cda4",
   "metadata": {},
   "outputs": [],
   "source": [
    "# multiple ,multilevel,herarchical,hybrid inheritance\n",
    "# Diamond problem. # solve by MRO uses c3 linerization\n"
   ]
  },
  {
   "cell_type": "code",
   "execution_count": null,
   "id": "8b9713cf",
   "metadata": {},
   "outputs": [],
   "source": []
  },
  {
   "cell_type": "code",
   "execution_count": null,
   "id": "b920b653",
   "metadata": {},
   "outputs": [],
   "source": []
  },
  {
   "cell_type": "code",
   "execution_count": null,
   "id": "186fac4a",
   "metadata": {},
   "outputs": [],
   "source": []
  },
  {
   "cell_type": "code",
   "execution_count": null,
   "id": "1a0e86b7",
   "metadata": {},
   "outputs": [],
   "source": []
  },
  {
   "cell_type": "code",
   "execution_count": 150,
   "id": "da0af1a8",
   "metadata": {},
   "outputs": [],
   "source": [
    "\n",
    "#access specifier\n",
    "\n",
    "#public \n",
    "#protected\n",
    "#private\n"
   ]
  },
  {
   "cell_type": "code",
   "execution_count": 151,
   "id": "90d94c3d",
   "metadata": {},
   "outputs": [],
   "source": [
    "# 3 ways to access the private\n",
    "# create a method inside the class \n",
    "# using the name Mangling  (dir(obj))\n",
    "# getter and Setter"
   ]
  },
  {
   "cell_type": "code",
   "execution_count": 152,
   "id": "7c0ae7c2",
   "metadata": {},
   "outputs": [],
   "source": [
    "#if you want to protect the private data then don't use attribute/data outside the class"
   ]
  },
  {
   "cell_type": "code",
   "execution_count": 157,
   "id": "4c7a8f0d",
   "metadata": {},
   "outputs": [],
   "source": [
    "class Student:\n",
    "    def __init__(self,name,age,rollno):\n",
    "        self.name = name        # public\n",
    "        self._age = age         # protected\n",
    "        self.__rollno = rollno  #private    \n",
    "\n",
    "    def __show(self):             # private method\n",
    "        print(f\"Welcome Mr. {self.name} and as you mention you are {self._age} year old and have Rollno {self.__rollno}\")\n",
    "        \n",
    "\n",
    "    def display_private_data(self):\n",
    "        self.__show()\n",
    "        \n",
    "class Branch(Student):\n",
    "    def show_roll(self):\n",
    "        print('roll: ',self.__rollno)\n",
    "        \n",
    "\n",
    "\n",
    "\n",
    "\n"
   ]
  },
  {
   "cell_type": "code",
   "execution_count": 158,
   "id": "a62846cd",
   "metadata": {},
   "outputs": [],
   "source": [
    "obj = Branch('shubham',33,'ABC123')"
   ]
  },
  {
   "cell_type": "code",
   "execution_count": 159,
   "id": "6f20305a",
   "metadata": {},
   "outputs": [
    {
     "name": "stdout",
     "output_type": "stream",
     "text": [
      "Welcome Mr. shubham and as you mention you are 33 year old and have Rollno ABC123\n"
     ]
    }
   ],
   "source": [
    "obj.display_private_data()   #way1"
   ]
  },
  {
   "cell_type": "code",
   "execution_count": 164,
   "id": "825b3d6a",
   "metadata": {},
   "outputs": [
    {
     "name": "stdout",
     "output_type": "stream",
     "text": [
      "['_Student__rollno', '_Student__show', '__class__', '__delattr__', '__dict__', '__dir__', '__doc__', '__eq__', '__format__', '__ge__', '__getattribute__', '__gt__', '__hash__', '__init__', '__init_subclass__', '__le__', '__lt__', '__module__', '__ne__', '__new__', '__reduce__', '__reduce_ex__', '__repr__', '__setattr__', '__sizeof__', '__str__', '__subclasshook__', '__weakref__', '_age', 'display_private_data', 'name', 'show_roll']\n"
     ]
    }
   ],
   "source": [
    "print(dir(obj))   #accessing private #way2"
   ]
  },
  {
   "cell_type": "code",
   "execution_count": 165,
   "id": "5d97bf21",
   "metadata": {},
   "outputs": [
    {
     "data": {
      "text/plain": [
       "'ABC123'"
      ]
     },
     "execution_count": 165,
     "metadata": {},
     "output_type": "execute_result"
    }
   ],
   "source": [
    "obj._Student__rollno   #name mangling "
   ]
  },
  {
   "cell_type": "markdown",
   "id": "bd4bd214",
   "metadata": {},
   "source": []
  },
  {
   "cell_type": "code",
   "execution_count": 166,
   "id": "00521e66",
   "metadata": {},
   "outputs": [
    {
     "ename": "AttributeError",
     "evalue": "'Branch' object has no attribute '_Branch__rollno'",
     "output_type": "error",
     "traceback": [
      "\u001b[0;31m---------------------------------------------------------------------------\u001b[0m",
      "\u001b[0;31mAttributeError\u001b[0m                            Traceback (most recent call last)",
      "\u001b[0;32m/var/folders/28/xzg4vjpj3gj6x32fqvxyzd440000gn/T/ipykernel_5953/3724665566.py\u001b[0m in \u001b[0;36m<module>\u001b[0;34m\u001b[0m\n\u001b[0;32m----> 1\u001b[0;31m \u001b[0mobj\u001b[0m\u001b[0;34m.\u001b[0m\u001b[0mshow_roll\u001b[0m\u001b[0;34m(\u001b[0m\u001b[0;34m)\u001b[0m \u001b[0;31m# private so\u001b[0m\u001b[0;34m\u001b[0m\u001b[0;34m\u001b[0m\u001b[0m\n\u001b[0m",
      "\u001b[0;32m/var/folders/28/xzg4vjpj3gj6x32fqvxyzd440000gn/T/ipykernel_5953/917400691.py\u001b[0m in \u001b[0;36mshow_roll\u001b[0;34m(self)\u001b[0m\n\u001b[1;32m     14\u001b[0m \u001b[0;32mclass\u001b[0m \u001b[0mBranch\u001b[0m\u001b[0;34m(\u001b[0m\u001b[0mStudent\u001b[0m\u001b[0;34m)\u001b[0m\u001b[0;34m:\u001b[0m\u001b[0;34m\u001b[0m\u001b[0;34m\u001b[0m\u001b[0m\n\u001b[1;32m     15\u001b[0m     \u001b[0;32mdef\u001b[0m \u001b[0mshow_roll\u001b[0m\u001b[0;34m(\u001b[0m\u001b[0mself\u001b[0m\u001b[0;34m)\u001b[0m\u001b[0;34m:\u001b[0m\u001b[0;34m\u001b[0m\u001b[0;34m\u001b[0m\u001b[0m\n\u001b[0;32m---> 16\u001b[0;31m         \u001b[0mprint\u001b[0m\u001b[0;34m(\u001b[0m\u001b[0;34m'roll: '\u001b[0m\u001b[0;34m,\u001b[0m\u001b[0mself\u001b[0m\u001b[0;34m.\u001b[0m\u001b[0m__rollno\u001b[0m\u001b[0;34m)\u001b[0m\u001b[0;34m\u001b[0m\u001b[0;34m\u001b[0m\u001b[0m\n\u001b[0m\u001b[1;32m     17\u001b[0m \u001b[0;34m\u001b[0m\u001b[0m\n\u001b[1;32m     18\u001b[0m \u001b[0;34m\u001b[0m\u001b[0m\n",
      "\u001b[0;31mAttributeError\u001b[0m: 'Branch' object has no attribute '_Branch__rollno'"
     ]
    }
   ],
   "source": [
    "obj.show_roll() # private so"
   ]
  },
  {
   "cell_type": "code",
   "execution_count": 168,
   "id": "90654d5a",
   "metadata": {},
   "outputs": [],
   "source": [
    "#3 way getter and setter"
   ]
  },
  {
   "cell_type": "code",
   "execution_count": null,
   "id": "ddd3f30f",
   "metadata": {},
   "outputs": [],
   "source": []
  },
  {
   "cell_type": "code",
   "execution_count": null,
   "id": "d2ebede0",
   "metadata": {},
   "outputs": [],
   "source": []
  },
  {
   "cell_type": "code",
   "execution_count": 203,
   "id": "021a064e",
   "metadata": {},
   "outputs": [],
   "source": [
    "class Student:\n",
    "    def __init__(self,name,age,rollno):\n",
    "        self.name = name        # public\n",
    "        self._age = age         # protected\n",
    "        self.__rollno = rollno  #private   \n",
    "\n",
    "    def get_rollno(self):\n",
    "        return self.__rollno\n",
    "\n",
    "    def set_rollno(self,roll):\n",
    "        if len(roll) > 7:\n",
    "            print('enter valid roll no')\n",
    "        else:\n",
    "            self.__rollno = roll\n",
    "\n",
    "\n",
    "\n",
    "\n"
   ]
  },
  {
   "cell_type": "code",
   "execution_count": 204,
   "id": "98b8816c",
   "metadata": {},
   "outputs": [],
   "source": [
    "obj = Student('shubham',39,'ABz123')"
   ]
  },
  {
   "cell_type": "code",
   "execution_count": 206,
   "id": "41e82c99",
   "metadata": {},
   "outputs": [
    {
     "name": "stdout",
     "output_type": "stream",
     "text": [
      "ADC34\n",
      "ADC34\n"
     ]
    }
   ],
   "source": [
    "# a good programmer do use getter and setter to deal with the private data\n",
    "\n",
    "print(obj.get_rollno())\n",
    "obj.set_rollno('ADC34')\n",
    "print(obj.get_rollno())"
   ]
  },
  {
   "cell_type": "code",
   "execution_count": 207,
   "id": "7c2259ec",
   "metadata": {},
   "outputs": [],
   "source": [
    "# polymormism\n",
    "# many form\n",
    "# 4 ways \n",
    "# duck typing    \n",
    "# method overloading\n",
    "# method overriding\n",
    "# operator overloading"
   ]
  },
  {
   "cell_type": "code",
   "execution_count": null,
   "id": "b4791aa3",
   "metadata": {},
   "outputs": [],
   "source": [
    "# operator overloading"
   ]
  },
  {
   "cell_type": "code",
   "execution_count": 210,
   "id": "65098616",
   "metadata": {},
   "outputs": [
    {
     "name": "stdout",
     "output_type": "stream",
     "text": [
      "3 + 9i\n"
     ]
    }
   ],
   "source": [
    "class Complex:\n",
    "    def __init__(self,real,imaginary):\n",
    "        self.real = real\n",
    "        self.imaginary = imaginary\n",
    "        \n",
    "    def __add__(self,other):\n",
    "        return f\"{self.real + other.real} + {self.imaginary + other.imaginary}i\"\n",
    "    \n",
    "obj1 = Complex(1,3)\n",
    "obj2 = Complex(2,6)\n",
    "        \n",
    "\n",
    "print(obj1 + obj2)\n"
   ]
  },
  {
   "cell_type": "code",
   "execution_count": 232,
   "id": "80077499",
   "metadata": {},
   "outputs": [],
   "source": [
    "# method overloading\n",
    "# defining multiple or many methods with same name but different argument in a same class\n",
    "\n",
    "class Demo:\n",
    "    def  add(self,a,b):\n",
    "        return a+b\n",
    "    def add(self,a,b,c):      #python doesn't support overloading but can achive with *args and default args\n",
    "        return a+b+c          # it takes the latest add method\n",
    "\n",
    "obj1 = Demo()"
   ]
  },
  {
   "cell_type": "code",
   "execution_count": 233,
   "id": "5529f03b",
   "metadata": {},
   "outputs": [
    {
     "ename": "TypeError",
     "evalue": "add() missing 1 required positional argument: 'c'",
     "output_type": "error",
     "traceback": [
      "\u001b[0;31m---------------------------------------------------------------------------\u001b[0m",
      "\u001b[0;31mTypeError\u001b[0m                                 Traceback (most recent call last)",
      "\u001b[0;32m/var/folders/28/xzg4vjpj3gj6x32fqvxyzd440000gn/T/ipykernel_5953/2048704798.py\u001b[0m in \u001b[0;36m<module>\u001b[0;34m\u001b[0m\n\u001b[0;32m----> 1\u001b[0;31m \u001b[0mobj1\u001b[0m\u001b[0;34m.\u001b[0m\u001b[0madd\u001b[0m\u001b[0;34m(\u001b[0m\u001b[0;36m1\u001b[0m\u001b[0;34m,\u001b[0m\u001b[0;36m9\u001b[0m\u001b[0;34m)\u001b[0m\u001b[0;34m\u001b[0m\u001b[0;34m\u001b[0m\u001b[0m\n\u001b[0m\u001b[1;32m      2\u001b[0m \u001b[0mobj1\u001b[0m\u001b[0;34m.\u001b[0m\u001b[0madd\u001b[0m\u001b[0;34m(\u001b[0m\u001b[0;36m1\u001b[0m\u001b[0;34m,\u001b[0m\u001b[0;36m3\u001b[0m\u001b[0;34m,\u001b[0m\u001b[0;36m4\u001b[0m\u001b[0;34m)\u001b[0m\u001b[0;34m\u001b[0m\u001b[0;34m\u001b[0m\u001b[0m\n",
      "\u001b[0;31mTypeError\u001b[0m: add() missing 1 required positional argument: 'c'"
     ]
    }
   ],
   "source": [
    "obj1.add(1,9)   # here is throwing error\n",
    "obj1.add(1,3,4)"
   ]
  },
  {
   "cell_type": "code",
   "execution_count": 234,
   "id": "a23e97e5",
   "metadata": {},
   "outputs": [
    {
     "data": {
      "text/plain": [
       "8"
      ]
     },
     "execution_count": 234,
     "metadata": {},
     "output_type": "execute_result"
    }
   ],
   "source": [
    "# obj1.add(1,9)  \n",
    "obj1.add(1,3,4)"
   ]
  },
  {
   "cell_type": "code",
   "execution_count": null,
   "id": "f8a4b42c",
   "metadata": {},
   "outputs": [],
   "source": [
    "# you know over overriding"
   ]
  },
  {
   "cell_type": "code",
   "execution_count": 235,
   "id": "ec0a633b",
   "metadata": {},
   "outputs": [],
   "source": [
    "# so overloading is compile time polymorphism and \n",
    "# it is in same class with same name but different argument\n",
    "# it consider the latest \n",
    "\n",
    "\n",
    "\n",
    "\n",
    "# overriding is runtime polymorphism\n",
    "# it is used in inheritance so has two class \n",
    "# it overide the base class"
   ]
  },
  {
   "cell_type": "code",
   "execution_count": null,
   "id": "30067d19",
   "metadata": {},
   "outputs": [],
   "source": []
  },
  {
   "cell_type": "code",
   "execution_count": null,
   "id": "4effaa56",
   "metadata": {},
   "outputs": [],
   "source": []
  },
  {
   "cell_type": "code",
   "execution_count": null,
   "id": "bbc68dcb",
   "metadata": {},
   "outputs": [],
   "source": []
  },
  {
   "cell_type": "code",
   "execution_count": null,
   "id": "d1f000a5",
   "metadata": {},
   "outputs": [],
   "source": []
  }
 ],
 "metadata": {
  "kernelspec": {
   "display_name": "Python 3 (ipykernel)",
   "language": "python",
   "name": "python3"
  },
  "language_info": {
   "codemirror_mode": {
    "name": "ipython",
    "version": 3
   },
   "file_extension": ".py",
   "mimetype": "text/x-python",
   "name": "python",
   "nbconvert_exporter": "python",
   "pygments_lexer": "ipython3",
   "version": "3.9.19"
  }
 },
 "nbformat": 4,
 "nbformat_minor": 5
}
