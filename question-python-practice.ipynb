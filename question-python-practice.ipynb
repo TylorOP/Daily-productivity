{
 "cells": [
  {
   "cell_type": "markdown",
   "id": "a8985111",
   "metadata": {},
   "source": [
    "part2"
   ]
  },
  {
   "cell_type": "markdown",
   "id": "eb66509a",
   "metadata": {},
   "source": [
    "<!-- Find the index of the first occurrence of an element in a list.\n",
    "Check if a list is empty.\n",
    "Write a function to find the maximum element in a list.\n",
    "Question: Given a list nums, find the sum of all elements in the list.\n",
    "Remove all duplicates from a list.\n",
    "Count the occurrences of an element in a list.\n",
    "Reverse a list in-place (modify the original list).\n",
    "\n",
    "Question: Create a new list containing only the even numbers from the original list.\n",
    "    \n",
    "    Question: Create a new list containing only the even numbers from the original list.\n",
    "        \n",
    "        \n",
    "        Question: Create a new list with the squares of each element in the original list.\n",
    "            \n",
    "            \n",
    "            Question: Sort a list in ascending order.\n",
    "                \n",
    "                \n",
    "                Question: Check if all elements in the list are positive.\n",
    "                    \n",
    "                    \n",
    "                    Question: Find the second-largest element in a list.\n",
    "                        \n",
    "                        \n",
    "                        Question: Remove all occurrences of a specific element from the list.\n",
    "                            \n",
    "                            \n",
    "                            Question: Find the common elements between two lists.\n",
    "                                \n",
    "                                Question: Check if a list is a palindrome (reads the same forward and backward).\n",
    "                                    \n",
    "                                    Question: Flatten a list of lists into a single list.\n",
    "                                        \n",
    "                                        Question: Calculate the product of all elements in the list.\n",
    "                                            \n",
    "                                            Question: Remove the first and last elements from a list.\n",
    "                                                \n",
    "                                                Question: Find the difference between two lists.\n",
    "                                                    \n",
    "                                                    Question: Merge two lists and sort them in ascending order.\n",
    "                                                        \n",
    "                                                        Question: Find the longest sublist in a list of lists.\n",
    "                                                            \n",
    "                                                            Question: Split a list into chunks of a given size.\n",
    "                                                                \n",
    "                                                                Question: Count the number of odd and even numbers in a list.\n",
    "                                                                    \n",
    "                                                                    Question: Find the index of the last occurrence of an element in a list.\n",
    "                                                                        \n",
    "                                                                        Question: Rotate a list to the left by a given number of positions.\n",
    "Basic List Programs\n",
    "Python program to interchange first and last elements in a list\n",
    "Python program to swap two elements in a list\n",
    "Python – Swap elements in String list\n",
    "Python | Ways to find length of list\n",
    "Maximum of two numbers in Python\n",
    "Minimum of two numbers in Python\n",
    "Python | Ways to check if element exists in list\n",
    "Different ways to clear a list in Python\n",
    "Python | Reversing a List\n",
    "Python | Cloning or Copying a list\n",
    "Python | Count occurrences of an element in a list\n",
    "Python Program to find sum and average of List in Python\n",
    "Python | Sum of number digits in List\n",
    "Python | Multiply all numbers in the list\n",
    "Python program to find smallest number in a list\n",
    "Python program to find largest number in a list\n",
    "Python program to find second largest number in a list\n",
    "Python program to print even numbers in a list\n",
    "Python program to print odd numbers in a List\n",
    "Python program to print all even numbers in a range\n",
    "Python program to print all odd numbers in a range\n",
    "Python program to count Even and Odd numbers in a List\n",
    "Python program to print positive numbers in a list\n",
    "Python program to print negative numbers in a list\n",
    "Python program to print all positive numbers in a range\n",
    "Python program to print all negative numbers in a range\n",
    "Python program to count positive and negative numbers in a list\n",
    "Remove multiple elements from a list in Python\n",
    "Python | Remove empty tuples from a list\n",
    "Python | Program to print duplicates from a list of integers\n",
    "More >>\n",
    "\n",
    "Programs on List of Lists\n",
    "Remove empty List from List\n",
    "Python – Convert List to List of dictionaries\n",
    "Python – Convert Lists of List to Dictionary\n",
    "Python | Uncommon elements in Lists of List\n",
    "Python program to select Random value from list of lists\n",
    "Python – Reverse Row sort in Lists of List\n",
    "Python – Pair elements with Rear element in Matrix Row\n",
    "More >>\n",
    "\n",
    "Advance List Programs\n",
    "Python Program to count unique values inside a list\n",
    "Python – List product excluding duplicates\n",
    "Python – Extract elements with Frequency greater than K\n",
    "Python – Test if List contains elements in Range\n",
    "Python program to check if the list contains three consecutive common numbers in Python\n",
    "Python program to find the Strongest Neighbour\n",
    "Python Program to print all Possible Combinations from the three Digits\n",
    "Python program to find all the Combinations in the list with the given condition\n",
    "Python program to get all unique combinations of two Lists\n",
    "Python program to remove all the occurrences of an element from a list\n",
    "Python – Remove Consecutive K element records\n",
    "Python – Replace index elements with elements in Other List\n",
    "Python Program to Retain records with N occurrences of K\n",
    "Python Program to Sort the list according to the column using lambda\n",
    "More >>\n",
    "\n",
    "Programs on List of Strings\n",
    "Python – Swap elements in String list\n",
    "Python program to reverse All Strings in String List\n",
    "Python program to find the character position of Kth word from a list of strings\n",
    "Python – Extract words starting with K in String List\n",
    "Python – Prefix frequency in string List\n",
    "Python – Split String of list on K character\n",
    "Python – Split Strings on Prefix Occurrence\n",
    "Python program to Replace all Characters of a List Except the given character\n",
    "Python – Remove words containing list characters\n",
    "Python – Ways to remove multiple empty spaces from string List\n",
    "Python – Add Space between Potential Words\n",
    "Python – Filter the List of String whose index in second List contains the given Substring\n",
    "Python | Convert Character Matrix to single String\n",
    "More >>\n",
    "\n",
    "Programs on SubString and SubLists\n",
    "Python – Count Strings with substring String List\n",
    "Python – Replace Substrings from String List\n",
    "Python – Group Sublists by another List\n",
    "Python | Remove Reduntant Substrings from Strings List\n",
    "Python – Sort String by Custom Integer Substrings\n",
    "Python – Test if Substring occurs in specific position\n",
    " -->"
   ]
  },
  {
   "cell_type": "markdown",
   "id": "3f78f0e0",
   "metadata": {},
   "source": [
    "<!-- Find the index of the first occurrence of an element in a list.\n",
    "Check if a list is empty.\n",
    "Write a function to find the maximum element in a list.\n",
    "Question: Given a list nums, find the sum of all elements in the list.\n",
    "Remove all duplicates from a list.\n",
    "Count the occurrences of an element in a list.\n",
    "Reverse a list in-place (modify the original list).\n",
    "\n",
    "Question: Create a new list containing only the even numbers from the original list.\n",
    "    \n",
    "    Question: Create a new list containing only the even numbers from the original list.\n",
    "        \n",
    "        \n",
    "        Question: Create a new list with the squares of each element in the original list.\n",
    "            \n",
    "            \n",
    "            Question: Sort a list in ascending order.\n",
    "                \n",
    "                \n",
    "                Question: Check if all elements in the list are positive.\n",
    "                    \n",
    "                    \n",
    "                    Question: Find the second-largest element in a list.\n",
    "                        \n",
    "                        \n",
    "                        Question: Remove all occurrences of a specific element from the list.\n",
    "                            \n",
    "                            \n",
    "                            Question: Find the common elements between two lists.\n",
    "                                \n",
    "                                Question: Check if a list is a palindrome (reads the same forward and backward).\n",
    "                                    \n",
    "                                    Question: Flatten a list of lists into a single list.\n",
    "                                        \n",
    "                                        Question: Calculate the product of all elements in the list.\n",
    "                                            \n",
    "                                            Question: Remove the first and last elements from a list.\n",
    "                                                \n",
    "                                                Question: Find the difference between two lists.\n",
    "                                                    \n",
    "                                                    Question: Merge two lists and sort them in ascending order.\n",
    "                                                        \n",
    "                                                        Question: Find the longest sublist in a list of lists.\n",
    "                                                            \n",
    "                                                            Question: Split a list into chunks of a given size.\n",
    "                                                                \n",
    "                                                                Question: Count the number of odd and even numbers in a list.\n",
    "                                                                    \n",
    "                                                                    Question: Find the index of the last occurrence of an element in a list.\n",
    "                                                                        \n",
    "                                                                        Question: Rotate a list to the left by a given number of positions.\n",
    "Basic List Programs\n",
    "Python program to interchange first and last elements in a list\n",
    "Python program to swap two elements in a list\n",
    "Python – Swap elements in String list\n",
    "Python | Ways to find length of list\n",
    "Maximum of two numbers in Python\n",
    "Minimum of two numbers in Python\n",
    "Python | Ways to check if element exists in list\n",
    "Different ways to clear a list in Python\n",
    "Python | Reversing a List\n",
    "Python | Cloning or Copying a list\n",
    "Python | Count occurrences of an element in a list\n",
    "Python Program to find sum and average of List in Python\n",
    "Python | Sum of number digits in List\n",
    "Python | Multiply all numbers in the list\n",
    "Python program to find smallest number in a list\n",
    "Python program to find largest number in a list\n",
    "Python program to find second largest number in a list\n",
    "Python program to print even numbers in a list\n",
    "Python program to print odd numbers in a List\n",
    "Python program to print all even numbers in a range\n",
    "Python program to print all odd numbers in a range\n",
    "Python program to count Even and Odd numbers in a List\n",
    "Python program to print positive numbers in a list\n",
    "Python program to print negative numbers in a list\n",
    "Python program to print all positive numbers in a range\n",
    "Python program to print all negative numbers in a range\n",
    "Python program to count positive and negative numbers in a list\n",
    "Remove multiple elements from a list in Python\n",
    "Python | Remove empty tuples from a list\n",
    "Python | Program to print duplicates from a list of integers\n",
    "More >>\n",
    "\n",
    "Programs on List of Lists\n",
    "Remove empty List from List\n",
    "Python – Convert List to List of dictionaries\n",
    "Python – Convert Lists of List to Dictionary\n",
    "Python | Uncommon elements in Lists of List\n",
    "Python program to select Random value from list of lists\n",
    "Python – Reverse Row sort in Lists of List\n",
    "Python – Pair elements with Rear element in Matrix Row\n",
    "More >>\n",
    "\n",
    "Advance List Programs\n",
    "Python Program to count unique values inside a list\n",
    "Python – List product excluding duplicates\n",
    "Python – Extract elements with Frequency greater than K\n",
    "Python – Test if List contains elements in Range\n",
    "Python program to check if the list contains three consecutive common numbers in Python\n",
    "Python program to find the Strongest Neighbour\n",
    "Python Program to print all Possible Combinations from the three Digits\n",
    "Python program to find all the Combinations in the list with the given condition\n",
    "Python program to get all unique combinations of two Lists\n",
    "Python program to remove all the occurrences of an element from a list\n",
    "Python – Remove Consecutive K element records\n",
    "Python – Replace index elements with elements in Other List\n",
    "Python Program to Retain records with N occurrences of K\n",
    "Python Program to Sort the list according to the column using lambda\n",
    "More >>\n",
    "\n",
    "Programs on List of Strings\n",
    "Python – Swap elements in String list\n",
    "Python program to reverse All Strings in String List\n",
    "Python program to find the character position of Kth word from a list of strings\n",
    "Python – Extract words starting with K in String List\n",
    "Python – Prefix frequency in string List\n",
    "Python – Split String of list on K character\n",
    "Python – Split Strings on Prefix Occurrence\n",
    "Python program to Replace all Characters of a List Except the given character\n",
    "Python – Remove words containing list characters\n",
    "Python – Ways to remove multiple empty spaces from string List\n",
    "Python – Add Space between Potential Words\n",
    "Python – Filter the List of String whose index in second List contains the given Substring\n",
    "Python | Convert Character Matrix to single String\n",
    "More >>\n",
    "\n",
    "Programs on SubString and SubLists\n",
    "Python – Count Strings with substring String List\n",
    "Python – Replace Substrings from String List\n",
    "Python – Group Sublists by another List\n",
    "Python | Remove Reduntant Substrings from Strings List\n",
    "Python – Sort String by Custom Integer Substrings\n",
    "Python – Test if Substring occurs in specific position\n",
    " -->"
   ]
  },
  {
   "cell_type": "code",
   "execution_count": 5,
   "id": "61a12628",
   "metadata": {},
   "outputs": [
    {
     "name": "stdout",
     "output_type": "stream",
     "text": [
      "(1,2,3,4,5,6,7)(1,2,3,4,5,6,7)(3,4,6,7)\n"
     ]
    }
   ],
   "source": [
    "list1 = [1, 1, 2, 2, 3, 3, 3, 4, 4, 5, 5,4,6,6,6,7,7,7]  # Example list with additional elements\n",
    "\n",
    "# Get unique elements in sorted order\n",
    "unique_elements = sorted(set(list1))\n",
    "\n",
    "# Count occurrences of each unique element\n",
    "counts = [list1.count(elem) for elem in unique_elements]\n",
    "\n",
    "# Initialize an empty result list\n",
    "result = []\n",
    "\n",
    "# Create the result based on counts\n",
    "max_count = max(counts)\n",
    "\n",
    "# Create tuples for each unique element occurrence\n",
    "for i in range(max_count):\n",
    "    current_tuple = []\n",
    "    for elem, count in zip(unique_elements, counts):\n",
    "        if count > i:  # Check if the element should be included in this tuple\n",
    "            current_tuple.append(elem)\n",
    "    if current_tuple:\n",
    "        result.append(tuple(current_tuple))\n",
    "\n",
    "# Format the output as desired\n",
    "output = ''.join(f\"({','.join(map(str, tup))})\" for tup in result)\n",
    "print(output)\n"
   ]
  },
  {
   "cell_type": "markdown",
   "id": "ceca8e88",
   "metadata": {},
   "source": [
    "Find the index of the first occurrence of an element in a list."
   ]
  },
  {
   "cell_type": "code",
   "execution_count": 16,
   "id": "e41529b5",
   "metadata": {},
   "outputs": [
    {
     "data": {
      "text/plain": [
       "[2, 4, 5, 6, 7, 8]"
      ]
     },
     "execution_count": 16,
     "metadata": {},
     "output_type": "execute_result"
    }
   ],
   "source": [
    "#my approach\n",
    "def myfunction(list1):\n",
    "    unique = []\n",
    "    duplicate = []\n",
    "    for i,val in enumerate(list1):\n",
    "        if val not in unique:\n",
    "            unique.append(val)\n",
    "        else:\n",
    "            duplicate.append(val)\n",
    "    for i in duplicate:\n",
    "        if i in unique:\n",
    "            first_occurance = list1.index(i)\n",
    "            break\n",
    "            print(first_occurance)\n",
    "    return first_occurance,unique,duplicate\n",
    "\n",
    "sample = [2,4,5,6,7,8,7,4,8]\n",
    "x,y,z = myfunction(sample)\n",
    "y"
   ]
  },
  {
   "cell_type": "code",
   "execution_count": 13,
   "id": "d4dd37a6",
   "metadata": {},
   "outputs": [
    {
     "data": {
      "text/plain": [
       "1"
      ]
     },
     "execution_count": 13,
     "metadata": {},
     "output_type": "execute_result"
    }
   ],
   "source": [
    "sample.index(4)"
   ]
  },
  {
   "cell_type": "code",
   "execution_count": 17,
   "id": "4061bd53",
   "metadata": {},
   "outputs": [
    {
     "data": {
      "text/plain": [
       "4"
      ]
     },
     "execution_count": 17,
     "metadata": {},
     "output_type": "execute_result"
    }
   ],
   "source": [
    "x"
   ]
  },
  {
   "cell_type": "code",
   "execution_count": 18,
   "id": "0ed0c4ff",
   "metadata": {},
   "outputs": [
    {
     "data": {
      "text/plain": [
       "[2, 4, 5, 6, 7, 8]"
      ]
     },
     "execution_count": 18,
     "metadata": {},
     "output_type": "execute_result"
    }
   ],
   "source": [
    "y"
   ]
  },
  {
   "cell_type": "code",
   "execution_count": 19,
   "id": "085834d2",
   "metadata": {},
   "outputs": [
    {
     "data": {
      "text/plain": [
       "[7, 4, 8]"
      ]
     },
     "execution_count": 19,
     "metadata": {},
     "output_type": "execute_result"
    }
   ],
   "source": [
    "z"
   ]
  },
  {
   "cell_type": "code",
   "execution_count": 74,
   "id": "5825fe12",
   "metadata": {},
   "outputs": [
    {
     "data": {
      "text/plain": [
       "4"
      ]
     },
     "execution_count": 74,
     "metadata": {},
     "output_type": "execute_result"
    }
   ],
   "source": [
    "#google but logic builded\n",
    "\n",
    "def first_occurance(lst):\n",
    "    seen = {}\n",
    "    for index,value in enumerate(lst):\n",
    "        if value in seen:\n",
    "            return seen[value]\n",
    "        seen[value] = index\n",
    "    return None\n",
    "\n",
    "\n",
    "sample = [2,4,5,6,7,8,7,4,8]\n",
    "x = first_occurance(sample)\n",
    "x"
   ]
  },
  {
   "cell_type": "markdown",
   "id": "0735975d",
   "metadata": {},
   "source": [
    "Check if a list is empty."
   ]
  },
  {
   "cell_type": "code",
   "execution_count": 40,
   "id": "a2a3f8a4",
   "metadata": {},
   "outputs": [
    {
     "name": "stdout",
     "output_type": "stream",
     "text": [
      "empty\n",
      "empty\n"
     ]
    }
   ],
   "source": [
    "mylist = []\n",
    "if not mylist:\n",
    "    print(\"empty\")\n",
    "    \n",
    "if len(mylist) == 0:\n",
    "    print(\"empty\")"
   ]
  },
  {
   "cell_type": "markdown",
   "id": "46260458",
   "metadata": {},
   "source": [
    "Write a function to find the maximum element in a list."
   ]
  },
  {
   "cell_type": "code",
   "execution_count": 46,
   "id": "a3ee91ca",
   "metadata": {},
   "outputs": [
    {
     "data": {
      "text/plain": [
       "5678"
      ]
     },
     "execution_count": 46,
     "metadata": {},
     "output_type": "execute_result"
    }
   ],
   "source": [
    "def myfunction(lst):\n",
    "    max_num = lst[0]\n",
    "    for i in lst:\n",
    "        if i > max_num:\n",
    "            max_num = i\n",
    "    return max_num\n",
    "\n",
    "\n",
    "\n",
    "\n",
    "sample = [3,6,34,8,34,7,86,34,5678,9]\n",
    "x = myfunction(sample)\n",
    "x"
   ]
  },
  {
   "cell_type": "markdown",
   "id": "ca0f4de7",
   "metadata": {},
   "source": [
    "Question: Given a list nums, find the sum of all elements in the list."
   ]
  },
  {
   "cell_type": "code",
   "execution_count": 51,
   "id": "de7ca430",
   "metadata": {},
   "outputs": [
    {
     "data": {
      "text/plain": [
       "5899"
      ]
     },
     "execution_count": 51,
     "metadata": {},
     "output_type": "execute_result"
    }
   ],
   "source": [
    "def myfunction(lst):\n",
    "    sum_num = 0\n",
    "    for i in lst:\n",
    "        sum_num += i\n",
    "    return sum_num\n",
    "\n",
    "\n",
    "\n",
    "\n",
    "sample = [3,6,34,8,34,7,86,34,5678,9]\n",
    "x = myfunction(sample)\n",
    "x"
   ]
  },
  {
   "cell_type": "markdown",
   "id": "71706767",
   "metadata": {},
   "source": [
    "Remove all duplicates from a list."
   ]
  },
  {
   "cell_type": "code",
   "execution_count": 54,
   "id": "cd9d21ea",
   "metadata": {},
   "outputs": [
    {
     "data": {
      "text/plain": [
       "[3, 5, 7, 8, 6, 9]"
      ]
     },
     "execution_count": 54,
     "metadata": {},
     "output_type": "execute_result"
    }
   ],
   "source": [
    "def myfunction(lst):\n",
    "    unique = []\n",
    "    for i in lst:\n",
    "        if i not in unique:\n",
    "            unique.append(i)\n",
    "    return unique    \n",
    "\n",
    "\n",
    "\n",
    "\n",
    "sample = [3,5,7,8,3,6,8,3,9]\n",
    "x = myfunction(sample)\n",
    "x"
   ]
  },
  {
   "cell_type": "markdown",
   "id": "4cd05886",
   "metadata": {},
   "source": [
    "Count the occurrences of an element in a list."
   ]
  },
  {
   "cell_type": "code",
   "execution_count": 59,
   "id": "3df792df",
   "metadata": {},
   "outputs": [
    {
     "data": {
      "text/plain": [
       "{23: 3, 4: 1, 5: 1, 7: 2, 45: 1, 6: 1, 3: 1, 53: 1}"
      ]
     },
     "execution_count": 59,
     "metadata": {},
     "output_type": "execute_result"
    }
   ],
   "source": [
    "def myfunction(lst):\n",
    "    output = {}\n",
    "    for i in lst:\n",
    "        if i in output:\n",
    "            output[i] += 1\n",
    "        else:\n",
    "            output[i] = 1\n",
    "    return output    \n",
    "        \n",
    "\n",
    "sample = [23,4,5,7,45,6,3,23,23,53,7]\n",
    "x = myfunction(sample)\n",
    "x"
   ]
  },
  {
   "cell_type": "markdown",
   "id": "ee049713",
   "metadata": {},
   "source": [
    "Reverse a list in-place (modify the original list)."
   ]
  },
  {
   "cell_type": "code",
   "execution_count": 61,
   "id": "09833023",
   "metadata": {},
   "outputs": [
    {
     "data": {
      "text/plain": [
       "[7, 3, 6, 4, 2]"
      ]
     },
     "execution_count": 61,
     "metadata": {},
     "output_type": "execute_result"
    }
   ],
   "source": [
    "def myfunction(lst):\n",
    "    return lst[::-1]\n",
    "        \n",
    "\n",
    "\n",
    "sample = [2,4,6,3,7]\n",
    "x = myfunction(sample)\n",
    "x"
   ]
  },
  {
   "cell_type": "code",
   "execution_count": null,
   "id": "53312df8",
   "metadata": {},
   "outputs": [],
   "source": []
  },
  {
   "cell_type": "code",
   "execution_count": null,
   "id": "69a1d411",
   "metadata": {},
   "outputs": [],
   "source": []
  },
  {
   "cell_type": "code",
   "execution_count": null,
   "id": "da6d066c",
   "metadata": {},
   "outputs": [],
   "source": []
  },
  {
   "cell_type": "code",
   "execution_count": null,
   "id": "8441655e",
   "metadata": {},
   "outputs": [],
   "source": []
  },
  {
   "cell_type": "code",
   "execution_count": null,
   "id": "18c8f7c3",
   "metadata": {},
   "outputs": [],
   "source": []
  }
 ],
 "metadata": {
  "kernelspec": {
   "display_name": "Python 3 (ipykernel)",
   "language": "python",
   "name": "python3"
  },
  "language_info": {
   "codemirror_mode": {
    "name": "ipython",
    "version": 3
   },
   "file_extension": ".py",
   "mimetype": "text/x-python",
   "name": "python",
   "nbconvert_exporter": "python",
   "pygments_lexer": "ipython3",
   "version": "3.9.19"
  }
 },
 "nbformat": 4,
 "nbformat_minor": 5
}
