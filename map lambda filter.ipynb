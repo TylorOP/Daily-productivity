{
 "cells": [
  {
   "cell_type": "code",
   "execution_count": 32,
   "id": "866e846b",
   "metadata": {},
   "outputs": [],
   "source": [
    "#lambda\n",
    "\n",
    "# (lambda input expression : output expression)"
   ]
  },
  {
   "cell_type": "code",
   "execution_count": 33,
   "id": "58c8af7e",
   "metadata": {},
   "outputs": [
    {
     "data": {
      "text/plain": [
       "4"
      ]
     },
     "execution_count": 33,
     "metadata": {},
     "output_type": "execute_result"
    }
   ],
   "source": [
    "(lambda x : x**2)(2)"
   ]
  },
  {
   "cell_type": "code",
   "execution_count": 34,
   "id": "b7c3096d",
   "metadata": {},
   "outputs": [
    {
     "data": {
      "text/plain": [
       "8"
      ]
     },
     "execution_count": 34,
     "metadata": {},
     "output_type": "execute_result"
    }
   ],
   "source": [
    "(lambda x,y : x+y)(3,5)"
   ]
  },
  {
   "cell_type": "code",
   "execution_count": 36,
   "id": "885173b3",
   "metadata": {},
   "outputs": [],
   "source": [
    "#map\n",
    "#give obj so store in any list(),str(),set()\n",
    "\n",
    "\n",
    "# map( function, data structure/sequence)\n",
    "# to map each element "
   ]
  },
  {
   "cell_type": "code",
   "execution_count": 40,
   "id": "56908c1b",
   "metadata": {},
   "outputs": [],
   "source": [
    "def even_odd_check(ele):\n",
    "    if ele%2 == 0:\n",
    "        return 'even'\n",
    "    else:\n",
    "        return 'odd'\n",
    "    \n",
    "nums = [32,536,547,23564,6743,234,89,68,48,28,23,96]    "
   ]
  },
  {
   "cell_type": "code",
   "execution_count": 41,
   "id": "8c4f35d1",
   "metadata": {},
   "outputs": [
    {
     "data": {
      "text/plain": [
       "['even',\n",
       " 'even',\n",
       " 'odd',\n",
       " 'even',\n",
       " 'odd',\n",
       " 'even',\n",
       " 'odd',\n",
       " 'even',\n",
       " 'even',\n",
       " 'even',\n",
       " 'odd',\n",
       " 'even']"
      ]
     },
     "execution_count": 41,
     "metadata": {},
     "output_type": "execute_result"
    }
   ],
   "source": [
    "list(map(even_odd_check,nums))"
   ]
  },
  {
   "cell_type": "code",
   "execution_count": 42,
   "id": "5315700d",
   "metadata": {},
   "outputs": [
    {
     "data": {
      "text/plain": [
       "['even',\n",
       " 'even',\n",
       " 'odd',\n",
       " 'even',\n",
       " 'odd',\n",
       " 'even',\n",
       " 'odd',\n",
       " 'even',\n",
       " 'even',\n",
       " 'even',\n",
       " 'odd',\n",
       " 'even']"
      ]
     },
     "execution_count": 42,
     "metadata": {},
     "output_type": "execute_result"
    }
   ],
   "source": [
    "list(map(lambda x : 'even' if x%2==0 else 'odd',nums))"
   ]
  },
  {
   "cell_type": "code",
   "execution_count": 43,
   "id": "c05b76a1",
   "metadata": {},
   "outputs": [],
   "source": [
    "gen = ['m','f','m','dsg','f','m','fdg']"
   ]
  },
  {
   "cell_type": "code",
   "execution_count": 44,
   "id": "6815a4b9",
   "metadata": {},
   "outputs": [
    {
     "data": {
      "text/plain": [
       "[1, 0, 1, 'invalid', 0, 1, 'invalid']"
      ]
     },
     "execution_count": 44,
     "metadata": {},
     "output_type": "execute_result"
    }
   ],
   "source": [
    "list(map(lambda x : 1 if x=='m' else 0 if x=='f' else 'invalid',gen))"
   ]
  },
  {
   "cell_type": "code",
   "execution_count": 57,
   "id": "a97c7f3a",
   "metadata": {},
   "outputs": [],
   "source": [
    "data = ['jan','feb','mar','apr','may','jun','jul','aug','sep','oct','nov','dec']"
   ]
  },
  {
   "cell_type": "code",
   "execution_count": 59,
   "id": "f59fbae4",
   "metadata": {},
   "outputs": [
    {
     "data": {
      "text/plain": [
       "[1, 2, 3, 4, 5, 6, 7, 8, 9, 10, 11, 12]"
      ]
     },
     "execution_count": 59,
     "metadata": {},
     "output_type": "execute_result"
    }
   ],
   "source": [
    "list(map(lambda x : 1 if x=='jan' else \n",
    "                 2 if x=='feb' else \n",
    "                 3 if x=='mar' else \n",
    "                 4 if x=='apr' else \n",
    "                 5 if  x=='may' else \n",
    "                 6 if x=='jun' else  \n",
    "                 7 if x=='jul'else \n",
    "                 8 if x=='aug' else \n",
    "                 9 if x=='sep' else \n",
    "                 10 if x=='oct' else \n",
    "                 11 if x=='nov'else \n",
    "                 12 if x=='dec' else \n",
    "                 'invalid',data))\n",
    "\n"
   ]
  },
  {
   "cell_type": "code",
   "execution_count": 61,
   "id": "ad908d3f",
   "metadata": {},
   "outputs": [],
   "source": [
    "#filter \n",
    "#give obj so store in any list(),str(),set()\n",
    "\n",
    "# if condition is true then filter it\n",
    "\n",
    "#(filter( function, sequence/data structure))"
   ]
  },
  {
   "cell_type": "code",
   "execution_count": 66,
   "id": "97ed4cd2",
   "metadata": {},
   "outputs": [
    {
     "data": {
      "text/plain": [
       "[2132, 435, 435, 23253, 6523, 56447, 6542]"
      ]
     },
     "execution_count": 66,
     "metadata": {},
     "output_type": "execute_result"
    }
   ],
   "source": [
    "data = [2132,435,435,23253,6523,56447,6542,'dsfas','dsga']\n",
    "def check(ele):\n",
    "    if str(ele).isnumeric():\n",
    "        return True\n",
    "    else:\n",
    "        return False\n",
    "\n",
    "list(filter(check,data))"
   ]
  },
  {
   "cell_type": "code",
   "execution_count": 73,
   "id": "30a5435b",
   "metadata": {},
   "outputs": [
    {
     "data": {
      "text/plain": [
       "[2132, 435, 435, 23253, 6523, 56447, 6542]"
      ]
     },
     "execution_count": 73,
     "metadata": {},
     "output_type": "execute_result"
    }
   ],
   "source": [
    "list(filter(lambda x: str(x).isnumeric(),data))"
   ]
  },
  {
   "cell_type": "code",
   "execution_count": 72,
   "id": "86601c92",
   "metadata": {},
   "outputs": [
    {
     "data": {
      "text/plain": [
       "['dsfas', 'dsga']"
      ]
     },
     "execution_count": 72,
     "metadata": {},
     "output_type": "execute_result"
    }
   ],
   "source": [
    "list(filter(lambda x:  not str(x).isnumeric(),data))"
   ]
  },
  {
   "cell_type": "code",
   "execution_count": 80,
   "id": "a0ce89e5",
   "metadata": {},
   "outputs": [],
   "source": [
    "email_list = [\n",
    "    # Personal Emails\n",
    "    \"john.doe@gmail.com\",\n",
    "    \"emily.smith@yahoo.com\",\n",
    "    \"michael.brown@hotmail.com\",\n",
    "    \n",
    "    # Professional Emails\n",
    "    \"jane.doe@companyname.com\",\n",
    "    \"david.jones@corporatename.org\",\n",
    "    \"sarah.johnson@businessname.net\",\n",
    "    \n",
    "    # Educational Emails\n",
    "    \"student123@university.edu\",\n",
    "    \"john.doe@student.school.edu\",\n",
    "    \"emily2024@college.edu\",\n",
    "    \n",
    "    # Temporary/Disposable Emails\n",
    "    \"user123@tempmail.com\",\n",
    "    \"throwaway456@mailinator.com\",\n",
    "    \"testuser789@yopmail.com\",\n",
    "    \n",
    "    # Generic Emails for Customer Support or Inquiries\n",
    "    \"support@companyname.com\",\n",
    "    \"info@organization.org\",\n",
    "    \"contact@businessname.net\",\n",
    "    \n",
    "    # Fictional Emails for Testing\n",
    "    \"test.user@example.com\",\n",
    "    \"fake.email@domain.com\",\n",
    "    \"sample.account@testdomain.com\"\n",
    "]\n"
   ]
  },
  {
   "cell_type": "code",
   "execution_count": 84,
   "id": "c448536e",
   "metadata": {},
   "outputs": [
    {
     "data": {
      "text/plain": [
       "['john.doe',\n",
       " 'emily.smith',\n",
       " 'michael.brown',\n",
       " 'jane.doe',\n",
       " 'david.jones',\n",
       " 'sarah.johnson',\n",
       " 'student123',\n",
       " 'john.doe',\n",
       " 'emily2024',\n",
       " 'user123',\n",
       " 'throwaway456',\n",
       " 'testuser789',\n",
       " 'support',\n",
       " 'info',\n",
       " 'contact',\n",
       " 'test.user',\n",
       " 'fake.email',\n",
       " 'sample.account']"
      ]
     },
     "execution_count": 84,
     "metadata": {},
     "output_type": "execute_result"
    }
   ],
   "source": [
    "list(map(lambda x : x.split('@')[0],email_list))"
   ]
  },
  {
   "cell_type": "code",
   "execution_count": null,
   "id": "4bc6e163",
   "metadata": {},
   "outputs": [],
   "source": [
    "# How would you \n",
    "# convert a list of strings to a list of integers using map() and a lambda function?"
   ]
  },
  {
   "cell_type": "code",
   "execution_count": 90,
   "id": "01da5a35",
   "metadata": {},
   "outputs": [
    {
     "data": {
      "text/plain": [
       "[1, 2, 5, 3]"
      ]
     },
     "execution_count": 90,
     "metadata": {},
     "output_type": "execute_result"
    }
   ],
   "source": [
    "ls =['1','2',5,'3','df']\n",
    "list(map(lambda x: int(x),['1','2',5,'3']))"
   ]
  },
  {
   "cell_type": "code",
   "execution_count": 62,
   "id": "b77c97c2",
   "metadata": {},
   "outputs": [
    {
     "data": {
      "text/plain": [
       "[778.5, 212.4]"
      ]
     },
     "execution_count": 62,
     "metadata": {},
     "output_type": "execute_result"
    }
   ],
   "source": [
    "#use both so here lambda will filter data and map will apply to each filtered data\n",
    "\n",
    "list(map(lambda x : x * 0.9 ,filter(lambda x : x>100,[23,64,67,865,236,86,12])))"
   ]
  },
  {
   "cell_type": "code",
   "execution_count": 92,
   "id": "f171ed0d",
   "metadata": {},
   "outputs": [],
   "source": [
    "# Scenario 1: Data Transformation\n",
    "# You have a list of tuples representing student names and their scores. \n",
    "# You want to create a list of names for students who scored more than 75. \n",
    "\n",
    "# How would you achieve this using filter() and a lambda function?"
   ]
  },
  {
   "cell_type": "code",
   "execution_count": 91,
   "id": "f589f517",
   "metadata": {},
   "outputs": [],
   "source": [
    "tup = [('shub',54),('skshay',93),('omkar',298)]"
   ]
  },
  {
   "cell_type": "code",
   "execution_count": 95,
   "id": "2d504296",
   "metadata": {},
   "outputs": [
    {
     "data": {
      "text/plain": [
       "[('skshay', 93), ('omkar', 298)]"
      ]
     },
     "execution_count": 95,
     "metadata": {},
     "output_type": "execute_result"
    }
   ],
   "source": [
    "list(filter(lambda x :x[1]>75 ,tup))"
   ]
  },
  {
   "cell_type": "code",
   "execution_count": null,
   "id": "16bcdb77",
   "metadata": {},
   "outputs": [],
   "source": [
    "# Scenario 2: Data Normalization\n",
    "# Given a list of integers representing various measurements, \n",
    "# you need to normalize these values so that they fall within the range of 0 to 1.\n",
    "# How would you do this using map() and a lambda function?"
   ]
  },
  {
   "cell_type": "code",
   "execution_count": 103,
   "id": "21f8e2d0",
   "metadata": {},
   "outputs": [
    {
     "data": {
      "text/plain": [
       "[0.0, 0.014379237783493103, 0.028407762450315642, 0.07645545943418283, 1.0]"
      ]
     },
     "execution_count": 103,
     "metadata": {},
     "output_type": "execute_result"
    }
   ],
   "source": [
    "measurement = [100,223,343,754,8654]\n",
    "min_m = min(measurement)\n",
    "max_m = max(measurement)\n",
    "\n",
    "list(map(lambda x: (x- min_m)/(max_m-min_m) ,measurement))\n",
    "\n",
    "#keep in mind normalise formula x-min/max-min"
   ]
  },
  {
   "cell_type": "code",
   "execution_count": 105,
   "id": "e30dc04c",
   "metadata": {},
   "outputs": [],
   "source": [
    "\n",
    "# Scenario 3: Text Processing\n",
    "# You are given a list of sentences, and you need to return a list \n",
    "# containing only those sentences that have more than 5 words. \n",
    "# How would you use filter() and lambda to achieve this?"
   ]
  },
  {
   "cell_type": "code",
   "execution_count": 114,
   "id": "14a69c09",
   "metadata": {},
   "outputs": [
    {
     "data": {
      "text/plain": [
       "['This sentence has exactly six words.',\n",
       " 'Here we have a longer sentence that contains more than five words.']"
      ]
     },
     "execution_count": 114,
     "metadata": {},
     "output_type": "execute_result"
    }
   ],
   "source": [
    "sentences = [\n",
    "    \"This is a short sentence.\",\n",
    "    \"This sentence has exactly six words.\",\n",
    "    \"Another one.\",\n",
    "    \"Here we have a longer sentence that contains more than five words.\"]\n",
    "list(filter(lambda x: len(x.split()) > 5 ,sentences))"
   ]
  },
  {
   "cell_type": "code",
   "execution_count": 115,
   "id": "70b77d28",
   "metadata": {},
   "outputs": [],
   "source": [
    "# Scenario 4: Applying Discounts\n",
    "# Suppose you have a list of product prices,\n",
    "# and you want to apply a 10% discount to each price and round the result\n",
    "# to two decimal places.\n",
    "# How would you implement this using map() and a lambda function?"
   ]
  },
  {
   "cell_type": "code",
   "execution_count": 116,
   "id": "ec6c1125",
   "metadata": {},
   "outputs": [
    {
     "data": {
      "text/plain": [
       "[291.6, 390.6, 58980.6, 678.6, 20.7, 56.7, 292.5]"
      ]
     },
     "execution_count": 116,
     "metadata": {},
     "output_type": "execute_result"
    }
   ],
   "source": [
    "price = [324,434,65534,754,23,63,325]\n",
    "\n",
    "list(map(lambda x : round(x * 0.9,2),price))"
   ]
  },
  {
   "cell_type": "code",
   "execution_count": 119,
   "id": "f76c6f22",
   "metadata": {},
   "outputs": [],
   "source": [
    "# Scenario 5: Data Filtering\n",
    "# You are working with a list of dictionaries, where each dictionary contains \n",
    "# information about a product (e.g., {\"name\": \"Product A\", \"price\": 100}). \n",
    "# Write a lambda function to filter out products that cost less than 50."
   ]
  },
  {
   "cell_type": "code",
   "execution_count": 123,
   "id": "c93a386c",
   "metadata": {},
   "outputs": [
    {
     "data": {
      "text/plain": [
       "[{'name': 'Product B', 'price': 60}, {'name': 'Product D', 'price': 80}]"
      ]
     },
     "execution_count": 123,
     "metadata": {},
     "output_type": "execute_result"
    }
   ],
   "source": [
    "products = [{\"name\": \"Product A\", \"price\": 30}, {\"name\": \"Product B\", \"price\": 60}, {\"name\": \"Product C\", \"price\": 45}, {\"name\": \"Product D\", \"price\": 80}]\n",
    "\n",
    "list(filter(lambda x :x['price'] >=50 ,products))"
   ]
  },
  {
   "cell_type": "code",
   "execution_count": 124,
   "id": "a8850e52",
   "metadata": {},
   "outputs": [],
   "source": [
    "# Scenario 6: String Manipulation\n",
    "# Given a list of strings, convert all strings to uppercase \n",
    "# if they contain the letter \"a\" and leave them unchanged otherwise.\n",
    "# How would you implement this using map() and lambda?"
   ]
  },
  {
   "cell_type": "code",
   "execution_count": 125,
   "id": "47b89d08",
   "metadata": {},
   "outputs": [
    {
     "data": {
      "text/plain": [
       "['APPLE', 'BANANA', 'cherry', 'DATE', 'fig']"
      ]
     },
     "execution_count": 125,
     "metadata": {},
     "output_type": "execute_result"
    }
   ],
   "source": [
    "strings = [\"apple\", \"banana\", \"cherry\", \"date\", \"fig\"]\n",
    "\n",
    "list(map(lambda x : x.upper() if 'a' in x else x, strings ))"
   ]
  },
  {
   "cell_type": "code",
   "execution_count": 126,
   "id": "4d9ebf04",
   "metadata": {},
   "outputs": [],
   "source": [
    "\n",
    "\n",
    "# Scenario 7: Extracting Data\n",
    "# You have a list of dictionaries containing user data \n",
    "# (e.g., {\"name\": \"John\", \"age\": 30}). Write a lambda function \n",
    "# to extract the ages of all users over 25 using filter() and map() together.\n",
    "\n"
   ]
  },
  {
   "cell_type": "code",
   "execution_count": 131,
   "id": "b9e7f223",
   "metadata": {},
   "outputs": [
    {
     "data": {
      "text/plain": [
       "[30, 27]"
      ]
     },
     "execution_count": 131,
     "metadata": {},
     "output_type": "execute_result"
    }
   ],
   "source": [
    "users = [{\"name\": \"John\", \"age\": 30}, {\"name\": \"Jane\", \"age\": 20}, {\"name\": \"Doe\", \"age\": 27}]\n",
    "\n",
    "\n",
    "list(map(lambda x:x['age'],filter(lambda x:x['age'] > 25,users)))"
   ]
  },
  {
   "cell_type": "code",
   "execution_count": null,
   "id": "d1c6a4fd",
   "metadata": {},
   "outputs": [],
   "source": []
  },
  {
   "cell_type": "code",
   "execution_count": null,
   "id": "2f417cbc",
   "metadata": {},
   "outputs": [],
   "source": []
  }
 ],
 "metadata": {
  "kernelspec": {
   "display_name": "Python 3 (ipykernel)",
   "language": "python",
   "name": "python3"
  },
  "language_info": {
   "codemirror_mode": {
    "name": "ipython",
    "version": 3
   },
   "file_extension": ".py",
   "mimetype": "text/x-python",
   "name": "python",
   "nbconvert_exporter": "python",
   "pygments_lexer": "ipython3",
   "version": "3.9.19"
  }
 },
 "nbformat": 4,
 "nbformat_minor": 5
}
