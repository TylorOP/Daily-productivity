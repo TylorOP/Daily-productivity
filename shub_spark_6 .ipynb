{
	"metadata": {
		"kernelspec": {
			"name": "glue_pyspark",
			"display_name": "Glue PySpark",
			"language": "python"
		},
		"language_info": {
			"name": "Python_Glue_Session",
			"mimetype": "text/x-python",
			"codemirror_mode": {
				"name": "python",
				"version": 3
			},
			"pygments_lexer": "python3",
			"file_extension": ".py"
		}
	},
	"nbformat_minor": 4,
	"nbformat": 4,
	"cells": [
		{
			"cell_type": "markdown",
			"source": "# AWS Glue Studio Notebook\n##### You are now running a AWS Glue Studio notebook; To start using your notebook you need to start an AWS Glue Interactive Session.\n",
			"metadata": {
				"editable": true,
				"trusted": true
			}
		},
		{
			"cell_type": "markdown",
			"source": "#### Optional: Run this cell to see available notebook commands (\"magics\").\n",
			"metadata": {
				"editable": true,
				"trusted": true
			}
		},
		{
			"cell_type": "code",
			"source": "from pyspark.sql import SparkSession",
			"metadata": {
				"trusted": true,
				"tags": []
			},
			"execution_count": 4,
			"outputs": [
				{
					"name": "stdout",
					"text": "\n",
					"output_type": "stream"
				}
			]
		},
		{
			"cell_type": "code",
			"source": "spark1 = SparkSession.builder.appName('Dev').getOrCreate()",
			"metadata": {
				"trusted": true,
				"tags": []
			},
			"execution_count": 10,
			"outputs": [
				{
					"name": "stdout",
					"text": "\n",
					"output_type": "stream"
				}
			]
		},
		{
			"cell_type": "code",
			"source": "emp_data = [\n    (1, \"Alice\", 101, 5000),\n    (2, \"Bob\", 102, 6000),\n    (3, \"Charlie\", 101, 5500),\n    (4, \"David\", 103, 6200),\n    (5, \"Eve\", None, 5000),\n    (6, \"Frank\", 104, 7000)\n]",
			"metadata": {
				"trusted": true,
				"tags": []
			},
			"execution_count": 11,
			"outputs": [
				{
					"name": "stdout",
					"text": "\n",
					"output_type": "stream"
				}
			]
		},
		{
			"cell_type": "code",
			"source": "dep_data = [\n    (101, \"HR\",'pune'),\n    (102, \"IT\",'solapur'),\n    (103, \"Finance\",'UP'),\n    (105, \"Marketing\",'punjab')\n]",
			"metadata": {
				"trusted": true,
				"tags": []
			},
			"execution_count": 12,
			"outputs": [
				{
					"name": "stdout",
					"text": "\n",
					"output_type": "stream"
				}
			]
		},
		{
			"cell_type": "code",
			"source": "df1 = spark1.createDataFrame(emp_data, ['empid','name','depid','salary'])",
			"metadata": {
				"trusted": true,
				"tags": []
			},
			"execution_count": 20,
			"outputs": [
				{
					"name": "stdout",
					"text": "\n",
					"output_type": "stream"
				}
			]
		},
		{
			"cell_type": "code",
			"source": "df1.show()",
			"metadata": {
				"trusted": true,
				"tags": []
			},
			"execution_count": 21,
			"outputs": [
				{
					"name": "stdout",
					"text": "+-----+-------+-----+------+\n|empid|   name|depid|salary|\n+-----+-------+-----+------+\n|    1|  Alice|  101|  5000|\n|    2|    Bob|  102|  6000|\n|    3|Charlie|  101|  5500|\n|    4|  David|  103|  6200|\n|    5|    Eve| null|  5000|\n|    6|  Frank|  104|  7000|\n+-----+-------+-----+------+\n",
					"output_type": "stream"
				}
			]
		},
		{
			"cell_type": "code",
			"source": "df2 = spark1.createDataFrame(dep_data,['depid','dept','city'])",
			"metadata": {
				"trusted": true,
				"tags": []
			},
			"execution_count": 22,
			"outputs": [
				{
					"name": "stdout",
					"text": "\n",
					"output_type": "stream"
				}
			]
		},
		{
			"cell_type": "code",
			"source": "df2.show()",
			"metadata": {
				"trusted": true,
				"tags": []
			},
			"execution_count": 23,
			"outputs": [
				{
					"name": "stdout",
					"text": "+-----+---------+-------+\n|depid|     dept|   city|\n+-----+---------+-------+\n|  101|       HR|   pune|\n|  102|       IT|solapur|\n|  103|  Finance|     UP|\n|  105|Marketing| punjab|\n+-----+---------+-------+\n",
					"output_type": "stream"
				}
			]
		},
		{
			"cell_type": "code",
			"source": "df1.join(df2).show()  #i guess cross join ",
			"metadata": {
				"trusted": true,
				"tags": []
			},
			"execution_count": 25,
			"outputs": [
				{
					"name": "stdout",
					"text": "+-----+-------+-----+------+-----+---------+-------+\n|empid|   name|depid|salary|depid|     dept|   city|\n+-----+-------+-----+------+-----+---------+-------+\n|    1|  Alice|  101|  5000|  101|       HR|   pune|\n|    1|  Alice|  101|  5000|  102|       IT|solapur|\n|    1|  Alice|  101|  5000|  103|  Finance|     UP|\n|    1|  Alice|  101|  5000|  105|Marketing| punjab|\n|    2|    Bob|  102|  6000|  101|       HR|   pune|\n|    2|    Bob|  102|  6000|  102|       IT|solapur|\n|    2|    Bob|  102|  6000|  103|  Finance|     UP|\n|    2|    Bob|  102|  6000|  105|Marketing| punjab|\n|    3|Charlie|  101|  5500|  101|       HR|   pune|\n|    3|Charlie|  101|  5500|  102|       IT|solapur|\n|    3|Charlie|  101|  5500|  103|  Finance|     UP|\n|    3|Charlie|  101|  5500|  105|Marketing| punjab|\n|    4|  David|  103|  6200|  101|       HR|   pune|\n|    4|  David|  103|  6200|  102|       IT|solapur|\n|    4|  David|  103|  6200|  103|  Finance|     UP|\n|    4|  David|  103|  6200|  105|Marketing| punjab|\n|    5|    Eve| null|  5000|  101|       HR|   pune|\n|    5|    Eve| null|  5000|  102|       IT|solapur|\n|    5|    Eve| null|  5000|  103|  Finance|     UP|\n|    5|    Eve| null|  5000|  105|Marketing| punjab|\n+-----+-------+-----+------+-----+---------+-------+\nonly showing top 20 rows\n",
					"output_type": "stream"
				}
			]
		},
		{
			"cell_type": "code",
			"source": "df1.join(df2,df1.depid == df2.depid,'inner').show()",
			"metadata": {
				"trusted": true,
				"tags": []
			},
			"execution_count": 28,
			"outputs": [
				{
					"name": "stdout",
					"text": "+-----+-------+-----+------+-----+-------+-------+\n|empid|   name|depid|salary|depid|   dept|   city|\n+-----+-------+-----+------+-----+-------+-------+\n|    4|  David|  103|  6200|  103|Finance|     UP|\n|    3|Charlie|  101|  5500|  101|     HR|   pune|\n|    1|  Alice|  101|  5000|  101|     HR|   pune|\n|    2|    Bob|  102|  6000|  102|     IT|solapur|\n+-----+-------+-----+------+-----+-------+-------+\n",
					"output_type": "stream"
				}
			]
		},
		{
			"cell_type": "code",
			"source": "df1.join(df2,df1.depid == df2.depid,'outer').show()",
			"metadata": {
				"trusted": true,
				"tags": []
			},
			"execution_count": 29,
			"outputs": [
				{
					"name": "stdout",
					"text": "+-----+-------+-----+------+-----+---------+-------+\n|empid|   name|depid|salary|depid|     dept|   city|\n+-----+-------+-----+------+-----+---------+-------+\n|    5|    Eve| null|  5000| null|     null|   null|\n|    3|Charlie|  101|  5500|  101|       HR|   pune|\n|    1|  Alice|  101|  5000|  101|       HR|   pune|\n|    2|    Bob|  102|  6000|  102|       IT|solapur|\n|    4|  David|  103|  6200|  103|  Finance|     UP|\n|    6|  Frank|  104|  7000| null|     null|   null|\n| null|   null| null|  null|  105|Marketing| punjab|\n+-----+-------+-----+------+-----+---------+-------+\n",
					"output_type": "stream"
				}
			]
		},
		{
			"cell_type": "code",
			"source": "df1.join(df2,df1.depid == df2.depid,'leftouter').show()",
			"metadata": {
				"trusted": true,
				"tags": []
			},
			"execution_count": 31,
			"outputs": [
				{
					"name": "stdout",
					"text": "+-----+-------+-----+------+-----+-------+-------+\n|empid|   name|depid|salary|depid|   dept|   city|\n+-----+-------+-----+------+-----+-------+-------+\n|    3|Charlie|  101|  5500|  101|     HR|   pune|\n|    6|  Frank|  104|  7000| null|   null|   null|\n|    1|  Alice|  101|  5000|  101|     HR|   pune|\n|    4|  David|  103|  6200|  103|Finance|     UP|\n|    2|    Bob|  102|  6000|  102|     IT|solapur|\n|    5|    Eve| null|  5000| null|   null|   null|\n+-----+-------+-----+------+-----+-------+-------+\n",
					"output_type": "stream"
				}
			]
		},
		{
			"cell_type": "code",
			"source": "df1.join(df2,df1.depid == df2.depid,'rightouter').show()",
			"metadata": {
				"trusted": true,
				"tags": []
			},
			"execution_count": 38,
			"outputs": [
				{
					"name": "stdout",
					"text": "+-----+-------+-----+------+-----+---------+-------+\n|empid|   name|depid|salary|depid|     dept|   city|\n+-----+-------+-----+------+-----+---------+-------+\n|    2|    Bob|  102|  6000|  102|       IT|solapur|\n|    4|  David|  103|  6200|  103|  Finance|     UP|\n| null|   null| null|  null|  105|Marketing| punjab|\n|    1|  Alice|  101|  5000|  101|       HR|   pune|\n|    3|Charlie|  101|  5500|  101|       HR|   pune|\n+-----+-------+-----+------+-----+---------+-------+\n",
					"output_type": "stream"
				}
			]
		},
		{
			"cell_type": "code",
			"source": "df1.show()",
			"metadata": {
				"trusted": true,
				"tags": []
			},
			"execution_count": 35,
			"outputs": [
				{
					"name": "stdout",
					"text": "+-----+-------+-----+------+\n|empid|   name|depid|salary|\n+-----+-------+-----+------+\n|    1|  Alice|  101|  5000|\n|    2|    Bob|  102|  6000|\n|    3|Charlie|  101|  5500|\n|    4|  David|  103|  6200|\n|    5|    Eve| null|  5000|\n|    6|  Frank|  104|  7000|\n+-----+-------+-----+------+\n",
					"output_type": "stream"
				}
			]
		},
		{
			"cell_type": "code",
			"source": "df2.show()",
			"metadata": {
				"trusted": true,
				"tags": []
			},
			"execution_count": 36,
			"outputs": [
				{
					"name": "stdout",
					"text": "+-----+---------+-------+\n|depid|     dept|   city|\n+-----+---------+-------+\n|  101|       HR|   pune|\n|  102|       IT|solapur|\n|  103|  Finance|     UP|\n|  105|Marketing| punjab|\n+-----+---------+-------+\n",
					"output_type": "stream"
				}
			]
		},
		{
			"cell_type": "code",
			"source": "df1.join(df2,df1.depid == df2.depid,'inner').select(['name','salary','dept','city']).show()\n# ",
			"metadata": {
				"trusted": true,
				"tags": []
			},
			"execution_count": 46,
			"outputs": [
				{
					"name": "stdout",
					"text": "+-------+------+-------+-------+\n|   name|salary|   dept|   city|\n+-------+------+-------+-------+\n|Charlie|  5500|     HR|   pune|\n|  Alice|  5000|     HR|   pune|\n|  David|  6200|Finance|     UP|\n|    Bob|  6000|     IT|solapur|\n+-------+------+-------+-------+\n",
					"output_type": "stream"
				}
			]
		},
		{
			"cell_type": "code",
			"source": "df1.join(df2,df1.depid == df2.depid,'inner').select(['name','depid','salary','dept','city']).show()\n",
			"metadata": {
				"trusted": true,
				"tags": []
			},
			"execution_count": 49,
			"outputs": [
				{
					"name": "stdout",
					"text": "AnalysisException: Reference 'depid' is ambiguous, could be: depid, depid.\n",
					"output_type": "stream"
				}
			]
		},
		{
			"cell_type": "code",
			"source": "df1.join(df2,df1.depid == df2.depid,'inner').select(['name',df1.depid,'salary','dept','city']).show()\n# 'depid'  --> ambiguous",
			"metadata": {
				"trusted": true,
				"tags": []
			},
			"execution_count": 50,
			"outputs": [
				{
					"name": "stdout",
					"text": "+-------+-----+------+-------+-------+\n|   name|depid|salary|   dept|   city|\n+-------+-----+------+-------+-------+\n|Charlie|  101|  5500|     HR|   pune|\n|  Alice|  101|  5000|     HR|   pune|\n|    Bob|  102|  6000|     IT|solapur|\n|  David|  103|  6200|Finance|     UP|\n+-------+-----+------+-------+-------+\n",
					"output_type": "stream"
				}
			]
		},
		{
			"cell_type": "code",
			"source": "df1.join(df2,df1.depid == df2.depid,'inner').select(['name',df1.depid,'salary','dept','city']).createOrReplaceTempView('emp')",
			"metadata": {
				"trusted": true,
				"tags": []
			},
			"execution_count": 52,
			"outputs": [
				{
					"name": "stdout",
					"text": "\n",
					"output_type": "stream"
				}
			]
		},
		{
			"cell_type": "code",
			"source": "spark1.sql('select * from emp').show()",
			"metadata": {
				"trusted": true,
				"tags": []
			},
			"execution_count": 54,
			"outputs": [
				{
					"name": "stdout",
					"text": "+-------+-----+------+-------+-------+\n|   name|depid|salary|   dept|   city|\n+-------+-----+------+-------+-------+\n|    Bob|  102|  6000|     IT|solapur|\n|  Alice|  101|  5000|     HR|   pune|\n|Charlie|  101|  5500|     HR|   pune|\n|  David|  103|  6200|Finance|     UP|\n+-------+-----+------+-------+-------+\n",
					"output_type": "stream"
				}
			]
		},
		{
			"cell_type": "code",
			"source": "df1.createOrReplaceTempView('emp')",
			"metadata": {
				"trusted": true,
				"tags": []
			},
			"execution_count": 55,
			"outputs": [
				{
					"name": "stdout",
					"text": "\n",
					"output_type": "stream"
				}
			]
		},
		{
			"cell_type": "code",
			"source": "df2.createOrReplaceTempView('dept')",
			"metadata": {
				"trusted": true,
				"tags": []
			},
			"execution_count": 57,
			"outputs": [
				{
					"name": "stdout",
					"text": "\n",
					"output_type": "stream"
				}
			]
		},
		{
			"cell_type": "code",
			"source": "spark1.sql('select * from emp e inner join dept d on e.depid = d.depid ').show()",
			"metadata": {
				"trusted": true,
				"tags": []
			},
			"execution_count": 59,
			"outputs": [
				{
					"name": "stdout",
					"text": "+-----+-------+-----+------+-----+-------+-------+\n|empid|   name|depid|salary|depid|   dept|   city|\n+-----+-------+-----+------+-----+-------+-------+\n|    1|  Alice|  101|  5000|  101|     HR|   pune|\n|    3|Charlie|  101|  5500|  101|     HR|   pune|\n|    2|    Bob|  102|  6000|  102|     IT|solapur|\n|    4|  David|  103|  6200|  103|Finance|     UP|\n+-----+-------+-----+------+-----+-------+-------+\n",
					"output_type": "stream"
				}
			]
		},
		{
			"cell_type": "code",
			"source": "",
			"metadata": {},
			"execution_count": null,
			"outputs": []
		},
		{
			"cell_type": "code",
			"source": "",
			"metadata": {},
			"execution_count": null,
			"outputs": []
		},
		{
			"cell_type": "code",
			"source": "",
			"metadata": {},
			"execution_count": null,
			"outputs": []
		},
		{
			"cell_type": "code",
			"source": "",
			"metadata": {},
			"execution_count": null,
			"outputs": []
		},
		{
			"cell_type": "code",
			"source": "",
			"metadata": {},
			"execution_count": null,
			"outputs": []
		},
		{
			"cell_type": "code",
			"source": "",
			"metadata": {},
			"execution_count": null,
			"outputs": []
		},
		{
			"cell_type": "code",
			"source": "",
			"metadata": {},
			"execution_count": null,
			"outputs": []
		},
		{
			"cell_type": "code",
			"source": "",
			"metadata": {},
			"execution_count": null,
			"outputs": []
		},
		{
			"cell_type": "code",
			"source": "",
			"metadata": {},
			"execution_count": null,
			"outputs": []
		},
		{
			"cell_type": "code",
			"source": "",
			"metadata": {},
			"execution_count": null,
			"outputs": []
		},
		{
			"cell_type": "code",
			"source": "",
			"metadata": {},
			"execution_count": null,
			"outputs": []
		}
	]
}