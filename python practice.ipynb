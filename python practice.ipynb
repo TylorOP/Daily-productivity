{
 "cells": [
  {
   "cell_type": "code",
   "execution_count": 9,
   "id": "d760cf86",
   "metadata": {},
   "outputs": [
    {
     "data": {
      "text/plain": [
       "'mahbuhs'"
      ]
     },
     "execution_count": 9,
     "metadata": {},
     "output_type": "execute_result"
    }
   ],
   "source": [
    "\n",
    "# Write a function to reverse a given string without using built-in reverse functions.\n",
    "# Check for Palindrome:\n",
    "\n",
    "\n",
    "\n",
    "def reverse(s):\n",
    "    result = ''\n",
    "    for i in range(len(s)-1,-1,-1):\n",
    "        result += s[i]\n",
    "    return result\n",
    "\n",
    "sample = 'shubham'\n",
    "x = reverse(sample)\n",
    "x"
   ]
  },
  {
   "cell_type": "code",
   "execution_count": 40,
   "id": "c7b6103b",
   "metadata": {},
   "outputs": [
    {
     "name": "stdout",
     "output_type": "stream",
     "text": [
      "enter any string: rte\n",
      "Not palindrome\n"
     ]
    }
   ],
   "source": [
    "# Create a function that checks if a given string is a palindrome (reads the same forwards and backwards).\n",
    "# Count Vowels and Consonants:\n",
    "\n",
    "\n",
    "def palindrome(s):\n",
    "    s = s.lower()\n",
    "    forward = ''\n",
    "    backward = ''\n",
    "    \n",
    "    for i in range(0,len(s)):\n",
    "        forward += s[i]\n",
    "    \n",
    "    for i in range(len(s)-1,-1,-1):\n",
    "        backward += s[i]\n",
    "    \n",
    "    if forward  == backward:\n",
    "        return True\n",
    "\n",
    "\n",
    "sample = input('enter any string: ')\n",
    "x = palindrome(sample)\n",
    "\n",
    "if x:\n",
    "    print(\"palindrome\")\n",
    "else:\n",
    "    print(\"Not palindrome\")\n"
   ]
  },
  {
   "cell_type": "code",
   "execution_count": 66,
   "id": "d53ce9c5",
   "metadata": {},
   "outputs": [
    {
     "name": "stdout",
     "output_type": "stream",
     "text": [
      "Vowels:  {'a': 1, 'u': 1}\n",
      "Consonant:  {'d': 2, 'f': 2, 's': 1, 'r': 1, 'g': 2, 'h': 1, 'n': 1, 'p': 2, 'm': 1}\n"
     ]
    }
   ],
   "source": [
    "# Write a program that counts the number of vowels and consonants in a given string.\n",
    "\n",
    "\n",
    "\n",
    "def count(string):\n",
    "    vowels = 'aeiouAEIOU'\n",
    "    vowel_count = {}\n",
    "    consonant = {}\n",
    "    for i in string:\n",
    "        if i.isalpha():\n",
    "            if i in vowels:\n",
    "                if i in vowel_count:  \n",
    "                    vowel_count[i] += 1\n",
    "                else:\n",
    "                    vowel_count[i] = 1\n",
    "            else:\n",
    "                if i in consonant:\n",
    "                    consonant[i] +=1\n",
    "                else:\n",
    "                    consonant[i] = 1\n",
    "        else:\n",
    "            continue\n",
    "    return vowel_count,consonant\n",
    "                \n",
    "\n",
    "\n",
    "sample = '214354dfs r gfghandpump'\n",
    "x,y = count(sample)\n",
    "print('Vowels: ',x)\n",
    "print('Consonant: ',y)\n",
    "\n",
    "\n",
    "\n",
    "\n",
    "\n",
    "\n"
   ]
  },
  {
   "cell_type": "code",
   "execution_count": 110,
   "id": "f95822f2",
   "metadata": {},
   "outputs": [
    {
     "data": {
      "text/plain": [
       "'duplicate f1sz'"
      ]
     },
     "execution_count": 110,
     "metadata": {},
     "output_type": "execute_result"
    }
   ],
   "source": [
    "\n",
    "# Write a function to remove duplicate characters from a string while maintaining the original order.\n",
    "\n",
    "\n",
    "def unique_order_string(s):\n",
    "    unique = set()\n",
    "    output =''\n",
    "    for i in s:\n",
    "        if i not in unique:\n",
    "            unique.add(i)\n",
    "            output += i           \n",
    "    return output\n",
    "    \n",
    "\n",
    "\n",
    "\n",
    "sample = 'duplicate duplicatedf1ds z'\n",
    "x = unique_order_string(sample)\n",
    "x"
   ]
  },
  {
   "cell_type": "code",
   "execution_count": null,
   "id": "8a8140b7",
   "metadata": {},
   "outputs": [],
   "source": []
  },
  {
   "cell_type": "code",
   "execution_count": null,
   "id": "69af5d39",
   "metadata": {},
   "outputs": [],
   "source": []
  },
  {
   "cell_type": "code",
   "execution_count": null,
   "id": "8099cc78",
   "metadata": {},
   "outputs": [],
   "source": []
  },
  {
   "cell_type": "code",
   "execution_count": null,
   "id": "5e841c14",
   "metadata": {},
   "outputs": [],
   "source": []
  },
  {
   "cell_type": "code",
   "execution_count": null,
   "id": "980fa13f",
   "metadata": {},
   "outputs": [],
   "source": []
  },
  {
   "cell_type": "code",
   "execution_count": null,
   "id": "78378398",
   "metadata": {},
   "outputs": [],
   "source": []
  },
  {
   "cell_type": "code",
   "execution_count": null,
   "id": "d5211df1",
   "metadata": {},
   "outputs": [],
   "source": []
  },
  {
   "cell_type": "code",
   "execution_count": null,
   "id": "d4ee7570",
   "metadata": {},
   "outputs": [],
   "source": []
  },
  {
   "cell_type": "code",
   "execution_count": null,
   "id": "f416bdae",
   "metadata": {},
   "outputs": [],
   "source": []
  }
 ],
 "metadata": {
  "kernelspec": {
   "display_name": "Python 3 (ipykernel)",
   "language": "python",
   "name": "python3"
  },
  "language_info": {
   "codemirror_mode": {
    "name": "ipython",
    "version": 3
   },
   "file_extension": ".py",
   "mimetype": "text/x-python",
   "name": "python",
   "nbconvert_exporter": "python",
   "pygments_lexer": "ipython3",
   "version": "3.9.19"
  }
 },
 "nbformat": 4,
 "nbformat_minor": 5
}
