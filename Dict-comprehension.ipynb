{
 "cells": [
  {
   "cell_type": "code",
   "execution_count": null,
   "id": "ca72dd53",
   "metadata": {},
   "outputs": [],
   "source": [
    "Real-Time Scenario-Based Questions\n",
    "Data Processing:\n",
    "\n",
    "You have a list of transaction amounts. Write a list comprehension to apply a 10% discount \n",
    "to all amounts over $100.\n",
    "\n",
    "Web Development:\n",
    "\n",
    "Given a list of URLs, write a list comprehension to extract the domain names \n",
    "(without www and .com) from the URLs.\n",
    "\n",
    "Data Cleaning:\n",
    "\n",
    "You are working with a dataset that includes some missing values (None). \n",
    "Write a list comprehension to replace all None values with the average of the \n",
    "non-None values in the list.\n",
    "\n",
    "Text Processing:\n",
    "\n",
    "Given a list of sentences, write a list comprehension to create a list of\n",
    "sentences that contain the word \"data\"."
   ]
  },
  {
   "cell_type": "code",
   "execution_count": null,
   "id": "e2c61cf6",
   "metadata": {},
   "outputs": [],
   "source": [
    "#You have a list of transaction amounts.\n",
    "# Write a list comprehension to apply a 10% discount to all amounts over $100.\n",
    "# Web Development:"
   ]
  },
  {
   "cell_type": "code",
   "execution_count": 110,
   "id": "effb1ebc",
   "metadata": {},
   "outputs": [],
   "source": [
    "# learned 1% 10% \n",
    "# 340 10% = 34\n",
    "# 340 1% = 3.4\n",
    "\n",
    "# Assume 39 % discount\n",
    "# any amount * 0.61"
   ]
  },
  {
   "cell_type": "code",
   "execution_count": 116,
   "id": "97c7229e",
   "metadata": {},
   "outputs": [
    {
     "name": "stdout",
     "output_type": "stream",
     "text": [
      "207.4\n",
      "132.6\n",
      "207.4\n"
     ]
    }
   ],
   "source": [
    "#eg 39 % discount\n",
    "print(340 * 0.61)\n",
    "\n",
    "print((34*4)-3.4)  #39% amount\n",
    "\n",
    "print(340 - 132.6)"
   ]
  },
  {
   "cell_type": "code",
   "execution_count": 108,
   "id": "0132273b",
   "metadata": {},
   "outputs": [],
   "source": [
    "p=[32,534,74,84,234,86,7534,23875]"
   ]
  },
  {
   "cell_type": "code",
   "execution_count": 94,
   "id": "88ba23dd",
   "metadata": {},
   "outputs": [
    {
     "data": {
      "text/plain": [
       "[(534, 480.6), (234, 210.6), (7534, 6780.6), (23875, 21487.5)]"
      ]
     },
     "execution_count": 94,
     "metadata": {},
     "output_type": "execute_result"
    }
   ],
   "source": [
    "[(i,i-(i*0.10)) for i in p if i > 100]"
   ]
  },
  {
   "cell_type": "code",
   "execution_count": 101,
   "id": "4979824c",
   "metadata": {},
   "outputs": [
    {
     "data": {
      "text/plain": [
       "[480.6, 210.6, 6780.6, 21487.5]"
      ]
     },
     "execution_count": 101,
     "metadata": {},
     "output_type": "execute_result"
    }
   ],
   "source": [
    "#not mine\n",
    "[amount * 0.9 if amount > 100 else amount for amount in p if amount > 100]"
   ]
  },
  {
   "cell_type": "code",
   "execution_count": 109,
   "id": "02381f69",
   "metadata": {},
   "outputs": [
    {
     "data": {
      "text/plain": [
       "[27.2, 453.9, 62.9, 71.39999999999999, 198.9, 73.1, 6403.9, 20293.75]"
      ]
     },
     "execution_count": 109,
     "metadata": {},
     "output_type": "execute_result"
    }
   ],
   "source": [
    "[i* 0.85 for i in p ]"
   ]
  },
  {
   "cell_type": "code",
   "execution_count": null,
   "id": "ac283624",
   "metadata": {},
   "outputs": [],
   "source": [
    "# Given a list of URLs, write a list comprehension to extract the \n",
    "# domain names (without www and .com) from the URLs.\n",
    "# Data Cleaning:\n"
   ]
  },
  {
   "cell_type": "code",
   "execution_count": null,
   "id": "1a3c08ee",
   "metadata": {},
   "outputs": [],
   "source": [
    "# no light trying to get it .i came so far .split('/')[2].split('.')[2] "
   ]
  },
  {
   "cell_type": "code",
   "execution_count": 117,
   "id": "aa5e92b1",
   "metadata": {},
   "outputs": [],
   "source": [
    "urls = [\"https://www.google.com\", \"https://www.github.com\", \"http://www.openai.com\"]"
   ]
  },
  {
   "cell_type": "code",
   "execution_count": 119,
   "id": "1e6cdabc",
   "metadata": {},
   "outputs": [
    {
     "data": {
      "text/plain": [
       "['google', 'github', 'openai']"
      ]
     },
     "execution_count": 119,
     "metadata": {},
     "output_type": "execute_result"
    }
   ],
   "source": [
    "[i.split('/')[2].split('.')[1] for i in urls]"
   ]
  },
  {
   "cell_type": "code",
   "execution_count": 121,
   "id": "821df60e",
   "metadata": {},
   "outputs": [],
   "source": [
    "\n",
    "# You are working with a dataset that includes some missing values (None). \n",
    "# Write a list comprehension to replace all None values with the average of the \n",
    "# non-None values in the list.\n",
    "# Text Processing:"
   ]
  },
  {
   "cell_type": "code",
   "execution_count": 137,
   "id": "3c2888bb",
   "metadata": {},
   "outputs": [],
   "source": [
    "data = [10, 20, None, 40, None, 60, 80, None]\n"
   ]
  },
  {
   "cell_type": "code",
   "execution_count": 138,
   "id": "396df1eb",
   "metadata": {},
   "outputs": [
    {
     "data": {
      "text/plain": [
       "[10, 20, 26.25, 40, 26.25, 60, 80, 26.25]"
      ]
     },
     "execution_count": 138,
     "metadata": {},
     "output_type": "execute_result"
    }
   ],
   "source": [
    "[i if i is not None else sum([i for i in data if i!= None])/len(data) for i in data ]\n",
    "\n",
    "# in above the len is 8"
   ]
  },
  {
   "cell_type": "code",
   "execution_count": 143,
   "id": "8fa06ad0",
   "metadata": {},
   "outputs": [],
   "source": [
    "data = [10, 20, None, 40, None, 60, 80, None]"
   ]
  },
  {
   "cell_type": "code",
   "execution_count": 159,
   "id": "2035c0cf",
   "metadata": {},
   "outputs": [
    {
     "data": {
      "text/plain": [
       "[10, 20, 42.0, 40, 42.0, 60, 80, 42.0]"
      ]
     },
     "execution_count": 159,
     "metadata": {},
     "output_type": "execute_result"
    }
   ],
   "source": [
    "[i if i is not None else sum([i for i in data if i!=None])/len([i for i in data if i!=None])\n",
    " for i in data]\n",
    "\n",
    "# in above the len is 5"
   ]
  },
  {
   "cell_type": "code",
   "execution_count": 182,
   "id": "729ba990",
   "metadata": {},
   "outputs": [],
   "source": [
    "import pandas as pd"
   ]
  },
  {
   "cell_type": "code",
   "execution_count": 195,
   "id": "67344a81",
   "metadata": {},
   "outputs": [],
   "source": [
    "data = {'values': [10, 20, None, 40, None, 60, 80, None]}\n",
    "df = pd.DataFrame(data)"
   ]
  },
  {
   "cell_type": "code",
   "execution_count": 196,
   "id": "da9ca13f",
   "metadata": {},
   "outputs": [],
   "source": [
    "average = df['values'].mean()\n",
    "df['values'] = [x if pd.notnull(x) else average for x in df['values']]"
   ]
  },
  {
   "cell_type": "code",
   "execution_count": 197,
   "id": "b6cb4d00",
   "metadata": {},
   "outputs": [
    {
     "data": {
      "text/html": [
       "<div>\n",
       "<style scoped>\n",
       "    .dataframe tbody tr th:only-of-type {\n",
       "        vertical-align: middle;\n",
       "    }\n",
       "\n",
       "    .dataframe tbody tr th {\n",
       "        vertical-align: top;\n",
       "    }\n",
       "\n",
       "    .dataframe thead th {\n",
       "        text-align: right;\n",
       "    }\n",
       "</style>\n",
       "<table border=\"1\" class=\"dataframe\">\n",
       "  <thead>\n",
       "    <tr style=\"text-align: right;\">\n",
       "      <th></th>\n",
       "      <th>values</th>\n",
       "    </tr>\n",
       "  </thead>\n",
       "  <tbody>\n",
       "    <tr>\n",
       "      <th>0</th>\n",
       "      <td>10.0</td>\n",
       "    </tr>\n",
       "    <tr>\n",
       "      <th>1</th>\n",
       "      <td>20.0</td>\n",
       "    </tr>\n",
       "    <tr>\n",
       "      <th>2</th>\n",
       "      <td>42.0</td>\n",
       "    </tr>\n",
       "    <tr>\n",
       "      <th>3</th>\n",
       "      <td>40.0</td>\n",
       "    </tr>\n",
       "    <tr>\n",
       "      <th>4</th>\n",
       "      <td>42.0</td>\n",
       "    </tr>\n",
       "    <tr>\n",
       "      <th>5</th>\n",
       "      <td>60.0</td>\n",
       "    </tr>\n",
       "    <tr>\n",
       "      <th>6</th>\n",
       "      <td>80.0</td>\n",
       "    </tr>\n",
       "    <tr>\n",
       "      <th>7</th>\n",
       "      <td>42.0</td>\n",
       "    </tr>\n",
       "  </tbody>\n",
       "</table>\n",
       "</div>"
      ],
      "text/plain": [
       "   values\n",
       "0    10.0\n",
       "1    20.0\n",
       "2    42.0\n",
       "3    40.0\n",
       "4    42.0\n",
       "5    60.0\n",
       "6    80.0\n",
       "7    42.0"
      ]
     },
     "execution_count": 197,
     "metadata": {},
     "output_type": "execute_result"
    }
   ],
   "source": [
    "df"
   ]
  },
  {
   "cell_type": "code",
   "execution_count": null,
   "id": "ddc05a35",
   "metadata": {},
   "outputs": [],
   "source": [
    "Text Processing:\n",
    "\n",
    "Given a list of sentences, write a list comprehension to create a list of\n",
    "sentences that contain the word \"data\"."
   ]
  },
  {
   "cell_type": "code",
   "execution_count": 180,
   "id": "0f02bbfb",
   "metadata": {},
   "outputs": [],
   "source": [
    "sentences = [\n",
    "    \"Data science is an exciting field.\",\n",
    "    \"I enjoy reading books.\",\n",
    "    \"The data shows a significant trend.\",\n",
    "    \"She loves cooking.\",\n",
    "    \"Big data analytics is the future.\",\n",
    "    \"They are going to the park.\",\n",
    "    \"Understanding data is crucial in research.\"\n",
    "]"
   ]
  },
  {
   "cell_type": "code",
   "execution_count": 198,
   "id": "27c40cf0",
   "metadata": {},
   "outputs": [
    {
     "data": {
      "text/plain": [
       "['Data science is an exciting field.',\n",
       " 'The data shows a significant trend.',\n",
       " 'Big data analytics is the future.',\n",
       " 'Understanding data is crucial in research.']"
      ]
     },
     "execution_count": 198,
     "metadata": {},
     "output_type": "execute_result"
    }
   ],
   "source": [
    "[ x for x in sentences if 'data' in x.lower()]"
   ]
  },
  {
   "cell_type": "code",
   "execution_count": 199,
   "id": "3eba8fb3",
   "metadata": {},
   "outputs": [
    {
     "name": "stdout",
     "output_type": "stream",
     "text": [
      "[10, 20, 42.0, 40, 42.0, 60, 80, 42.0]\n"
     ]
    }
   ],
   "source": [
    "#not mine #don't look at it #skip\n",
    "data = [10, 20, None, 40, None, 60, 80, None]\n",
    "\n",
    "# Step 1: Calculate the average of non-None values\n",
    "average = sum(x for x in data if x is not None) / len([x for x in data if x is not None])\n",
    "\n",
    "# Step 2: Replace None values with the average\n",
    "filled_data = [x if x is not None else average for x in data]\n",
    "\n",
    "print(filled_data)"
   ]
  },
  {
   "cell_type": "markdown",
   "id": "b45a2629",
   "metadata": {},
   "source": [
    "# Dictionary comprehension"
   ]
  },
  {
   "cell_type": "code",
   "execution_count": 11,
   "id": "e9240369",
   "metadata": {},
   "outputs": [],
   "source": [
    "p = ['top','mop','cat','cook','book']"
   ]
  },
  {
   "cell_type": "code",
   "execution_count": 10,
   "id": "484d27f2",
   "metadata": {},
   "outputs": [
    {
     "name": "stdout",
     "output_type": "stream",
     "text": [
      "3:['top','mop','cat'],4:['cook','book']\n"
     ]
    }
   ],
   "source": [
    "print(\"3:['top','mop','cat'],4:['cook','book']\")"
   ]
  },
  {
   "cell_type": "code",
   "execution_count": 21,
   "id": "9ad7b363",
   "metadata": {},
   "outputs": [
    {
     "data": {
      "text/plain": [
       "[{3, 4}]"
      ]
     },
     "execution_count": 21,
     "metadata": {},
     "output_type": "execute_result"
    }
   ],
   "source": [
    "[set(len(i) for i in p )]"
   ]
  },
  {
   "cell_type": "code",
   "execution_count": 28,
   "id": "cbd877d6",
   "metadata": {},
   "outputs": [
    {
     "data": {
      "text/plain": [
       "{3: ['top', 'mop', 'cat'], 4: ['cook', 'book']}"
      ]
     },
     "execution_count": 28,
     "metadata": {},
     "output_type": "execute_result"
    }
   ],
   "source": [
    "{j:[i for i in p if len(i)==j] for j in set(len(i) for i in p )}"
   ]
  },
  {
   "cell_type": "code",
   "execution_count": 29,
   "id": "24cc4351",
   "metadata": {},
   "outputs": [],
   "source": [
    "p = ['top','mop','cat','cook','book']"
   ]
  },
  {
   "cell_type": "code",
   "execution_count": 32,
   "id": "01fe15b7",
   "metadata": {},
   "outputs": [
    {
     "data": {
      "text/plain": [
       "{3: ['top', 'mop', 'cat'], 4: ['cook', 'book']}"
      ]
     },
     "execution_count": 32,
     "metadata": {},
     "output_type": "execute_result"
    }
   ],
   "source": [
    "{j:[i for i in p if len(i)==j] for j in set([len(i) for i in p])}"
   ]
  },
  {
   "cell_type": "code",
   "execution_count": null,
   "id": "525c2a77",
   "metadata": {},
   "outputs": [],
   "source": []
  },
  {
   "cell_type": "code",
   "execution_count": 33,
   "id": "dc4185f2",
   "metadata": {},
   "outputs": [],
   "source": [
    "p1 = ['python', 'java','hadoop','ml ']\n"
   ]
  },
  {
   "cell_type": "code",
   "execution_count": 39,
   "id": "9dc07837",
   "metadata": {},
   "outputs": [
    {
     "data": {
      "text/plain": [
       "{'python': 6, 'java': 4, 'hadoop': 6, 'ml ': 2}"
      ]
     },
     "execution_count": 39,
     "metadata": {},
     "output_type": "execute_result"
    }
   ],
   "source": [
    "{i:len(i.strip()) for i in p1 }"
   ]
  },
  {
   "cell_type": "code",
   "execution_count": null,
   "id": "b982e165",
   "metadata": {},
   "outputs": [],
   "source": [
    "# Question: Write a dictionary comprehension to create a dictionary \n",
    "#     where the keys are the first 10 positive integers\n",
    "#     and the values are their squares."
   ]
  },
  {
   "cell_type": "code",
   "execution_count": 41,
   "id": "4790a0b6",
   "metadata": {},
   "outputs": [
    {
     "data": {
      "text/plain": [
       "{1: 1, 2: 4, 3: 9, 4: 16, 5: 25, 6: 36, 7: 49, 8: 64, 9: 81, 10: 100}"
      ]
     },
     "execution_count": 41,
     "metadata": {},
     "output_type": "execute_result"
    }
   ],
   "source": [
    "{i:i**2 for i in range(1,11)}\n"
   ]
  },
  {
   "cell_type": "code",
   "execution_count": null,
   "id": "71a246c2",
   "metadata": {},
   "outputs": [],
   "source": [
    "# Question: Given a dictionary d = {'a': 1, 'b': 2, 'c': 3, 'd': 4},\n",
    "#     use dictionary comprehension to create a new dictionary containing \n",
    "#     only items with values greater than 2."
   ]
  },
  {
   "cell_type": "code",
   "execution_count": 44,
   "id": "791488fe",
   "metadata": {},
   "outputs": [],
   "source": [
    "d = {'a': 1, 'b': 2, 'c': 3, 'd': 4}"
   ]
  },
  {
   "cell_type": "code",
   "execution_count": 65,
   "id": "eff25d5b",
   "metadata": {},
   "outputs": [
    {
     "data": {
      "text/plain": [
       "{'c': 3, 'd': 4}"
      ]
     },
     "execution_count": 65,
     "metadata": {},
     "output_type": "execute_result"
    }
   ],
   "source": [
    "{ k:v for k,v in d.items() if v > 2 }"
   ]
  },
  {
   "cell_type": "code",
   "execution_count": null,
   "id": "b2252e29",
   "metadata": {},
   "outputs": [],
   "source": [
    "# Transforming Keys and Values:\n",
    "\n",
    "# Question: Write a dictionary comprehension that \n",
    "#     converts all keys in a dictionary to uppercase."
   ]
  },
  {
   "cell_type": "code",
   "execution_count": 67,
   "id": "986c56ce",
   "metadata": {},
   "outputs": [
    {
     "data": {
      "text/plain": [
       "{'A': 1, 'B': 2, 'C': 3, 'D': 4}"
      ]
     },
     "execution_count": 67,
     "metadata": {},
     "output_type": "execute_result"
    }
   ],
   "source": [
    "{k.upper():v for k,v in d.items()}"
   ]
  },
  {
   "cell_type": "code",
   "execution_count": 68,
   "id": "c17ffbb7",
   "metadata": {},
   "outputs": [],
   "source": [
    "# Question: Given two lists, keys = ['name', 'age', 'gender'] and \n",
    "#     values = ['Alice', 25, 'Female'], \n",
    "#     create a dictionary using dictionary comprehension."
   ]
  },
  {
   "cell_type": "code",
   "execution_count": 69,
   "id": "859609c8",
   "metadata": {},
   "outputs": [],
   "source": [
    "keys = ['name', 'age', 'gender']\n",
    "values = ['Alice', 25, 'Female']"
   ]
  },
  {
   "cell_type": "code",
   "execution_count": 74,
   "id": "9bd18365",
   "metadata": {},
   "outputs": [
    {
     "data": {
      "text/plain": [
       "{'name': 'Alice', 'age': 25, 'gender': 'Female'}"
      ]
     },
     "execution_count": 74,
     "metadata": {},
     "output_type": "execute_result"
    }
   ],
   "source": [
    "{k:v for k,v in zip(keys,values)}"
   ]
  },
  {
   "cell_type": "code",
   "execution_count": 75,
   "id": "fc26e026",
   "metadata": {},
   "outputs": [],
   "source": [
    "# Question: Given a dictionary d = {'a': 1, 'b': 2, 'c': 3}, \n",
    "#     use dictionary comprehension to create an inverse dictionary \n",
    "#     where keys become values and values become keys."
   ]
  },
  {
   "cell_type": "code",
   "execution_count": 76,
   "id": "749a7c42",
   "metadata": {},
   "outputs": [],
   "source": [
    "d = {'a': 1, 'b': 2, 'c': 3}"
   ]
  },
  {
   "cell_type": "code",
   "execution_count": 79,
   "id": "81c1a31c",
   "metadata": {},
   "outputs": [
    {
     "data": {
      "text/plain": [
       "{1: 'a', 2: 'b', 3: 'c'}"
      ]
     },
     "execution_count": 79,
     "metadata": {},
     "output_type": "execute_result"
    }
   ],
   "source": [
    "{v:k for k,v in d.items()}"
   ]
  },
  {
   "cell_type": "code",
   "execution_count": 200,
   "id": "64201578",
   "metadata": {},
   "outputs": [],
   "source": [
    "# Question: You are given a string, and you need to create a \n",
    "# dictionary where the keys are the characters in the string, \n",
    "# and the values are the frequency of those characters.\n",
    "# Example: For the string \"banana\", the dictionary should be {'b': 1, 'a': 3, 'n': 2}."
   ]
  },
  {
   "cell_type": "code",
   "execution_count": 204,
   "id": "7f2034fc",
   "metadata": {},
   "outputs": [
    {
     "data": {
      "text/plain": [
       "{'b': 1, 'a': 3, 'n': 2}"
      ]
     },
     "execution_count": 204,
     "metadata": {},
     "output_type": "execute_result"
    }
   ],
   "source": [
    "str_ = 'banana'\n",
    "\n",
    "{char: str_.count(char) for char in str_}"
   ]
  },
  {
   "cell_type": "code",
   "execution_count": 206,
   "id": "77222b60",
   "metadata": {},
   "outputs": [],
   "source": [
    "# Scenario: Grouping Data by Key\n",
    "\n",
    "# Question: Suppose you have a list of tuples representing student grades,\n",
    "#     where each tuple is in the format (student_name, grade). Write a dictionary\n",
    "#     comprehension to group these grades by student name.\n",
    "# Example: For grades = [('John', 'A'), ('Jane', 'B'), ('John', 'C')], \n",
    "#     the resulting dictionary should be {'John': ['A', 'C'], 'Jane': ['B']}."
   ]
  },
  {
   "cell_type": "code",
   "execution_count": 233,
   "id": "f850a6d8",
   "metadata": {},
   "outputs": [],
   "source": [
    "grades = [('John', 'A'), ('Jane', 'B'), ('John', 'C')]"
   ]
  },
  {
   "cell_type": "code",
   "execution_count": 254,
   "id": "fd68dccf",
   "metadata": {},
   "outputs": [
    {
     "data": {
      "text/plain": [
       "{'John': [], 'Jane': []}"
      ]
     },
     "execution_count": 254,
     "metadata": {},
     "output_type": "execute_result"
    }
   ],
   "source": [
    "{k:[y[-1] for x in grades for y in x if y[0]==k] for k,v2 in grades}"
   ]
  },
  {
   "cell_type": "code",
   "execution_count": null,
   "id": "6d05fb17",
   "metadata": {},
   "outputs": [],
   "source": []
  },
  {
   "cell_type": "code",
   "execution_count": 252,
   "id": "e8929b2e",
   "metadata": {},
   "outputs": [
    {
     "data": {
      "text/plain": [
       "{'John': ['A', 'C'], 'Jane': ['B']}"
      ]
     },
     "execution_count": 252,
     "metadata": {},
     "output_type": "execute_result"
    }
   ],
   "source": [
    "#not mine bitch\n",
    "{k: [v for k2, v in grades if k2 == k] for k, _ in grades}"
   ]
  },
  {
   "cell_type": "code",
   "execution_count": 255,
   "id": "8575d376",
   "metadata": {},
   "outputs": [],
   "source": [
    "# Question: Given a dictionary of dictionaries, where the outer dictionary represents \n",
    "#     categories, and the inner dictionaries represent items and their prices, write a \n",
    "# nested dictionary comprehension to reduce all prices by 20%.\n",
    "# Example: For inventory =\n",
    "# {'fruits': {'apple': 100, 'banana': 60}, 'vegetables': {'carrot': 40, 'broccoli': 80}}, \n",
    "# the result should be \n",
    "# {'fruits': {'apple': 80, 'banana': 48}, 'vegetables': {'carrot': 32, 'broccoli': 64}}.\n",
    "# Hint: Use a nested comprehension: {outer_k: {inner_k: inner_v * 0.8 for inner_k, inner_v \n",
    "#       in  outer_v.items()} for outer_k, outer_v in inventory.items()}"
   ]
  },
  {
   "cell_type": "code",
   "execution_count": 275,
   "id": "ca6c98fd",
   "metadata": {},
   "outputs": [],
   "source": [
    "inventory = {\n",
    "    'fruits': {'apple': 100, 'banana': 60},\n",
    "    'vegetables': {'carrot': 40, 'broccoli': 80}\n",
    "}\n"
   ]
  },
  {
   "cell_type": "code",
   "execution_count": 276,
   "id": "dc53393d",
   "metadata": {},
   "outputs": [
    {
     "data": {
      "text/plain": [
       "{'fruits': {'apple': 100, 'banana': 60},\n",
       " 'vegetables': {'carrot': 40, 'broccoli': 80}}"
      ]
     },
     "execution_count": 276,
     "metadata": {},
     "output_type": "execute_result"
    }
   ],
   "source": [
    "inventory"
   ]
  },
  {
   "cell_type": "code",
   "execution_count": 279,
   "id": "466a328f",
   "metadata": {},
   "outputs": [
    {
     "data": {
      "text/plain": [
       "{'fruits': {'apple': 80.0, 'banana': 48.0},\n",
       " 'vegetables': {'carrot': 32.0, 'broccoli': 64.0}}"
      ]
     },
     "execution_count": 279,
     "metadata": {},
     "output_type": "execute_result"
    }
   ],
   "source": [
    "{\n",
    "    outer_k:{inner_k:inner_v * 0.8 for inner_k,inner_v in outer_v.items() } for outer_k,outer_v in inventory.items()\n",
    "}"
   ]
  },
  {
   "cell_type": "code",
   "execution_count": null,
   "id": "aa0b0226",
   "metadata": {},
   "outputs": [],
   "source": []
  },
  {
   "cell_type": "code",
   "execution_count": null,
   "id": "98e58940",
   "metadata": {},
   "outputs": [],
   "source": []
  },
  {
   "cell_type": "code",
   "execution_count": null,
   "id": "798a5629",
   "metadata": {},
   "outputs": [],
   "source": [
    "# Scenario: Transforming and Filtering\n",
    "\n",
    "# Question: You have a dictionary representing items and their prices, and you want to\n",
    "#     apply a discount to items that are above a certain price threshold. Write a dictionary \n",
    "#     comprehension to create a new dictionary with discounted prices.\n",
    "# Example: For prices = {'apple': 120, 'banana': 80, 'cherry': 150},\n",
    "#     apply a 10% discount to items costing more than 100.\n",
    "# \n",
    "# Scenario: Nested Dictionary Comprehension"
   ]
  },
  {
   "cell_type": "code",
   "execution_count": 283,
   "id": "b2ac15bd",
   "metadata": {},
   "outputs": [],
   "source": [
    "prices = {'apple': 120, 'banana': 80, 'cherry': 150}"
   ]
  },
  {
   "cell_type": "code",
   "execution_count": 286,
   "id": "a6022ed9",
   "metadata": {},
   "outputs": [
    {
     "data": {
      "text/plain": [
       "{'apple': 108.0, 'cherry': 135.0}"
      ]
     },
     "execution_count": 286,
     "metadata": {},
     "output_type": "execute_result"
    }
   ],
   "source": [
    "{k:v*0.9 for k,v in prices.items() if v >100}\n",
    "#you need to apply tenary operator #this is wrong in some sort of it"
   ]
  },
  {
   "cell_type": "code",
   "execution_count": 289,
   "id": "8f159275",
   "metadata": {},
   "outputs": [
    {
     "data": {
      "text/plain": [
       "{'apple': 108.0, 'banana': 80, 'cherry': 135.0}"
      ]
     },
     "execution_count": 289,
     "metadata": {},
     "output_type": "execute_result"
    }
   ],
   "source": [
    "{k:v if v<100 else v*0.9 for k,v in prices.items() }\n",
    "#i guess this is correct"
   ]
  },
  {
   "cell_type": "code",
   "execution_count": 290,
   "id": "79e0610c",
   "metadata": {},
   "outputs": [
    {
     "data": {
      "text/plain": [
       "{'apple': 108.0, 'banana': 80, 'cherry': 135.0}"
      ]
     },
     "execution_count": 290,
     "metadata": {},
     "output_type": "execute_result"
    }
   ],
   "source": [
    "#not mine\n",
    "{k: v * 0.9 if v > 100 else v for k, v in prices.items()}"
   ]
  },
  {
   "cell_type": "code",
   "execution_count": null,
   "id": "64b2e80f",
   "metadata": {},
   "outputs": [],
   "source": []
  }
 ],
 "metadata": {
  "kernelspec": {
   "display_name": "Python 3 (ipykernel)",
   "language": "python",
   "name": "python3"
  },
  "language_info": {
   "codemirror_mode": {
    "name": "ipython",
    "version": 3
   },
   "file_extension": ".py",
   "mimetype": "text/x-python",
   "name": "python",
   "nbconvert_exporter": "python",
   "pygments_lexer": "ipython3",
   "version": "3.9.19"
  }
 },
 "nbformat": 4,
 "nbformat_minor": 5
}
