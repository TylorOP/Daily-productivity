{
 "cells": [
  {
   "cell_type": "code",
   "execution_count": 1,
   "id": "087bdaea",
   "metadata": {},
   "outputs": [],
   "source": [
    "aws_access_key_id = 'i_have_changed'\n",
    "aws_secret_access_key = 'and_this_also'\n",
    "# https://t-redactyl.io/blog/2020/08/reading-s3-data-into-a-spark-dataframe-using-sagemaker.html\n",
    "# good article"
   ]
  },
  {
   "cell_type": "code",
   "execution_count": 2,
   "id": "b6a86302",
   "metadata": {},
   "outputs": [],
   "source": [
    "import json\n",
    "data = { 'aws_access_key_id' : 'i_have_changed',\n",
    "         'aws_secret_access_key' : 'and_this_also'\n",
    "       }\n",
    "\n",
    "with open('config.json','w') as fp:\n",
    "    json.dump(data,fp,indent=4)\n",
    "    "
   ]
  },
  {
   "cell_type": "code",
   "execution_count": 3,
   "id": "35519e2d",
   "metadata": {},
   "outputs": [],
   "source": [
    "with open('config.json') as fp:\n",
    "          data = json.load(fp)"
   ]
  },
  {
   "cell_type": "code",
   "execution_count": 5,
   "id": "3d8596ac",
   "metadata": {},
   "outputs": [
    {
     "name": "stderr",
     "output_type": "stream",
     "text": [
      "/home/ec2-user/anaconda3/envs/python3/lib/python3.10/site-packages/pyspark/ml/linalg/__init__.py:81: UserWarning: A NumPy version >=1.23.5 and <2.3.0 is required for this version of SciPy (detected version 1.22.4)\n",
      "  import scipy.sparse\n",
      "Warning: Ignoring non-Spark config property: fs.s3a.access.key\n",
      "Warning: Ignoring non-Spark config property: fs.s3a.secret.key\n",
      "Setting default log level to \"WARN\".\n",
      "To adjust logging level use sc.setLogLevel(newLevel). For SparkR, use setLogLevel(newLevel).\n"
     ]
    },
    {
     "name": "stdout",
     "output_type": "stream",
     "text": [
      "24/10/11 04:23:18 WARN NativeCodeLoader: Unable to load native-hadoop library for your platform... using builtin-java classes where applicable\n"
     ]
    }
   ],
   "source": [
    "from pyspark import SparkConf\n",
    "from pyspark.sql import SparkSession\n",
    "import sagemaker_pyspark\n",
    "import botocore.session\n",
    "\n",
    "session = botocore.session.get_session()\n",
    "credentials = session.get_credentials()\n",
    "\n",
    "conf = (SparkConf()\n",
    "        .set(\"spark.driver.extraClassPath\", \":\".join(sagemaker_pyspark.classpath_jars())))\n",
    "\n",
    "spark1 = (\n",
    "    SparkSession\n",
    "    .builder\n",
    "    .config(conf=conf) \\\n",
    "    .config('fs.s3a.access.key', credentials.access_key)\n",
    "    .config('fs.s3a.secret.key', credentials.secret_key)\n",
    "    .appName(\"ML_shubham\")\n",
    "    .getOrCreate()\n",
    ")"
   ]
  },
  {
   "cell_type": "code",
   "execution_count": 6,
   "id": "d5df5c68",
   "metadata": {},
   "outputs": [
    {
     "name": "stdout",
     "output_type": "stream",
     "text": [
      "24/10/11 04:23:44 WARN SparkSession: Using an existing Spark session; only runtime SQL configurations will take effect.\n"
     ]
    }
   ],
   "source": [
    "spark = SparkSession.builder \\\n",
    "        .appName(\"ML_shubham\") \\\n",
    "        .config(conf=conf) \\\n",
    "        .config('fs.s3a.access.key', data['aws_access_key_id'])\\\n",
    "        .config('fs.s3a.secret.key', data['aws_secret_access_key'])\\\n",
    "        .getOrCreate()"
   ]
  },
  {
   "cell_type": "code",
   "execution_count": 7,
   "id": "936b4f8a",
   "metadata": {},
   "outputs": [
    {
     "name": "stdout",
     "output_type": "stream",
     "text": [
      "24/10/11 04:23:46 WARN MetricsConfig: Cannot locate configuration: tried hadoop-metrics2-s3a-file-system.properties,hadoop-metrics2.properties\n"
     ]
    },
    {
     "name": "stderr",
     "output_type": "stream",
     "text": [
      "                                                                                \r"
     ]
    },
    {
     "data": {
      "text/html": [
       "<div>\n",
       "<style scoped>\n",
       "    .dataframe tbody tr th:only-of-type {\n",
       "        vertical-align: middle;\n",
       "    }\n",
       "\n",
       "    .dataframe tbody tr th {\n",
       "        vertical-align: top;\n",
       "    }\n",
       "\n",
       "    .dataframe thead th {\n",
       "        text-align: right;\n",
       "    }\n",
       "</style>\n",
       "<table border=\"1\" class=\"dataframe\">\n",
       "  <thead>\n",
       "    <tr style=\"text-align: right;\">\n",
       "      <th></th>\n",
       "      <th>prdid</th>\n",
       "      <th>name</th>\n",
       "      <th>price</th>\n",
       "      <th>category</th>\n",
       "    </tr>\n",
       "  </thead>\n",
       "  <tbody>\n",
       "    <tr>\n",
       "      <th>0</th>\n",
       "      <td>1.0</td>\n",
       "      <td>Widget A</td>\n",
       "      <td>25.0</td>\n",
       "      <td>Electronics</td>\n",
       "    </tr>\n",
       "    <tr>\n",
       "      <th>1</th>\n",
       "      <td>2.0</td>\n",
       "      <td>Widget B</td>\n",
       "      <td>NaN</td>\n",
       "      <td>Electronics</td>\n",
       "    </tr>\n",
       "    <tr>\n",
       "      <th>2</th>\n",
       "      <td>NaN</td>\n",
       "      <td>None</td>\n",
       "      <td>25.0</td>\n",
       "      <td>Electronics</td>\n",
       "    </tr>\n",
       "    <tr>\n",
       "      <th>3</th>\n",
       "      <td>NaN</td>\n",
       "      <td>None</td>\n",
       "      <td>NaN</td>\n",
       "      <td>None</td>\n",
       "    </tr>\n",
       "    <tr>\n",
       "      <th>4</th>\n",
       "      <td>3.0</td>\n",
       "      <td>Widget C</td>\n",
       "      <td>30.0</td>\n",
       "      <td>Clothing</td>\n",
       "    </tr>\n",
       "  </tbody>\n",
       "</table>\n",
       "</div>"
      ],
      "text/plain": [
       "   prdid      name  price     category\n",
       "0    1.0  Widget A   25.0  Electronics\n",
       "1    2.0  Widget B    NaN  Electronics\n",
       "2    NaN      None   25.0  Electronics\n",
       "3    NaN      None    NaN         None\n",
       "4    3.0  Widget C   30.0     Clothing"
      ]
     },
     "execution_count": 7,
     "metadata": {},
     "output_type": "execute_result"
    }
   ],
   "source": [
    "bucket = \"shubhnaa\"\n",
    "data_key = \"prod.csv\"\n",
    "data_location = f\"s3a://{bucket}/{data_key}\"\n",
    "\n",
    "df = spark.read.csv(data_location, header = 'True', inferSchema = True)\n",
    "\n",
    "df.limit(5).toPandas()"
   ]
  },
  {
   "cell_type": "code",
   "execution_count": 10,
   "id": "c95096c2",
   "metadata": {},
   "outputs": [
    {
     "data": {
      "text/plain": [
       "DataFrame[prdid: int, name: string, price: double, category: string]"
      ]
     },
     "execution_count": 10,
     "metadata": {},
     "output_type": "execute_result"
    }
   ],
   "source": [
    "df"
   ]
  },
  {
   "cell_type": "code",
   "execution_count": 9,
   "id": "84188475",
   "metadata": {},
   "outputs": [
    {
     "name": "stdout",
     "output_type": "stream",
     "text": [
      "+-----+--------+-----+-----------+\n",
      "|prdid|    name|price|   category|\n",
      "+-----+--------+-----+-----------+\n",
      "|    1|Widget A| 25.0|Electronics|\n",
      "|    2|Widget B| null|Electronics|\n",
      "| null|    null| 25.0|Electronics|\n",
      "| null|    null| null|       null|\n",
      "|    3|Widget C| 30.0|   Clothing|\n",
      "|    4|    null| 20.0|     Sports|\n",
      "| null|Widget E| null|   Clothing|\n",
      "|    6|Widget F| 35.0|       null|\n",
      "| null|Widget G| null|     Sports|\n",
      "|    8|    null| 30.0|Electronics|\n",
      "|    9|        | 40.0|   Clothing|\n",
      "|   10|    null| null|Electronics|\n",
      "| null|    null| null|           |\n",
      "+-----+--------+-----+-----------+\n",
      "\n"
     ]
    }
   ],
   "source": [
    "df.show()"
   ]
  },
  {
   "cell_type": "code",
   "execution_count": 11,
   "id": "05471600",
   "metadata": {},
   "outputs": [
    {
     "data": {
      "text/plain": [
       "[('prdid', 'int'),\n",
       " ('name', 'string'),\n",
       " ('price', 'double'),\n",
       " ('category', 'string')]"
      ]
     },
     "execution_count": 11,
     "metadata": {},
     "output_type": "execute_result"
    }
   ],
   "source": [
    "df.dtypes"
   ]
  },
  {
   "cell_type": "code",
   "execution_count": 12,
   "id": "ad999f8c",
   "metadata": {},
   "outputs": [
    {
     "name": "stdout",
     "output_type": "stream",
     "text": [
      "+-----+--------+-----+-----------+\n",
      "|prdid|    name|price|   category|\n",
      "+-----+--------+-----+-----------+\n",
      "|    1|Widget A| 25.0|Electronics|\n",
      "|    3|Widget C| 30.0|   Clothing|\n",
      "|    9|        | 40.0|   Clothing|\n",
      "+-----+--------+-----+-----------+\n",
      "\n"
     ]
    }
   ],
   "source": [
    "df.na.drop().show()"
   ]
  },
  {
   "cell_type": "code",
   "execution_count": 18,
   "id": "abb174b4",
   "metadata": {},
   "outputs": [
    {
     "name": "stdout",
     "output_type": "stream",
     "text": [
      "+-----+--------+-----+-----------+\n",
      "|prdid|    name|price|   category|\n",
      "+-----+--------+-----+-----------+\n",
      "|    1|Widget A| 25.0|Electronics|\n",
      "|    2|Widget B| null|Electronics|\n",
      "|    3|Widget C| 30.0|   Clothing|\n",
      "|    4|    null| 20.0|     Sports|\n",
      "|    6|Widget F| 35.0|       null|\n",
      "|    8|    null| 30.0|Electronics|\n",
      "|    9|        | 40.0|   Clothing|\n",
      "+-----+--------+-----+-----------+\n",
      "\n"
     ]
    }
   ],
   "source": [
    "df.na.drop(how='any',thresh=3).show()"
   ]
  },
  {
   "cell_type": "code",
   "execution_count": 25,
   "id": "d075a9ae",
   "metadata": {},
   "outputs": [
    {
     "name": "stdout",
     "output_type": "stream",
     "text": [
      "+-----+--------+-----+-----------+\n",
      "|prdid|    name|price|   category|\n",
      "+-----+--------+-----+-----------+\n",
      "|    1|Widget A| 25.0|Electronics|\n",
      "|    2|Widget B| null|Electronics|\n",
      "|    3|Widget C| 30.0|   Clothing|\n",
      "|    4|    null| 20.0|     Sports|\n",
      "|    6|Widget F| 35.0|       null|\n",
      "|    8|    null| 30.0|Electronics|\n",
      "|    9|        | 40.0|   Clothing|\n",
      "|   10|    null| null|Electronics|\n",
      "+-----+--------+-----+-----------+\n",
      "\n"
     ]
    }
   ],
   "source": [
    "df.na.drop(subset =['prdid']).show()"
   ]
  },
  {
   "cell_type": "code",
   "execution_count": 26,
   "id": "59875703",
   "metadata": {},
   "outputs": [
    {
     "name": "stdout",
     "output_type": "stream",
     "text": [
      "+-----+--------+-----+-----------+\n",
      "|prdid|    name|price|   category|\n",
      "+-----+--------+-----+-----------+\n",
      "|    1|Widget A| 25.0|Electronics|\n",
      "|    2|Widget B| null|Electronics|\n",
      "|    3|Widget C| 30.0|   Clothing|\n",
      "|    6|Widget F| 35.0|       null|\n",
      "|    9|        | 40.0|   Clothing|\n",
      "+-----+--------+-----+-----------+\n",
      "\n"
     ]
    }
   ],
   "source": [
    "df.na.drop(subset =['prdid','name']).show()"
   ]
  },
  {
   "cell_type": "code",
   "execution_count": 27,
   "id": "078a18af",
   "metadata": {},
   "outputs": [],
   "source": [
    "# drop column"
   ]
  },
  {
   "cell_type": "code",
   "execution_count": 28,
   "id": "02f40b27",
   "metadata": {},
   "outputs": [
    {
     "name": "stdout",
     "output_type": "stream",
     "text": [
      "+-----+-----+-----------+\n",
      "|prdid|price|   category|\n",
      "+-----+-----+-----------+\n",
      "|    1| 25.0|Electronics|\n",
      "|    2| null|Electronics|\n",
      "| null| 25.0|Electronics|\n",
      "| null| null|       null|\n",
      "|    3| 30.0|   Clothing|\n",
      "|    4| 20.0|     Sports|\n",
      "| null| null|   Clothing|\n",
      "|    6| 35.0|       null|\n",
      "| null| null|     Sports|\n",
      "|    8| 30.0|Electronics|\n",
      "|    9| 40.0|   Clothing|\n",
      "|   10| null|Electronics|\n",
      "| null| null|           |\n",
      "+-----+-----+-----------+\n",
      "\n"
     ]
    }
   ],
   "source": [
    "df.drop('name').show()"
   ]
  },
  {
   "cell_type": "code",
   "execution_count": 57,
   "id": "cbd8605d",
   "metadata": {},
   "outputs": [],
   "source": [
    "#using col\n",
    "from pyspark.sql.functions import col,avg,min,max"
   ]
  },
  {
   "cell_type": "code",
   "execution_count": 31,
   "id": "5c3b76c5",
   "metadata": {},
   "outputs": [
    {
     "name": "stdout",
     "output_type": "stream",
     "text": [
      "+--------+-----+-----------+\n",
      "|    name|price|   category|\n",
      "+--------+-----+-----------+\n",
      "|Widget A| 25.0|Electronics|\n",
      "|Widget B| null|Electronics|\n",
      "|    null| 25.0|Electronics|\n",
      "|    null| null|       null|\n",
      "|Widget C| 30.0|   Clothing|\n",
      "|    null| 20.0|     Sports|\n",
      "|Widget E| null|   Clothing|\n",
      "|Widget F| 35.0|       null|\n",
      "|Widget G| null|     Sports|\n",
      "|    null| 30.0|Electronics|\n",
      "|        | 40.0|   Clothing|\n",
      "|    null| null|Electronics|\n",
      "|    null| null|           |\n",
      "+--------+-----+-----------+\n",
      "\n"
     ]
    }
   ],
   "source": [
    "df.drop(col('prdid')).show()"
   ]
  },
  {
   "cell_type": "code",
   "execution_count": 36,
   "id": "e59e8983",
   "metadata": {},
   "outputs": [
    {
     "name": "stdout",
     "output_type": "stream",
     "text": [
      "+-----+-----+-----------+\n",
      "|prdid|price|   category|\n",
      "+-----+-----+-----------+\n",
      "|    1| 25.0|Electronics|\n",
      "|    2| null|Electronics|\n",
      "| null| 25.0|Electronics|\n",
      "| null| null|       null|\n",
      "|    3| 30.0|   Clothing|\n",
      "|    4| 20.0|     Sports|\n",
      "| null| null|   Clothing|\n",
      "|    6| 35.0|       null|\n",
      "| null| null|     Sports|\n",
      "|    8| 30.0|Electronics|\n",
      "|    9| 40.0|   Clothing|\n",
      "|   10| null|Electronics|\n",
      "| null| null|           |\n",
      "+-----+-----+-----------+\n",
      "\n"
     ]
    }
   ],
   "source": [
    "df.drop(col('name')).show()"
   ]
  },
  {
   "cell_type": "code",
   "execution_count": 37,
   "id": "88589161",
   "metadata": {},
   "outputs": [
    {
     "name": "stdout",
     "output_type": "stream",
     "text": [
      "+-----+--------+-----+\n",
      "|prdid|    name|price|\n",
      "+-----+--------+-----+\n",
      "|    1|Widget A| 25.0|\n",
      "|    2|Widget B| null|\n",
      "| null|    null| 25.0|\n",
      "| null|    null| null|\n",
      "|    3|Widget C| 30.0|\n",
      "|    4|    null| 20.0|\n",
      "| null|Widget E| null|\n",
      "|    6|Widget F| 35.0|\n",
      "| null|Widget G| null|\n",
      "|    8|    null| 30.0|\n",
      "|    9|        | 40.0|\n",
      "|   10|    null| null|\n",
      "| null|    null| null|\n",
      "+-----+--------+-----+\n",
      "\n"
     ]
    }
   ],
   "source": [
    "df.drop(df.category).show()"
   ]
  },
  {
   "cell_type": "code",
   "execution_count": 38,
   "id": "f2d01595",
   "metadata": {},
   "outputs": [
    {
     "ename": "TypeError",
     "evalue": "col should be a string or a Column",
     "output_type": "error",
     "traceback": [
      "\u001b[0;31m---------------------------------------------------------------------------\u001b[0m",
      "\u001b[0;31mTypeError\u001b[0m                                 Traceback (most recent call last)",
      "Cell \u001b[0;32mIn[38], line 2\u001b[0m\n\u001b[1;32m      1\u001b[0m col \u001b[38;5;241m=\u001b[39m [\u001b[38;5;124m'\u001b[39m\u001b[38;5;124mprdid\u001b[39m\u001b[38;5;124m'\u001b[39m,\u001b[38;5;124m'\u001b[39m\u001b[38;5;124mname\u001b[39m\u001b[38;5;124m'\u001b[39m]\n\u001b[0;32m----> 2\u001b[0m \u001b[43mdf\u001b[49m\u001b[38;5;241;43m.\u001b[39;49m\u001b[43mdrop\u001b[49m\u001b[43m(\u001b[49m\u001b[43mcol\u001b[49m\u001b[43m)\u001b[49m\u001b[38;5;241m.\u001b[39mshow()\n",
      "File \u001b[0;32m~/anaconda3/envs/python3/lib/python3.10/site-packages/pyspark/sql/dataframe.py:3126\u001b[0m, in \u001b[0;36mDataFrame.drop\u001b[0;34m(self, *cols)\u001b[0m\n\u001b[1;32m   3124\u001b[0m         jdf \u001b[38;5;241m=\u001b[39m \u001b[38;5;28mself\u001b[39m\u001b[38;5;241m.\u001b[39m_jdf\u001b[38;5;241m.\u001b[39mdrop(col\u001b[38;5;241m.\u001b[39m_jc)\n\u001b[1;32m   3125\u001b[0m     \u001b[38;5;28;01melse\u001b[39;00m:\n\u001b[0;32m-> 3126\u001b[0m         \u001b[38;5;28;01mraise\u001b[39;00m \u001b[38;5;167;01mTypeError\u001b[39;00m(\u001b[38;5;124m\"\u001b[39m\u001b[38;5;124mcol should be a string or a Column\u001b[39m\u001b[38;5;124m\"\u001b[39m)\n\u001b[1;32m   3127\u001b[0m \u001b[38;5;28;01melse\u001b[39;00m:\n\u001b[1;32m   3128\u001b[0m     \u001b[38;5;28;01mfor\u001b[39;00m col \u001b[38;5;129;01min\u001b[39;00m cols:\n",
      "\u001b[0;31mTypeError\u001b[0m: col should be a string or a Column"
     ]
    }
   ],
   "source": [
    "col = ['prdid','name']\n",
    "df.drop(col).show()"
   ]
  },
  {
   "cell_type": "code",
   "execution_count": 39,
   "id": "5a9c87d9",
   "metadata": {},
   "outputs": [
    {
     "name": "stdout",
     "output_type": "stream",
     "text": [
      "+-----+-----------+\n",
      "|price|   category|\n",
      "+-----+-----------+\n",
      "| 25.0|Electronics|\n",
      "| null|Electronics|\n",
      "| 25.0|Electronics|\n",
      "| null|       null|\n",
      "| 30.0|   Clothing|\n",
      "| 20.0|     Sports|\n",
      "| null|   Clothing|\n",
      "| 35.0|       null|\n",
      "| null|     Sports|\n",
      "| 30.0|Electronics|\n",
      "| 40.0|   Clothing|\n",
      "| null|Electronics|\n",
      "| null|           |\n",
      "+-----+-----------+\n",
      "\n"
     ]
    }
   ],
   "source": [
    "col = ['prdid','name']\n",
    "df.drop(*col).show()"
   ]
  },
  {
   "cell_type": "code",
   "execution_count": 40,
   "id": "a5404444",
   "metadata": {},
   "outputs": [],
   "source": [
    "# filling"
   ]
  },
  {
   "cell_type": "code",
   "execution_count": 41,
   "id": "58bc5f12",
   "metadata": {},
   "outputs": [
    {
     "name": "stdout",
     "output_type": "stream",
     "text": [
      "+-----+--------+-----+-----------+\n",
      "|prdid|    name|price|   category|\n",
      "+-----+--------+-----+-----------+\n",
      "|    1|Widget A| 25.0|Electronics|\n",
      "|    2|Widget B| null|Electronics|\n",
      "| null|    null| 25.0|Electronics|\n",
      "| null|    null| null|       null|\n",
      "|    3|Widget C| 30.0|   Clothing|\n",
      "|    4|    null| 20.0|     Sports|\n",
      "| null|Widget E| null|   Clothing|\n",
      "|    6|Widget F| 35.0|       null|\n",
      "| null|Widget G| null|     Sports|\n",
      "|    8|    null| 30.0|Electronics|\n",
      "|    9|        | 40.0|   Clothing|\n",
      "|   10|    null| null|Electronics|\n",
      "| null|    null| null|           |\n",
      "+-----+--------+-----+-----------+\n",
      "\n"
     ]
    }
   ],
   "source": [
    "df.show()"
   ]
  },
  {
   "cell_type": "code",
   "execution_count": 45,
   "id": "7b524c9d",
   "metadata": {},
   "outputs": [
    {
     "name": "stdout",
     "output_type": "stream",
     "text": [
      "+-----+----------------+-----+----------------+\n",
      "|prdid|            name|price|        category|\n",
      "+-----+----------------+-----+----------------+\n",
      "|    1|        Widget A| 25.0|     Electronics|\n",
      "|    2|        Widget B| null|     Electronics|\n",
      "| null|shubham is great| 25.0|     Electronics|\n",
      "| null|shubham is great| null|shubham is great|\n",
      "|    3|        Widget C| 30.0|        Clothing|\n",
      "|    4|shubham is great| 20.0|          Sports|\n",
      "| null|        Widget E| null|        Clothing|\n",
      "|    6|        Widget F| 35.0|shubham is great|\n",
      "| null|        Widget G| null|          Sports|\n",
      "|    8|shubham is great| 30.0|     Electronics|\n",
      "|    9|                | 40.0|        Clothing|\n",
      "|   10|shubham is great| null|     Electronics|\n",
      "| null|shubham is great| null|                |\n",
      "+-----+----------------+-----+----------------+\n",
      "\n"
     ]
    }
   ],
   "source": [
    "df.fillna(value='shubham is great').show()   # string/categoric only"
   ]
  },
  {
   "cell_type": "code",
   "execution_count": 48,
   "id": "1ca494b1",
   "metadata": {},
   "outputs": [
    {
     "name": "stdout",
     "output_type": "stream",
     "text": [
      "+-----+--------+----------------+-----------+\n",
      "|prdid|    name|           price|   category|\n",
      "+-----+--------+----------------+-----------+\n",
      "|    1|Widget A|            25.0|Electronics|\n",
      "|    2|Widget B|5.65436263000001|Electronics|\n",
      "|    5|    null|            25.0|Electronics|\n",
      "|    5|    null|5.65436263000001|       null|\n",
      "|    3|Widget C|            30.0|   Clothing|\n",
      "|    4|    null|            20.0|     Sports|\n",
      "|    5|Widget E|5.65436263000001|   Clothing|\n",
      "|    6|Widget F|            35.0|       null|\n",
      "|    5|Widget G|5.65436263000001|     Sports|\n",
      "|    8|    null|            30.0|Electronics|\n",
      "|    9|        |            40.0|   Clothing|\n",
      "|   10|    null|5.65436263000001|Electronics|\n",
      "|    5|    null|5.65436263000001|           |\n",
      "+-----+--------+----------------+-----------+\n",
      "\n"
     ]
    }
   ],
   "source": [
    "df.fillna(value = 5.65436263000001).show() # numberic only"
   ]
  },
  {
   "cell_type": "code",
   "execution_count": 54,
   "id": "9e2b8452",
   "metadata": {},
   "outputs": [
    {
     "name": "stdout",
     "output_type": "stream",
     "text": [
      "+-----+--------+-----+-----------+\n",
      "|prdid|    name|price|   category|\n",
      "+-----+--------+-----+-----------+\n",
      "|    1|Widget A| 25.0|Electronics|\n",
      "|    2|Widget B| null|Electronics|\n",
      "| null|    null| 25.0|Electronics|\n",
      "| null|    null| null|       null|\n",
      "|    3|Widget C| 30.0|   Clothing|\n",
      "|    4|    null| 20.0|     Sports|\n",
      "| null|Widget E| null|   Clothing|\n",
      "|    6|Widget F| 35.0|       null|\n",
      "| null|Widget G| null|     Sports|\n",
      "|    8|    null| 30.0|Electronics|\n",
      "|    9|        | 40.0|   Clothing|\n",
      "|   10|    null| null|Electronics|\n",
      "| null|    null| null|           |\n",
      "+-----+--------+-----+-----------+\n",
      "\n"
     ]
    }
   ],
   "source": [
    "df.fillna(value = 435,subset=['category']).show()"
   ]
  },
  {
   "cell_type": "code",
   "execution_count": 55,
   "id": "8727e377",
   "metadata": {},
   "outputs": [
    {
     "name": "stdout",
     "output_type": "stream",
     "text": [
      "+-----+--------+-----+-----------+\n",
      "|prdid|    name|price|   category|\n",
      "+-----+--------+-----+-----------+\n",
      "|    1|Widget A| 25.0|Electronics|\n",
      "|    2|Widget B| null|Electronics|\n",
      "| null|    null| 25.0|Electronics|\n",
      "| null|    null| null|        435|\n",
      "|    3|Widget C| 30.0|   Clothing|\n",
      "|    4|    null| 20.0|     Sports|\n",
      "| null|Widget E| null|   Clothing|\n",
      "|    6|Widget F| 35.0|        435|\n",
      "| null|Widget G| null|     Sports|\n",
      "|    8|    null| 30.0|Electronics|\n",
      "|    9|        | 40.0|   Clothing|\n",
      "|   10|    null| null|Electronics|\n",
      "| null|    null| null|           |\n",
      "+-----+--------+-----+-----------+\n",
      "\n"
     ]
    }
   ],
   "source": [
    "df.fillna(value = '435',subset=['category']).show()"
   ]
  },
  {
   "cell_type": "code",
   "execution_count": 64,
   "id": "9d69053f",
   "metadata": {},
   "outputs": [
    {
     "name": "stdout",
     "output_type": "stream",
     "text": [
      "+-----+--------+------------------+-----------+\n",
      "|prdid|    name|             price|   category|\n",
      "+-----+--------+------------------+-----------+\n",
      "|    1|Widget A|              25.0|Electronics|\n",
      "|    2|Widget B|29.285714285714285|Electronics|\n",
      "| null|    null|              25.0|Electronics|\n",
      "| null|    null|29.285714285714285|       null|\n",
      "|    3|Widget C|              30.0|   Clothing|\n",
      "|    4|    null|              20.0|     Sports|\n",
      "| null|Widget E|29.285714285714285|   Clothing|\n",
      "|    6|Widget F|              35.0|       null|\n",
      "| null|Widget G|29.285714285714285|     Sports|\n",
      "|    8|    null|              30.0|Electronics|\n",
      "|    9|        |              40.0|   Clothing|\n",
      "|   10|    null|29.285714285714285|Electronics|\n",
      "| null|    null|29.285714285714285|           |\n",
      "+-----+--------+------------------+-----------+\n",
      "\n"
     ]
    }
   ],
   "source": [
    "df.fillna(value = df.select(avg(col('price'))).collect()[0][0],subset='price').show()"
   ]
  },
  {
   "cell_type": "code",
   "execution_count": 62,
   "id": "70c4bc0d",
   "metadata": {},
   "outputs": [
    {
     "data": {
      "text/plain": [
       "29.285714285714285"
      ]
     },
     "execution_count": 62,
     "metadata": {},
     "output_type": "execute_result"
    }
   ],
   "source": [
    "# col is a function\n",
    "df.select(avg(col('price'))).collect()[0][0]"
   ]
  },
  {
   "cell_type": "code",
   "execution_count": 74,
   "id": "83722c25",
   "metadata": {},
   "outputs": [
    {
     "name": "stdout",
     "output_type": "stream",
     "text": [
      "+-----+--------+-----+-----------+\n",
      "|prdid|    name|price|   category|\n",
      "+-----+--------+-----+-----------+\n",
      "|    1|Widget A| 25.0|Electronics|\n",
      "|    2|Widget B| 20.0|Electronics|\n",
      "|   20|    null| 25.0|Electronics|\n",
      "|   20|    null| 20.0|       null|\n",
      "|    3|Widget C| 30.0|   Clothing|\n",
      "|    4|    null| 20.0|     Sports|\n",
      "|   20|Widget E| 20.0|   Clothing|\n",
      "|    6|Widget F| 35.0|       null|\n",
      "|   20|Widget G| 20.0|     Sports|\n",
      "|    8|    null| 30.0|Electronics|\n",
      "|    9|        | 40.0|   Clothing|\n",
      "|   10|    null| 20.0|Electronics|\n",
      "|   20|    null| 20.0|           |\n",
      "+-----+--------+-----+-----------+\n",
      "\n"
     ]
    }
   ],
   "source": [
    "df.fillna(value = df.select(min(col('price'))).collect()[0][0]).show()"
   ]
  },
  {
   "cell_type": "code",
   "execution_count": 78,
   "id": "5a2a0b77",
   "metadata": {},
   "outputs": [],
   "source": [
    "df.write.parquet('test.Parquet')"
   ]
  },
  {
   "cell_type": "code",
   "execution_count": 79,
   "id": "05772580",
   "metadata": {},
   "outputs": [
    {
     "name": "stdout",
     "output_type": "stream",
     "text": [
      "config.json  \u001b[0m\u001b[01;34mtest.parquet\u001b[0m/  Untitled1.ipynb\r\n",
      "\u001b[01;34mlost+found\u001b[0m/  \u001b[01;34mtest.Parquet\u001b[0m/  Untitled.ipynb\r\n"
     ]
    }
   ],
   "source": [
    "ls"
   ]
  },
  {
   "cell_type": "code",
   "execution_count": 80,
   "id": "c589690a",
   "metadata": {},
   "outputs": [
    {
     "name": "stdout",
     "output_type": "stream",
     "text": [
      "cat: test.parquet: Is a directory\r\n"
     ]
    }
   ],
   "source": [
    "cat test.parquet"
   ]
  },
  {
   "cell_type": "code",
   "execution_count": 81,
   "id": "f7cee936",
   "metadata": {},
   "outputs": [
    {
     "name": "stdout",
     "output_type": "stream",
     "text": [
      "/home/ec2-user/SageMaker/test.parquet\n"
     ]
    }
   ],
   "source": [
    "cd test.parquet"
   ]
  },
  {
   "cell_type": "code",
   "execution_count": 82,
   "id": "c01f7d42",
   "metadata": {},
   "outputs": [
    {
     "name": "stdout",
     "output_type": "stream",
     "text": [
      "part-00000-1a43d5b1-1563-42e8-880f-f5ee4f95d93c-c000.snappy.parquet  _SUCCESS\r\n"
     ]
    }
   ],
   "source": [
    "ls"
   ]
  },
  {
   "cell_type": "code",
   "execution_count": 84,
   "id": "1e0d8a90",
   "metadata": {},
   "outputs": [],
   "source": [
    "bucket = \"shubhnaa\"\n",
    "data_key = \"test.parquet\"\n",
    "data_location = f\"s3a://{bucket}/{data_key}\""
   ]
  },
  {
   "cell_type": "code",
   "execution_count": 85,
   "id": "a5497259",
   "metadata": {},
   "outputs": [
    {
     "name": "stderr",
     "output_type": "stream",
     "text": [
      "                                                                                \r"
     ]
    }
   ],
   "source": [
    "df.write.parquet(data_location)"
   ]
  },
  {
   "cell_type": "code",
   "execution_count": 86,
   "id": "dc7bbb9d",
   "metadata": {},
   "outputs": [],
   "source": [
    "df1 = spark1.read.parquet(data_location)"
   ]
  },
  {
   "cell_type": "code",
   "execution_count": 87,
   "id": "beafca73",
   "metadata": {},
   "outputs": [
    {
     "name": "stdout",
     "output_type": "stream",
     "text": [
      "+-----+--------+-----+-----------+\n",
      "|prdid|    name|price|   category|\n",
      "+-----+--------+-----+-----------+\n",
      "|    1|Widget A| 25.0|Electronics|\n",
      "|    2|Widget B| null|Electronics|\n",
      "| null|    null| 25.0|Electronics|\n",
      "| null|    null| null|       null|\n",
      "|    3|Widget C| 30.0|   Clothing|\n",
      "|    4|    null| 20.0|     Sports|\n",
      "| null|Widget E| null|   Clothing|\n",
      "|    6|Widget F| 35.0|       null|\n",
      "| null|Widget G| null|     Sports|\n",
      "|    8|    null| 30.0|Electronics|\n",
      "|    9|        | 40.0|   Clothing|\n",
      "|   10|    null| null|Electronics|\n",
      "| null|    null| null|           |\n",
      "+-----+--------+-----+-----------+\n",
      "\n"
     ]
    }
   ],
   "source": [
    "df1.show()"
   ]
  },
  {
   "cell_type": "code",
   "execution_count": null,
   "id": "3f7f8edf",
   "metadata": {},
   "outputs": [],
   "source": []
  }
 ],
 "metadata": {
  "kernelspec": {
   "display_name": "Python 3 (ipykernel)",
   "language": "python",
   "name": "python3"
  },
  "language_info": {
   "codemirror_mode": {
    "name": "ipython",
    "version": 3
   },
   "file_extension": ".py",
   "mimetype": "text/x-python",
   "name": "python",
   "nbconvert_exporter": "python",
   "pygments_lexer": "ipython3",
   "version": "3.9.19"
  }
 },
 "nbformat": 4,
 "nbformat_minor": 5
}
