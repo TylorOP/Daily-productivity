{
 "cells": [
  {
   "cell_type": "code",
   "execution_count": 118,
   "id": "b4bfae46",
   "metadata": {},
   "outputs": [],
   "source": [
    "# Create a list of integers.\n",
    "\n",
    "\n",
    "\n",
    "def myfunction(list1):\n",
    "    return list1\n",
    "\n",
    "\n",
    "x = myfunction([1,22,3,4,5,6,7,8,92,2,2])"
   ]
  },
  {
   "cell_type": "code",
   "execution_count": 119,
   "id": "afc6c141",
   "metadata": {},
   "outputs": [],
   "source": [
    "x.insert(0,'dg')"
   ]
  },
  {
   "cell_type": "code",
   "execution_count": 120,
   "id": "813c6ee9",
   "metadata": {},
   "outputs": [
    {
     "data": {
      "text/plain": [
       "['dg', 1, 22, 3, 4, 5, 6, 7, 8, 92, 2, 2]"
      ]
     },
     "execution_count": 120,
     "metadata": {},
     "output_type": "execute_result"
    }
   ],
   "source": [
    "x"
   ]
  },
  {
   "cell_type": "code",
   "execution_count": 88,
   "id": "5f9c5331",
   "metadata": {},
   "outputs": [],
   "source": [
    "x.append('qee')"
   ]
  },
  {
   "cell_type": "code",
   "execution_count": 21,
   "id": "bd28931d",
   "metadata": {},
   "outputs": [
    {
     "data": {
      "text/plain": [
       "['shub', 2, 4, 56, 4, 23, 'f', 'f']"
      ]
     },
     "execution_count": 21,
     "metadata": {},
     "output_type": "execute_result"
    }
   ],
   "source": [
    "x"
   ]
  },
  {
   "cell_type": "code",
   "execution_count": 69,
   "id": "7758c55c",
   "metadata": {},
   "outputs": [
    {
     "ename": "ValueError",
     "evalue": "list.remove(x): x not in list",
     "output_type": "error",
     "traceback": [
      "\u001b[0;31m---------------------------------------------------------------------------\u001b[0m",
      "\u001b[0;31mValueError\u001b[0m                                Traceback (most recent call last)",
      "\u001b[0;32m/var/folders/28/xzg4vjpj3gj6x32fqvxyzd440000gn/T/ipykernel_2013/3618616430.py\u001b[0m in \u001b[0;36m<module>\u001b[0;34m\u001b[0m\n\u001b[0;32m----> 1\u001b[0;31m \u001b[0mx\u001b[0m\u001b[0;34m.\u001b[0m\u001b[0mremove\u001b[0m\u001b[0;34m(\u001b[0m\u001b[0;36m2\u001b[0m\u001b[0;34m)\u001b[0m\u001b[0;34m\u001b[0m\u001b[0;34m\u001b[0m\u001b[0m\n\u001b[0m",
      "\u001b[0;31mValueError\u001b[0m: list.remove(x): x not in list"
     ]
    }
   ],
   "source": [
    "x.remove(2)"
   ]
  },
  {
   "cell_type": "code",
   "execution_count": 15,
   "id": "98fb5335",
   "metadata": {},
   "outputs": [
    {
     "data": {
      "text/plain": [
       "['shub', 2, 4, 56, 4, 23]"
      ]
     },
     "execution_count": 15,
     "metadata": {},
     "output_type": "execute_result"
    }
   ],
   "source": [
    "x"
   ]
  },
  {
   "cell_type": "code",
   "execution_count": 99,
   "id": "69587ab0",
   "metadata": {},
   "outputs": [
    {
     "data": {
      "text/plain": [
       "4"
      ]
     },
     "execution_count": 99,
     "metadata": {},
     "output_type": "execute_result"
    }
   ],
   "source": [
    "x.pop()"
   ]
  },
  {
   "cell_type": "code",
   "execution_count": 329,
   "id": "977de044",
   "metadata": {},
   "outputs": [],
   "source": [
    "x.insert(-1,5858)"
   ]
  },
  {
   "cell_type": "code",
   "execution_count": 330,
   "id": "a90393ad",
   "metadata": {},
   "outputs": [
    {
     "data": {
      "text/plain": [
       "[5858, 23, 5858, 4]"
      ]
     },
     "execution_count": 330,
     "metadata": {},
     "output_type": "execute_result"
    }
   ],
   "source": [
    "x"
   ]
  },
  {
   "cell_type": "code",
   "execution_count": 112,
   "id": "10989c15",
   "metadata": {},
   "outputs": [],
   "source": [
    "x.sort(reverse=True)"
   ]
  },
  {
   "cell_type": "code",
   "execution_count": 327,
   "id": "b4a628b3",
   "metadata": {},
   "outputs": [],
   "source": [
    "x.extend([23,4])"
   ]
  },
  {
   "cell_type": "code",
   "execution_count": 317,
   "id": "945df4c7",
   "metadata": {},
   "outputs": [
    {
     "data": {
      "text/plain": [
       "[[4, 4, 6], 5, 23, 4, 23, 4]"
      ]
     },
     "execution_count": 317,
     "metadata": {},
     "output_type": "execute_result"
    }
   ],
   "source": [
    "x"
   ]
  },
  {
   "cell_type": "code",
   "execution_count": null,
   "id": "bad005fb",
   "metadata": {},
   "outputs": [],
   "source": []
  },
  {
   "cell_type": "code",
   "execution_count": 113,
   "id": "908a65f2",
   "metadata": {},
   "outputs": [
    {
     "data": {
      "text/plain": [
       "[22, 9, 8, 7, 6, 5, 4, 3, 1]"
      ]
     },
     "execution_count": 113,
     "metadata": {},
     "output_type": "execute_result"
    }
   ],
   "source": [
    "x"
   ]
  },
  {
   "cell_type": "code",
   "execution_count": 128,
   "id": "6162d7d9",
   "metadata": {},
   "outputs": [
    {
     "data": {
      "text/plain": [
       "['dg', 1, 22, 3, 4, 5, 6, 7, 8, 92, 2, 2, 23, 23, 4, 23, 4]"
      ]
     },
     "execution_count": 128,
     "metadata": {},
     "output_type": "execute_result"
    }
   ],
   "source": [
    "x"
   ]
  },
  {
   "cell_type": "code",
   "execution_count": 166,
   "id": "c2b1c7c1",
   "metadata": {},
   "outputs": [],
   "source": [
    "x.insert(2,5)"
   ]
  },
  {
   "cell_type": "code",
   "execution_count": 134,
   "id": "3cc52a17",
   "metadata": {},
   "outputs": [
    {
     "data": {
      "text/plain": [
       "['dg', 1, [4, 4, 6], [4], 4, 22, 3, 4, 5, 6, 7, 8, 92, 2, 2, 23, 23, 4, 23, 4]"
      ]
     },
     "execution_count": 134,
     "metadata": {},
     "output_type": "execute_result"
    }
   ],
   "source": [
    "x"
   ]
  },
  {
   "cell_type": "code",
   "execution_count": 135,
   "id": "ba6b5022",
   "metadata": {},
   "outputs": [
    {
     "data": {
      "text/plain": [
       "6"
      ]
     },
     "execution_count": 135,
     "metadata": {},
     "output_type": "execute_result"
    }
   ],
   "source": [
    "x[2][2]"
   ]
  },
  {
   "cell_type": "code",
   "execution_count": 144,
   "id": "c2f2dd8d",
   "metadata": {},
   "outputs": [
    {
     "data": {
      "text/plain": [
       "[4]"
      ]
     },
     "execution_count": 144,
     "metadata": {},
     "output_type": "execute_result"
    }
   ],
   "source": [
    "x.pop(1)"
   ]
  },
  {
   "cell_type": "code",
   "execution_count": 145,
   "id": "6d81c006",
   "metadata": {},
   "outputs": [
    {
     "data": {
      "text/plain": [
       "['dg', 4, 22, 3, 4, 5, 6, 7, 8, 92, 2, 2, 23, 23, 4]"
      ]
     },
     "execution_count": 145,
     "metadata": {},
     "output_type": "execute_result"
    }
   ],
   "source": [
    "x"
   ]
  },
  {
   "cell_type": "code",
   "execution_count": 158,
   "id": "5486a04a",
   "metadata": {},
   "outputs": [],
   "source": [
    "x.clear()"
   ]
  },
  {
   "cell_type": "code",
   "execution_count": 160,
   "id": "42b7ac70",
   "metadata": {},
   "outputs": [
    {
     "data": {
      "text/plain": [
       "[]"
      ]
     },
     "execution_count": 160,
     "metadata": {},
     "output_type": "execute_result"
    }
   ],
   "source": [
    "x"
   ]
  },
  {
   "cell_type": "code",
   "execution_count": 161,
   "id": "5905f948",
   "metadata": {},
   "outputs": [
    {
     "data": {
      "text/plain": [
       "[]"
      ]
     },
     "execution_count": 161,
     "metadata": {},
     "output_type": "execute_result"
    }
   ],
   "source": [
    "x"
   ]
  },
  {
   "cell_type": "code",
   "execution_count": 168,
   "id": "4cafeb26",
   "metadata": {},
   "outputs": [
    {
     "data": {
      "text/plain": [
       "[[4, 4, 6], 5, 23, 4]"
      ]
     },
     "execution_count": 168,
     "metadata": {},
     "output_type": "execute_result"
    }
   ],
   "source": [
    "x"
   ]
  },
  {
   "cell_type": "code",
   "execution_count": 169,
   "id": "5f3cb07f",
   "metadata": {},
   "outputs": [
    {
     "data": {
      "text/plain": [
       "[4, 23, 5, [4, 4, 6]]"
      ]
     },
     "execution_count": 169,
     "metadata": {},
     "output_type": "execute_result"
    }
   ],
   "source": [
    "x[::-1]"
   ]
  },
  {
   "cell_type": "code",
   "execution_count": 257,
   "id": "d96aae4b",
   "metadata": {},
   "outputs": [],
   "source": [
    "y = [4,5,6,7,9]\n"
   ]
  },
  {
   "cell_type": "code",
   "execution_count": 258,
   "id": "5a9171f4",
   "metadata": {},
   "outputs": [],
   "source": [
    "z = y.copy()"
   ]
  },
  {
   "cell_type": "code",
   "execution_count": 242,
   "id": "2d4d56e9",
   "metadata": {},
   "outputs": [
    {
     "data": {
      "text/plain": [
       "[4, 5, 6, 7]"
      ]
     },
     "execution_count": 242,
     "metadata": {},
     "output_type": "execute_result"
    }
   ],
   "source": [
    "z"
   ]
  },
  {
   "cell_type": "code",
   "execution_count": 243,
   "id": "75350caa",
   "metadata": {},
   "outputs": [
    {
     "data": {
      "text/plain": [
       "[4, 5, 6, 7]"
      ]
     },
     "execution_count": 243,
     "metadata": {},
     "output_type": "execute_result"
    }
   ],
   "source": [
    "y"
   ]
  },
  {
   "cell_type": "code",
   "execution_count": 244,
   "id": "5fc52b8d",
   "metadata": {},
   "outputs": [],
   "source": [
    "z[0] = 3"
   ]
  },
  {
   "cell_type": "code",
   "execution_count": 245,
   "id": "cace5d0d",
   "metadata": {},
   "outputs": [
    {
     "data": {
      "text/plain": [
       "[3, 5, 6, 7]"
      ]
     },
     "execution_count": 245,
     "metadata": {},
     "output_type": "execute_result"
    }
   ],
   "source": [
    "z"
   ]
  },
  {
   "cell_type": "code",
   "execution_count": 247,
   "id": "0e51cc10",
   "metadata": {},
   "outputs": [
    {
     "data": {
      "text/plain": [
       "[4, 5, 6, 7]"
      ]
     },
     "execution_count": 247,
     "metadata": {},
     "output_type": "execute_result"
    }
   ],
   "source": [
    "y"
   ]
  },
  {
   "cell_type": "code",
   "execution_count": 231,
   "id": "6a597dc6",
   "metadata": {},
   "outputs": [
    {
     "name": "stdout",
     "output_type": "stream",
     "text": [
      "Original: [[99, 2, 3], [4, 5, 6]]\n",
      "Shallow Copy: [[99, 2, 3], [4, 5, 6]]\n"
     ]
    }
   ],
   "source": [
    "import copy\n",
    "\n",
    "original = [[1, 2, 3], [4, 5, 6]]\n",
    "shallow_copy = copy.copy(original)\n",
    "\n",
    "shallow_copy[0][0] = 99\n",
    "\n",
    "print(\"Original:\", original) \n",
    "print(\"Shallow Copy:\", shallow_copy)  \n"
   ]
  },
  {
   "cell_type": "code",
   "execution_count": 266,
   "id": "f8438129",
   "metadata": {},
   "outputs": [
    {
     "data": {
      "text/plain": [
       "140633335589264"
      ]
     },
     "execution_count": 266,
     "metadata": {},
     "output_type": "execute_result"
    }
   ],
   "source": [
    "id(z[0])\n"
   ]
  },
  {
   "cell_type": "code",
   "execution_count": 265,
   "id": "f1e2acb9",
   "metadata": {},
   "outputs": [
    {
     "data": {
      "text/plain": [
       "140633335589264"
      ]
     },
     "execution_count": 265,
     "metadata": {},
     "output_type": "execute_result"
    }
   ],
   "source": [
    "id(y[0])"
   ]
  },
  {
   "cell_type": "code",
   "execution_count": 313,
   "id": "0d69f53a",
   "metadata": {},
   "outputs": [],
   "source": [
    "y.insert(0,[2,3])"
   ]
  },
  {
   "cell_type": "code",
   "execution_count": 314,
   "id": "2b9c79e2",
   "metadata": {},
   "outputs": [
    {
     "data": {
      "text/plain": [
       "[[2, 3], 2, 4, 5, 6, 7, 9]"
      ]
     },
     "execution_count": 314,
     "metadata": {},
     "output_type": "execute_result"
    }
   ],
   "source": [
    "y"
   ]
  },
  {
   "cell_type": "code",
   "execution_count": 283,
   "id": "103d8564",
   "metadata": {},
   "outputs": [],
   "source": [
    "z = [84,683,68,5,2,50]"
   ]
  },
  {
   "cell_type": "code",
   "execution_count": 279,
   "id": "33fd9fec",
   "metadata": {},
   "outputs": [],
   "source": [
    "d = sorted(z,reverse=True)"
   ]
  },
  {
   "cell_type": "code",
   "execution_count": 280,
   "id": "bb5ca627",
   "metadata": {},
   "outputs": [
    {
     "data": {
      "text/plain": [
       "[683, 84, 68, 50, 5, 2]"
      ]
     },
     "execution_count": 280,
     "metadata": {},
     "output_type": "execute_result"
    }
   ],
   "source": [
    "d"
   ]
  },
  {
   "cell_type": "code",
   "execution_count": 281,
   "id": "173c123a",
   "metadata": {},
   "outputs": [
    {
     "data": {
      "text/plain": [
       "[84, 683, 68, 5, 2, 50]"
      ]
     },
     "execution_count": 281,
     "metadata": {},
     "output_type": "execute_result"
    }
   ],
   "source": [
    "z"
   ]
  },
  {
   "cell_type": "code",
   "execution_count": 284,
   "id": "d8771250",
   "metadata": {},
   "outputs": [
    {
     "data": {
      "text/plain": [
       "[683, 84, 68, 50, 5, 2]"
      ]
     },
     "execution_count": 284,
     "metadata": {},
     "output_type": "execute_result"
    }
   ],
   "source": [
    "sorted(z,reverse=True)"
   ]
  },
  {
   "cell_type": "code",
   "execution_count": 285,
   "id": "350ade9f",
   "metadata": {},
   "outputs": [],
   "source": [
    "z.sort()"
   ]
  },
  {
   "cell_type": "code",
   "execution_count": 286,
   "id": "386489ee",
   "metadata": {},
   "outputs": [
    {
     "data": {
      "text/plain": [
       "[2, 5, 50, 68, 84, 683]"
      ]
     },
     "execution_count": 286,
     "metadata": {},
     "output_type": "execute_result"
    }
   ],
   "source": [
    "z"
   ]
  },
  {
   "cell_type": "code",
   "execution_count": 287,
   "id": "6b5a7777",
   "metadata": {},
   "outputs": [
    {
     "data": {
      "text/plain": [
       "[2, 5, 50, 68, 84, 683]"
      ]
     },
     "execution_count": 287,
     "metadata": {},
     "output_type": "execute_result"
    }
   ],
   "source": [
    "z"
   ]
  },
  {
   "cell_type": "code",
   "execution_count": 288,
   "id": "f7623906",
   "metadata": {},
   "outputs": [
    {
     "data": {
      "text/plain": [
       "2"
      ]
     },
     "execution_count": 288,
     "metadata": {},
     "output_type": "execute_result"
    }
   ],
   "source": [
    "z.index(50)"
   ]
  },
  {
   "cell_type": "code",
   "execution_count": 289,
   "id": "bc778fb8",
   "metadata": {},
   "outputs": [
    {
     "ename": "ValueError",
     "evalue": "399 is not in list",
     "output_type": "error",
     "traceback": [
      "\u001b[0;31m---------------------------------------------------------------------------\u001b[0m",
      "\u001b[0;31mValueError\u001b[0m                                Traceback (most recent call last)",
      "\u001b[0;32m/var/folders/28/xzg4vjpj3gj6x32fqvxyzd440000gn/T/ipykernel_2013/2601446810.py\u001b[0m in \u001b[0;36m<module>\u001b[0;34m\u001b[0m\n\u001b[0;32m----> 1\u001b[0;31m \u001b[0mz\u001b[0m\u001b[0;34m.\u001b[0m\u001b[0mindex\u001b[0m\u001b[0;34m(\u001b[0m\u001b[0;36m399\u001b[0m\u001b[0;34m)\u001b[0m\u001b[0;34m\u001b[0m\u001b[0;34m\u001b[0m\u001b[0m\n\u001b[0m",
      "\u001b[0;31mValueError\u001b[0m: 399 is not in list"
     ]
    }
   ],
   "source": [
    "z.index(399)"
   ]
  },
  {
   "cell_type": "code",
   "execution_count": 297,
   "id": "49384a43",
   "metadata": {},
   "outputs": [
    {
     "name": "stdout",
     "output_type": "stream",
     "text": [
      "399 value don't have index\n"
     ]
    }
   ],
   "source": [
    "try:\n",
    "    z.index(399)\n",
    "except Exception as E:\n",
    "    print(str(E).split(' ')[0],\"value don't have index\")"
   ]
  },
  {
   "cell_type": "code",
   "execution_count": 302,
   "id": "d82e017c",
   "metadata": {},
   "outputs": [
    {
     "name": "stdout",
     "output_type": "stream",
     "text": [
      "42 is not in list  hello\n"
     ]
    }
   ],
   "source": [
    "try :\n",
    "    z.index(42)\n",
    "except ValueError as e:\n",
    "    print(e,' hello')"
   ]
  },
  {
   "cell_type": "code",
   "execution_count": 303,
   "id": "b5b77167",
   "metadata": {},
   "outputs": [],
   "source": [
    "list1 = [1, 2, 3]\n",
    "list2 = [3, 4, 5]"
   ]
  },
  {
   "cell_type": "code",
   "execution_count": 304,
   "id": "6391b89f",
   "metadata": {},
   "outputs": [],
   "source": [
    "new = list(set(list1 + list2))"
   ]
  },
  {
   "cell_type": "code",
   "execution_count": 305,
   "id": "9dc9196e",
   "metadata": {},
   "outputs": [
    {
     "data": {
      "text/plain": [
       "[1, 2, 3, 4, 5]"
      ]
     },
     "execution_count": 305,
     "metadata": {},
     "output_type": "execute_result"
    }
   ],
   "source": [
    "new"
   ]
  },
  {
   "cell_type": "code",
   "execution_count": 306,
   "id": "ad68d757",
   "metadata": {},
   "outputs": [],
   "source": [
    "list1.extend(list2)"
   ]
  },
  {
   "cell_type": "code",
   "execution_count": 307,
   "id": "3b5a7f4a",
   "metadata": {},
   "outputs": [
    {
     "data": {
      "text/plain": [
       "[1, 2, 3, 3, 4, 5]"
      ]
     },
     "execution_count": 307,
     "metadata": {},
     "output_type": "execute_result"
    }
   ],
   "source": [
    "list1"
   ]
  },
  {
   "cell_type": "code",
   "execution_count": null,
   "id": "0426a912",
   "metadata": {},
   "outputs": [],
   "source": []
  },
  {
   "cell_type": "code",
   "execution_count": 367,
   "id": "ec524217",
   "metadata": {},
   "outputs": [
    {
     "data": {
      "text/plain": [
       "[64, 53, 32, 23, 9, 7, 6, 5, 4, 3, 2]"
      ]
     },
     "execution_count": 367,
     "metadata": {},
     "output_type": "execute_result"
    }
   ],
   "source": [
    "# unique list\n",
    "def myfunction(mylist):\n",
    "    unique = []\n",
    "    \n",
    "    for i in mylist:\n",
    "        if i not in unique:\n",
    "            unique.append(i)\n",
    "    return sorted(unique,reverse=True)\n",
    "\n",
    "mylist = [2,4,5,3,23,6,5,2,32,3,5,6,2,3,53,64,7,9]\n",
    "x = myfunction(mylist)\n",
    "x"
   ]
  },
  {
   "cell_type": "code",
   "execution_count": null,
   "id": "744a4e79",
   "metadata": {},
   "outputs": [],
   "source": []
  },
  {
   "cell_type": "code",
   "execution_count": 373,
   "id": "7a3ef9cd",
   "metadata": {},
   "outputs": [
    {
     "data": {
      "text/plain": [
       "[3, 7, 5, 3, 2]"
      ]
     },
     "execution_count": 373,
     "metadata": {},
     "output_type": "execute_result"
    }
   ],
   "source": [
    "def reverse(my_list):\n",
    "    return my_list[::-1]\n",
    "    \n",
    "\n",
    "\n",
    "sample_list = [2,3,5,7,3]\n",
    "x = reverse(sample_list)\n",
    "x"
   ]
  },
  {
   "cell_type": "code",
   "execution_count": null,
   "id": "1bcac580",
   "metadata": {},
   "outputs": [],
   "source": []
  },
  {
   "cell_type": "code",
   "execution_count": 380,
   "id": "799af9ab",
   "metadata": {},
   "outputs": [
    {
     "data": {
      "text/plain": [
       "[3, 7, 5, 3, 2]"
      ]
     },
     "execution_count": 380,
     "metadata": {},
     "output_type": "execute_result"
    }
   ],
   "source": [
    "x"
   ]
  },
  {
   "cell_type": "code",
   "execution_count": 388,
   "id": "311725aa",
   "metadata": {},
   "outputs": [
    {
     "name": "stdout",
     "output_type": "stream",
     "text": [
      "4\n",
      "3\n",
      "2\n",
      "1\n",
      "0\n"
     ]
    }
   ],
   "source": [
    "for i in range(len(x)-1,-1,-1):\n",
    "    print(i)"
   ]
  },
  {
   "cell_type": "code",
   "execution_count": 407,
   "id": "4bd1a7a4",
   "metadata": {},
   "outputs": [
    {
     "data": {
      "text/plain": [
       "[9]"
      ]
     },
     "execution_count": 407,
     "metadata": {},
     "output_type": "execute_result"
    }
   ],
   "source": [
    "def reverse(my_list):\n",
    "    reverse_list = []\n",
    "    \n",
    "    for i in range(len(my_list)-1 ,-1, -1):\n",
    "        reverse_list.append(mylist[i])\n",
    "    \n",
    "    return reverse_list\n",
    "\n",
    "mylist = [9]\n",
    "x = reverse(mylist)\n",
    "x"
   ]
  },
  {
   "cell_type": "markdown",
   "id": "85782311",
   "metadata": {},
   "source": [
    "Sum of List Elements\n",
    "Write a Python function that takes a list of numbers and returns the sum of all elements."
   ]
  },
  {
   "cell_type": "code",
   "execution_count": 410,
   "id": "5d572fef",
   "metadata": {},
   "outputs": [
    {
     "data": {
      "text/plain": [
       "16"
      ]
     },
     "execution_count": 410,
     "metadata": {},
     "output_type": "execute_result"
    }
   ],
   "source": [
    "def myfunction(list1):\n",
    "    suming = 0\n",
    "    for i in list1:\n",
    "        suming +=i\n",
    "    return suming\n",
    "\n",
    "\n",
    "sample = [3,4,2,5,2]\n",
    "x = myfunction(sample)\n",
    "x"
   ]
  },
  {
   "cell_type": "markdown",
   "id": "c4f88113",
   "metadata": {},
   "source": [
    "List of Even and Odd Numbers\n",
    "Given a list of numbers, write a program to separate the even and odd numbers into two separate lists."
   ]
  },
  {
   "cell_type": "code",
   "execution_count": 419,
   "id": "d8a12351",
   "metadata": {},
   "outputs": [
    {
     "data": {
      "text/plain": [
       "([6, 2, 6, 2, 6, 8, 2, 2, 0], [3, 9, 1])"
      ]
     },
     "execution_count": 419,
     "metadata": {},
     "output_type": "execute_result"
    }
   ],
   "source": [
    "def seperate(mylist):\n",
    "    even = []\n",
    "    odd = []\n",
    "    for i in mylist:\n",
    "        if i % 2 == 0:\n",
    "            even.append(i)\n",
    "        else:\n",
    "            odd.append(i)\n",
    "    return even,odd\n",
    "\n",
    "\n",
    "sample = [3,6,2,6,2,6,8,2,9,2,0,1]\n",
    "x= seperate(sample)\n",
    "x"
   ]
  },
  {
   "cell_type": "markdown",
   "id": "6b05cd81",
   "metadata": {},
   "source": [
    "Rotate a List\n",
    "Write a function to rotate a list by k positions to the right. For example, rotating [1, 2, 3, 4, 5] by 2 results in [4, 5, 1, 2, 3]."
   ]
  },
  {
   "cell_type": "code",
   "execution_count": 465,
   "id": "3ee858c7",
   "metadata": {},
   "outputs": [
    {
     "data": {
      "text/plain": [
       "[2, 3, 4, 5, 1]"
      ]
     },
     "execution_count": 465,
     "metadata": {},
     "output_type": "execute_result"
    }
   ],
   "source": [
    "def rotate(mylist,k): \n",
    "    return mylist[-k:] + mylist[:-k]\n",
    "        \n",
    "k = 4\n",
    "sample = [1,2,3,4,5]\n",
    "x = rotate(sample,k)\n",
    "x"
   ]
  },
  {
   "cell_type": "markdown",
   "id": "2c685498",
   "metadata": {},
   "source": [
    "Find the Largest and Smallest Number\n",
    "Write a program that finds the largest and smallest numbers in a list without using built-in functions like min() and max()."
   ]
  },
  {
   "cell_type": "code",
   "execution_count": 472,
   "id": "ca8fc0ec",
   "metadata": {},
   "outputs": [],
   "source": [
    "def myfunction(list1):\n",
    "    max_num = min_num = list1[0]\n",
    "    for i in list1[1:]:\n",
    "        if i > max_num:\n",
    "            max_num = i\n",
    "        elif i < min_num:\n",
    "            min_num = i\n",
    "       \n",
    "    return max_num ,min_num\n",
    "    \n",
    "\n",
    "sample = [2,4,7,4,74,33,66,222,658]\n",
    "x_is_max,y_is_min = myfunction(sample)\n"
   ]
  },
  {
   "cell_type": "code",
   "execution_count": 473,
   "id": "b96a7ef7",
   "metadata": {},
   "outputs": [
    {
     "data": {
      "text/plain": [
       "658"
      ]
     },
     "execution_count": 473,
     "metadata": {},
     "output_type": "execute_result"
    }
   ],
   "source": [
    "x_is_max"
   ]
  },
  {
   "cell_type": "code",
   "execution_count": 474,
   "id": "72518afc",
   "metadata": {},
   "outputs": [
    {
     "data": {
      "text/plain": [
       "2"
      ]
     },
     "execution_count": 474,
     "metadata": {},
     "output_type": "execute_result"
    }
   ],
   "source": [
    "y_is_min"
   ]
  },
  {
   "cell_type": "markdown",
   "id": "9764df45",
   "metadata": {},
   "source": [
    "Remove Duplicates from a List\n",
    "Write a Python function that removes duplicate elements from a list while maintaining the order of the remaining elements."
   ]
  },
  {
   "cell_type": "code",
   "execution_count": 479,
   "id": "9902fe7a",
   "metadata": {},
   "outputs": [
    {
     "data": {
      "text/plain": [
       "[3, 5, 8, 43, 6745, 4, 67, 6, 2]"
      ]
     },
     "execution_count": 479,
     "metadata": {},
     "output_type": "execute_result"
    }
   ],
   "source": [
    "def myfunction(list1):\n",
    "    unique = []\n",
    "    for i in list1:\n",
    "        if i not in unique:\n",
    "            unique.append(i)\n",
    "    return unique\n",
    "\n",
    "\n",
    "sample = [3,5,8,43,6745,8,4,67,6,4,2,8,6,3]\n",
    "x = myfunction(sample)\n",
    "x"
   ]
  },
  {
   "cell_type": "markdown",
   "id": "43b246e7",
   "metadata": {},
   "source": [
    "Count Occurrences of an Element\n",
    "Write a program that counts the number of occurrences of a specific element in a list."
   ]
  },
  {
   "cell_type": "code",
   "execution_count": 483,
   "id": "0f9eaa31",
   "metadata": {},
   "outputs": [
    {
     "data": {
      "text/plain": [
       "{2: 1, 4545: 1, 6734: 1, 7: 2, 32: 1, 456: 1, 34: 1, 9: 1}"
      ]
     },
     "execution_count": 483,
     "metadata": {},
     "output_type": "execute_result"
    }
   ],
   "source": [
    "def myfunction(list1):\n",
    "    dict1 = {}\n",
    "    for i in list1:\n",
    "        if i in dict1:\n",
    "            dict1[i]+=1\n",
    "        else:\n",
    "            dict1[i] = 1\n",
    "    return dict1\n",
    "            \n",
    "\n",
    "sample = [2,4545,6734,7,32,456,34,7,9]\n",
    "x = myfunction(sample)\n",
    "x"
   ]
  },
  {
   "cell_type": "markdown",
   "id": "336e0b6d",
   "metadata": {},
   "source": [
    "Flatten a Nested List\n",
    "Write a function that flattens a nested list. For example, given [1, [2, [3, 4], 5], 6], return [1, 2, 3, 4, 5, 6]."
   ]
  },
  {
   "cell_type": "code",
   "execution_count": 721,
   "id": "4c0ca492",
   "metadata": {},
   "outputs": [
    {
     "data": {
      "text/plain": [
       "[6, 5, 4, 3, 2, 1]"
      ]
     },
     "execution_count": 721,
     "metadata": {},
     "output_type": "execute_result"
    }
   ],
   "source": [
    "def myfunction(list1):\n",
    "    flat = []\n",
    "    nested = list1\n",
    "    \n",
    "    while nested:\n",
    "            item = nested.pop()\n",
    "            if isinstance(item,list):\n",
    "                for i in item:\n",
    "                    nested.append(i)\n",
    "            else:\n",
    "                flat.append(item)\n",
    "    return flat\n",
    "sample = [1, [2, [3, 4], 5], 6]\n",
    "x = myfunction(sample)\n",
    "x"
   ]
  },
  {
   "cell_type": "code",
   "execution_count": 722,
   "id": "8c1bbb4a",
   "metadata": {},
   "outputs": [
    {
     "data": {
      "text/plain": [
       "[6, 5, 4, 3, 2, 1]"
      ]
     },
     "execution_count": 722,
     "metadata": {},
     "output_type": "execute_result"
    }
   ],
   "source": [
    "x"
   ]
  },
  {
   "cell_type": "markdown",
   "id": "c5303865",
   "metadata": {},
   "source": [
    "Finding Pairs with a Specific Sum\n",
    "Given a list of integers, write a program to find all pairs of numbers that add up to a specific target sum."
   ]
  },
  {
   "cell_type": "code",
   "execution_count": null,
   "id": "1f1d3397",
   "metadata": {},
   "outputs": [],
   "source": []
  },
  {
   "cell_type": "code",
   "execution_count": 796,
   "id": "6e9a741b",
   "metadata": {},
   "outputs": [
    {
     "data": {
      "text/plain": [
       "[(3, 7), (4, 6), (2, 8)]"
      ]
     },
     "execution_count": 796,
     "metadata": {},
     "output_type": "execute_result"
    }
   ],
   "source": [
    "def pair(t,list1):\n",
    "    collect = []\n",
    "    for i in range(len(list1)):   \n",
    "        for j in range(i+1,len(list1)):  \n",
    "            if list1[i] + list1[j] == t:\n",
    "                collect.append((list1[i],list1[j]))\n",
    "    return collect\n",
    "\n",
    "sample = [3,4,2,5,8,7,6,9]\n",
    "target = 10\n",
    "x = pair(target,sample)\n",
    "x"
   ]
  },
  {
   "cell_type": "code",
   "execution_count": null,
   "id": "bc943a98",
   "metadata": {},
   "outputs": [],
   "source": [
    "\n"
   ]
  },
  {
   "cell_type": "code",
   "execution_count": null,
   "id": "778c3d9e",
   "metadata": {},
   "outputs": [],
   "source": []
  },
  {
   "cell_type": "code",
   "execution_count": null,
   "id": "b72bc02c",
   "metadata": {},
   "outputs": [],
   "source": []
  },
  {
   "cell_type": "code",
   "execution_count": 738,
   "id": "a8afc9e1",
   "metadata": {},
   "outputs": [],
   "source": [
    "# sort element\n"
   ]
  },
  {
   "cell_type": "code",
   "execution_count": 798,
   "id": "58e8bab3",
   "metadata": {},
   "outputs": [
    {
     "data": {
      "text/plain": [
       "[325, 78, 65, 44, 32, 23, 9, 7, 5]"
      ]
     },
     "execution_count": 798,
     "metadata": {},
     "output_type": "execute_result"
    }
   ],
   "source": [
    "def sorting(list1):\n",
    "    for i in range(len(list1)):\n",
    "        for j in range(i+1,len(list1)):\n",
    "            if list1[i] < list1[j]:\n",
    "                list1[i],list1[j] = list1[j],list1[i]            \n",
    "    return list1\n",
    "\n",
    "sample = [32,44,9,5,23,78,325,65,7]\n",
    "x = sorting(sample)\n",
    "x"
   ]
  },
  {
   "cell_type": "markdown",
   "id": "b113d0c2",
   "metadata": {},
   "source": [
    "Finding Pairs with a Specific Sum Given a list of integers, write a program to find all pairs of numbers that add up to a specific target sum."
   ]
  },
  {
   "cell_type": "code",
   "execution_count": 831,
   "id": "676f1ff6",
   "metadata": {},
   "outputs": [
    {
     "name": "stdout",
     "output_type": "stream",
     "text": [
      "{1: 1, 3: 2, 2: 1, 6: 4, 854: 1, 9: 1, 43: 2, 657: 1, 99: 1, 5: 1, 4: 1, 7: 2}\n"
     ]
    }
   ],
   "source": [
    "def myfunction(list1):\n",
    "    collect = {}\n",
    "    for i in list1:\n",
    "        if i in collect:\n",
    "            collect[i]+=1\n",
    "        else:\n",
    "            collect[i]=1\n",
    "    return collect\n",
    "\n",
    "\n",
    "sample = [1,3,2,6,854,6,9,43,657,99,43,6,5,4,3,6,7,7]\n",
    "x = myfunction(sample)\n",
    "print(x)\n"
   ]
  },
  {
   "cell_type": "code",
   "execution_count": 830,
   "id": "a2945e1b",
   "metadata": {},
   "outputs": [
    {
     "data": {
      "text/plain": [
       "dict_keys([1, 3, 2, 6, 854, 9, 43, 657, 99, 5, 4, 7])"
      ]
     },
     "execution_count": 830,
     "metadata": {},
     "output_type": "execute_result"
    }
   ],
   "source": [
    "x.keys()"
   ]
  },
  {
   "cell_type": "code",
   "execution_count": 833,
   "id": "afc42753",
   "metadata": {},
   "outputs": [],
   "source": [
    "num1,num2 = tuple(x.keys()),tuple(x.values())"
   ]
  },
  {
   "cell_type": "code",
   "execution_count": 838,
   "id": "02a226b8",
   "metadata": {},
   "outputs": [],
   "source": [
    "mydict = {num1:num2}"
   ]
  },
  {
   "cell_type": "code",
   "execution_count": 839,
   "id": "89c50174",
   "metadata": {},
   "outputs": [
    {
     "data": {
      "text/plain": [
       "{(1, 3, 2, 6, 854, 9, 43, 657, 99, 5, 4, 7): (1,\n",
       "  2,\n",
       "  1,\n",
       "  4,\n",
       "  1,\n",
       "  1,\n",
       "  2,\n",
       "  1,\n",
       "  1,\n",
       "  1,\n",
       "  1,\n",
       "  2)}"
      ]
     },
     "execution_count": 839,
     "metadata": {},
     "output_type": "execute_result"
    }
   ],
   "source": [
    "mydict"
   ]
  },
  {
   "cell_type": "code",
   "execution_count": 842,
   "id": "b8a61440",
   "metadata": {},
   "outputs": [],
   "source": [
    "result_dict = list(zip(num1, num2))"
   ]
  },
  {
   "cell_type": "code",
   "execution_count": 843,
   "id": "02df5944",
   "metadata": {},
   "outputs": [
    {
     "data": {
      "text/plain": [
       "[(1, 1),\n",
       " (3, 2),\n",
       " (2, 1),\n",
       " (6, 4),\n",
       " (854, 1),\n",
       " (9, 1),\n",
       " (43, 2),\n",
       " (657, 1),\n",
       " (99, 1),\n",
       " (5, 1),\n",
       " (4, 1),\n",
       " (7, 2)]"
      ]
     },
     "execution_count": 843,
     "metadata": {},
     "output_type": "execute_result"
    }
   ],
   "source": [
    "result_dict"
   ]
  },
  {
   "cell_type": "code",
   "execution_count": 852,
   "id": "470158c0",
   "metadata": {},
   "outputs": [
    {
     "data": {
      "text/plain": [
       "[3, 4, 2, 5, 8, 8, 6, 9, 3, 4, 5]"
      ]
     },
     "execution_count": 852,
     "metadata": {},
     "output_type": "execute_result"
    }
   ],
   "source": [
    "list1"
   ]
  },
  {
   "cell_type": "code",
   "execution_count": 845,
   "id": "91252a2f",
   "metadata": {},
   "outputs": [
    {
     "data": {
      "text/plain": [
       "[3, 4, 5]"
      ]
     },
     "execution_count": 845,
     "metadata": {},
     "output_type": "execute_result"
    }
   ],
   "source": [
    "list2"
   ]
  },
  {
   "cell_type": "code",
   "execution_count": 846,
   "id": "f1638272",
   "metadata": {},
   "outputs": [],
   "source": [
    "new = list1+list2"
   ]
  },
  {
   "cell_type": "code",
   "execution_count": 847,
   "id": "7e7aa3d3",
   "metadata": {},
   "outputs": [
    {
     "data": {
      "text/plain": [
       "[3, 4, 2, 5, 8, 8, 6, 9, 3, 4, 5]"
      ]
     },
     "execution_count": 847,
     "metadata": {},
     "output_type": "execute_result"
    }
   ],
   "source": [
    "new"
   ]
  },
  {
   "cell_type": "code",
   "execution_count": 848,
   "id": "6092ae16",
   "metadata": {},
   "outputs": [],
   "source": [
    "list1.extend(list2)"
   ]
  },
  {
   "cell_type": "code",
   "execution_count": 851,
   "id": "931e8f8a",
   "metadata": {},
   "outputs": [
    {
     "name": "stdout",
     "output_type": "stream",
     "text": [
      "None\n"
     ]
    }
   ],
   "source": []
  },
  {
   "cell_type": "code",
   "execution_count": 850,
   "id": "ea07922c",
   "metadata": {},
   "outputs": [],
   "source": [
    "new2"
   ]
  },
  {
   "cell_type": "code",
   "execution_count": null,
   "id": "94cdf42b",
   "metadata": {},
   "outputs": [],
   "source": []
  }
 ],
 "metadata": {
  "kernelspec": {
   "display_name": "Python 3 (ipykernel)",
   "language": "python",
   "name": "python3"
  },
  "language_info": {
   "codemirror_mode": {
    "name": "ipython",
    "version": 3
   },
   "file_extension": ".py",
   "mimetype": "text/x-python",
   "name": "python",
   "nbconvert_exporter": "python",
   "pygments_lexer": "ipython3",
   "version": "3.9.19"
  }
 },
 "nbformat": 4,
 "nbformat_minor": 5
}
