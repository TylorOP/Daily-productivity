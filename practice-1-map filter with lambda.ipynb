{
 "cells": [
  {
   "cell_type": "code",
   "execution_count": 1,
   "id": "2fbd898e",
   "metadata": {},
   "outputs": [],
   "source": [
    "# Display only last 10 character of string if present else display string as it is?"
   ]
  },
  {
   "cell_type": "code",
   "execution_count": null,
   "id": "24c81019",
   "metadata": {},
   "outputs": [],
   "source": []
  },
  {
   "cell_type": "code",
   "execution_count": null,
   "id": "48550d4c",
   "metadata": {},
   "outputs": [],
   "source": []
  },
  {
   "cell_type": "code",
   "execution_count": 53,
   "id": "aabc3867",
   "metadata": {},
   "outputs": [
    {
     "data": {
      "text/plain": [
       "'shubham'"
      ]
     },
     "execution_count": 53,
     "metadata": {},
     "output_type": "execute_result"
    }
   ],
   "source": [
    "def myfunction(lst,k):\n",
    "    if len(lst) > 10:\n",
    "        return lst[-10:]\n",
    "    return lst\n",
    "      \n",
    "        \n",
    "#   \n",
    "\n",
    "sample = 'shubham'\n",
    "target = 10 \n",
    "x = myfunction(sample,target)\n",
    "x"
   ]
  },
  {
   "cell_type": "code",
   "execution_count": 11,
   "id": "a32519cd",
   "metadata": {},
   "outputs": [],
   "source": [
    "def third(lst):\n",
    "    sort = []\n",
    "    for i in lst:\n",
    "        for j in range(i+1,len(lst)):\n",
    "            if lst[i] <\n",
    "\n",
    "\n",
    "\n",
    "sample = [3,5,32,6,7,3]\n",
    "x = third(sample)"
   ]
  },
  {
   "cell_type": "code",
   "execution_count": 55,
   "id": "9829a708",
   "metadata": {},
   "outputs": [
    {
     "data": {
      "text/plain": [
       "'shubham'"
      ]
     },
     "execution_count": 55,
     "metadata": {},
     "output_type": "execute_result"
    }
   ],
   "source": [
    "def myfunction(lst,k):\n",
    "    if len(lst) > 10:\n",
    "        return lst[-10:]\n",
    "    return lst\n",
    "      \n",
    "#   \n",
    "\n",
    "sample = 'shubham'\n",
    "target = 10 \n",
    "x = myfunction(sample,target)\n",
    "x"
   ]
  },
  {
   "cell_type": "code",
   "execution_count": null,
   "id": "e0c004ec",
   "metadata": {},
   "outputs": [],
   "source": []
  },
  {
   "cell_type": "code",
   "execution_count": 77,
   "id": "e5decb82",
   "metadata": {},
   "outputs": [
    {
     "name": "stdout",
     "output_type": "stream",
     "text": [
      "invalid\n"
     ]
    }
   ],
   "source": [
    "def email_validation(e):\n",
    "    if e.endswith('@gmail.com'):\n",
    "        return True\n",
    "\n",
    "def check(s):\n",
    "    if s:\n",
    "        return True\n",
    "    else:\n",
    "        return False\n",
    "    \n",
    "\n",
    "def main():\n",
    "    email = 'hello@gmafil.com'\n",
    "    status = email_validation(email)\n",
    "    result = check(status)\n",
    "    \n",
    "    if result:\n",
    "        print('invalid')\n",
    "    else:\n",
    "        print('invalid') \n",
    "main()\n",
    "\n"
   ]
  },
  {
   "cell_type": "code",
   "execution_count": 85,
   "id": "89886411",
   "metadata": {},
   "outputs": [],
   "source": [
    "# Basic Transformation: Write a Python program that takes a list \n",
    "# of numbers and returns their squares using map and lambda."
   ]
  },
  {
   "cell_type": "code",
   "execution_count": 86,
   "id": "0ac510fe",
   "metadata": {},
   "outputs": [
    {
     "data": {
      "text/plain": [
       "[4, 9, 16, 36, 1156, 3136, 49]"
      ]
     },
     "execution_count": 86,
     "metadata": {},
     "output_type": "execute_result"
    }
   ],
   "source": [
    "sample = [2,3,4,6,34,56,7]\n",
    "\n",
    "list(map(lambda x : x**2,sample))"
   ]
  },
  {
   "cell_type": "code",
   "execution_count": 99,
   "id": "55a78960",
   "metadata": {},
   "outputs": [],
   "source": [
    "def square(e):\n",
    "    return e**2"
   ]
  },
  {
   "cell_type": "code",
   "execution_count": 100,
   "id": "a4c0ab12",
   "metadata": {},
   "outputs": [
    {
     "data": {
      "text/plain": [
       "[4, 9, 16, 36, 1156, 3136, 49]"
      ]
     },
     "execution_count": 100,
     "metadata": {},
     "output_type": "execute_result"
    }
   ],
   "source": [
    "list(map(square,sample))"
   ]
  },
  {
   "cell_type": "code",
   "execution_count": 105,
   "id": "b2266991",
   "metadata": {},
   "outputs": [
    {
     "data": {
      "text/plain": [
       "[6, 34, 56, 7]"
      ]
     },
     "execution_count": 105,
     "metadata": {},
     "output_type": "execute_result"
    }
   ],
   "source": [
    "list(filter(lambda x : x >5, sample))"
   ]
  },
  {
   "cell_type": "code",
   "execution_count": 112,
   "id": "2e591a6a",
   "metadata": {},
   "outputs": [
    {
     "data": {
      "text/plain": [
       "[1, 2, 3]"
      ]
     },
     "execution_count": 112,
     "metadata": {},
     "output_type": "execute_result"
    }
   ],
   "source": [
    "# Convert Strings to Integers: Given a list of strings representing numbers (e.g., [\"1\", \"2\", \"3\"]), \n",
    "#     use map and lambda to convert them into integers.\n",
    "\n",
    "sample =[\"1\", \"2\", \"3\"]\n",
    "\n",
    "list(map(lambda x : int(x) ,sample))\n"
   ]
  },
  {
   "cell_type": "code",
   "execution_count": 116,
   "id": "c570a5b3",
   "metadata": {},
   "outputs": [
    {
     "data": {
      "text/plain": [
       "[5, 6, 6]"
      ]
     },
     "execution_count": 116,
     "metadata": {},
     "output_type": "execute_result"
    }
   ],
   "source": [
    "# String Manipulation: Write a program that \n",
    "#     takes a list of strings and returns the lengths of each string using map and lambda.\n",
    "\n",
    "sample = [\"apple\", \"banana\", \"cherry\"]\n",
    "\n",
    "list(map(lambda x : len(x),sample))\n"
   ]
  },
  {
   "cell_type": "code",
   "execution_count": 115,
   "id": "c1ba7045",
   "metadata": {},
   "outputs": [
    {
     "data": {
      "text/plain": [
       "[5, 7, 9]"
      ]
     },
     "execution_count": 115,
     "metadata": {},
     "output_type": "execute_result"
    }
   ],
   "source": [
    "#  Given two lists of numbers, write a Python program to find\n",
    "#     the sum of corresponding elements using map and lambda\n",
    "\n",
    "list1 = [1, 2, 3]\n",
    "\n",
    "list2 = [4, 5, 6]\n",
    "\n",
    "list(map(lambda x,y : x+y ,list1,list2))"
   ]
  },
  {
   "cell_type": "code",
   "execution_count": 118,
   "id": "60be0ba4",
   "metadata": {},
   "outputs": [
    {
     "data": {
      "text/plain": [
       "[2, 8, 342, 32, 6]"
      ]
     },
     "execution_count": 118,
     "metadata": {},
     "output_type": "execute_result"
    }
   ],
   "source": [
    "# Given a list of integers, use filter and lambda to \n",
    "# create a new list containing only the even numbers.\n",
    "\n",
    "sample = [2,3,45,67,8,342,32,6]\n",
    "\n",
    "list(filter(lambda x : x % 2 == 0,sample))\n",
    "\n",
    "\n"
   ]
  },
  {
   "cell_type": "code",
   "execution_count": null,
   "id": "ca203775",
   "metadata": {},
   "outputs": [],
   "source": []
  },
  {
   "cell_type": "code",
   "execution_count": null,
   "id": "b83eb247",
   "metadata": {},
   "outputs": [],
   "source": []
  },
  {
   "cell_type": "code",
   "execution_count": null,
   "id": "1fbf1864",
   "metadata": {},
   "outputs": [],
   "source": []
  },
  {
   "cell_type": "code",
   "execution_count": null,
   "id": "60d76006",
   "metadata": {},
   "outputs": [],
   "source": []
  }
 ],
 "metadata": {
  "kernelspec": {
   "display_name": "Python 3 (ipykernel)",
   "language": "python",
   "name": "python3"
  },
  "language_info": {
   "codemirror_mode": {
    "name": "ipython",
    "version": 3
   },
   "file_extension": ".py",
   "mimetype": "text/x-python",
   "name": "python",
   "nbconvert_exporter": "python",
   "pygments_lexer": "ipython3",
   "version": "3.9.19"
  }
 },
 "nbformat": 4,
 "nbformat_minor": 5
}
