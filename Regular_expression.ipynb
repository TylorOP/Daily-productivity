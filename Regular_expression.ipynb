{
 "cells": [
  {
   "cell_type": "code",
   "execution_count": 1,
   "id": "596c2788",
   "metadata": {},
   "outputs": [],
   "source": [
    "import re"
   ]
  },
  {
   "cell_type": "code",
   "execution_count": 56,
   "id": "61d07637",
   "metadata": {},
   "outputs": [],
   "source": [
    "dk = \"sdag d sdg gha sgd jvl python ohtyh. opythion .foht dpth nptpasdpython pythcn ppythonbsdgcvafd pt[yhnpythn ppythnppythnppythin python python pythonsadgf\""
   ]
  },
  {
   "cell_type": "code",
   "execution_count": 46,
   "id": "fb273ac0",
   "metadata": {},
   "outputs": [],
   "source": [
    "obj = re.compile(\"python\")"
   ]
  },
  {
   "cell_type": "code",
   "execution_count": 47,
   "id": "008b69d6",
   "metadata": {},
   "outputs": [],
   "source": [
    "obj1 = obj.finditer(dk)"
   ]
  },
  {
   "cell_type": "code",
   "execution_count": 48,
   "id": "ce6a97bb",
   "metadata": {},
   "outputs": [
    {
     "name": "stdout",
     "output_type": "stream",
     "text": [
      "23 29 python\n",
      "64 70 python\n",
      "78 84 python\n",
      "117 123 python\n",
      "124 130 python\n",
      "131 137 python\n",
      "6\n"
     ]
    }
   ],
   "source": [
    "count = 0\n",
    "for i in obj1:\n",
    "    count+=1\n",
    "    print(i.start(),i.end(),i.group())\n",
    "    \n",
    "print(count)    "
   ]
  },
  {
   "cell_type": "code",
   "execution_count": 59,
   "id": "4726f491",
   "metadata": {},
   "outputs": [],
   "source": [
    "obj3 = re.finditer('[dabc]',dk)"
   ]
  },
  {
   "cell_type": "code",
   "execution_count": 60,
   "id": "ce2000cd",
   "metadata": {},
   "outputs": [
    {
     "name": "stdout",
     "output_type": "stream",
     "text": [
      "1 2 d\n",
      "2 3 a\n",
      "5 6 d\n",
      "8 9 d\n",
      "13 14 a\n",
      "17 18 d\n",
      "52 53 d\n",
      "61 62 a\n",
      "63 64 d\n",
      "75 76 c\n",
      "85 86 b\n",
      "87 88 d\n",
      "89 90 c\n",
      "91 92 a\n",
      "93 94 d\n",
      "148 149 a\n",
      "149 150 d\n"
     ]
    }
   ],
   "source": [
    "for i in obj3:\n",
    "    print(i.start(),i.end(),i.group())"
   ]
  },
  {
   "cell_type": "code",
   "execution_count": 65,
   "id": "e3e0ec85",
   "metadata": {},
   "outputs": [],
   "source": [
    "obj3 = re.finditer('[^dabc]',dk)"
   ]
  },
  {
   "cell_type": "code",
   "execution_count": 66,
   "id": "159c6f6c",
   "metadata": {},
   "outputs": [
    {
     "name": "stdout",
     "output_type": "stream",
     "text": [
      "sg  sg gh sg jvl python ohtyh. opythion .foht pth nptpspython pythn ppythonsgvf pt[yhnpythn ppythnppythnppythin python python pythonsgf"
     ]
    }
   ],
   "source": [
    "for i in obj3:\n",
    "    print(i.group(),end=\"\")"
   ]
  },
  {
   "cell_type": "code",
   "execution_count": 3,
   "id": "786f2401",
   "metadata": {},
   "outputs": [],
   "source": [
    "import re"
   ]
  },
  {
   "cell_type": "code",
   "execution_count": 4,
   "id": "0499fee3",
   "metadata": {},
   "outputs": [],
   "source": [
    "dk = \"agddfsdgfRGRFDVHSHUBHAMGds12765746@Q%$Y dsvghsfd SDFGSF @#543#% DSGVDfd5767sg\""
   ]
  },
  {
   "cell_type": "code",
   "execution_count": 5,
   "id": "ee1bac19",
   "metadata": {},
   "outputs": [],
   "source": [
    "obj3 = re.finditer('\\W',dk)"
   ]
  },
  {
   "cell_type": "code",
   "execution_count": 6,
   "id": "30ff5bf4",
   "metadata": {},
   "outputs": [
    {
     "name": "stdout",
     "output_type": "stream",
     "text": [
      "@%   @##% "
     ]
    }
   ],
   "source": [
    "for i in obj3:\n",
    "    obj4 = re.finditer('[^$]',i.group())\n",
    "    for j in obj4:\n",
    "        print(j.group(),end='')"
   ]
  },
  {
   "cell_type": "code",
   "execution_count": 2,
   "id": "d1d2383a",
   "metadata": {},
   "outputs": [],
   "source": [
    "p = 'AfeSDJSHUBhma SHUBBHJSM DSfdh123b5$@%8u*U DFSC KN'"
   ]
  },
  {
   "cell_type": "code",
   "execution_count": 7,
   "id": "8c4806b5",
   "metadata": {},
   "outputs": [],
   "source": [
    "obj = re.finditer('[SHh]',p)"
   ]
  },
  {
   "cell_type": "code",
   "execution_count": 8,
   "id": "efc9492c",
   "metadata": {},
   "outputs": [
    {
     "name": "stdout",
     "output_type": "stream",
     "text": [
      "SSHhSHHSShS"
     ]
    }
   ],
   "source": [
    "for i in obj:\n",
    "    print(i.group(),end='')"
   ]
  },
  {
   "cell_type": "code",
   "execution_count": 94,
   "id": "b43a56f8",
   "metadata": {},
   "outputs": [],
   "source": [
    "Simple_Email ='shubham.r.shivpure@gmail.com'\n",
    "\n",
    "#user@example.com"
   ]
  },
  {
   "cell_type": "code",
   "execution_count": 95,
   "id": "3570c0a9",
   "metadata": {},
   "outputs": [],
   "source": [
    "obj = re.finditer('[a-zA-Z0-9._%+-]+@gmail.com',Simple_Email)"
   ]
  },
  {
   "cell_type": "code",
   "execution_count": 96,
   "id": "9d8445bb",
   "metadata": {},
   "outputs": [
    {
     "name": "stdout",
     "output_type": "stream",
     "text": [
      "shubham.r.shivpure@gmail.com\n"
     ]
    }
   ],
   "source": [
    "for i in obj:\n",
    "    print(i.group())"
   ]
  },
  {
   "cell_type": "code",
   "execution_count": 131,
   "id": "c714d9fe",
   "metadata": {},
   "outputs": [],
   "source": [
    "p = 'sdhagdjadsgacjgrdrsasrsfsaaaaareaj aaaaaergaaaaweqcdf'"
   ]
  },
  {
   "cell_type": "code",
   "execution_count": 141,
   "id": "e61c8d9a",
   "metadata": {},
   "outputs": [],
   "source": [
    "obj = re.finditer('$',p)"
   ]
  },
  {
   "cell_type": "code",
   "execution_count": 139,
   "id": "90f23ae6",
   "metadata": {},
   "outputs": [],
   "source": [
    "for i in obj:\n",
    "    print(i.start(),i.end(),i.group())"
   ]
  },
  {
   "cell_type": "code",
   "execution_count": 140,
   "id": "90ca9742",
   "metadata": {},
   "outputs": [
    {
     "name": "stdout",
     "output_type": "stream",
     "text": [
      "53\n"
     ]
    }
   ],
   "source": [
    "count= 0\n",
    "for i in p:\n",
    "    count+=1\n",
    "print(count)"
   ]
  },
  {
   "cell_type": "code",
   "execution_count": 189,
   "id": "6ea29cba",
   "metadata": {},
   "outputs": [],
   "source": [
    "mah = \"hu\""
   ]
  },
  {
   "cell_type": "code",
   "execution_count": 190,
   "id": "4abd4e0d",
   "metadata": {},
   "outputs": [],
   "source": [
    "obj = re.match(mah,\"hufudsavfdghugdshubhnashhud \")"
   ]
  },
  {
   "cell_type": "code",
   "execution_count": 191,
   "id": "7210fd7d",
   "metadata": {},
   "outputs": [
    {
     "data": {
      "text/plain": [
       "<re.Match object; span=(0, 2), match='hu'>"
      ]
     },
     "execution_count": 191,
     "metadata": {},
     "output_type": "execute_result"
    }
   ],
   "source": [
    "obj"
   ]
  },
  {
   "cell_type": "code",
   "execution_count": 195,
   "id": "47f3f6bb",
   "metadata": {},
   "outputs": [],
   "source": [
    "obj = re.fullmatch(mah,\"huf\")"
   ]
  },
  {
   "cell_type": "code",
   "execution_count": 196,
   "id": "86576b77",
   "metadata": {},
   "outputs": [
    {
     "name": "stdout",
     "output_type": "stream",
     "text": [
      "None\n"
     ]
    }
   ],
   "source": [
    "print(obj)"
   ]
  },
  {
   "cell_type": "code",
   "execution_count": 197,
   "id": "6a1cacfb",
   "metadata": {},
   "outputs": [],
   "source": [
    "obj = re.search(\"shub\",\"asdgsdg shbubashgdsdsshubh\")"
   ]
  },
  {
   "cell_type": "code",
   "execution_count": 198,
   "id": "26fab625",
   "metadata": {},
   "outputs": [
    {
     "data": {
      "text/plain": [
       "<re.Match object; span=(21, 25), match='shub'>"
      ]
     },
     "execution_count": 198,
     "metadata": {},
     "output_type": "execute_result"
    }
   ],
   "source": [
    "obj"
   ]
  },
  {
   "cell_type": "code",
   "execution_count": 208,
   "id": "c5224196",
   "metadata": {},
   "outputs": [],
   "source": [
    "obj = re.findall(\"shub\",\"asdgsdg \"\"shbub,ashgdsdsshubh\")"
   ]
  },
  {
   "cell_type": "code",
   "execution_count": 209,
   "id": "ee914f66",
   "metadata": {},
   "outputs": [
    {
     "data": {
      "text/plain": [
       "['shub']"
      ]
     },
     "execution_count": 209,
     "metadata": {},
     "output_type": "execute_result"
    }
   ],
   "source": [
    "obj"
   ]
  },
  {
   "cell_type": "code",
   "execution_count": null,
   "id": "446df49a",
   "metadata": {},
   "outputs": [],
   "source": [
    "# prompt: give me list with phone number with different combination\n",
    "\n",
    "import re\n",
    "\n",
    "# Regular expression for phone numbers with different combinations\n",
    "phone_regex = re.compile(r'(?:\\+?(91))?[7-9]\\d{9}')\n",
    "\n",
    "# Input string containing different phone numbers\n",
    "input_string = \"\"\"\n",
    "+919021808763\n",
    "9823893006\n",
    "7894561230\n",
    "+918765432109\n",
    "\"\"\"\n",
    "\n",
    "# Find all phone numbers in the input string\n",
    "phone_numbers = phone_regex.findall(input_string)\n",
    "\n",
    "# Print the list of phone numbers\n",
    "print(phone_numbers)"
   ]
  },
  {
   "cell_type": "code",
   "execution_count": 15,
   "id": "715f7f23",
   "metadata": {},
   "outputs": [
    {
     "name": "stdout",
     "output_type": "stream",
     "text": [
      "['+919021808763', '9823893006', '7894561230', '+918765432109']\n"
     ]
    }
   ],
   "source": [
    "import re\n",
    "\n",
    "# Regular expression for phone numbers with different combinations\n",
    "phone_regex = re.compile(r'(?:\\+91|91)?[7-9]\\d{9}')\n",
    "\n",
    "# Input string containing different phone numbers\n",
    "input_string = \"\"\"\n",
    "+919021808763\n",
    "9823893006\n",
    "7894561230\n",
    "+918765432109\n",
    "\"\"\"\n",
    "\n",
    "# Find all phone numbers in the input string\n",
    "phone_numbers = phone_regex.findall(input_string)\n",
    "\n",
    "# Print the list of phone numbers\n",
    "print(phone_numbers)"
   ]
  },
  {
   "cell_type": "code",
   "execution_count": 23,
   "id": "cb19971a",
   "metadata": {},
   "outputs": [
    {
     "name": "stdout",
     "output_type": "stream",
     "text": [
      "enter any number  +91 9021808754\n",
      "valid\n"
     ]
    }
   ],
   "source": [
    "user_input=input(\"enter any number  \")\n",
    "\n",
    "phone_regex=re.compile('(?:\\+91\\s?|91\\s)?[7-9]\\d{9}')\n",
    "\n",
    "check= phone_regex.findall(user_input)\n",
    "\n",
    "if check== None:\n",
    "    print(\"invalid number\")\n",
    "else:\n",
    "    print(\"valid\")\n"
   ]
  },
  {
   "cell_type": "code",
   "execution_count": 26,
   "id": "a9767ca6",
   "metadata": {},
   "outputs": [
    {
     "data": {
      "text/plain": [
       "'^(?:\\\\+91\\\\s?|0?91\\\\s?)?[7-9]\\\\d{9}$'"
      ]
     },
     "execution_count": 26,
     "metadata": {},
     "output_type": "execute_result"
    }
   ],
   "source": [
    "'(?:\\+91\\s?|91\\s)?[7-9]\\d{9}'\n",
    "\n",
    "'^(?:\\+91\\s?|0?91\\s?)?[7-9]\\d{9}$'\n"
   ]
  },
  {
   "cell_type": "code",
   "execution_count": null,
   "id": "c4016218",
   "metadata": {},
   "outputs": [],
   "source": []
  },
  {
   "cell_type": "code",
   "execution_count": 53,
   "id": "4a037b42",
   "metadata": {},
   "outputs": [
    {
     "name": "stdout",
     "output_type": "stream",
     "text": [
      "enter any number  +910712345678\n",
      "invalid mobile number\n"
     ]
    }
   ],
   "source": [
    "user_input=input(\"enter any number  \")\n",
    "\n",
    "obj = re.fullmatch(r'^(?:\\+91\\s?|0?91\\s?)?[7-9]\\d{9}$',user_input)\n",
    "\n",
    "if obj:\n",
    "    print(\"valid number:\",user_input)\n",
    "else:\n",
    "    print(\"invalid mobile number\")"
   ]
  },
  {
   "cell_type": "code",
   "execution_count": null,
   "id": "5f06b3c8",
   "metadata": {},
   "outputs": [],
   "source": [
    "+917123456789\n",
    "+91 7123456789\n",
    "+91 9876543210\n",
    "0917123456789\n",
    "091 7123456789\n",
    "091 9876543210\n",
    "7123456789"
   ]
  },
  {
   "cell_type": "code",
   "execution_count": null,
   "id": "52dd6b66",
   "metadata": {},
   "outputs": [],
   "source": []
  }
 ],
 "metadata": {
  "kernelspec": {
   "display_name": "Python 3 (ipykernel)",
   "language": "python",
   "name": "python3"
  },
  "language_info": {
   "codemirror_mode": {
    "name": "ipython",
    "version": 3
   },
   "file_extension": ".py",
   "mimetype": "text/x-python",
   "name": "python",
   "nbconvert_exporter": "python",
   "pygments_lexer": "ipython3",
   "version": "3.9.19"
  }
 },
 "nbformat": 4,
 "nbformat_minor": 5
}
