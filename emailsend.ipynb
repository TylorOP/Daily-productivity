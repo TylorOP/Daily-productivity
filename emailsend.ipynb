{
 "cells": [
  {
   "cell_type": "code",
   "execution_count": null,
   "id": "2b2fc460",
   "metadata": {},
   "outputs": [],
   "source": [
    "from django.db import models\n",
    "from django.db.models.signals import pre_save\n",
    "from django.dispatch import receiver\n",
    "import smtplib\n",
    "from email.mime.text import MIMEText\n",
    "from email.utils import formataddr\n",
    "# Create your models here.\n",
    "\n",
    "\n",
    "class employee(models.Model):\n",
    "    empid = models.IntegerField(primary_key =True)\n",
    "    empname =models.CharField(max_length=30)\n",
    "    empsal = models.FloatField()\n",
    "    empcity = models.CharField(max_length=39)\n",
    "    emailid = models.EmailField(blank=True, null=True)\n",
    "    product_name = models.CharField(max_length=100, blank=True, null=True)\n",
    "\n",
    "\n",
    "@receiver(pre_save,sender=employee)\n",
    "def send_email(sender, instance, **kwargs):\n",
    "    subject = f\"Congratulations  {instance.empname}\"\n",
    "    body =  (\n",
    "        f\"Hello {instance.empname},\\n\\n\"\n",
    "        f\"Congratulations on the new product: {instance.product_name}!\\n\"\n",
    "        f\"Best regards,\\nShubham \"\n",
    "    )\n",
    "    sender = \"cskf780@gmail.com\"\n",
    "    recipients = f\"{instance.emailid}\"\n",
    "    password = \"qfot bnnr fbce urvu\"   #store in env variable\n",
    "\n",
    "    msg = MIMEText(body)\n",
    "    msg['Subject'] = subject\n",
    "    msg['From'] = formataddr(('Shubham', sender))\n",
    "    msg['To'] = recipients\n",
    "    try:\n",
    "        with smtplib.SMTP_SSL('smtp.gmail.com', 465) as smtp_server:\n",
    "            smtp_server.login(sender, password)\n",
    "            smtp_server.sendmail(sender, recipients, msg.as_string())\n",
    "        print(\"Message sent!\")\n",
    "    except Exception as e:\n",
    "        print(f\"Error sending email: {e}\")"
   ]
  }
 ],
 "metadata": {
  "kernelspec": {
   "display_name": "Python 3 (ipykernel)",
   "language": "python",
   "name": "python3"
  },
  "language_info": {
   "codemirror_mode": {
    "name": "ipython",
    "version": 3
   },
   "file_extension": ".py",
   "mimetype": "text/x-python",
   "name": "python",
   "nbconvert_exporter": "python",
   "pygments_lexer": "ipython3",
   "version": "3.9.19"
  }
 },
 "nbformat": 4,
 "nbformat_minor": 5
}
