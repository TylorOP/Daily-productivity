{
	"metadata": {
		"kernelspec": {
			"name": "glue_pyspark",
			"display_name": "Glue PySpark",
			"language": "python"
		},
		"language_info": {
			"name": "Python_Glue_Session",
			"mimetype": "text/x-python",
			"codemirror_mode": {
				"name": "python",
				"version": 3
			},
			"pygments_lexer": "python3",
			"file_extension": ".py"
		}
	},
	"nbformat_minor": 4,
	"nbformat": 4,
	"cells": [
		{
			"cell_type": "code",
			"source": "from pyspark.sql import SparkSession",
			"metadata": {
				"trusted": true,
				"tags": []
			},
			"execution_count": 1,
			"outputs": [
				{
					"name": "stdout",
					"text": "Welcome to the Glue Interactive Sessions Kernel\nFor more information on available magic commands, please type %help in any new cell.\n\nPlease view our Getting Started page to access the most up-to-date information on the Interactive Sessions kernel: https://docs.aws.amazon.com/glue/latest/dg/interactive-sessions.html\nInstalled kernel version: 1.0.5 \nTrying to create a Glue session for the kernel.\nSession Type: glueetl\nSession ID: 5feccf9a-9649-4ca2-a23f-e8bffde7af3f\nApplying the following default arguments:\n--glue_kernel_version 1.0.5\n--enable-glue-datacatalog true\nWaiting for session 5feccf9a-9649-4ca2-a23f-e8bffde7af3f to get into ready status...\nSession 5feccf9a-9649-4ca2-a23f-e8bffde7af3f has been created.\n\n",
					"output_type": "stream"
				}
			]
		},
		{
			"cell_type": "code",
			"source": "spark1 = SparkSession.builder.appName('Dec').getOrCreate()",
			"metadata": {
				"trusted": true,
				"tags": []
			},
			"execution_count": 2,
			"outputs": [
				{
					"name": "stdout",
					"text": "\n",
					"output_type": "stream"
				}
			]
		},
		{
			"cell_type": "code",
			"source": "df = spark.read.csv('s3://shubhnaa/prod.csv',header=True,inferSchema=True)",
			"metadata": {
				"trusted": true,
				"tags": []
			},
			"execution_count": 3,
			"outputs": [
				{
					"name": "stdout",
					"text": "\n",
					"output_type": "stream"
				}
			]
		},
		{
			"cell_type": "code",
			"source": "df.show()",
			"metadata": {
				"trusted": true,
				"tags": []
			},
			"execution_count": 4,
			"outputs": [
				{
					"name": "stdout",
					"text": "+-----+--------+-----+-----------+\n|prdid|    name|price|   category|\n+-----+--------+-----+-----------+\n|    1|Widget A| 25.0|Electronics|\n|    2|Widget B| null|Electronics|\n| null|    null| 25.0|Electronics|\n| null|    null| null|       null|\n|    3|Widget C| 30.0|   Clothing|\n|    4|    null| 20.0|     Sports|\n| null|Widget E| null|   Clothing|\n|    6|Widget F| 35.0|       null|\n| null|Widget G| null|     Sports|\n|    8|    null| 30.0|Electronics|\n|    9|        | 40.0|   Clothing|\n|   10|    null| null|Electronics|\n| null|    null| null|           |\n+-----+--------+-----+-----------+\n",
					"output_type": "stream"
				}
			]
		},
		{
			"cell_type": "code",
			"source": "#filter",
			"metadata": {
				"trusted": true,
				"tags": []
			},
			"execution_count": 1,
			"outputs": []
		},
		{
			"cell_type": "code",
			"source": "df.filter('name is null').show()",
			"metadata": {
				"trusted": true,
				"tags": []
			},
			"execution_count": 5,
			"outputs": [
				{
					"name": "stdout",
					"text": "+-----+----+-----+-----------+\n|prdid|name|price|   category|\n+-----+----+-----+-----------+\n| null|null| 25.0|Electronics|\n| null|null| null|       null|\n|    4|null| 20.0|     Sports|\n|    8|null| 30.0|Electronics|\n|   10|null| null|Electronics|\n| null|null| null|           |\n+-----+----+-----+-----------+\n",
					"output_type": "stream"
				}
			]
		},
		{
			"cell_type": "code",
			"source": "df.filter(df['prdid'].isNull()).show()",
			"metadata": {
				"trusted": true,
				"tags": []
			},
			"execution_count": 6,
			"outputs": [
				{
					"name": "stdout",
					"text": "+-----+--------+-----+-----------+\n|prdid|    name|price|   category|\n+-----+--------+-----+-----------+\n| null|    null| 25.0|Electronics|\n| null|    null| null|       null|\n| null|Widget E| null|   Clothing|\n| null|Widget G| null|     Sports|\n| null|    null| null|           |\n+-----+--------+-----+-----------+\n",
					"output_type": "stream"
				}
			]
		},
		{
			"cell_type": "code",
			"source": "df.filter('prdid is null and price is null').show()",
			"metadata": {
				"trusted": true,
				"tags": []
			},
			"execution_count": 7,
			"outputs": [
				{
					"name": "stdout",
					"text": "+-----+--------+-----+--------+\n|prdid|    name|price|category|\n+-----+--------+-----+--------+\n| null|    null| null|    null|\n| null|Widget E| null|Clothing|\n| null|Widget G| null|  Sports|\n| null|    null| null|        |\n+-----+--------+-----+--------+\n",
					"output_type": "stream"
				}
			]
		},
		{
			"cell_type": "code",
			"source": "#if want sql then create view",
			"metadata": {
				"trusted": true,
				"tags": []
			},
			"execution_count": 2,
			"outputs": []
		},
		{
			"cell_type": "code",
			"source": "df.createOrReplaceTempView('temp')",
			"metadata": {
				"trusted": true,
				"tags": []
			},
			"execution_count": 8,
			"outputs": [
				{
					"name": "stdout",
					"text": "\n",
					"output_type": "stream"
				}
			]
		},
		{
			"cell_type": "code",
			"source": "spark1.sql('select * from temp').show()",
			"metadata": {
				"trusted": true,
				"tags": []
			},
			"execution_count": 9,
			"outputs": [
				{
					"name": "stdout",
					"text": "+-----+--------+-----+-----------+\n|prdid|    name|price|   category|\n+-----+--------+-----+-----------+\n|    1|Widget A| 25.0|Electronics|\n|    2|Widget B| null|Electronics|\n| null|    null| 25.0|Electronics|\n| null|    null| null|       null|\n|    3|Widget C| 30.0|   Clothing|\n|    4|    null| 20.0|     Sports|\n| null|Widget E| null|   Clothing|\n|    6|Widget F| 35.0|       null|\n| null|Widget G| null|     Sports|\n|    8|    null| 30.0|Electronics|\n|    9|        | 40.0|   Clothing|\n|   10|    null| null|Electronics|\n| null|    null| null|           |\n+-----+--------+-----+-----------+\n",
					"output_type": "stream"
				}
			]
		},
		{
			"cell_type": "code",
			"source": "spark1.sql(\"select * from temp where name like 'W%'\").show()",
			"metadata": {
				"trusted": true,
				"tags": []
			},
			"execution_count": 10,
			"outputs": [
				{
					"name": "stdout",
					"text": "+-----+--------+-----+-----------+\n|prdid|    name|price|   category|\n+-----+--------+-----+-----------+\n|    1|Widget A| 25.0|Electronics|\n|    2|Widget B| null|Electronics|\n|    3|Widget C| 30.0|   Clothing|\n| null|Widget E| null|   Clothing|\n|    6|Widget F| 35.0|       null|\n| null|Widget G| null|     Sports|\n+-----+--------+-----+-----------+\n",
					"output_type": "stream"
				}
			]
		},
		{
			"cell_type": "code",
			"source": "spark1.sql('select * from temp where category is not null').show()",
			"metadata": {
				"trusted": true,
				"tags": []
			},
			"execution_count": 11,
			"outputs": [
				{
					"name": "stdout",
					"text": "+-----+--------+-----+-----------+\n|prdid|    name|price|   category|\n+-----+--------+-----+-----------+\n|    1|Widget A| 25.0|Electronics|\n|    2|Widget B| null|Electronics|\n| null|    null| 25.0|Electronics|\n|    3|Widget C| 30.0|   Clothing|\n|    4|    null| 20.0|     Sports|\n| null|Widget E| null|   Clothing|\n| null|Widget G| null|     Sports|\n|    8|    null| 30.0|Electronics|\n|    9|        | 40.0|   Clothing|\n|   10|    null| null|Electronics|\n| null|    null| null|           |\n+-----+--------+-----+-----------+\n",
					"output_type": "stream"
				}
			]
		},
		{
			"cell_type": "code",
			"source": "df.filter(df.category=='Sports').show()",
			"metadata": {
				"trusted": true,
				"tags": []
			},
			"execution_count": 12,
			"outputs": [
				{
					"name": "stdout",
					"text": "+-----+--------+-----+--------+\n|prdid|    name|price|category|\n+-----+--------+-----+--------+\n|    4|    null| 20.0|  Sports|\n| null|Widget G| null|  Sports|\n+-----+--------+-----+--------+\n",
					"output_type": "stream"
				}
			]
		},
		{
			"cell_type": "code",
			"source": "df.filter(df.category=='Sports').select(df.name,df.price).show()",
			"metadata": {
				"trusted": true,
				"tags": []
			},
			"execution_count": 13,
			"outputs": [
				{
					"name": "stdout",
					"text": "+--------+-----+\n|    name|price|\n+--------+-----+\n|    null| 20.0|\n|Widget G| null|\n+--------+-----+\n",
					"output_type": "stream"
				}
			]
		},
		{
			"cell_type": "code",
			"source": "df.show()",
			"metadata": {
				"trusted": true,
				"tags": []
			},
			"execution_count": 14,
			"outputs": [
				{
					"name": "stdout",
					"text": "+-----+--------+-----+-----------+\n|prdid|    name|price|   category|\n+-----+--------+-----+-----------+\n|    1|Widget A| 25.0|Electronics|\n|    2|Widget B| null|Electronics|\n| null|    null| 25.0|Electronics|\n| null|    null| null|       null|\n|    3|Widget C| 30.0|   Clothing|\n|    4|    null| 20.0|     Sports|\n| null|Widget E| null|   Clothing|\n|    6|Widget F| 35.0|       null|\n| null|Widget G| null|     Sports|\n|    8|    null| 30.0|Electronics|\n|    9|        | 40.0|   Clothing|\n|   10|    null| null|Electronics|\n| null|    null| null|           |\n+-----+--------+-----+-----------+\n",
					"output_type": "stream"
				}
			]
		},
		{
			"cell_type": "code",
			"source": "l = ['Clothing','Sports']",
			"metadata": {
				"trusted": true,
				"tags": []
			},
			"execution_count": 15,
			"outputs": [
				{
					"name": "stdout",
					"text": "\n",
					"output_type": "stream"
				}
			]
		},
		{
			"cell_type": "code",
			"source": "df.filter(df.category.isin(l)).show()",
			"metadata": {
				"trusted": true,
				"tags": []
			},
			"execution_count": 16,
			"outputs": [
				{
					"name": "stdout",
					"text": "+-----+--------+-----+--------+\n|prdid|    name|price|category|\n+-----+--------+-----+--------+\n|    3|Widget C| 30.0|Clothing|\n|    4|    null| 20.0|  Sports|\n| null|Widget E| null|Clothing|\n| null|Widget G| null|  Sports|\n|    9|        | 40.0|Clothing|\n+-----+--------+-----+--------+\n",
					"output_type": "stream"
				}
			]
		},
		{
			"cell_type": "code",
			"source": "df.filter(df.name.like('Widget C')).show()",
			"metadata": {
				"trusted": true,
				"tags": []
			},
			"execution_count": 17,
			"outputs": [
				{
					"name": "stdout",
					"text": "+-----+--------+-----+--------+\n|prdid|    name|price|category|\n+-----+--------+-----+--------+\n|    3|Widget C| 30.0|Clothing|\n+-----+--------+-----+--------+\n",
					"output_type": "stream"
				}
			]
		},
		{
			"cell_type": "code",
			"source": "df.filter(df.name.startswith('W')).show()",
			"metadata": {
				"trusted": true,
				"tags": []
			},
			"execution_count": 18,
			"outputs": [
				{
					"name": "stdout",
					"text": "+-----+--------+-----+-----------+\n|prdid|    name|price|   category|\n+-----+--------+-----+-----------+\n|    1|Widget A| 25.0|Electronics|\n|    2|Widget B| null|Electronics|\n|    3|Widget C| 30.0|   Clothing|\n| null|Widget E| null|   Clothing|\n|    6|Widget F| 35.0|       null|\n| null|Widget G| null|     Sports|\n+-----+--------+-----+-----------+\n",
					"output_type": "stream"
				}
			]
		},
		{
			"cell_type": "code",
			"source": "df.filter(df.price > 25).show()",
			"metadata": {
				"trusted": true,
				"tags": []
			},
			"execution_count": 19,
			"outputs": [
				{
					"name": "stdout",
					"text": "+-----+--------+-----+-----------+\n|prdid|    name|price|   category|\n+-----+--------+-----+-----------+\n|    3|Widget C| 30.0|   Clothing|\n|    6|Widget F| 35.0|       null|\n|    8|    null| 30.0|Electronics|\n|    9|        | 40.0|   Clothing|\n+-----+--------+-----+-----------+\n",
					"output_type": "stream"
				}
			]
		},
		{
			"cell_type": "code",
			"source": "df.filter((df.prdid.isin([1,2,3,4,5,6])) & (df.price > 25)).show()",
			"metadata": {
				"trusted": true,
				"tags": []
			},
			"execution_count": 20,
			"outputs": [
				{
					"name": "stdout",
					"text": "+-----+--------+-----+--------+\n|prdid|    name|price|category|\n+-----+--------+-----+--------+\n|    3|Widget C| 30.0|Clothing|\n|    6|Widget F| 35.0|    null|\n+-----+--------+-----+--------+\n",
					"output_type": "stream"
				}
			]
		},
		{
			"cell_type": "code",
			"source": "df.filter((df.price > 10) & (df.category == 'Sports')).show()  ",
			"metadata": {
				"trusted": true,
				"tags": []
			},
			"execution_count": 21,
			"outputs": [
				{
					"name": "stdout",
					"text": "+-----+----+-----+--------+\n|prdid|name|price|category|\n+-----+----+-----+--------+\n|    4|null| 20.0|  Sports|\n+-----+----+-----+--------+\n",
					"output_type": "stream"
				}
			]
		},
		{
			"cell_type": "code",
			"source": "from pyspark.sql.functions import col",
			"metadata": {
				"trusted": true,
				"tags": []
			},
			"execution_count": 23,
			"outputs": [
				{
					"name": "stdout",
					"text": "\n",
					"output_type": "stream"
				}
			]
		},
		{
			"cell_type": "code",
			"source": "df.filter((df.price > 20) & (col('category')=='Clothing')).show()",
			"metadata": {
				"trusted": true,
				"tags": []
			},
			"execution_count": 24,
			"outputs": [
				{
					"name": "stdout",
					"text": "+-----+--------+-----+--------+\n|prdid|    name|price|category|\n+-----+--------+-----+--------+\n|    3|Widget C| 30.0|Clothing|\n|    9|        | 40.0|Clothing|\n+-----+--------+-----+--------+\n",
					"output_type": "stream"
				}
			]
		},
		{
			"cell_type": "code",
			"source": "df.count()",
			"metadata": {
				"trusted": true,
				"tags": []
			},
			"execution_count": 25,
			"outputs": [
				{
					"name": "stdout",
					"text": "13\n",
					"output_type": "stream"
				}
			]
		},
		{
			"cell_type": "code",
			"source": "df.columns",
			"metadata": {
				"trusted": true,
				"tags": []
			},
			"execution_count": 31,
			"outputs": [
				{
					"name": "stdout",
					"text": "['prdid', 'name', 'price', 'category']\n",
					"output_type": "stream"
				}
			]
		},
		{
			"cell_type": "code",
			"source": "len(df.columns)",
			"metadata": {
				"trusted": true,
				"tags": []
			},
			"execution_count": 32,
			"outputs": [
				{
					"name": "stdout",
					"text": "4\n",
					"output_type": "stream"
				}
			]
		},
		{
			"cell_type": "code",
			"source": "# group by",
			"metadata": {
				"trusted": true,
				"tags": []
			},
			"execution_count": 3,
			"outputs": []
		},
		{
			"cell_type": "code",
			"source": "df1 = spark1.read.csv('s3://shubhnaa/Amazon Sale Report.csv',inferSchema = True, header=True)",
			"metadata": {
				"trusted": true,
				"tags": []
			},
			"execution_count": 36,
			"outputs": [
				{
					"name": "stdout",
					"text": "\n",
					"output_type": "stream"
				}
			]
		},
		{
			"cell_type": "code",
			"source": "df1.show()",
			"metadata": {
				"trusted": true,
				"tags": []
			},
			"execution_count": 37,
			"outputs": [
				{
					"name": "stdout",
					"text": "+-----+-------------------+--------+--------------------+----------+--------------+------------------+--------+-------------------+-------------+----+----------+--------------+---+--------+------+-----------+--------------+----------------+------------+--------------------+-----+------------+-----------+\n|index|           Order ID|    Date|              Status|Fulfilment|Sales Channel |ship-service-level|   Style|                SKU|     Category|Size|      ASIN|Courier Status|Qty|currency|Amount|  ship-city|    ship-state|ship-postal-code|ship-country|       promotion-ids|  B2B|fulfilled-by|Unnamed: 22|\n+-----+-------------------+--------+--------------------+----------+--------------+------------------+--------+-------------------+-------------+----+----------+--------------+---+--------+------+-----------+--------------+----------------+------------+--------------------+-----+------------+-----------+\n|    0|405-8078784-5731545|04-30-22|           Cancelled|  Merchant|     Amazon.in|          Standard|  SET389|     SET389-KR-NP-S|          Set|   S|B09KXVBD7Z|          null|  0|     INR|647.62|     MUMBAI|   MAHARASHTRA|        400081.0|          IN|                null|false|   Easy Ship|       null|\n|    1|171-9198151-1101146|04-30-22|Shipped - Deliver...|  Merchant|     Amazon.in|          Standard| JNE3781|    JNE3781-KR-XXXL|        kurta| 3XL|B09K3WFS32|       Shipped|  1|     INR| 406.0|  BENGALURU|     KARNATAKA|        560085.0|          IN|Amazon PLCC Free-...|false|   Easy Ship|       null|\n|    2|404-0687676-7273146|04-30-22|             Shipped|    Amazon|     Amazon.in|         Expedited| JNE3371|      JNE3371-KR-XL|        kurta|  XL|B07WV4JV4D|       Shipped|  1|     INR| 329.0|NAVI MUMBAI|   MAHARASHTRA|        410210.0|          IN|IN Core Free Ship...| true|        null|       null|\n|    3|403-9615377-8133951|04-30-22|           Cancelled|  Merchant|     Amazon.in|          Standard|   J0341|         J0341-DR-L|Western Dress|   L|B099NRCT7B|          null|  0|     INR|753.33| PUDUCHERRY|    PUDUCHERRY|        605008.0|          IN|                null|false|   Easy Ship|       null|\n|    4|407-1069790-7240320|04-30-22|             Shipped|    Amazon|     Amazon.in|         Expedited| JNE3671|    JNE3671-TU-XXXL|          Top| 3XL|B098714BZP|       Shipped|  1|     INR| 574.0|    CHENNAI|    TAMIL NADU|        600073.0|          IN|                null|false|        null|       null|\n|    5|404-1490984-4578765|04-30-22|             Shipped|    Amazon|     Amazon.in|         Expedited|  SET264|    SET264-KR-NP-XL|          Set|  XL|B08YN7XDSG|       Shipped|  1|     INR| 824.0|  GHAZIABAD| UTTAR PRADESH|        201102.0|          IN|IN Core Free Ship...|false|        null|       null|\n|    6|408-5748499-6859555|04-30-22|             Shipped|    Amazon|     Amazon.in|         Expedited|   J0095|        J0095-SET-L|          Set|   L|B08CMHNWBN|       Shipped|  1|     INR| 653.0| CHANDIGARH|    CHANDIGARH|        160036.0|          IN|IN Core Free Ship...|false|        null|       null|\n|    7|406-7807733-3785945|04-30-22|Shipped - Deliver...|  Merchant|     Amazon.in|          Standard| JNE3405|       JNE3405-KR-S|        kurta|   S|B081WX4G4Q|       Shipped|  1|     INR| 399.0|  HYDERABAD|     TELANGANA|        500032.0|          IN|Amazon PLCC Free-...|false|   Easy Ship|       null|\n|    8|407-5443024-5233168|04-30-22|           Cancelled|    Amazon|     Amazon.in|         Expedited|  SET200|SET200-KR-NP-A-XXXL|          Set| 3XL|B08L91ZZXN|     Cancelled|  0|    null|  null|  HYDERABAD|     TELANGANA|        500008.0|          IN|IN Core Free Ship...|false|        null|       null|\n|    9|402-4393761-0311520|04-30-22|             Shipped|    Amazon|     Amazon.in|         Expedited| JNE3461|     JNE3461-KR-XXL|        kurta| XXL|B08B3XF5MH|       Shipped|  1|     INR| 363.0|    Chennai|    TAMIL NADU|        600041.0|          IN|                null|false|        null|       null|\n|   10|407-5633625-6970741|04-30-22|             Shipped|    Amazon|     Amazon.in|         Expedited| JNE3160|     JNE3160-KR-G-S|        kurta|   S|B07K3YQLF1|       Shipped|  1|     INR| 685.0|    CHENNAI|    TAMIL NADU|        600073.0|          IN|                null|false|        null|       null|\n|   11|171-4638481-6326716|04-30-22|             Shipped|    Amazon|     Amazon.in|         Expedited| JNE3500|      JNE3500-KR-XS|        kurta|  XS|B098117DJ3|       Shipped|  1|     INR| 364.0|      NOIDA| UTTAR PRADESH|        201303.0|          IN|                null|false|        null|       null|\n|   12|405-5513694-8146768|04-30-22|Shipped - Deliver...|  Merchant|     Amazon.in|          Standard| JNE3405|      JNE3405-KR-XS|        kurta|  XS|B081XCMYXJ|       Shipped|  1|     INR| 399.0|  Amravati.|   MAHARASHTRA|        444606.0|          IN|Amazon PLCC Free-...|false|   Easy Ship|       null|\n|   13|408-7955685-3083534|04-30-22|             Shipped|    Amazon|     Amazon.in|         Expedited|  SET182|    SET182-KR-DH-XS|          Set|  XS|B085HS947T|       Shipped|  1|     INR| 657.0|     MUMBAI|   MAHARASHTRA|        400053.0|          IN|                null|false|        null|       null|\n|   14|408-1298370-1920302|04-30-22|Shipped - Deliver...|  Merchant|     Amazon.in|          Standard|   J0351|        J0351-SET-L|          Set|   L|B09CSSQY4F|       Shipped|  1|     INR| 771.0|     MUMBAI|   MAHARASHTRA|        400053.0|          IN|Amazon PLCC Free-...|false|   Easy Ship|       null|\n|   15|403-4965581-9520319|04-30-22|Shipped - Deliver...|  Merchant|     Amazon.in|          Standard|PJNE3368|    PJNE3368-KR-6XL|        kurta| 6XL|B09PY99SVJ|       Shipped|  1|     INR| 544.0|   GUNTAKAL|ANDHRA PRADESH|        515801.0|          IN|Amazon PLCC Free-...|false|   Easy Ship|       null|\n|   16|406-9379318-6555504|04-30-22|             Shipped|    Amazon|     Amazon.in|         Expedited| JNE3721|     JNE3721-KR-XXL|        kurta| XXL|B099FCT65D|       Shipped|  1|     INR| 329.0|     JAIPUR|     RAJASTHAN|        302020.0|          IN|IN Core Free Ship...|false|        null|       null|\n|   17|405-9013803-8009918|04-30-22|             Shipped|    Amazon|     Amazon.in|         Expedited| JNE3405|      JNE3405-KR-XL|        kurta|  XL|B081WT6GG7|       Shipped|  1|     INR| 399.0|  NEW DELHI|         DELHI|        110074.0|          IN|                null|false|        null|       null|\n|   18|402-4030358-5835511|04-30-22|Shipped - Deliver...|  Merchant|     Amazon.in|          Standard| JNE3697|     JNE3697-KR-XXL|        kurta| XXL|B098133PV5|       Shipped|  1|     INR| 458.0|    Gurgaon|       HARYANA|        122004.0|          IN|Amazon PLCC Free-...|false|   Easy Ship|       null|\n|   19|405-5957858-1051546|04-30-22|             Shipped|    Amazon|     Amazon.in|         Expedited|  SET254|    SET254-KR-NP-XS|          Set|  XS|B0983DDPL6|       Shipped|  1|     INR| 886.0|  BENGALURU|     KARNATAKA|        560017.0|          IN|                null|false|        null|       null|\n+-----+-------------------+--------+--------------------+----------+--------------+------------------+--------+-------------------+-------------+----+----------+--------------+---+--------+------+-----------+--------------+----------------+------------+--------------------+-----+------------+-----------+\nonly showing top 20 rows\n",
					"output_type": "stream"
				}
			]
		},
		{
			"cell_type": "code",
			"source": "column = []",
			"metadata": {},
			"execution_count": null,
			"outputs": []
		},
		{
			"cell_type": "code",
			"source": "df1.isnull().show()   #error",
			"metadata": {
				"trusted": true,
				"tags": []
			},
			"execution_count": 43,
			"outputs": [
				{
					"name": "stdout",
					"text": "AttributeError: 'DataFrame' object has no attribute 'isnull'\n",
					"output_type": "stream"
				}
			]
		},
		{
			"cell_type": "code",
			"source": "df.filter(df.isnull).show()     #error",
			"metadata": {
				"trusted": true,
				"tags": []
			},
			"execution_count": 60,
			"outputs": [
				{
					"name": "stdout",
					"text": "AttributeError: 'DataFrame' object has no attribute 'isnull'\n",
					"output_type": "stream"
				}
			]
		},
		{
			"cell_type": "code",
			"source": "df1.summary().show()",
			"metadata": {
				"trusted": true,
				"tags": []
			},
			"execution_count": 52,
			"outputs": [
				{
					"name": "stdout",
					"text": "+-------+------------------+-------------------+--------+---------+----------+--------------+------------------+------+--------------+--------+------+----------+--------------+------------------+--------+-----------------+--------------------+------------------+------------------+------------+--------------------+------------+\n|summary|             index|           Order ID|    Date|   Status|Fulfilment|Sales Channel |ship-service-level| Style|           SKU|Category|  Size|      ASIN|Courier Status|               Qty|currency|           Amount|           ship-city|        ship-state|  ship-postal-code|ship-country|       promotion-ids|fulfilled-by|\n+-------+------------------+-------------------+--------+---------+----------+--------------+------------------+------+--------------+--------+------+----------+--------------+------------------+--------+-----------------+--------------------+------------------+------------------+------------+--------------------+------------+\n|  count|            128975|             128975|  128975|   128975|    128975|        128975|            128975|128975|        128975|  128975|128975|    128975|        122103|            128975|  121180|           121180|              128942|            128942|            128942|      128942|               79822|       39277|\n|   mean|           64487.0|               null|    null|     null|      null|          null|              null|  null|          null|    null|  null|      null|          null|0.9044310912967629|    null|648.5614647631625|                 1.0|              null| 463966.2365094384|        null|                null|        null|\n| stddev|37232.019821653514|               null|    null|     null|      null|          null|              null|  null|          null|    null|  null|      null|          null|0.3133535856501448|    null|281.2116872291527|                null|              null|191476.76494135408|        null|                null|        null|\n|    min|                 0|171-0000547-8192359|03-31-22|Cancelled|    Amazon|     Amazon.in|         Expedited| AN201|   AN201-RED-M|  Blouse|   3XL|B01LYC0N7Q|     Cancelled|                 0|     INR|              0.0|(Chikmagalur dist...|ANDAMAN & NICOBAR |          110001.0|          IN|Amazon PLCC Free-...|   Easy Ship|\n|    25%|             32237|               null|    null|     null|      null|          null|              null|  null|          null|    null|  null|      null|          null|                 1|    null|            449.0|                 1.0|              null|          382421.0|        null|                null|        null|\n|    50%|             64494|               null|    null|     null|      null|          null|              null|  null|          null|    null|  null|      null|          null|                 1|    null|            605.0|                 1.0|              null|          500033.0|        null|                null|        null|\n|    75%|             96733|               null|    null|     null|      null|          null|              null|  null|          null|    null|  null|      null|          null|                 1|    null|            788.0|                 1.0|              null|          600024.0|        null|                null|        null|\n|    max|            128974|S02-9878098-5959538|06-29-22| Shipping|  Merchant|    Non-Amazon|          Standard|SET462|SET462-KR-NP-S|   kurta|   XXL|B0B4GDJ9MK|     Unshipped|                15|     INR|           5584.0|                लखनऊ|          rajsthan|          989898.0|          IN|VPC-44571-4420185...|   Easy Ship|\n+-------+------------------+-------------------+--------+---------+----------+--------------+------------------+------+--------------+--------+------+----------+--------------+------------------+--------+-----------------+--------------------+------------------+------------------+------------+--------------------+------------+\n",
					"output_type": "stream"
				}
			]
		},
		{
			"cell_type": "code",
			"source": "from pyspark.sql.functions import col,when,count,isnan",
			"metadata": {
				"trusted": true,
				"tags": []
			},
			"execution_count": 54,
			"outputs": [
				{
					"name": "stdout",
					"text": "\n",
					"output_type": "stream"
				}
			]
		},
		{
			"cell_type": "code",
			"source": "df1.select([count(when(isnan(c) | col(c).isNull(), c)).alias(c) for c in df1.columns]\n   ).show()\n#google # error\n\n#learn that null is the no value in any column and NAN is the no value in numeric column only (NAN Not A Number)",
			"metadata": {
				"trusted": true,
				"tags": []
			},
			"execution_count": 57,
			"outputs": [
				{
					"name": "stdout",
					"text": "AnalysisException: cannot resolve 'isnan(B2B)' due to data type mismatch: argument 1 requires (double or float) type, however, 'B2B' is of boolean type.;\n'Aggregate [count(CASE WHEN (isnan(cast(index#479 as double)) OR isnull(index#479)) THEN index END) AS index#4862L, count(CASE WHEN (isnan(cast(Order ID#480 as double)) OR isnull(Order ID#480)) THEN Order ID END) AS Order ID#4864L, count(CASE WHEN (isnan(cast(Date#481 as double)) OR isnull(Date#481)) THEN Date END) AS Date#4866L, count(CASE WHEN (isnan(cast(Status#482 as double)) OR isnull(Status#482)) THEN Status END) AS Status#4868L, count(CASE WHEN (isnan(cast(Fulfilment#483 as double)) OR isnull(Fulfilment#483)) THEN Fulfilment END) AS Fulfilment#4870L, count(CASE WHEN (isnan(cast(Sales Channel #484 as double)) OR isnull(Sales Channel #484)) THEN Sales Channel  END) AS Sales Channel #4872L, count(CASE WHEN (isnan(cast(ship-service-level#485 as double)) OR isnull(ship-service-level#485)) THEN ship-service-level END) AS ship-service-level#4874L, count(CASE WHEN (isnan(cast(Style#486 as double)) OR isnull(Style#486)) THEN Style END) AS Style#4876L, count(CASE WHEN (isnan(cast(SKU#487 as double)) OR isnull(SKU#487)) THEN SKU END) AS SKU#4878L, count(CASE WHEN (isnan(cast(Category#488 as double)) OR isnull(Category#488)) THEN Category END) AS Category#4880L, count(CASE WHEN (isnan(cast(Size#489 as double)) OR isnull(Size#489)) THEN Size END) AS Size#4882L, count(CASE WHEN (isnan(cast(ASIN#490 as double)) OR isnull(ASIN#490)) THEN ASIN END) AS ASIN#4884L, count(CASE WHEN (isnan(cast(Courier Status#491 as double)) OR isnull(Courier Status#491)) THEN Courier Status END) AS Courier Status#4886L, count(CASE WHEN (isnan(cast(Qty#492 as double)) OR isnull(Qty#492)) THEN Qty END) AS Qty#4888L, count(CASE WHEN (isnan(cast(currency#493 as double)) OR isnull(currency#493)) THEN currency END) AS currency#4890L, count(CASE WHEN (isnan(Amount#494) OR isnull(Amount#494)) THEN Amount END) AS Amount#4892L, count(CASE WHEN (isnan(cast(ship-city#495 as double)) OR isnull(ship-city#495)) THEN ship-city END) AS ship-city#4894L, count(CASE WHEN (isnan(cast(ship-state#496 as double)) OR isnull(ship-state#496)) THEN ship-state END) AS ship-state#4896L, count(CASE WHEN (isnan(ship-postal-code#497) OR isnull(ship-postal-code#497)) THEN ship-postal-code END) AS ship-postal-code#4898L, count(CASE WHEN (isnan(cast(ship-country#498 as double)) OR isnull(ship-country#498)) THEN ship-country END) AS ship-country#4900L, count(CASE WHEN (isnan(cast(promotion-ids#499 as double)) OR isnull(promotion-ids#499)) THEN promotion-ids END) AS promotion-ids#4902L, count(CASE WHEN (isnan(B2B#500) OR isnull(B2B#500)) THEN B2B END) AS B2B#4904, count(CASE WHEN (isnan(cast(fulfilled-by#501 as double)) OR isnull(fulfilled-by#501)) THEN fulfilled-by END) AS fulfilled-by#4906L, count(CASE WHEN (isnan(Unnamed: 22#502) OR isnull(Unnamed: 22#502)) THEN Unnamed: 22 END) AS Unnamed: 22#4908]\n+- Relation [index#479,Order ID#480,Date#481,Status#482,Fulfilment#483,Sales Channel #484,ship-service-level#485,Style#486,SKU#487,Category#488,Size#489,ASIN#490,Courier Status#491,Qty#492,currency#493,Amount#494,ship-city#495,ship-state#496,ship-postal-code#497,ship-country#498,promotion-ids#499,B2B#500,fulfilled-by#501,Unnamed: 22#502] csv\n\n",
					"output_type": "stream"
				}
			]
		},
		{
			"cell_type": "code",
			"source": "from pyspark.sql import functions as F\n\n# Assuming df is your DataFrame\nnull_counts = df1.select([F.sum(F.col(c).isNull().cast(\"int\")).alias(c) for c in df1.columns])\n\nnull_counts.show()\n\n# here we done cast because we want to see the string value also if cin don't error come ue to data type mismatch",
			"metadata": {
				"trusted": true,
				"tags": []
			},
			"execution_count": 59,
			"outputs": [
				{
					"name": "stdout",
					"text": "+-----+--------+----+------+----------+--------------+------------------+-----+---+--------+----+----+--------------+---+--------+------+---------+----------+----------------+------------+-------------+---+------------+-----------+\n|index|Order ID|Date|Status|Fulfilment|Sales Channel |ship-service-level|Style|SKU|Category|Size|ASIN|Courier Status|Qty|currency|Amount|ship-city|ship-state|ship-postal-code|ship-country|promotion-ids|B2B|fulfilled-by|Unnamed: 22|\n+-----+--------+----+------+----------+--------------+------------------+-----+---+--------+----+----+--------------+---+--------+------+---------+----------+----------------+------------+-------------+---+------------+-----------+\n|    0|       0|   0|     0|         0|             0|                 0|    0|  0|       0|   0|   0|          6872|  0|    7795|  7795|       33|        33|              33|          33|        49153|  0|       89698|      49050|\n+-----+--------+----+------+----------+--------------+------------------+-----+---+--------+----+----+--------------+---+--------+------+---------+----------+----------------+------------+-------------+---+------------+-----------+\n",
					"output_type": "stream"
				}
			]
		},
		{
			"cell_type": "code",
			"source": "# .cast(\"int\"):\n\n# The .cast(\"int\") converts the True/False result of isNull() to 1 (for True, meaning the value is null) and 0 (for False, meaning the value is not null).",
			"metadata": {
				"trusted": true,
				"tags": []
			},
			"execution_count": 4,
			"outputs": []
		},
		{
			"cell_type": "code",
			"source": "[                           c for c in df.columns if df.schema[c].datatype not in ['StringType()']]",
			"metadata": {
				"trusted": true,
				"tags": []
			},
			"execution_count": 75,
			"outputs": [
				{
					"name": "stdout",
					"text": "AttributeError: 'StructField' object has no attribute 'datatype'\n",
					"output_type": "stream"
				}
			]
		},
		{
			"cell_type": "code",
			"source": "df.printSchema()",
			"metadata": {
				"trusted": true,
				"tags": []
			},
			"execution_count": 69,
			"outputs": [
				{
					"name": "stdout",
					"text": "root\n |-- prdid: integer (nullable = true)\n |-- name: string (nullable = true)\n |-- price: double (nullable = true)\n |-- category: string (nullable = true)\n",
					"output_type": "stream"
				}
			]
		},
		{
			"cell_type": "code",
			"source": "df.schema['name'].dataType",
			"metadata": {
				"trusted": true,
				"tags": []
			},
			"execution_count": 70,
			"outputs": [
				{
					"name": "stdout",
					"text": "StringType()\n",
					"output_type": "stream"
				}
			]
		},
		{
			"cell_type": "code",
			"source": "df.schema['price'].dataType",
			"metadata": {
				"trusted": true,
				"tags": []
			},
			"execution_count": 71,
			"outputs": [
				{
					"name": "stdout",
					"text": "DoubleType()\n",
					"output_type": "stream"
				}
			]
		},
		{
			"cell_type": "code",
			"source": "df1.printSchema()",
			"metadata": {
				"trusted": true,
				"tags": []
			},
			"execution_count": 72,
			"outputs": [
				{
					"name": "stdout",
					"text": "root\n |-- index: integer (nullable = true)\n |-- Order ID: string (nullable = true)\n |-- Date: string (nullable = true)\n |-- Status: string (nullable = true)\n |-- Fulfilment: string (nullable = true)\n |-- Sales Channel : string (nullable = true)\n |-- ship-service-level: string (nullable = true)\n |-- Style: string (nullable = true)\n |-- SKU: string (nullable = true)\n |-- Category: string (nullable = true)\n |-- Size: string (nullable = true)\n |-- ASIN: string (nullable = true)\n |-- Courier Status: string (nullable = true)\n |-- Qty: integer (nullable = true)\n |-- currency: string (nullable = true)\n |-- Amount: double (nullable = true)\n |-- ship-city: string (nullable = true)\n |-- ship-state: string (nullable = true)\n |-- ship-postal-code: double (nullable = true)\n |-- ship-country: string (nullable = true)\n |-- promotion-ids: string (nullable = true)\n |-- B2B: boolean (nullable = true)\n |-- fulfilled-by: string (nullable = true)\n |-- Unnamed: 22: boolean (nullable = true)\n",
					"output_type": "stream"
				}
			]
		},
		{
			"cell_type": "code",
			"source": "non_string_columns = [column for column, dtype in df.dtypes if dtype != 'string']\nnon_string_df = df.select(non_string_columns)\n\n# very easy ",
			"metadata": {
				"trusted": true,
				"tags": []
			},
			"execution_count": 81,
			"outputs": [
				{
					"name": "stdout",
					"text": "\n",
					"output_type": "stream"
				}
			]
		},
		{
			"cell_type": "code",
			"source": "df1.dtypes",
			"metadata": {
				"trusted": true,
				"tags": []
			},
			"execution_count": 91,
			"outputs": [
				{
					"name": "stdout",
					"text": "[('index', 'int'), ('Order ID', 'string'), ('Date', 'string'), ('Status', 'string'), ('Fulfilment', 'string'), ('Sales Channel ', 'string'), ('ship-service-level', 'string'), ('Style', 'string'), ('SKU', 'string'), ('Category', 'string'), ('Size', 'string'), ('ASIN', 'string'), ('Courier Status', 'string'), ('Qty', 'int'), ('currency', 'string'), ('Amount', 'double'), ('ship-city', 'string'), ('ship-state', 'string'), ('ship-postal-code', 'double'), ('ship-country', 'string'), ('promotion-ids', 'string'), ('B2B', 'boolean'), ('fulfilled-by', 'string'), ('Unnamed: 22', 'boolean')]\n",
					"output_type": "stream"
				}
			]
		},
		{
			"cell_type": "code",
			"source": "non_string_col = [col for col,dtype in df1.dtypes if dtype != 'string' and dtype != 'boolean']",
			"metadata": {
				"trusted": true,
				"tags": []
			},
			"execution_count": 99,
			"outputs": [
				{
					"name": "stdout",
					"text": "\n",
					"output_type": "stream"
				}
			]
		},
		{
			"cell_type": "code",
			"source": "numberic_df1 = df1.select(non_string_col)",
			"metadata": {
				"trusted": true,
				"tags": []
			},
			"execution_count": 100,
			"outputs": [
				{
					"name": "stdout",
					"text": "\n",
					"output_type": "stream"
				}
			]
		},
		{
			"cell_type": "code",
			"source": "numberic_df1.show()",
			"metadata": {
				"trusted": true,
				"tags": []
			},
			"execution_count": 119,
			"outputs": [
				{
					"name": "stdout",
					"text": "+-----+---+------+----------------+\n|index|Qty|Amount|ship-postal-code|\n+-----+---+------+----------------+\n|    0|  0|647.62|        400081.0|\n|    1|  1| 406.0|        560085.0|\n|    2|  1| 329.0|        410210.0|\n|    3|  0|753.33|        605008.0|\n|    4|  1| 574.0|        600073.0|\n|    5|  1| 824.0|        201102.0|\n|    6|  1| 653.0|        160036.0|\n|    7|  1| 399.0|        500032.0|\n|    8|  0|  null|        500008.0|\n|    9|  1| 363.0|        600041.0|\n|   10|  1| 685.0|        600073.0|\n|   11|  1| 364.0|        201303.0|\n|   12|  1| 399.0|        444606.0|\n|   13|  1| 657.0|        400053.0|\n|   14|  1| 771.0|        400053.0|\n|   15|  1| 544.0|        515801.0|\n|   16|  1| 329.0|        302020.0|\n|   17|  1| 399.0|        110074.0|\n|   18|  1| 458.0|        122004.0|\n|   19|  1| 886.0|        560017.0|\n+-----+---+------+----------------+\nonly showing top 20 rows\n",
					"output_type": "stream"
				}
			]
		},
		{
			"cell_type": "code",
			"source": "from pyspark.sql.functions import col, isnan, sum as sum_  ",
			"metadata": {
				"trusted": true,
				"tags": []
			},
			"execution_count": 116,
			"outputs": [
				{
					"name": "stdout",
					"text": "\n",
					"output_type": "stream"
				}
			]
		},
		{
			"cell_type": "code",
			"source": "numberic_df1.select(sum(isnan(col('Amount'))).alias('NaN_Count'))",
			"metadata": {
				"trusted": true,
				"tags": []
			},
			"execution_count": 115,
			"outputs": [
				{
					"name": "stdout",
					"text": "TypeError: Column is not iterable\n",
					"output_type": "stream"
				}
			]
		},
		{
			"cell_type": "code",
			"source": "nan_count = numberic_df1.select(sum_(isnan(col('Amount'))).alias('NaN_Count'))",
			"metadata": {
				"trusted": true,
				"tags": []
			},
			"execution_count": 120,
			"outputs": [
				{
					"name": "stdout",
					"text": "AnalysisException: cannot resolve 'sum(isnan(Amount))' due to data type mismatch: function sum requires numeric or interval types, not boolean;\n'Aggregate [sum(isnan(Amount#494)) AS NaN_Count#5642]\n+- Project [index#479, Qty#492, Amount#494, ship-postal-code#497]\n   +- Relation [index#479,Order ID#480,Date#481,Status#482,Fulfilment#483,Sales Channel #484,ship-service-level#485,Style#486,SKU#487,Category#488,Size#489,ASIN#490,Courier Status#491,Qty#492,currency#493,Amount#494,ship-city#495,ship-state#496,ship-postal-code#497,ship-country#498,promotion-ids#499,B2B#500,fulfilled-by#501,Unnamed: 22#502] csv\n\n",
					"output_type": "stream"
				}
			]
		},
		{
			"cell_type": "code",
			"source": "nan_count = numberic_df1.select(sum_(isnan(col('Amount')).cast('int')).alias('NaN_Count'))",
			"metadata": {
				"trusted": true,
				"tags": []
			},
			"execution_count": 122,
			"outputs": [
				{
					"name": "stdout",
					"text": "\n",
					"output_type": "stream"
				}
			]
		},
		{
			"cell_type": "code",
			"source": "nan_count.show()",
			"metadata": {
				"trusted": true,
				"tags": []
			},
			"execution_count": 124,
			"outputs": [
				{
					"name": "stdout",
					"text": "+---------+\n|NaN_Count|\n+---------+\n|        0|\n+---------+\n",
					"output_type": "stream"
				}
			]
		},
		{
			"cell_type": "code",
			"source": "# Count the number of null values in each column\nnan_counts = numberic_df1.select([F.count(F.when(F.isnull(c), c)).alias(c) for c in numberic_df1.columns])\nnan_counts.show()\n# null values\n",
			"metadata": {
				"trusted": true,
				"tags": []
			},
			"execution_count": 126,
			"outputs": [
				{
					"name": "stdout",
					"text": "+-----+---+------+----------------+\n|index|Qty|Amount|ship-postal-code|\n+-----+---+------+----------------+\n|    0|  0|  7795|              33|\n+-----+---+------+----------------+\n",
					"output_type": "stream"
				}
			]
		},
		{
			"cell_type": "code",
			"source": "from pyspark.sql import functions as F\n\n# Count the number of NaN values in each column\nnan_counts = numberic_df1.select([F.count(F.when(F.isnan(c), c)).alias(c) for c in numberic_df1.columns])\nnan_counts.show()\n# NAN values",
			"metadata": {
				"trusted": true,
				"tags": []
			},
			"execution_count": 127,
			"outputs": [
				{
					"name": "stdout",
					"text": "+-----+---+------+----------------+\n|index|Qty|Amount|ship-postal-code|\n+-----+---+------+----------------+\n|    0|  0|     0|               0|\n+-----+---+------+----------------+\n",
					"output_type": "stream"
				}
			]
		},
		{
			"cell_type": "code",
			"source": "# our df(amazon ) has null value and not NAN values in nuumeric data columns",
			"metadata": {
				"trusted": true,
				"tags": []
			},
			"execution_count": 5,
			"outputs": []
		},
		{
			"cell_type": "code",
			"source": "df1.columns\ndf1.dtypes",
			"metadata": {
				"trusted": true,
				"tags": []
			},
			"execution_count": 141,
			"outputs": [
				{
					"name": "stdout",
					"text": "[('index', 'int'), ('Order ID', 'string'), ('Date', 'string'), ('Status', 'string'), ('Fulfilment', 'string'), ('Sales Channel ', 'string'), ('ship-service-level', 'string'), ('Style', 'string'), ('SKU', 'string'), ('Category', 'string'), ('Size', 'string'), ('ASIN', 'string'), ('Courier Status', 'string'), ('Qty', 'int'), ('currency', 'string'), ('Amount', 'double'), ('ship-city', 'string'), ('ship-state', 'string'), ('ship-postal-code', 'double'), ('ship-country', 'string'), ('promotion-ids', 'string'), ('B2B', 'boolean'), ('fulfilled-by', 'string'), ('Unnamed: 22', 'boolean')]\n",
					"output_type": "stream"
				}
			]
		},
		{
			"cell_type": "code",
			"source": "df1.show()",
			"metadata": {
				"trusted": true,
				"tags": []
			},
			"execution_count": 129,
			"outputs": [
				{
					"name": "stdout",
					"text": "+-----+-------------------+--------+--------------------+----------+--------------+------------------+--------+-------------------+-------------+----+----------+--------------+---+--------+------+-----------+--------------+----------------+------------+--------------------+-----+------------+-----------+\n|index|           Order ID|    Date|              Status|Fulfilment|Sales Channel |ship-service-level|   Style|                SKU|     Category|Size|      ASIN|Courier Status|Qty|currency|Amount|  ship-city|    ship-state|ship-postal-code|ship-country|       promotion-ids|  B2B|fulfilled-by|Unnamed: 22|\n+-----+-------------------+--------+--------------------+----------+--------------+------------------+--------+-------------------+-------------+----+----------+--------------+---+--------+------+-----------+--------------+----------------+------------+--------------------+-----+------------+-----------+\n|    0|405-8078784-5731545|04-30-22|           Cancelled|  Merchant|     Amazon.in|          Standard|  SET389|     SET389-KR-NP-S|          Set|   S|B09KXVBD7Z|          null|  0|     INR|647.62|     MUMBAI|   MAHARASHTRA|        400081.0|          IN|                null|false|   Easy Ship|       null|\n|    1|171-9198151-1101146|04-30-22|Shipped - Deliver...|  Merchant|     Amazon.in|          Standard| JNE3781|    JNE3781-KR-XXXL|        kurta| 3XL|B09K3WFS32|       Shipped|  1|     INR| 406.0|  BENGALURU|     KARNATAKA|        560085.0|          IN|Amazon PLCC Free-...|false|   Easy Ship|       null|\n|    2|404-0687676-7273146|04-30-22|             Shipped|    Amazon|     Amazon.in|         Expedited| JNE3371|      JNE3371-KR-XL|        kurta|  XL|B07WV4JV4D|       Shipped|  1|     INR| 329.0|NAVI MUMBAI|   MAHARASHTRA|        410210.0|          IN|IN Core Free Ship...| true|        null|       null|\n|    3|403-9615377-8133951|04-30-22|           Cancelled|  Merchant|     Amazon.in|          Standard|   J0341|         J0341-DR-L|Western Dress|   L|B099NRCT7B|          null|  0|     INR|753.33| PUDUCHERRY|    PUDUCHERRY|        605008.0|          IN|                null|false|   Easy Ship|       null|\n|    4|407-1069790-7240320|04-30-22|             Shipped|    Amazon|     Amazon.in|         Expedited| JNE3671|    JNE3671-TU-XXXL|          Top| 3XL|B098714BZP|       Shipped|  1|     INR| 574.0|    CHENNAI|    TAMIL NADU|        600073.0|          IN|                null|false|        null|       null|\n|    5|404-1490984-4578765|04-30-22|             Shipped|    Amazon|     Amazon.in|         Expedited|  SET264|    SET264-KR-NP-XL|          Set|  XL|B08YN7XDSG|       Shipped|  1|     INR| 824.0|  GHAZIABAD| UTTAR PRADESH|        201102.0|          IN|IN Core Free Ship...|false|        null|       null|\n|    6|408-5748499-6859555|04-30-22|             Shipped|    Amazon|     Amazon.in|         Expedited|   J0095|        J0095-SET-L|          Set|   L|B08CMHNWBN|       Shipped|  1|     INR| 653.0| CHANDIGARH|    CHANDIGARH|        160036.0|          IN|IN Core Free Ship...|false|        null|       null|\n|    7|406-7807733-3785945|04-30-22|Shipped - Deliver...|  Merchant|     Amazon.in|          Standard| JNE3405|       JNE3405-KR-S|        kurta|   S|B081WX4G4Q|       Shipped|  1|     INR| 399.0|  HYDERABAD|     TELANGANA|        500032.0|          IN|Amazon PLCC Free-...|false|   Easy Ship|       null|\n|    8|407-5443024-5233168|04-30-22|           Cancelled|    Amazon|     Amazon.in|         Expedited|  SET200|SET200-KR-NP-A-XXXL|          Set| 3XL|B08L91ZZXN|     Cancelled|  0|    null|  null|  HYDERABAD|     TELANGANA|        500008.0|          IN|IN Core Free Ship...|false|        null|       null|\n|    9|402-4393761-0311520|04-30-22|             Shipped|    Amazon|     Amazon.in|         Expedited| JNE3461|     JNE3461-KR-XXL|        kurta| XXL|B08B3XF5MH|       Shipped|  1|     INR| 363.0|    Chennai|    TAMIL NADU|        600041.0|          IN|                null|false|        null|       null|\n|   10|407-5633625-6970741|04-30-22|             Shipped|    Amazon|     Amazon.in|         Expedited| JNE3160|     JNE3160-KR-G-S|        kurta|   S|B07K3YQLF1|       Shipped|  1|     INR| 685.0|    CHENNAI|    TAMIL NADU|        600073.0|          IN|                null|false|        null|       null|\n|   11|171-4638481-6326716|04-30-22|             Shipped|    Amazon|     Amazon.in|         Expedited| JNE3500|      JNE3500-KR-XS|        kurta|  XS|B098117DJ3|       Shipped|  1|     INR| 364.0|      NOIDA| UTTAR PRADESH|        201303.0|          IN|                null|false|        null|       null|\n|   12|405-5513694-8146768|04-30-22|Shipped - Deliver...|  Merchant|     Amazon.in|          Standard| JNE3405|      JNE3405-KR-XS|        kurta|  XS|B081XCMYXJ|       Shipped|  1|     INR| 399.0|  Amravati.|   MAHARASHTRA|        444606.0|          IN|Amazon PLCC Free-...|false|   Easy Ship|       null|\n|   13|408-7955685-3083534|04-30-22|             Shipped|    Amazon|     Amazon.in|         Expedited|  SET182|    SET182-KR-DH-XS|          Set|  XS|B085HS947T|       Shipped|  1|     INR| 657.0|     MUMBAI|   MAHARASHTRA|        400053.0|          IN|                null|false|        null|       null|\n|   14|408-1298370-1920302|04-30-22|Shipped - Deliver...|  Merchant|     Amazon.in|          Standard|   J0351|        J0351-SET-L|          Set|   L|B09CSSQY4F|       Shipped|  1|     INR| 771.0|     MUMBAI|   MAHARASHTRA|        400053.0|          IN|Amazon PLCC Free-...|false|   Easy Ship|       null|\n|   15|403-4965581-9520319|04-30-22|Shipped - Deliver...|  Merchant|     Amazon.in|          Standard|PJNE3368|    PJNE3368-KR-6XL|        kurta| 6XL|B09PY99SVJ|       Shipped|  1|     INR| 544.0|   GUNTAKAL|ANDHRA PRADESH|        515801.0|          IN|Amazon PLCC Free-...|false|   Easy Ship|       null|\n|   16|406-9379318-6555504|04-30-22|             Shipped|    Amazon|     Amazon.in|         Expedited| JNE3721|     JNE3721-KR-XXL|        kurta| XXL|B099FCT65D|       Shipped|  1|     INR| 329.0|     JAIPUR|     RAJASTHAN|        302020.0|          IN|IN Core Free Ship...|false|        null|       null|\n|   17|405-9013803-8009918|04-30-22|             Shipped|    Amazon|     Amazon.in|         Expedited| JNE3405|      JNE3405-KR-XL|        kurta|  XL|B081WT6GG7|       Shipped|  1|     INR| 399.0|  NEW DELHI|         DELHI|        110074.0|          IN|                null|false|        null|       null|\n|   18|402-4030358-5835511|04-30-22|Shipped - Deliver...|  Merchant|     Amazon.in|          Standard| JNE3697|     JNE3697-KR-XXL|        kurta| XXL|B098133PV5|       Shipped|  1|     INR| 458.0|    Gurgaon|       HARYANA|        122004.0|          IN|Amazon PLCC Free-...|false|   Easy Ship|       null|\n|   19|405-5957858-1051546|04-30-22|             Shipped|    Amazon|     Amazon.in|         Expedited|  SET254|    SET254-KR-NP-XS|          Set|  XS|B0983DDPL6|       Shipped|  1|     INR| 886.0|  BENGALURU|     KARNATAKA|        560017.0|          IN|                null|false|        null|       null|\n+-----+-------------------+--------+--------------------+----------+--------------+------------------+--------+-------------------+-------------+----+----------+--------------+---+--------+------+-----------+--------------+----------------+------------+--------------------+-----+------------+-----------+\nonly showing top 20 rows\n",
					"output_type": "stream"
				}
			]
		},
		{
			"cell_type": "code",
			"source": "df1.groupBy('Status').agg(sum('Amount')).show()",
			"metadata": {
				"trusted": true,
				"tags": []
			},
			"execution_count": 137,
			"outputs": [
				{
					"name": "stdout",
					"text": "+--------------------+-----------------+\n|              Status|      sum(Amount)|\n+--------------------+-----------------+\n|Shipped - Deliver...|      1.8650815E7|\n|Shipped - Returne...|        1269644.0|\n|             Shipped|      5.0324255E7|\n|           Cancelled|6919284.299999994|\n|             Pending|         430271.0|\n|Shipped - Rejecte...|           7295.0|\n|Shipped - Returni...|         107620.0|\n| Shipped - Picked Up|         661252.0|\n|Shipped - Out for...|          26971.0|\n|Shipped - Lost in...|           1997.0|\n|            Shipping|             null|\n|   Shipped - Damaged|           1136.0|\n|Pending - Waiting...|         192138.0|\n+--------------------+-----------------+\n",
					"output_type": "stream"
				}
			]
		},
		{
			"cell_type": "code",
			"source": "from pyspark.sql.functions import sum,avg,min,max,count",
			"metadata": {
				"trusted": true,
				"tags": []
			},
			"execution_count": 135,
			"outputs": [
				{
					"name": "stdout",
					"text": "\n",
					"output_type": "stream"
				}
			]
		},
		{
			"cell_type": "code",
			"source": "df1.groupBy('Status').agg(sum('Amount'),count('Qty')).show()",
			"metadata": {
				"trusted": true,
				"tags": []
			},
			"execution_count": 149,
			"outputs": [
				{
					"name": "stdout",
					"text": "+--------------------+-----------------+----------+\n|              Status|      sum(Amount)|count(Qty)|\n+--------------------+-----------------+----------+\n|Shipped - Deliver...|      1.8650815E7|     28769|\n|Shipped - Returne...|        1269644.0|      1953|\n|             Shipped|      5.0324255E7|     77804|\n|           Cancelled|6919284.299999995|     18332|\n|             Pending|         430271.0|       658|\n|Shipped - Rejecte...|           7295.0|        11|\n|Shipped - Returni...|         107620.0|       145|\n| Shipped - Picked Up|         661252.0|       973|\n|Shipped - Out for...|          26971.0|        35|\n|Shipped - Lost in...|           1997.0|         5|\n|Pending - Waiting...|         192138.0|       281|\n|            Shipping|             null|         8|\n|   Shipped - Damaged|           1136.0|         1|\n+--------------------+-----------------+----------+\n",
					"output_type": "stream"
				}
			]
		},
		{
			"cell_type": "code",
			"source": "df1.groupBy('Status').agg(sum('Amount'),count('Qty'),min('Amount')).show()",
			"metadata": {
				"trusted": true,
				"tags": []
			},
			"execution_count": 151,
			"outputs": [
				{
					"name": "stdout",
					"text": "+--------------------+-----------------+----------+-----------+\n|              Status|      sum(Amount)|count(Qty)|min(Amount)|\n+--------------------+-----------------+----------+-----------+\n|Shipped - Deliver...|      1.8650815E7|     28769|        0.0|\n|Shipped - Returne...|        1269644.0|      1953|        0.0|\n|Shipped - Rejecte...|           7295.0|        11|      297.0|\n|Shipped - Lost in...|           1997.0|         5|        0.0|\n|             Shipped|      5.0324255E7|     77804|        0.0|\n|           Cancelled|6919284.299999994|     18332|      218.1|\n| Shipped - Picked Up|         661252.0|       973|        0.0|\n|Shipped - Returni...|         107620.0|       145|        0.0|\n|Shipped - Out for...|          26971.0|        35|      301.0|\n|             Pending|         430271.0|       658|        0.0|\n|            Shipping|             null|         8|       null|\n|   Shipped - Damaged|           1136.0|         1|     1136.0|\n|Pending - Waiting...|         192138.0|       281|        0.0|\n+--------------------+-----------------+----------+-----------+\n",
					"output_type": "stream"
				}
			]
		},
		{
			"cell_type": "code",
			"source": "df1.groupBy('Fulfilment').count().show()",
			"metadata": {
				"trusted": true,
				"tags": []
			},
			"execution_count": 152,
			"outputs": [
				{
					"name": "stdout",
					"text": "+----------+-----+\n|Fulfilment|count|\n+----------+-----+\n|    Amazon|89698|\n|  Merchant|39277|\n+----------+-----+\n",
					"output_type": "stream"
				}
			]
		},
		{
			"cell_type": "code",
			"source": "df1.groupBy('Fulfilment').where(col('ship-city')=='Mumbai').show()",
			"metadata": {
				"trusted": true,
				"tags": []
			},
			"execution_count": 164,
			"outputs": [
				{
					"name": "stdout",
					"text": "AttributeError: 'GroupedData' object has no attribute 'where'\n",
					"output_type": "stream"
				}
			]
		},
		{
			"cell_type": "code",
			"source": "df1.groupBy('Fulfilment').agg(sum('Amount'),avg('Amount'),max('Amount'),min('Amount')).show()",
			"metadata": {
				"trusted": true,
				"tags": []
			},
			"execution_count": 166,
			"outputs": [
				{
					"name": "stdout",
					"text": "+----------+--------------------+-----------------+-----------+-----------+\n|Fulfilment|         sum(Amount)|      avg(Amount)|max(Amount)|min(Amount)|\n+----------+--------------------+-----------------+-----------+-----------+\n|    Amazon|         5.4322151E7|649.4835064981647|     5584.0|        0.0|\n|  Merchant|2.4270527300000004E7|646.5072134466318|     5495.0|        0.0|\n+----------+--------------------+-----------------+-----------+-----------+\n",
					"output_type": "stream"
				}
			]
		},
		{
			"cell_type": "code",
			"source": "df1.groupBy('Fulfilment').agg(sum('Amount'),avg('Amount'),max('Amount'),min('Amount')).where(col('Fulfilment')== 'Amazon').show()",
			"metadata": {
				"trusted": true,
				"tags": []
			},
			"execution_count": 168,
			"outputs": [
				{
					"name": "stdout",
					"text": "+----------+-----------+-----------------+-----------+-----------+\n|Fulfilment|sum(Amount)|      avg(Amount)|max(Amount)|min(Amount)|\n+----------+-----------+-----------------+-----------+-----------+\n|    Amazon|5.4322151E7|649.4835064981647|     5584.0|        0.0|\n+----------+-----------+-----------------+-----------+-----------+\n",
					"output_type": "stream"
				}
			]
		},
		{
			"cell_type": "code",
			"source": "from pyspark.sql.functions import desc, asc",
			"metadata": {
				"trusted": true,
				"tags": []
			},
			"execution_count": 169,
			"outputs": [
				{
					"name": "stdout",
					"text": "\n",
					"output_type": "stream"
				}
			]
		},
		{
			"cell_type": "code",
			"source": "df1.createOrReplaceTempView('sales')",
			"metadata": {
				"trusted": true,
				"tags": []
			},
			"execution_count": 170,
			"outputs": [
				{
					"name": "stdout",
					"text": "\n",
					"output_type": "stream"
				}
			]
		},
		{
			"cell_type": "code",
			"source": "",
			"metadata": {
				"trusted": true,
				"tags": []
			},
			"execution_count": null,
			"outputs": []
		},
		{
			"cell_type": "code",
			"source": "spark1.sql('select * from sales').show()",
			"metadata": {
				"trusted": true,
				"tags": []
			},
			"execution_count": 172,
			"outputs": [
				{
					"name": "stdout",
					"text": "+-----+-------------------+--------+--------------------+----------+--------------+------------------+--------+-------------------+-------------+----+----------+--------------+---+--------+------+-----------+--------------+----------------+------------+--------------------+-----+------------+-----------+\n|index|           Order ID|    Date|              Status|Fulfilment|Sales Channel |ship-service-level|   Style|                SKU|     Category|Size|      ASIN|Courier Status|Qty|currency|Amount|  ship-city|    ship-state|ship-postal-code|ship-country|       promotion-ids|  B2B|fulfilled-by|Unnamed: 22|\n+-----+-------------------+--------+--------------------+----------+--------------+------------------+--------+-------------------+-------------+----+----------+--------------+---+--------+------+-----------+--------------+----------------+------------+--------------------+-----+------------+-----------+\n|    0|405-8078784-5731545|04-30-22|           Cancelled|  Merchant|     Amazon.in|          Standard|  SET389|     SET389-KR-NP-S|          Set|   S|B09KXVBD7Z|          null|  0|     INR|647.62|     MUMBAI|   MAHARASHTRA|        400081.0|          IN|                null|false|   Easy Ship|       null|\n|    1|171-9198151-1101146|04-30-22|Shipped - Deliver...|  Merchant|     Amazon.in|          Standard| JNE3781|    JNE3781-KR-XXXL|        kurta| 3XL|B09K3WFS32|       Shipped|  1|     INR| 406.0|  BENGALURU|     KARNATAKA|        560085.0|          IN|Amazon PLCC Free-...|false|   Easy Ship|       null|\n|    2|404-0687676-7273146|04-30-22|             Shipped|    Amazon|     Amazon.in|         Expedited| JNE3371|      JNE3371-KR-XL|        kurta|  XL|B07WV4JV4D|       Shipped|  1|     INR| 329.0|NAVI MUMBAI|   MAHARASHTRA|        410210.0|          IN|IN Core Free Ship...| true|        null|       null|\n|    3|403-9615377-8133951|04-30-22|           Cancelled|  Merchant|     Amazon.in|          Standard|   J0341|         J0341-DR-L|Western Dress|   L|B099NRCT7B|          null|  0|     INR|753.33| PUDUCHERRY|    PUDUCHERRY|        605008.0|          IN|                null|false|   Easy Ship|       null|\n|    4|407-1069790-7240320|04-30-22|             Shipped|    Amazon|     Amazon.in|         Expedited| JNE3671|    JNE3671-TU-XXXL|          Top| 3XL|B098714BZP|       Shipped|  1|     INR| 574.0|    CHENNAI|    TAMIL NADU|        600073.0|          IN|                null|false|        null|       null|\n|    5|404-1490984-4578765|04-30-22|             Shipped|    Amazon|     Amazon.in|         Expedited|  SET264|    SET264-KR-NP-XL|          Set|  XL|B08YN7XDSG|       Shipped|  1|     INR| 824.0|  GHAZIABAD| UTTAR PRADESH|        201102.0|          IN|IN Core Free Ship...|false|        null|       null|\n|    6|408-5748499-6859555|04-30-22|             Shipped|    Amazon|     Amazon.in|         Expedited|   J0095|        J0095-SET-L|          Set|   L|B08CMHNWBN|       Shipped|  1|     INR| 653.0| CHANDIGARH|    CHANDIGARH|        160036.0|          IN|IN Core Free Ship...|false|        null|       null|\n|    7|406-7807733-3785945|04-30-22|Shipped - Deliver...|  Merchant|     Amazon.in|          Standard| JNE3405|       JNE3405-KR-S|        kurta|   S|B081WX4G4Q|       Shipped|  1|     INR| 399.0|  HYDERABAD|     TELANGANA|        500032.0|          IN|Amazon PLCC Free-...|false|   Easy Ship|       null|\n|    8|407-5443024-5233168|04-30-22|           Cancelled|    Amazon|     Amazon.in|         Expedited|  SET200|SET200-KR-NP-A-XXXL|          Set| 3XL|B08L91ZZXN|     Cancelled|  0|    null|  null|  HYDERABAD|     TELANGANA|        500008.0|          IN|IN Core Free Ship...|false|        null|       null|\n|    9|402-4393761-0311520|04-30-22|             Shipped|    Amazon|     Amazon.in|         Expedited| JNE3461|     JNE3461-KR-XXL|        kurta| XXL|B08B3XF5MH|       Shipped|  1|     INR| 363.0|    Chennai|    TAMIL NADU|        600041.0|          IN|                null|false|        null|       null|\n|   10|407-5633625-6970741|04-30-22|             Shipped|    Amazon|     Amazon.in|         Expedited| JNE3160|     JNE3160-KR-G-S|        kurta|   S|B07K3YQLF1|       Shipped|  1|     INR| 685.0|    CHENNAI|    TAMIL NADU|        600073.0|          IN|                null|false|        null|       null|\n|   11|171-4638481-6326716|04-30-22|             Shipped|    Amazon|     Amazon.in|         Expedited| JNE3500|      JNE3500-KR-XS|        kurta|  XS|B098117DJ3|       Shipped|  1|     INR| 364.0|      NOIDA| UTTAR PRADESH|        201303.0|          IN|                null|false|        null|       null|\n|   12|405-5513694-8146768|04-30-22|Shipped - Deliver...|  Merchant|     Amazon.in|          Standard| JNE3405|      JNE3405-KR-XS|        kurta|  XS|B081XCMYXJ|       Shipped|  1|     INR| 399.0|  Amravati.|   MAHARASHTRA|        444606.0|          IN|Amazon PLCC Free-...|false|   Easy Ship|       null|\n|   13|408-7955685-3083534|04-30-22|             Shipped|    Amazon|     Amazon.in|         Expedited|  SET182|    SET182-KR-DH-XS|          Set|  XS|B085HS947T|       Shipped|  1|     INR| 657.0|     MUMBAI|   MAHARASHTRA|        400053.0|          IN|                null|false|        null|       null|\n|   14|408-1298370-1920302|04-30-22|Shipped - Deliver...|  Merchant|     Amazon.in|          Standard|   J0351|        J0351-SET-L|          Set|   L|B09CSSQY4F|       Shipped|  1|     INR| 771.0|     MUMBAI|   MAHARASHTRA|        400053.0|          IN|Amazon PLCC Free-...|false|   Easy Ship|       null|\n|   15|403-4965581-9520319|04-30-22|Shipped - Deliver...|  Merchant|     Amazon.in|          Standard|PJNE3368|    PJNE3368-KR-6XL|        kurta| 6XL|B09PY99SVJ|       Shipped|  1|     INR| 544.0|   GUNTAKAL|ANDHRA PRADESH|        515801.0|          IN|Amazon PLCC Free-...|false|   Easy Ship|       null|\n|   16|406-9379318-6555504|04-30-22|             Shipped|    Amazon|     Amazon.in|         Expedited| JNE3721|     JNE3721-KR-XXL|        kurta| XXL|B099FCT65D|       Shipped|  1|     INR| 329.0|     JAIPUR|     RAJASTHAN|        302020.0|          IN|IN Core Free Ship...|false|        null|       null|\n|   17|405-9013803-8009918|04-30-22|             Shipped|    Amazon|     Amazon.in|         Expedited| JNE3405|      JNE3405-KR-XL|        kurta|  XL|B081WT6GG7|       Shipped|  1|     INR| 399.0|  NEW DELHI|         DELHI|        110074.0|          IN|                null|false|        null|       null|\n|   18|402-4030358-5835511|04-30-22|Shipped - Deliver...|  Merchant|     Amazon.in|          Standard| JNE3697|     JNE3697-KR-XXL|        kurta| XXL|B098133PV5|       Shipped|  1|     INR| 458.0|    Gurgaon|       HARYANA|        122004.0|          IN|Amazon PLCC Free-...|false|   Easy Ship|       null|\n|   19|405-5957858-1051546|04-30-22|             Shipped|    Amazon|     Amazon.in|         Expedited|  SET254|    SET254-KR-NP-XS|          Set|  XS|B0983DDPL6|       Shipped|  1|     INR| 886.0|  BENGALURU|     KARNATAKA|        560017.0|          IN|                null|false|        null|       null|\n+-----+-------------------+--------+--------------------+----------+--------------+------------------+--------+-------------------+-------------+----+----------+--------------+---+--------+------+-----------+--------------+----------------+------------+--------------------+-----+------------+-----------+\nonly showing top 20 rows\n",
					"output_type": "stream"
				}
			]
		},
		{
			"cell_type": "code",
			"source": "spark1.sql(\"select `ship-city`,count(*) from sales group By `ship-city` order by count(*) desc\").show()",
			"metadata": {
				"trusted": true,
				"tags": []
			},
			"execution_count": 173,
			"outputs": [
				{
					"name": "stdout",
					"text": "+-------------+--------+\n|    ship-city|count(1)|\n+-------------+--------+\n|    BENGALURU|   11217|\n|    HYDERABAD|    8074|\n|       MUMBAI|    6126|\n|    NEW DELHI|    5795|\n|      CHENNAI|    5421|\n|         PUNE|    3857|\n|      KOLKATA|    2381|\n|     GURUGRAM|    1868|\n|        THANE|    1701|\n|      LUCKNOW|    1458|\n|        NOIDA|    1419|\n|    GHAZIABAD|    1328|\n|  NAVI MUMBAI|    1263|\n|    AHMEDABAD|    1236|\n|       JAIPUR|     948|\n|    Hyderabad|     919|\n|       Mumbai|     868|\n|   COIMBATORE|     768|\n|        PATNA|     764|\n|VISAKHAPATNAM|     761|\n+-------------+--------+\nonly showing top 20 rows\n",
					"output_type": "stream"
				}
			]
		},
		{
			"cell_type": "code",
			"source": "",
			"metadata": {},
			"execution_count": null,
			"outputs": []
		},
		{
			"cell_type": "code",
			"source": "",
			"metadata": {},
			"execution_count": null,
			"outputs": []
		},
		{
			"cell_type": "code",
			"source": "",
			"metadata": {},
			"execution_count": null,
			"outputs": []
		}
	]
}