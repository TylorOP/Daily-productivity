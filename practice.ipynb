{
 "cells": [
  {
   "cell_type": "code",
   "execution_count": null,
   "id": "18657084",
   "metadata": {},
   "outputs": [],
   "source": []
  },
  {
   "cell_type": "code",
   "execution_count": null,
   "id": "e2348241",
   "metadata": {},
   "outputs": [],
   "source": []
  },
  {
   "cell_type": "code",
   "execution_count": 78,
   "id": "98fbeb0b",
   "metadata": {},
   "outputs": [
    {
     "name": "stdout",
     "output_type": "stream",
     "text": [
      "1\n",
      "1\n",
      "2\n",
      "3\n",
      "5\n"
     ]
    }
   ],
   "source": [
    "def palindrome(t):\n",
    "    a,b = 0,1\n",
    "    for i in range(t):\n",
    "        a,b = b,a+b\n",
    "        print(a)\n",
    "        \n",
    "palindrome(5)"
   ]
  },
  {
   "cell_type": "code",
   "execution_count": 79,
   "id": "506e1da6",
   "metadata": {},
   "outputs": [
    {
     "name": "stdout",
     "output_type": "stream",
     "text": [
      "True\n"
     ]
    }
   ],
   "source": [
    "def prime(s):\n",
    "    if s <= 2:\n",
    "        return False\n",
    "    for i in range(2,int(s**0.5)+1):\n",
    "        if s % i == 0:\n",
    "            return False\n",
    "    return True\n",
    "\n",
    "sample = 17\n",
    "result = prime(sample)\n",
    "print(result)"
   ]
  },
  {
   "cell_type": "code",
   "execution_count": null,
   "id": "f8d1710f",
   "metadata": {},
   "outputs": [],
   "source": []
  },
  {
   "cell_type": "code",
   "execution_count": 80,
   "id": "7ee8e494",
   "metadata": {},
   "outputs": [
    {
     "name": "stdout",
     "output_type": "stream",
     "text": [
      "a2b2c3s1\n"
     ]
    }
   ],
   "source": [
    "def compress(s):\n",
    "    result = []\n",
    "    count = 1\n",
    "    for i in range(1,len(s)):\n",
    "        if s[i] == s[i-1]:\n",
    "            count +=1\n",
    "        else:\n",
    "            result.append(s[i-1])\n",
    "            result.append(str(count))\n",
    "            count = 1\n",
    "    result.append(s[-1])\n",
    "    result.append(str(count))\n",
    " \n",
    "    return ''.join(result)\n",
    "\n",
    "\n",
    "sample = ['a','a','b','b','c','c','c','s']\n",
    "s = ''.join(sample)\n",
    "result = compress(s)\n",
    "print(result)"
   ]
  },
  {
   "cell_type": "code",
   "execution_count": null,
   "id": "70c4984a",
   "metadata": {},
   "outputs": [],
   "source": []
  },
  {
   "cell_type": "code",
   "execution_count": null,
   "id": "1a0a3d6f",
   "metadata": {},
   "outputs": [],
   "source": []
  },
  {
   "cell_type": "code",
   "execution_count": null,
   "id": "1f2d57d1",
   "metadata": {},
   "outputs": [],
   "source": []
  },
  {
   "cell_type": "code",
   "execution_count": null,
   "id": "4cb6a5b8",
   "metadata": {},
   "outputs": [],
   "source": []
  }
 ],
 "metadata": {
  "kernelspec": {
   "display_name": "Python 3 (ipykernel)",
   "language": "python",
   "name": "python3"
  },
  "language_info": {
   "codemirror_mode": {
    "name": "ipython",
    "version": 3
   },
   "file_extension": ".py",
   "mimetype": "text/x-python",
   "name": "python",
   "nbconvert_exporter": "python",
   "pygments_lexer": "ipython3",
   "version": "3.9.19"
  }
 },
 "nbformat": 4,
 "nbformat_minor": 5
}
