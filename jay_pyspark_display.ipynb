{
 "cells": [
  {
   "cell_type": "code",
   "execution_count": 5,
   "id": "bf0f8120",
   "metadata": {},
   "outputs": [],
   "source": [
    "from IPython.display import display, HTML"
   ]
  },
  {
   "cell_type": "code",
   "execution_count": 20,
   "id": "61c91c8e",
   "metadata": {
    "collapsed": true
   },
   "outputs": [
    {
     "name": "stdout",
     "output_type": "stream",
     "text": [
      "Requirement already satisfied: ipython in /opt/anaconda3/lib/python3.11/site-packages (8.20.0)\n",
      "Requirement already satisfied: decorator in /opt/anaconda3/lib/python3.11/site-packages (from ipython) (5.1.1)\n",
      "Requirement already satisfied: jedi>=0.16 in /opt/anaconda3/lib/python3.11/site-packages (from ipython) (0.18.1)\n",
      "Requirement already satisfied: matplotlib-inline in /opt/anaconda3/lib/python3.11/site-packages (from ipython) (0.1.6)\n",
      "Requirement already satisfied: prompt-toolkit<3.1.0,>=3.0.41 in /opt/anaconda3/lib/python3.11/site-packages (from ipython) (3.0.43)\n",
      "Requirement already satisfied: pygments>=2.4.0 in /opt/anaconda3/lib/python3.11/site-packages (from ipython) (2.15.1)\n",
      "Requirement already satisfied: stack-data in /opt/anaconda3/lib/python3.11/site-packages (from ipython) (0.2.0)\n",
      "Requirement already satisfied: traitlets>=5 in /opt/anaconda3/lib/python3.11/site-packages (from ipython) (5.7.1)\n",
      "Requirement already satisfied: pexpect>4.3 in /opt/anaconda3/lib/python3.11/site-packages (from ipython) (4.8.0)\n",
      "Requirement already satisfied: parso<0.9.0,>=0.8.0 in /opt/anaconda3/lib/python3.11/site-packages (from jedi>=0.16->ipython) (0.8.3)\n",
      "Requirement already satisfied: ptyprocess>=0.5 in /opt/anaconda3/lib/python3.11/site-packages (from pexpect>4.3->ipython) (0.7.0)\n",
      "Requirement already satisfied: wcwidth in /opt/anaconda3/lib/python3.11/site-packages (from prompt-toolkit<3.1.0,>=3.0.41->ipython) (0.2.5)\n",
      "Requirement already satisfied: executing in /opt/anaconda3/lib/python3.11/site-packages (from stack-data->ipython) (0.8.3)\n",
      "Requirement already satisfied: asttokens in /opt/anaconda3/lib/python3.11/site-packages (from stack-data->ipython) (2.0.5)\n",
      "Requirement already satisfied: pure-eval in /opt/anaconda3/lib/python3.11/site-packages (from stack-data->ipython) (0.2.2)\n",
      "Requirement already satisfied: six in /opt/anaconda3/lib/python3.11/site-packages (from asttokens->stack-data->ipython) (1.16.0)\n"
     ]
    }
   ],
   "source": [
    "!pip install ipython"
   ]
  },
  {
   "cell_type": "code",
   "execution_count": 6,
   "id": "0f57828d",
   "metadata": {},
   "outputs": [
    {
     "data": {
      "text/html": [
       "<style>pre { white-space: pre !important; }</style>"
      ],
      "text/plain": [
       "<IPython.core.display.HTML object>"
      ]
     },
     "metadata": {},
     "output_type": "display_data"
    }
   ],
   "source": [
    "display(HTML(\"<style>pre { white-space: pre !important; }</style>\"))"
   ]
  },
  {
   "cell_type": "code",
   "execution_count": null,
   "id": "b907c992",
   "metadata": {},
   "outputs": [],
   "source": []
  },
  {
   "cell_type": "code",
   "execution_count": null,
   "id": "9630d0f1",
   "metadata": {},
   "outputs": [],
   "source": []
  },
  {
   "cell_type": "code",
   "execution_count": null,
   "id": "26aa2e7d",
   "metadata": {},
   "outputs": [],
   "source": []
  },
  {
   "cell_type": "code",
   "execution_count": null,
   "id": "e2f1d956",
   "metadata": {},
   "outputs": [],
   "source": []
  },
  {
   "cell_type": "code",
   "execution_count": null,
   "id": "8a00658c",
   "metadata": {},
   "outputs": [],
   "source": []
  },
  {
   "cell_type": "code",
   "execution_count": 1,
   "id": "a5d4900c",
   "metadata": {},
   "outputs": [],
   "source": [
    "from pyspark.sql import SparkSession\n",
    "import findspark\n",
    "\n",
    "findspark.init()"
   ]
  },
  {
   "cell_type": "code",
   "execution_count": 2,
   "id": "30a792db",
   "metadata": {},
   "outputs": [
    {
     "name": "stderr",
     "output_type": "stream",
     "text": [
      "25/02/20 17:32:06 WARN Utils: Your hostname, shubhams-mac.local resolves to a loopback address: 127.0.0.1; using 192.168.1.208 instead (on interface en0)\n",
      "25/02/20 17:32:06 WARN Utils: Set SPARK_LOCAL_IP if you need to bind to another address\n",
      "Setting default log level to \"WARN\".\n",
      "To adjust logging level use sc.setLogLevel(newLevel). For SparkR, use setLogLevel(newLevel).\n",
      "25/02/20 17:32:06 WARN NativeCodeLoader: Unable to load native-hadoop library for your platform... using builtin-java classes where applicable\n"
     ]
    }
   ],
   "source": [
    "spark = SparkSession.builder.appName('Dev').getOrCreate()"
   ]
  },
  {
   "cell_type": "code",
   "execution_count": 3,
   "id": "b56df5e6",
   "metadata": {},
   "outputs": [
    {
     "data": {
      "text/html": [
       "\n",
       "            <div>\n",
       "                <p><b>SparkSession - in-memory</b></p>\n",
       "                \n",
       "        <div>\n",
       "            <p><b>SparkContext</b></p>\n",
       "\n",
       "            <p><a href=\"http://192.168.1.208:4040\">Spark UI</a></p>\n",
       "\n",
       "            <dl>\n",
       "              <dt>Version</dt>\n",
       "                <dd><code>v3.5.2</code></dd>\n",
       "              <dt>Master</dt>\n",
       "                <dd><code>local[*]</code></dd>\n",
       "              <dt>AppName</dt>\n",
       "                <dd><code>Dev</code></dd>\n",
       "            </dl>\n",
       "        </div>\n",
       "        \n",
       "            </div>\n",
       "        "
      ],
      "text/plain": [
       "<pyspark.sql.session.SparkSession at 0x7f996016cd00>"
      ]
     },
     "execution_count": 3,
     "metadata": {},
     "output_type": "execute_result"
    }
   ],
   "source": [
    "spark"
   ]
  },
  {
   "cell_type": "code",
   "execution_count": 7,
   "id": "a2216dd3",
   "metadata": {},
   "outputs": [],
   "source": [
    "df = spark.read.csv('/Users/thispc/Desktop/Machine-learning/Sales copy.csv', header=True, inferSchema=True)"
   ]
  },
  {
   "cell_type": "code",
   "execution_count": 8,
   "id": "24198bd0",
   "metadata": {},
   "outputs": [
    {
     "name": "stdout",
     "output_type": "stream",
     "text": [
      "+---------------+----------+---------+--------------+-----------------+-----------+-----------------+--------------+------+--------------+----------------+---------------+------------+-----------------------------------------+-----+--------+--------+---------+-------------+--------------+----+\n",
      "|order_id       |order_date|ship_date|ship_mode     |customer_name    |segment    |state            |country       |market|region        |product_id      |category       |sub_category|product_name                             |sales|quantity|discount|profit   |shipping_cost|order_priority|year|\n",
      "+---------------+----------+---------+--------------+-----------------+-----------+-----------------+--------------+------+--------------+----------------+---------------+------------+-----------------------------------------+-----+--------+--------+---------+-------------+--------------+----+\n",
      "|AG-2011-2040   |1/1/2011  |1/6/2011 |Standard Class|Toby Braunhardt  |Consumer   |Constantine      |Algeria       |Africa|Africa        |OFF-TEN-10000025|Office Supplies|Storage     |Tenex Lockers, Blue                      |408  |2       |0       |106.14   |35.46        |Medium        |2011|\n",
      "|IN-2011-47883  |1/1/2011  |1/8/2011 |Standard Class|Joseph Holt      |Consumer   |New South Wales  |Australia     |APAC  |Oceania       |OFF-SU-10000618 |Office Supplies|Supplies    |Acme Trimmer, High Speed                 |120  |3       |0.1     |36.036   |9.72         |Medium        |2011|\n",
      "|HU-2011-1220   |1/1/2011  |1/5/2011 |Second Class  |Annie Thurman    |Consumer   |Budapest         |Hungary       |EMEA  |EMEA          |OFF-TEN-10001585|Office Supplies|Storage     |Tenex Box, Single Width                  |66   |4       |0       |29.64    |8.17         |High          |2011|\n",
      "|IT-2011-3647632|1/1/2011  |1/5/2011 |Second Class  |Eugene Moren     |Home Office|Stockholm        |Sweden        |EU    |North         |OFF-PA-10001492 |Office Supplies|Paper       |Enermax Note Cards, Premium              |45   |3       |0.5     |-26.055  |4.82         |High          |2011|\n",
      "|IN-2011-47883  |1/1/2011  |1/8/2011 |Standard Class|Joseph Holt      |Consumer   |New South Wales  |Australia     |APAC  |Oceania       |FUR-FU-10003447 |Furniture      |Furnishings |Eldon Light Bulb, Duo Pack               |114  |5       |0.1     |37.77    |4.7          |Medium        |2011|\n",
      "|IN-2011-47883  |1/1/2011  |1/8/2011 |Standard Class|Joseph Holt      |Consumer   |New South Wales  |Australia     |APAC  |Oceania       |OFF-PA-10001968 |Office Supplies|Paper       |Eaton Computer Printout Paper, 8.5 x 11  |55   |2       |0.1     |15.342   |1.8          |Medium        |2011|\n",
      "|CA-2011-1510   |1/2/2011  |1/6/2011 |Standard Class|Magdelene Morse  |Consumer   |Ontario          |Canada        |Canada|Canada        |TEC-OKI-10002750|Technology     |Machines    |Okidata Inkjet, Wireless                 |314  |1       |0       |3.12     |24.1         |Medium        |2011|\n",
      "|IN-2011-79397  |1/3/2011  |1/3/2011 |Same Day      |Kean Nguyen      |Corporate  |New South Wales  |Australia     |APAC  |Oceania       |OFF-AP-10000304 |Office Supplies|Appliances  |Hoover Microwave, White                  |276  |1       |0.1     |110.412  |125.32       |Critical      |2011|\n",
      "|ID-2011-80230  |1/3/2011  |1/9/2011 |Standard Class|Ken Lonsdale     |Consumer   |Auckland         |New Zealand   |APAC  |Oceania       |TEC-CO-10004182 |Technology     |Copiers     |Hewlett Wireless Fax, Laser              |912  |4       |0.4     |-319.464 |107.1        |Low           |2011|\n",
      "|IZ-2011-4680   |1/3/2011  |1/7/2011 |Standard Class|Lindsay Williams |Corporate  |Ninawa           |Iraq          |EMEA  |EMEA          |FUR-NOV-10002791|Furniture      |Chairs      |Novimex Swivel Stool, Set of Two         |667  |4       |0       |253.32   |81.26        |High          |2011|\n",
      "|IN-2011-65159  |1/3/2011  |1/7/2011 |Second Class  |Larry Blacks     |Consumer   |National Capital |Philippines   |APAC  |Southeast Asia|OFF-ST-10003020 |Office Supplies|Storage     |Tenex Lockers, Industrial                |338  |3       |0.45    |-122.8005|33.75        |High          |2011|\n",
      "|IN-2011-65159  |1/3/2011  |1/7/2011 |Second Class  |Larry Blacks     |Consumer   |National Capital |Philippines   |APAC  |Southeast Asia|FUR-TA-10002797 |Furniture      |Tables      |Chromcraft Round Table, Adjustable Height|211  |1       |0.55    |-70.3995 |21.32        |High          |2011|\n",
      "|ES-2011-4869686|1/3/2011  |1/7/2011 |Standard Class|Dorothy Dickinson|Consumer   |England          |United Kingdom|EU    |North         |FUR-BO-10000728 |Furniture      |Bookcases   |Dania Corner Shelving, Traditional       |854  |7       |0       |290.43   |12.56        |Medium        |2011|\n",
      "|IN-2011-33652  |1/3/2011  |1/9/2011 |Standard Class|Dennis Pardue    |Home Office|Sarawak          |Malaysia      |APAC  |Southeast Asia|TEC-CO-10000594 |Technology     |Copiers     |Hewlett Fax and Copier, Laser            |193  |1       |0       |50.13    |10.4         |Medium        |2011|\n",
      "|ID-2011-80230  |1/3/2011  |1/9/2011 |Standard Class|Ken Lonsdale     |Consumer   |Auckland         |New Zealand   |APAC  |Oceania       |FUR-CH-10000214 |Furniture      |Chairs      |Hon Rocking Chair, Set of Two            |159  |2       |0.4     |-95.676  |10.07        |Low           |2011|\n",
      "|MX-2011-160234 |1/3/2011  |1/7/2011 |Standard Class|Stewart Visinsky |Consumer   |Guatemala        |Guatemala     |LATAM |Central       |TEC-PH-10002647 |Technology     |Phones      |Nokia Headset, VoIP                      |195  |4       |0       |44.88    |8.43         |Medium        |2011|\n",
      "|IR-2011-770    |1/3/2011  |1/7/2011 |Standard Class|Jas O'Carroll    |Consumer   |Yazd             |Iran          |EMEA  |EMEA          |OFF-BRE-10003081|Office Supplies|Appliances  |Breville Coffee Grinder, Black           |123  |2       |0       |42.9     |8.41         |Medium        |2011|\n",
      "|ID-2011-80230  |1/3/2011  |1/9/2011 |Standard Class|Ken Lonsdale     |Consumer   |Auckland         |New Zealand   |APAC  |Oceania       |TEC-AC-10002881 |Technology     |Accessories |Belkin Numeric Keypad, Bluetooth         |69   |2       |0.4     |3.42     |8.34         |Low           |2011|\n",
      "|ID-2011-80230  |1/3/2011  |1/9/2011 |Standard Class|Ken Lonsdale     |Consumer   |Auckland         |New Zealand   |APAC  |Oceania       |FUR-CH-10000666 |Furniture      |Chairs      |SAFCO Chairmat, Black                    |69   |2       |0.4     |-26.412  |8.17         |Low           |2011|\n",
      "|ID-2011-12596  |1/3/2011  |1/8/2011 |Standard Class|Chris McAfee     |Consumer   |Nakhon Ratchasima|Thailand      |APAC  |Southeast Asia|OFF-ST-10002066 |Office Supplies|Storage     |Smead File Cart, Blue                    |135  |2       |0.47    |-45.9018 |7.74         |Medium        |2011|\n",
      "+---------------+----------+---------+--------------+-----------------+-----------+-----------------+--------------+------+--------------+----------------+---------------+------------+-----------------------------------------+-----+--------+--------+---------+-------------+--------------+----+\n",
      "only showing top 20 rows\n",
      "\n"
     ]
    }
   ],
   "source": [
    "df.show(truncate = False)"
   ]
  },
  {
   "cell_type": "code",
   "execution_count": 14,
   "id": "886cdfcb",
   "metadata": {},
   "outputs": [],
   "source": [
    "import pyspark"
   ]
  },
  {
   "cell_type": "code",
   "execution_count": 26,
   "id": "4c95b64f",
   "metadata": {},
   "outputs": [
    {
     "name": "stdout",
     "output_type": "stream",
     "text": [
      "+--------------------+\n",
      "|        product_name|\n",
      "+--------------------+\n",
      "| Tenex Lockers, Blue|\n",
      "|Acme Trimmer, Hig...|\n",
      "|Tenex Box, Single...|\n",
      "|Enermax Note Card...|\n",
      "|Eldon Light Bulb,...|\n",
      "|Eaton Computer Pr...|\n",
      "|Okidata Inkjet, W...|\n",
      "|Hoover Microwave,...|\n",
      "|Hewlett Wireless ...|\n",
      "|Novimex Swivel St...|\n",
      "|Tenex Lockers, In...|\n",
      "|Chromcraft Round ...|\n",
      "|Dania Corner Shel...|\n",
      "|Hewlett Fax and C...|\n",
      "|Hon Rocking Chair...|\n",
      "| Nokia Headset, VoIP|\n",
      "|Breville Coffee G...|\n",
      "|Belkin Numeric Ke...|\n",
      "|SAFCO Chairmat, B...|\n",
      "|Smead File Cart, ...|\n",
      "+--------------------+\n",
      "only showing top 20 rows\n",
      "\n"
     ]
    }
   ],
   "source": [
    "df.select('product_name').show()"
   ]
  },
  {
   "cell_type": "code",
   "execution_count": 27,
   "id": "8368f0ff",
   "metadata": {},
   "outputs": [
    {
     "name": "stdout",
     "output_type": "stream",
     "text": [
      "+-----------------------------------------+\n",
      "|product_name                             |\n",
      "+-----------------------------------------+\n",
      "|Tenex Lockers, Blue                      |\n",
      "|Acme Trimmer, High Speed                 |\n",
      "|Tenex Box, Single Width                  |\n",
      "|Enermax Note Cards, Premium              |\n",
      "|Eldon Light Bulb, Duo Pack               |\n",
      "|Eaton Computer Printout Paper, 8.5 x 11  |\n",
      "|Okidata Inkjet, Wireless                 |\n",
      "|Hoover Microwave, White                  |\n",
      "|Hewlett Wireless Fax, Laser              |\n",
      "|Novimex Swivel Stool, Set of Two         |\n",
      "|Tenex Lockers, Industrial                |\n",
      "|Chromcraft Round Table, Adjustable Height|\n",
      "|Dania Corner Shelving, Traditional       |\n",
      "|Hewlett Fax and Copier, Laser            |\n",
      "|Hon Rocking Chair, Set of Two            |\n",
      "|Nokia Headset, VoIP                      |\n",
      "|Breville Coffee Grinder, Black           |\n",
      "|Belkin Numeric Keypad, Bluetooth         |\n",
      "|SAFCO Chairmat, Black                    |\n",
      "|Smead File Cart, Blue                    |\n",
      "+-----------------------------------------+\n",
      "only showing top 20 rows\n",
      "\n"
     ]
    }
   ],
   "source": [
    "df.select('product_name').show(truncate = False)"
   ]
  },
  {
   "cell_type": "code",
   "execution_count": 9,
   "id": "2bd19369",
   "metadata": {},
   "outputs": [
    {
     "name": "stderr",
     "output_type": "stream",
     "text": [
      "\r",
      "[Stage 5:>                                                          (0 + 1) / 1]\r",
      "\r",
      "                                                                                \r"
     ]
    },
    {
     "name": "stdout",
     "output_type": "stream",
     "text": [
      "+---+-------+---+\n",
      "| ID|   Name|Age|\n",
      "+---+-------+---+\n",
      "|  1|  Alice| 30|\n",
      "|  2|    Bob| 25|\n",
      "|  3|Charlie| 35|\n",
      "+---+-------+---+\n",
      "\n"
     ]
    }
   ],
   "source": [
    "data = [(1, \"Alice\", 30),\n",
    "        (2, \"Bob\", 25),\n",
    "        (3, \"Charlie\", 35)]\n",
    "\n",
    "# Define column names\n",
    "columns = [\"ID\", \"Name\", \"Age\"]\n",
    "\n",
    "# Create DataFrame\n",
    "df = spark.createDataFrame(data, columns)\n",
    "\n",
    "# Show the DataFrame\n",
    "df.show()\n"
   ]
  },
  {
   "cell_type": "code",
   "execution_count": 6,
   "id": "82c9325b",
   "metadata": {},
   "outputs": [
    {
     "name": "stdout",
     "output_type": "stream",
     "text": [
      "Collecting findspark\n",
      "  Using cached findspark-2.0.1-py2.py3-none-any.whl.metadata (352 bytes)\n",
      "Using cached findspark-2.0.1-py2.py3-none-any.whl (4.4 kB)\n",
      "Installing collected packages: findspark\n",
      "Successfully installed findspark-2.0.1\n"
     ]
    }
   ],
   "source": [
    "!pip install findspark"
   ]
  },
  {
   "cell_type": "code",
   "execution_count": null,
   "id": "2c3236b4",
   "metadata": {},
   "outputs": [],
   "source": []
  }
 ],
 "metadata": {
  "kernelspec": {
   "display_name": "Python 3 (ipykernel)",
   "language": "python",
   "name": "python3"
  },
  "language_info": {
   "codemirror_mode": {
    "name": "ipython",
    "version": 3
   },
   "file_extension": ".py",
   "mimetype": "text/x-python",
   "name": "python",
   "nbconvert_exporter": "python",
   "pygments_lexer": "ipython3",
   "version": "3.9.19"
  }
 },
 "nbformat": 4,
 "nbformat_minor": 5
}
