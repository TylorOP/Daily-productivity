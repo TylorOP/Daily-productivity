{
 "cells": [
  {
   "cell_type": "code",
   "execution_count": 43,
   "id": "2d8c141c-1543-4a55-89da-c5e702aa06c3",
   "metadata": {
    "tags": []
   },
   "outputs": [],
   "source": [
    "import pandas as pd\n",
    "from pyspark.sql import SparkSession"
   ]
  },
  {
   "cell_type": "code",
   "execution_count": 44,
   "id": "04a81f1c-9f10-45b8-a4c5-01a7552555b5",
   "metadata": {
    "tags": []
   },
   "outputs": [],
   "source": [
    "pdf = pd.read_csv('healthcare.csv')"
   ]
  },
  {
   "cell_type": "code",
   "execution_count": 45,
   "id": "107b9b83-a109-4e23-95a2-d0e3ea9b3f5b",
   "metadata": {
    "tags": []
   },
   "outputs": [
    {
     "data": {
      "text/html": [
       "<div>\n",
       "<style scoped>\n",
       "    .dataframe tbody tr th:only-of-type {\n",
       "        vertical-align: middle;\n",
       "    }\n",
       "\n",
       "    .dataframe tbody tr th {\n",
       "        vertical-align: top;\n",
       "    }\n",
       "\n",
       "    .dataframe thead th {\n",
       "        text-align: right;\n",
       "    }\n",
       "</style>\n",
       "<table border=\"1\" class=\"dataframe\">\n",
       "  <thead>\n",
       "    <tr style=\"text-align: right;\">\n",
       "      <th></th>\n",
       "      <th>id</th>\n",
       "      <th>gender</th>\n",
       "      <th>age</th>\n",
       "      <th>hypertension</th>\n",
       "      <th>heart_disease</th>\n",
       "      <th>ever_married</th>\n",
       "      <th>work_type</th>\n",
       "      <th>Residence_type</th>\n",
       "      <th>avg_glucose_level</th>\n",
       "      <th>bmi</th>\n",
       "      <th>smoking_status</th>\n",
       "      <th>stroke</th>\n",
       "    </tr>\n",
       "  </thead>\n",
       "  <tbody>\n",
       "    <tr>\n",
       "      <th>0</th>\n",
       "      <td>9046</td>\n",
       "      <td>Male</td>\n",
       "      <td>67.0</td>\n",
       "      <td>0</td>\n",
       "      <td>1</td>\n",
       "      <td>Yes</td>\n",
       "      <td>Private</td>\n",
       "      <td>Urban</td>\n",
       "      <td>228.69</td>\n",
       "      <td>36.6</td>\n",
       "      <td>formerly smoked</td>\n",
       "      <td>1</td>\n",
       "    </tr>\n",
       "    <tr>\n",
       "      <th>1</th>\n",
       "      <td>51676</td>\n",
       "      <td>Female</td>\n",
       "      <td>61.0</td>\n",
       "      <td>0</td>\n",
       "      <td>0</td>\n",
       "      <td>Yes</td>\n",
       "      <td>Self-employed</td>\n",
       "      <td>Rural</td>\n",
       "      <td>202.21</td>\n",
       "      <td>NaN</td>\n",
       "      <td>never smoked</td>\n",
       "      <td>1</td>\n",
       "    </tr>\n",
       "    <tr>\n",
       "      <th>2</th>\n",
       "      <td>31112</td>\n",
       "      <td>Male</td>\n",
       "      <td>80.0</td>\n",
       "      <td>0</td>\n",
       "      <td>1</td>\n",
       "      <td>Yes</td>\n",
       "      <td>Private</td>\n",
       "      <td>Rural</td>\n",
       "      <td>105.92</td>\n",
       "      <td>32.5</td>\n",
       "      <td>never smoked</td>\n",
       "      <td>1</td>\n",
       "    </tr>\n",
       "    <tr>\n",
       "      <th>3</th>\n",
       "      <td>60182</td>\n",
       "      <td>Female</td>\n",
       "      <td>49.0</td>\n",
       "      <td>0</td>\n",
       "      <td>0</td>\n",
       "      <td>Yes</td>\n",
       "      <td>Private</td>\n",
       "      <td>Urban</td>\n",
       "      <td>171.23</td>\n",
       "      <td>34.4</td>\n",
       "      <td>smokes</td>\n",
       "      <td>1</td>\n",
       "    </tr>\n",
       "    <tr>\n",
       "      <th>4</th>\n",
       "      <td>1665</td>\n",
       "      <td>Female</td>\n",
       "      <td>79.0</td>\n",
       "      <td>1</td>\n",
       "      <td>0</td>\n",
       "      <td>Yes</td>\n",
       "      <td>Self-employed</td>\n",
       "      <td>Rural</td>\n",
       "      <td>174.12</td>\n",
       "      <td>24.0</td>\n",
       "      <td>never smoked</td>\n",
       "      <td>1</td>\n",
       "    </tr>\n",
       "    <tr>\n",
       "      <th>...</th>\n",
       "      <td>...</td>\n",
       "      <td>...</td>\n",
       "      <td>...</td>\n",
       "      <td>...</td>\n",
       "      <td>...</td>\n",
       "      <td>...</td>\n",
       "      <td>...</td>\n",
       "      <td>...</td>\n",
       "      <td>...</td>\n",
       "      <td>...</td>\n",
       "      <td>...</td>\n",
       "      <td>...</td>\n",
       "    </tr>\n",
       "    <tr>\n",
       "      <th>5105</th>\n",
       "      <td>18234</td>\n",
       "      <td>Female</td>\n",
       "      <td>80.0</td>\n",
       "      <td>1</td>\n",
       "      <td>0</td>\n",
       "      <td>Yes</td>\n",
       "      <td>Private</td>\n",
       "      <td>Urban</td>\n",
       "      <td>83.75</td>\n",
       "      <td>NaN</td>\n",
       "      <td>never smoked</td>\n",
       "      <td>0</td>\n",
       "    </tr>\n",
       "    <tr>\n",
       "      <th>5106</th>\n",
       "      <td>44873</td>\n",
       "      <td>Female</td>\n",
       "      <td>81.0</td>\n",
       "      <td>0</td>\n",
       "      <td>0</td>\n",
       "      <td>Yes</td>\n",
       "      <td>Self-employed</td>\n",
       "      <td>Urban</td>\n",
       "      <td>125.20</td>\n",
       "      <td>40.0</td>\n",
       "      <td>never smoked</td>\n",
       "      <td>0</td>\n",
       "    </tr>\n",
       "    <tr>\n",
       "      <th>5107</th>\n",
       "      <td>19723</td>\n",
       "      <td>Female</td>\n",
       "      <td>35.0</td>\n",
       "      <td>0</td>\n",
       "      <td>0</td>\n",
       "      <td>Yes</td>\n",
       "      <td>Self-employed</td>\n",
       "      <td>Rural</td>\n",
       "      <td>82.99</td>\n",
       "      <td>30.6</td>\n",
       "      <td>never smoked</td>\n",
       "      <td>0</td>\n",
       "    </tr>\n",
       "    <tr>\n",
       "      <th>5108</th>\n",
       "      <td>37544</td>\n",
       "      <td>Male</td>\n",
       "      <td>51.0</td>\n",
       "      <td>0</td>\n",
       "      <td>0</td>\n",
       "      <td>Yes</td>\n",
       "      <td>Private</td>\n",
       "      <td>Rural</td>\n",
       "      <td>166.29</td>\n",
       "      <td>25.6</td>\n",
       "      <td>formerly smoked</td>\n",
       "      <td>0</td>\n",
       "    </tr>\n",
       "    <tr>\n",
       "      <th>5109</th>\n",
       "      <td>44679</td>\n",
       "      <td>Female</td>\n",
       "      <td>44.0</td>\n",
       "      <td>0</td>\n",
       "      <td>0</td>\n",
       "      <td>Yes</td>\n",
       "      <td>Govt_job</td>\n",
       "      <td>Urban</td>\n",
       "      <td>85.28</td>\n",
       "      <td>26.2</td>\n",
       "      <td>Unknown</td>\n",
       "      <td>0</td>\n",
       "    </tr>\n",
       "  </tbody>\n",
       "</table>\n",
       "<p>5110 rows × 12 columns</p>\n",
       "</div>"
      ],
      "text/plain": [
       "         id  gender   age  hypertension  heart_disease ever_married  \\\n",
       "0      9046    Male  67.0             0              1          Yes   \n",
       "1     51676  Female  61.0             0              0          Yes   \n",
       "2     31112    Male  80.0             0              1          Yes   \n",
       "3     60182  Female  49.0             0              0          Yes   \n",
       "4      1665  Female  79.0             1              0          Yes   \n",
       "...     ...     ...   ...           ...            ...          ...   \n",
       "5105  18234  Female  80.0             1              0          Yes   \n",
       "5106  44873  Female  81.0             0              0          Yes   \n",
       "5107  19723  Female  35.0             0              0          Yes   \n",
       "5108  37544    Male  51.0             0              0          Yes   \n",
       "5109  44679  Female  44.0             0              0          Yes   \n",
       "\n",
       "          work_type Residence_type  avg_glucose_level   bmi   smoking_status  \\\n",
       "0           Private          Urban             228.69  36.6  formerly smoked   \n",
       "1     Self-employed          Rural             202.21   NaN     never smoked   \n",
       "2           Private          Rural             105.92  32.5     never smoked   \n",
       "3           Private          Urban             171.23  34.4           smokes   \n",
       "4     Self-employed          Rural             174.12  24.0     never smoked   \n",
       "...             ...            ...                ...   ...              ...   \n",
       "5105        Private          Urban              83.75   NaN     never smoked   \n",
       "5106  Self-employed          Urban             125.20  40.0     never smoked   \n",
       "5107  Self-employed          Rural              82.99  30.6     never smoked   \n",
       "5108        Private          Rural             166.29  25.6  formerly smoked   \n",
       "5109       Govt_job          Urban              85.28  26.2          Unknown   \n",
       "\n",
       "      stroke  \n",
       "0          1  \n",
       "1          1  \n",
       "2          1  \n",
       "3          1  \n",
       "4          1  \n",
       "...      ...  \n",
       "5105       0  \n",
       "5106       0  \n",
       "5107       0  \n",
       "5108       0  \n",
       "5109       0  \n",
       "\n",
       "[5110 rows x 12 columns]"
      ]
     },
     "execution_count": 45,
     "metadata": {},
     "output_type": "execute_result"
    }
   ],
   "source": [
    "pdf"
   ]
  },
  {
   "cell_type": "code",
   "execution_count": 46,
   "id": "4e226fac-4c80-4e60-9783-1f1e2fb04476",
   "metadata": {
    "tags": []
   },
   "outputs": [],
   "source": [
    "from pyspark.sql.types import StringType,BooleanType,IntegerType,LongType,StructType,StructField "
   ]
  },
  {
   "cell_type": "code",
   "execution_count": 47,
   "id": "d7e35021-a3c2-43c9-8f81-d9120250316b",
   "metadata": {
    "tags": []
   },
   "outputs": [],
   "source": [
    "spark1 = SparkSession.builder.appName('shub').getOrCreate()"
   ]
  },
  {
   "cell_type": "code",
   "execution_count": 48,
   "id": "f2c64d93-1cac-4dfa-ae33-8357b30fda90",
   "metadata": {
    "tags": []
   },
   "outputs": [
    {
     "data": {
      "text/html": [
       "\n",
       "            <div>\n",
       "                <p><b>SparkSession - in-memory</b></p>\n",
       "                \n",
       "        <div>\n",
       "            <p><b>SparkContext</b></p>\n",
       "\n",
       "            <p><a href=\"http://ip-172-16-94-122.ap-south-1.compute.internal:4040\">Spark UI</a></p>\n",
       "\n",
       "            <dl>\n",
       "              <dt>Version</dt>\n",
       "                <dd><code>v3.3.0</code></dd>\n",
       "              <dt>Master</dt>\n",
       "                <dd><code>local[*]</code></dd>\n",
       "              <dt>AppName</dt>\n",
       "                <dd><code>shub</code></dd>\n",
       "            </dl>\n",
       "        </div>\n",
       "        \n",
       "            </div>\n",
       "        "
      ],
      "text/plain": [
       "<pyspark.sql.session.SparkSession at 0x7fe8572f7610>"
      ]
     },
     "execution_count": 48,
     "metadata": {},
     "output_type": "execute_result"
    }
   ],
   "source": [
    "spark1  "
   ]
  },
  {
   "cell_type": "code",
   "execution_count": 73,
   "id": "119ece57-ced9-4865-923d-bdae9fe3f89f",
   "metadata": {
    "tags": []
   },
   "outputs": [],
   "source": [
    "data = [\n",
    "    (1, 'Shub', 50000, 'New York'),\n",
    "    (2, 'Akshay', 60000, 'Los Angeles'),\n",
    "    (3, 'Priya', 55000, 'Chicago'),\n",
    "    (4, 'Ravi', 48000, 'San Francisco'),\n",
    "    (5, 'Nisha', 70000, 'Boston'),\n",
    "    (6, 'Amit', 65000, 'Miami'),\n",
    "    (7, 'Sanya', 72000, 'Houston'),\n",
    "    (8, 'Karan', 52000, 'Seattle')\n",
    "]"
   ]
  },
  {
   "cell_type": "code",
   "execution_count": 78,
   "id": "820c01b8-3aba-4a99-9790-ffe9a23dc087",
   "metadata": {
    "tags": []
   },
   "outputs": [],
   "source": [
    "sdf = spark1.createDataFrame(data,schema=['id','name','salary','city'])"
   ]
  },
  {
   "cell_type": "code",
   "execution_count": 79,
   "id": "547e13f4-1296-45bd-8da7-b16a6ea08204",
   "metadata": {
    "tags": []
   },
   "outputs": [
    {
     "name": "stdout",
     "output_type": "stream",
     "text": [
      "+---+------+------+-------------+\n",
      "| id|  name|salary|         city|\n",
      "+---+------+------+-------------+\n",
      "|  1|  Shub| 50000|     New York|\n",
      "|  2|Akshay| 60000|  Los Angeles|\n",
      "|  3| Priya| 55000|      Chicago|\n",
      "|  4|  Ravi| 48000|San Francisco|\n",
      "|  5| Nisha| 70000|       Boston|\n",
      "|  6|  Amit| 65000|        Miami|\n",
      "|  7| Sanya| 72000|      Houston|\n",
      "|  8| Karan| 52000|      Seattle|\n",
      "+---+------+------+-------------+\n",
      "\n"
     ]
    }
   ],
   "source": [
    "sdf.show()"
   ]
  },
  {
   "cell_type": "code",
   "execution_count": 82,
   "id": "9e5dc1d4-c657-4135-be24-d1bd3fd9e4fc",
   "metadata": {
    "tags": []
   },
   "outputs": [
    {
     "name": "stdout",
     "output_type": "stream",
     "text": [
      "+------+-------------+\n",
      "|salary|         city|\n",
      "+------+-------------+\n",
      "| 50000|     New York|\n",
      "| 60000|  Los Angeles|\n",
      "| 55000|      Chicago|\n",
      "| 48000|San Francisco|\n",
      "| 70000|       Boston|\n",
      "| 65000|        Miami|\n",
      "| 72000|      Houston|\n",
      "| 52000|      Seattle|\n",
      "+------+-------------+\n",
      "\n"
     ]
    }
   ],
   "source": [
    "sdf.select(['salary','city']).show()"
   ]
  },
  {
   "cell_type": "code",
   "execution_count": 83,
   "id": "888e1104-fc3a-4386-b59b-7c79fba3489c",
   "metadata": {
    "tags": []
   },
   "outputs": [
    {
     "name": "stdout",
     "output_type": "stream",
     "text": [
      "+---+------+------+-------------+-------+\n",
      "| id|  name|salary|         city|  bonus|\n",
      "+---+------+------+-------------+-------+\n",
      "|  1|  Shub| 50000|     New York|25000.0|\n",
      "|  2|Akshay| 60000|  Los Angeles|30000.0|\n",
      "|  3| Priya| 55000|      Chicago|27500.0|\n",
      "|  4|  Ravi| 48000|San Francisco|24000.0|\n",
      "|  5| Nisha| 70000|       Boston|35000.0|\n",
      "|  6|  Amit| 65000|        Miami|32500.0|\n",
      "|  7| Sanya| 72000|      Houston|36000.0|\n",
      "|  8| Karan| 52000|      Seattle|26000.0|\n",
      "+---+------+------+-------------+-------+\n",
      "\n"
     ]
    }
   ],
   "source": [
    "sdf.withColumn('bonus',sdf.salary * 0.5).show()"
   ]
  },
  {
   "cell_type": "code",
   "execution_count": 84,
   "id": "4f3a27f1-b874-4906-908c-37e1e255ad9c",
   "metadata": {
    "tags": []
   },
   "outputs": [],
   "source": [
    "from pyspark.sql.functions import current_date, date_format, to_timestamp, current_timestamp,lit,when"
   ]
  },
  {
   "cell_type": "code",
   "execution_count": 88,
   "id": "54e60c50-2acd-46c4-b813-5ba54fe145fb",
   "metadata": {
    "tags": []
   },
   "outputs": [
    {
     "name": "stdout",
     "output_type": "stream",
     "text": [
      "+---+------+------+-------------+----------+\n",
      "| id|  name|salary|         city|    update|\n",
      "+---+------+------+-------------+----------+\n",
      "|  1|  Shub| 50000|     New York|00-30-2024|\n",
      "|  2|Akshay| 60000|  Los Angeles|00-30-2024|\n",
      "|  3| Priya| 55000|      Chicago|00-30-2024|\n",
      "|  4|  Ravi| 48000|San Francisco|00-30-2024|\n",
      "|  5| Nisha| 70000|       Boston|00-30-2024|\n",
      "|  6|  Amit| 65000|        Miami|00-30-2024|\n",
      "|  7| Sanya| 72000|      Houston|00-30-2024|\n",
      "|  8| Karan| 52000|      Seattle|00-30-2024|\n",
      "+---+------+------+-------------+----------+\n",
      "\n"
     ]
    }
   ],
   "source": [
    "sdf.withColumn(\"update\",date_format(current_date(),'mm-dd-yyyy')).show()  "
   ]
  },
  {
   "cell_type": "code",
   "execution_count": 101,
   "id": "ec077325-4fca-4de1-8bbb-2087c3dec78d",
   "metadata": {
    "tags": []
   },
   "outputs": [
    {
     "name": "stdout",
     "output_type": "stream",
     "text": [
      "+---+------+------+-------------+----------+\n",
      "| id|  name|salary|         city|    update|\n",
      "+---+------+------+-------------+----------+\n",
      "|  1|  Shub| 50000|     New York|09-30-2024|\n",
      "|  2|Akshay| 60000|  Los Angeles|09-30-2024|\n",
      "|  3| Priya| 55000|      Chicago|09-30-2024|\n",
      "|  4|  Ravi| 48000|San Francisco|09-30-2024|\n",
      "|  5| Nisha| 70000|       Boston|09-30-2024|\n",
      "|  6|  Amit| 65000|        Miami|09-30-2024|\n",
      "|  7| Sanya| 72000|      Houston|09-30-2024|\n",
      "|  8| Karan| 52000|      Seattle|09-30-2024|\n",
      "+---+------+------+-------------+----------+\n",
      "\n"
     ]
    }
   ],
   "source": [
    "hello = sdf.withColumn(\"update\",date_format(current_date(),'MM-dd-yyyy')).show()"
   ]
  },
  {
   "cell_type": "code",
   "execution_count": 103,
   "id": "4b380c4f-6241-43cf-86b5-2c14f76acb2a",
   "metadata": {
    "tags": []
   },
   "outputs": [
    {
     "ename": "AttributeError",
     "evalue": "'NoneType' object has no attribute 'show'",
     "output_type": "error",
     "traceback": [
      "\u001b[0;31m---------------------------------------------------------------------------\u001b[0m",
      "\u001b[0;31mAttributeError\u001b[0m                            Traceback (most recent call last)",
      "Cell \u001b[0;32mIn[103], line 1\u001b[0m\n\u001b[0;32m----> 1\u001b[0m \u001b[43mhello\u001b[49m\u001b[38;5;241;43m.\u001b[39;49m\u001b[43mshow\u001b[49m()\n",
      "\u001b[0;31mAttributeError\u001b[0m: 'NoneType' object has no attribute 'show'"
     ]
    }
   ],
   "source": [
    "hello.show()    # because show() is a triger to print,in-fact result is not assigned "
   ]
  },
  {
   "cell_type": "code",
   "execution_count": 104,
   "id": "f107df10-48d5-4fd6-9837-e63a9e3892fd",
   "metadata": {
    "tags": []
   },
   "outputs": [],
   "source": [
    "hello = sdf.withColumn(\"update\",date_format(current_date(),'MM-dd-yyyy'))"
   ]
  },
  {
   "cell_type": "code",
   "execution_count": 105,
   "id": "8a7446be-038d-4316-8086-8bcf58cbb019",
   "metadata": {
    "tags": []
   },
   "outputs": [
    {
     "name": "stdout",
     "output_type": "stream",
     "text": [
      "+---+------+------+-------------+----------+\n",
      "| id|  name|salary|         city|    update|\n",
      "+---+------+------+-------------+----------+\n",
      "|  1|  Shub| 50000|     New York|09-30-2024|\n",
      "|  2|Akshay| 60000|  Los Angeles|09-30-2024|\n",
      "|  3| Priya| 55000|      Chicago|09-30-2024|\n",
      "|  4|  Ravi| 48000|San Francisco|09-30-2024|\n",
      "|  5| Nisha| 70000|       Boston|09-30-2024|\n",
      "|  6|  Amit| 65000|        Miami|09-30-2024|\n",
      "|  7| Sanya| 72000|      Houston|09-30-2024|\n",
      "|  8| Karan| 52000|      Seattle|09-30-2024|\n",
      "+---+------+------+-------------+----------+\n",
      "\n"
     ]
    }
   ],
   "source": [
    "hello.show()"
   ]
  },
  {
   "cell_type": "code",
   "execution_count": null,
   "id": "46dadbeb-f92b-4849-aa7e-7fc5d188551a",
   "metadata": {},
   "outputs": [],
   "source": []
  },
  {
   "cell_type": "code",
   "execution_count": 110,
   "id": "e6c4ffb5-ba84-4a87-a7ea-7fb3cac6856a",
   "metadata": {
    "tags": []
   },
   "outputs": [
    {
     "name": "stdout",
     "output_type": "stream",
     "text": [
      "+---+------+------+-------------+--------------------+\n",
      "| id|  name|salary|         city|           timestamp|\n",
      "+---+------+------+-------------+--------------------+\n",
      "|  1|  Shub| 50000|     New York|2024-09-30 11:50:...|\n",
      "|  2|Akshay| 60000|  Los Angeles|2024-09-30 11:50:...|\n",
      "|  3| Priya| 55000|      Chicago|2024-09-30 11:50:...|\n",
      "|  4|  Ravi| 48000|San Francisco|2024-09-30 11:50:...|\n",
      "|  5| Nisha| 70000|       Boston|2024-09-30 11:50:...|\n",
      "|  6|  Amit| 65000|        Miami|2024-09-30 11:50:...|\n",
      "|  7| Sanya| 72000|      Houston|2024-09-30 11:50:...|\n",
      "|  8| Karan| 52000|      Seattle|2024-09-30 11:50:...|\n",
      "+---+------+------+-------------+--------------------+\n",
      "\n"
     ]
    }
   ],
   "source": [
    "sdf.withColumn(\"timestamp\",to_timestamp(current_timestamp(),'dd-mm-yyyy hh:mm:ss')).show()"
   ]
  },
  {
   "cell_type": "code",
   "execution_count": 116,
   "id": "a6689c99-354e-447f-88a3-9af6e57aa79f",
   "metadata": {
    "tags": []
   },
   "outputs": [],
   "source": [
    "sdf_with_current_time = sdf.withColumn(\"Current_time\",current_timestamp())"
   ]
  },
  {
   "cell_type": "code",
   "execution_count": 121,
   "id": "fb97ffa7-3017-47ff-999a-c0bf5c88c43e",
   "metadata": {
    "tags": []
   },
   "outputs": [
    {
     "name": "stdout",
     "output_type": "stream",
     "text": [
      "+---+------+------+-------------+--------------------+\n",
      "| id|  name|salary|         city|        Current_time|\n",
      "+---+------+------+-------------+--------------------+\n",
      "|  1|  Shub| 50000|     New York|2024-09-30 12:00:...|\n",
      "|  2|Akshay| 60000|  Los Angeles|2024-09-30 12:00:...|\n",
      "|  3| Priya| 55000|      Chicago|2024-09-30 12:00:...|\n",
      "|  4|  Ravi| 48000|San Francisco|2024-09-30 12:00:...|\n",
      "|  5| Nisha| 70000|       Boston|2024-09-30 12:00:...|\n",
      "|  6|  Amit| 65000|        Miami|2024-09-30 12:00:...|\n",
      "|  7| Sanya| 72000|      Houston|2024-09-30 12:00:...|\n",
      "|  8| Karan| 52000|      Seattle|2024-09-30 12:00:...|\n",
      "+---+------+------+-------------+--------------------+\n",
      "\n"
     ]
    }
   ],
   "source": [
    "sdf_with_current_time.show()"
   ]
  },
  {
   "cell_type": "code",
   "execution_count": 122,
   "id": "5f427229-201c-409e-8991-8d59513aa635",
   "metadata": {
    "tags": []
   },
   "outputs": [
    {
     "ename": "TypeError",
     "evalue": "col should be Column",
     "output_type": "error",
     "traceback": [
      "\u001b[0;31m---------------------------------------------------------------------------\u001b[0m",
      "\u001b[0;31mTypeError\u001b[0m                                 Traceback (most recent call last)",
      "Cell \u001b[0;32mIn[122], line 1\u001b[0m\n\u001b[0;32m----> 1\u001b[0m sdf_with_age \u001b[38;5;241m=\u001b[39m \u001b[43msdf_with_current_time\u001b[49m\u001b[38;5;241;43m.\u001b[39;49m\u001b[43mwithColumn\u001b[49m\u001b[43m(\u001b[49m\u001b[38;5;124;43m'\u001b[39;49m\u001b[38;5;124;43mage\u001b[39;49m\u001b[38;5;124;43m'\u001b[39;49m\u001b[43m,\u001b[49m\u001b[38;5;241;43m30\u001b[39;49m\u001b[43m)\u001b[49m\n",
      "File \u001b[0;32m~/anaconda3/envs/python3/lib/python3.10/site-packages/pyspark/sql/dataframe.py:3035\u001b[0m, in \u001b[0;36mDataFrame.withColumn\u001b[0;34m(self, colName, col)\u001b[0m\n\u001b[1;32m   3005\u001b[0m \u001b[38;5;250m\u001b[39m\u001b[38;5;124;03m\"\"\"\u001b[39;00m\n\u001b[1;32m   3006\u001b[0m \u001b[38;5;124;03mReturns a new :class:`DataFrame` by adding a column or replacing the\u001b[39;00m\n\u001b[1;32m   3007\u001b[0m \u001b[38;5;124;03mexisting column that has the same name.\u001b[39;00m\n\u001b[0;32m   (...)\u001b[0m\n\u001b[1;32m   3032\u001b[0m \n\u001b[1;32m   3033\u001b[0m \u001b[38;5;124;03m\"\"\"\u001b[39;00m\n\u001b[1;32m   3034\u001b[0m \u001b[38;5;28;01mif\u001b[39;00m \u001b[38;5;129;01mnot\u001b[39;00m \u001b[38;5;28misinstance\u001b[39m(col, Column):\n\u001b[0;32m-> 3035\u001b[0m     \u001b[38;5;28;01mraise\u001b[39;00m \u001b[38;5;167;01mTypeError\u001b[39;00m(\u001b[38;5;124m\"\u001b[39m\u001b[38;5;124mcol should be Column\u001b[39m\u001b[38;5;124m\"\u001b[39m)\n\u001b[1;32m   3036\u001b[0m \u001b[38;5;28;01mreturn\u001b[39;00m DataFrame(\u001b[38;5;28mself\u001b[39m\u001b[38;5;241m.\u001b[39m_jdf\u001b[38;5;241m.\u001b[39mwithColumn(colName, col\u001b[38;5;241m.\u001b[39m_jc), \u001b[38;5;28mself\u001b[39m\u001b[38;5;241m.\u001b[39msparkSession)\n",
      "\u001b[0;31mTypeError\u001b[0m: col should be Column"
     ]
    }
   ],
   "source": [
    "sdf_with_age = sdf_with_current_time.withColumn('age',30)      # we use lit to add constant value like 30"
   ]
  },
  {
   "cell_type": "code",
   "execution_count": 123,
   "id": "091f8f04-b44a-42b0-9432-3722ed30814c",
   "metadata": {
    "tags": []
   },
   "outputs": [],
   "source": [
    "sdf_with_age = sdf_with_current_time.withColumn('age',lit(30))  "
   ]
  },
  {
   "cell_type": "code",
   "execution_count": 125,
   "id": "eff611f8-0179-48e4-bd52-772b48cf1f2f",
   "metadata": {
    "tags": []
   },
   "outputs": [
    {
     "name": "stdout",
     "output_type": "stream",
     "text": [
      "+---+------+------+-------------+--------------------+---+\n",
      "| id|  name|salary|         city|        Current_time|age|\n",
      "+---+------+------+-------------+--------------------+---+\n",
      "|  1|  Shub| 50000|     New York|2024-09-30 12:05:...| 30|\n",
      "|  2|Akshay| 60000|  Los Angeles|2024-09-30 12:05:...| 30|\n",
      "|  3| Priya| 55000|      Chicago|2024-09-30 12:05:...| 30|\n",
      "|  4|  Ravi| 48000|San Francisco|2024-09-30 12:05:...| 30|\n",
      "|  5| Nisha| 70000|       Boston|2024-09-30 12:05:...| 30|\n",
      "|  6|  Amit| 65000|        Miami|2024-09-30 12:05:...| 30|\n",
      "|  7| Sanya| 72000|      Houston|2024-09-30 12:05:...| 30|\n",
      "|  8| Karan| 52000|      Seattle|2024-09-30 12:05:...| 30|\n",
      "+---+------+------+-------------+--------------------+---+\n",
      "\n"
     ]
    }
   ],
   "source": [
    "sdf_with_age.show()"
   ]
  },
  {
   "cell_type": "code",
   "execution_count": 126,
   "id": "bb2a8582-d04d-4c6e-8ef8-696be3bcf813",
   "metadata": {
    "tags": []
   },
   "outputs": [],
   "source": [
    "sdf_all = sdf_with_age"
   ]
  },
  {
   "cell_type": "markdown",
   "id": "aa2ea11f-7304-40eb-adb1-005123f7192c",
   "metadata": {
    "tags": []
   },
   "source": [
    "# create a view"
   ]
  },
  {
   "cell_type": "code",
   "execution_count": 127,
   "id": "1a8b74c5-afe8-4ab9-a2b8-53d437ad5951",
   "metadata": {
    "tags": []
   },
   "outputs": [],
   "source": [
    "sdf_all.createOrReplaceTempView('emp') "
   ]
  },
  {
   "cell_type": "code",
   "execution_count": 128,
   "id": "919ba996-8de2-4313-9014-b2109a8bc121",
   "metadata": {
    "tags": []
   },
   "outputs": [
    {
     "name": "stdout",
     "output_type": "stream",
     "text": [
      "+---+------+------+-------------+--------------------+---+\n",
      "| id|  name|salary|         city|        Current_time|age|\n",
      "+---+------+------+-------------+--------------------+---+\n",
      "|  1|  Shub| 50000|     New York|2024-09-30 12:11:...| 30|\n",
      "|  2|Akshay| 60000|  Los Angeles|2024-09-30 12:11:...| 30|\n",
      "|  3| Priya| 55000|      Chicago|2024-09-30 12:11:...| 30|\n",
      "|  4|  Ravi| 48000|San Francisco|2024-09-30 12:11:...| 30|\n",
      "|  5| Nisha| 70000|       Boston|2024-09-30 12:11:...| 30|\n",
      "|  6|  Amit| 65000|        Miami|2024-09-30 12:11:...| 30|\n",
      "|  7| Sanya| 72000|      Houston|2024-09-30 12:11:...| 30|\n",
      "|  8| Karan| 52000|      Seattle|2024-09-30 12:11:...| 30|\n",
      "+---+------+------+-------------+--------------------+---+\n",
      "\n"
     ]
    }
   ],
   "source": [
    "spark1.sql(\"select * from emp\").show()"
   ]
  },
  {
   "cell_type": "code",
   "execution_count": 135,
   "id": "b72031a5-f5ee-4977-8457-c5d7fa508eb7",
   "metadata": {
    "tags": []
   },
   "outputs": [
    {
     "name": "stdout",
     "output_type": "stream",
     "text": [
      "+---+------+------+-----------+--------------------+---+\n",
      "| id|  name|salary|       city|        Current_time|age|\n",
      "+---+------+------+-----------+--------------------+---+\n",
      "|  2|Akshay| 60000|Los Angeles|2024-09-30 12:14:...| 30|\n",
      "|  3| Priya| 55000|    Chicago|2024-09-30 12:14:...| 30|\n",
      "|  5| Nisha| 70000|     Boston|2024-09-30 12:14:...| 30|\n",
      "|  6|  Amit| 65000|      Miami|2024-09-30 12:14:...| 30|\n",
      "|  7| Sanya| 72000|    Houston|2024-09-30 12:14:...| 30|\n",
      "|  8| Karan| 52000|    Seattle|2024-09-30 12:14:...| 30|\n",
      "+---+------+------+-----------+--------------------+---+\n",
      "\n"
     ]
    }
   ],
   "source": [
    "spark1.sql('select * from emp where salary > 50000').show()"
   ]
  },
  {
   "cell_type": "code",
   "execution_count": 148,
   "id": "3f67e90a-379f-499a-bd81-948164dde3e0",
   "metadata": {
    "tags": []
   },
   "outputs": [
    {
     "ename": "AttributeError",
     "evalue": "'DataFrame' object has no attribute 'withcolum'",
     "output_type": "error",
     "traceback": [
      "\u001b[0;31m---------------------------------------------------------------------------\u001b[0m",
      "\u001b[0;31mAttributeError\u001b[0m                            Traceback (most recent call last)",
      "Cell \u001b[0;32mIn[148], line 1\u001b[0m\n\u001b[0;32m----> 1\u001b[0m \u001b[43msdf_all\u001b[49m\u001b[38;5;241;43m.\u001b[39;49m\u001b[43mwithcolum\u001b[49m(\u001b[38;5;124m\"\u001b[39m\u001b[38;5;124mbonus\u001b[39m\u001b[38;5;124m\"\u001b[39m,when(sdf_all\u001b[38;5;241m.\u001b[39msalary \u001b[38;5;241m>\u001b[39m \u001b[38;5;241m55000\u001b[39m, \u001b[38;5;124m\"\u001b[39m\u001b[38;5;124mhigh\u001b[39m\u001b[38;5;124m\"\u001b[39m)\u001b[38;5;241m.\u001b[39motherwise(\u001b[38;5;124m\"\u001b[39m\u001b[38;5;124mlow\u001b[39m\u001b[38;5;124m\"\u001b[39m))\u001b[38;5;241m.\u001b[39mshow()\n",
      "File \u001b[0;32m~/anaconda3/envs/python3/lib/python3.10/site-packages/pyspark/sql/dataframe.py:1988\u001b[0m, in \u001b[0;36mDataFrame.__getattr__\u001b[0;34m(self, name)\u001b[0m\n\u001b[1;32m   1978\u001b[0m \u001b[38;5;250m\u001b[39m\u001b[38;5;124;03m\"\"\"Returns the :class:`Column` denoted by ``name``.\u001b[39;00m\n\u001b[1;32m   1979\u001b[0m \n\u001b[1;32m   1980\u001b[0m \u001b[38;5;124;03m.. versionadded:: 1.3.0\u001b[39;00m\n\u001b[0;32m   (...)\u001b[0m\n\u001b[1;32m   1985\u001b[0m \u001b[38;5;124;03m[Row(age=2), Row(age=5)]\u001b[39;00m\n\u001b[1;32m   1986\u001b[0m \u001b[38;5;124;03m\"\"\"\u001b[39;00m\n\u001b[1;32m   1987\u001b[0m \u001b[38;5;28;01mif\u001b[39;00m name \u001b[38;5;129;01mnot\u001b[39;00m \u001b[38;5;129;01min\u001b[39;00m \u001b[38;5;28mself\u001b[39m\u001b[38;5;241m.\u001b[39mcolumns:\n\u001b[0;32m-> 1988\u001b[0m     \u001b[38;5;28;01mraise\u001b[39;00m \u001b[38;5;167;01mAttributeError\u001b[39;00m(\n\u001b[1;32m   1989\u001b[0m         \u001b[38;5;124m\"\u001b[39m\u001b[38;5;124m'\u001b[39m\u001b[38;5;132;01m%s\u001b[39;00m\u001b[38;5;124m'\u001b[39m\u001b[38;5;124m object has no attribute \u001b[39m\u001b[38;5;124m'\u001b[39m\u001b[38;5;132;01m%s\u001b[39;00m\u001b[38;5;124m'\u001b[39m\u001b[38;5;124m\"\u001b[39m \u001b[38;5;241m%\u001b[39m (\u001b[38;5;28mself\u001b[39m\u001b[38;5;241m.\u001b[39m\u001b[38;5;18m__class__\u001b[39m\u001b[38;5;241m.\u001b[39m\u001b[38;5;18m__name__\u001b[39m, name)\n\u001b[1;32m   1990\u001b[0m     )\n\u001b[1;32m   1991\u001b[0m jc \u001b[38;5;241m=\u001b[39m \u001b[38;5;28mself\u001b[39m\u001b[38;5;241m.\u001b[39m_jdf\u001b[38;5;241m.\u001b[39mapply(name)\n\u001b[1;32m   1992\u001b[0m \u001b[38;5;28;01mreturn\u001b[39;00m Column(jc)\n",
      "\u001b[0;31mAttributeError\u001b[0m: 'DataFrame' object has no attribute 'withcolum'"
     ]
    }
   ],
   "source": [
    "sdf_all.withcolum(\"bonus\",when(sdf_all.salary > 55000, \"high\").otherwise(\"low\")).show()"
   ]
  },
  {
   "cell_type": "code",
   "execution_count": 147,
   "id": "c77f12a4-2723-47b0-b393-4bc1c5870cac",
   "metadata": {
    "tags": []
   },
   "outputs": [
    {
     "name": "stdout",
     "output_type": "stream",
     "text": [
      "+---+------+------+-------------+--------------------+---+-----+\n",
      "| id|  name|salary|         city|        Current_time|age|bonus|\n",
      "+---+------+------+-------------+--------------------+---+-----+\n",
      "|  1|  Shub| 50000|     New York|2024-09-30 12:28:...| 30|  low|\n",
      "|  2|Akshay| 60000|  Los Angeles|2024-09-30 12:28:...| 30| high|\n",
      "|  3| Priya| 55000|      Chicago|2024-09-30 12:28:...| 30|  low|\n",
      "|  4|  Ravi| 48000|San Francisco|2024-09-30 12:28:...| 30|  low|\n",
      "|  5| Nisha| 70000|       Boston|2024-09-30 12:28:...| 30| high|\n",
      "|  6|  Amit| 65000|        Miami|2024-09-30 12:28:...| 30| high|\n",
      "|  7| Sanya| 72000|      Houston|2024-09-30 12:28:...| 30| high|\n",
      "|  8| Karan| 52000|      Seattle|2024-09-30 12:28:...| 30|  low|\n",
      "+---+------+------+-------------+--------------------+---+-----+\n",
      "\n"
     ]
    }
   ],
   "source": [
    "sdf_all.withColumn(\"bonus\",when(sdf_all.salary > 55000, \"high\").otherwise(\"low\")).show()"
   ]
  },
  {
   "cell_type": "code",
   "execution_count": null,
   "id": "c77d7746-291d-4a62-8190-57d2b4d104f5",
   "metadata": {
    "tags": []
   },
   "outputs": [],
   "source": [
    "sdf_all.withColumn('relation',when(sdf_all.name.startswith('A') | sdf_all.name.startswith('S')"
   ]
  },
  {
   "cell_type": "code",
   "execution_count": null,
   "id": "ecd17e04-d4f8-40d6-8e37-456a77085f3a",
   "metadata": {},
   "outputs": [],
   "source": []
  }
 ],
 "metadata": {
  "kernelspec": {
   "display_name": "conda_python3",
   "language": "python",
   "name": "conda_python3"
  },
  "language_info": {
   "codemirror_mode": {
    "name": "ipython",
    "version": 3
   },
   "file_extension": ".py",
   "mimetype": "text/x-python",
   "name": "python",
   "nbconvert_exporter": "python",
   "pygments_lexer": "ipython3",
   "version": "3.10.14"
  }
 },
 "nbformat": 4,
 "nbformat_minor": 5
}
