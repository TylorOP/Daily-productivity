{
	"metadata": {
		"kernelspec": {
			"name": "glue_pyspark",
			"display_name": "Glue PySpark",
			"language": "python"
		},
		"language_info": {
			"name": "Python_Glue_Session",
			"mimetype": "text/x-python",
			"codemirror_mode": {
				"name": "python",
				"version": 3
			},
			"pygments_lexer": "python3",
			"file_extension": ".py"
		}
	},
	"nbformat_minor": 4,
	"nbformat": 4,
	"cells": [
		{
			"cell_type": "code",
			"source": "data = [\n    (107, \"Sam Green\", 48000, \"HR\", \"2001-12-05\"),\n    (101, \"John Doe\", 50000, \"HR\", \"2002-01-15\"),\n    (109, \"Jack Black\", 52000, \"HR\", \"2002-03-22\"),\n    (110, \"Anna Scott\", 52000, \"Finance\", \"2002-06-30\"),\n    (103, \"Bob Brown\", 55000, \"HR\", \"2002-07-25\"),\n    (102, \"Jane Smith\", 60000, \"Finance\", \"2002-09-10\"),\n    (105, \"Tom Clark\", 62000, \"Finance\", \"2002-11-05\"),\n    (108, \"Lucy Gray\", 67000, \"Engineering\", \"2003-01-12\"),\n    (106, \"Eva Adams\", 70000, \"Engineering\", \"2003-03-18\"),\n    (104, \"Lisa White\", 75000, \"Engineering\", \"2003-04-30\"),\n]\n\ncolumns = ['empid', 'name', 'salary', 'department','Date']\n\n",
			"metadata": {
				"trusted": true,
				"tags": []
			},
			"execution_count": 90,
			"outputs": [
				{
					"name": "stdout",
					"text": "\n",
					"output_type": "stream"
				}
			]
		},
		{
			"cell_type": "code",
			"source": "from pyspark.sql import SparkSession",
			"metadata": {
				"trusted": true,
				"tags": []
			},
			"execution_count": 32,
			"outputs": [
				{
					"name": "stdout",
					"text": "\n",
					"output_type": "stream"
				}
			]
		},
		{
			"cell_type": "code",
			"source": "spark1 = SparkSession.builder.appName('dev').getOrCreate()",
			"metadata": {
				"trusted": true,
				"tags": []
			},
			"execution_count": 33,
			"outputs": [
				{
					"name": "stdout",
					"text": "\n",
					"output_type": "stream"
				}
			]
		},
		{
			"cell_type": "code",
			"source": "df = spark1.createDataFrame(data,schema=columns)",
			"metadata": {
				"trusted": true,
				"tags": []
			},
			"execution_count": 91,
			"outputs": [
				{
					"name": "stdout",
					"text": "\n",
					"output_type": "stream"
				}
			]
		},
		{
			"cell_type": "code",
			"source": "df.show()",
			"metadata": {
				"trusted": true,
				"tags": []
			},
			"execution_count": 92,
			"outputs": [
				{
					"name": "stdout",
					"text": "+-----+----------+------+-----------+----------+\n|empid|      name|salary| department|      Date|\n+-----+----------+------+-----------+----------+\n|  107| Sam Green| 48000|         HR|2001-12-05|\n|  101|  John Doe| 50000|         HR|2002-01-15|\n|  109|Jack Black| 52000|         HR|2002-03-22|\n|  110|Anna Scott| 52000|    Finance|2002-06-30|\n|  103| Bob Brown| 55000|         HR|2002-07-25|\n|  102|Jane Smith| 60000|    Finance|2002-09-10|\n|  105| Tom Clark| 62000|    Finance|2002-11-05|\n|  108| Lucy Gray| 67000|Engineering|2003-01-12|\n|  106| Eva Adams| 70000|Engineering|2003-03-18|\n|  104|Lisa White| 75000|Engineering|2003-04-30|\n+-----+----------+------+-----------+----------+\n",
					"output_type": "stream"
				}
			]
		},
		{
			"cell_type": "code",
			"source": "df.filter(col('salary') > 50000).show()",
			"metadata": {
				"trusted": true,
				"tags": []
			},
			"execution_count": 93,
			"outputs": [
				{
					"name": "stdout",
					"text": "+-----+----------+------+-----------+----------+\n|empid|      name|salary| department|      Date|\n+-----+----------+------+-----------+----------+\n|  109|Jack Black| 52000|         HR|2002-03-22|\n|  110|Anna Scott| 52000|    Finance|2002-06-30|\n|  103| Bob Brown| 55000|         HR|2002-07-25|\n|  102|Jane Smith| 60000|    Finance|2002-09-10|\n|  105| Tom Clark| 62000|    Finance|2002-11-05|\n|  108| Lucy Gray| 67000|Engineering|2003-01-12|\n|  106| Eva Adams| 70000|Engineering|2003-03-18|\n|  104|Lisa White| 75000|Engineering|2003-04-30|\n+-----+----------+------+-----------+----------+\n",
					"output_type": "stream"
				}
			]
		},
		{
			"cell_type": "code",
			"source": "from pyspark.sql.functions import col",
			"metadata": {
				"trusted": true,
				"tags": []
			},
			"execution_count": 94,
			"outputs": [
				{
					"name": "stdout",
					"text": "\n",
					"output_type": "stream"
				}
			]
		},
		{
			"cell_type": "code",
			"source": "#window function\n# window function is apply to aggregate and ranking functions over a particular window\n# window then over use it",
			"metadata": {
				"trusted": true,
				"tags": []
			},
			"execution_count": 10,
			"outputs": []
		},
		{
			"cell_type": "code",
			"source": "from pyspark.sql import Window",
			"metadata": {
				"trusted": true,
				"tags": []
			},
			"execution_count": 95,
			"outputs": [
				{
					"name": "stdout",
					"text": "\n",
					"output_type": "stream"
				}
			]
		},
		{
			"cell_type": "code",
			"source": "from pyspark.sql.functions import rank, dense_rank, row_number",
			"metadata": {
				"trusted": true,
				"tags": []
			},
			"execution_count": 96,
			"outputs": [
				{
					"name": "stdout",
					"text": "\n",
					"output_type": "stream"
				}
			]
		},
		{
			"cell_type": "code",
			"source": "partition_dept = Window.partitionBy('department').orderBy('salary')",
			"metadata": {
				"trusted": true,
				"tags": []
			},
			"execution_count": 97,
			"outputs": [
				{
					"name": "stdout",
					"text": "\n",
					"output_type": "stream"
				}
			]
		},
		{
			"cell_type": "code",
			"source": "df.show()",
			"metadata": {
				"trusted": true,
				"tags": []
			},
			"execution_count": 98,
			"outputs": [
				{
					"name": "stdout",
					"text": "+-----+----------+------+-----------+----------+\n|empid|      name|salary| department|      Date|\n+-----+----------+------+-----------+----------+\n|  107| Sam Green| 48000|         HR|2001-12-05|\n|  101|  John Doe| 50000|         HR|2002-01-15|\n|  109|Jack Black| 52000|         HR|2002-03-22|\n|  110|Anna Scott| 52000|    Finance|2002-06-30|\n|  103| Bob Brown| 55000|         HR|2002-07-25|\n|  102|Jane Smith| 60000|    Finance|2002-09-10|\n|  105| Tom Clark| 62000|    Finance|2002-11-05|\n|  108| Lucy Gray| 67000|Engineering|2003-01-12|\n|  106| Eva Adams| 70000|Engineering|2003-03-18|\n|  104|Lisa White| 75000|Engineering|2003-04-30|\n+-----+----------+------+-----------+----------+\n",
					"output_type": "stream"
				}
			]
		},
		{
			"cell_type": "code",
			"source": "df.withColumn('dense-rank',dense_rank().over(partition_dept)).show()",
			"metadata": {
				"trusted": true,
				"tags": []
			},
			"execution_count": 99,
			"outputs": [
				{
					"name": "stdout",
					"text": "+-----+----------+------+-----------+----------+----------+\n|empid|      name|salary| department|      Date|dense-rank|\n+-----+----------+------+-----------+----------+----------+\n|  108| Lucy Gray| 67000|Engineering|2003-01-12|         1|\n|  106| Eva Adams| 70000|Engineering|2003-03-18|         2|\n|  104|Lisa White| 75000|Engineering|2003-04-30|         3|\n|  110|Anna Scott| 52000|    Finance|2002-06-30|         1|\n|  102|Jane Smith| 60000|    Finance|2002-09-10|         2|\n|  105| Tom Clark| 62000|    Finance|2002-11-05|         3|\n|  107| Sam Green| 48000|         HR|2001-12-05|         1|\n|  101|  John Doe| 50000|         HR|2002-01-15|         2|\n|  109|Jack Black| 52000|         HR|2002-03-22|         3|\n|  103| Bob Brown| 55000|         HR|2002-07-25|         4|\n+-----+----------+------+-----------+----------+----------+\n",
					"output_type": "stream"
				}
			]
		},
		{
			"cell_type": "code",
			"source": "# continue front \n\ndf.withColumn('dense-rank',dense_rank().over(partition_dept)).withColumn('rank',rank().over(partition_dept)).withColumn('row-number',row_number().over(partition_dept)).show()",
			"metadata": {
				"trusted": true,
				"tags": []
			},
			"execution_count": 100,
			"outputs": [
				{
					"name": "stdout",
					"text": "+-----+----------+------+-----------+----------+----------+----+----------+\n|empid|      name|salary| department|      Date|dense-rank|rank|row-number|\n+-----+----------+------+-----------+----------+----------+----+----------+\n|  108| Lucy Gray| 67000|Engineering|2003-01-12|         1|   1|         1|\n|  106| Eva Adams| 70000|Engineering|2003-03-18|         2|   2|         2|\n|  104|Lisa White| 75000|Engineering|2003-04-30|         3|   3|         3|\n|  110|Anna Scott| 52000|    Finance|2002-06-30|         1|   1|         1|\n|  102|Jane Smith| 60000|    Finance|2002-09-10|         2|   2|         2|\n|  105| Tom Clark| 62000|    Finance|2002-11-05|         3|   3|         3|\n|  107| Sam Green| 48000|         HR|2001-12-05|         1|   1|         1|\n|  101|  John Doe| 50000|         HR|2002-01-15|         2|   2|         2|\n|  109|Jack Black| 52000|         HR|2002-03-22|         3|   3|         3|\n|  103| Bob Brown| 55000|         HR|2002-07-25|         4|   4|         4|\n+-----+----------+------+-----------+----------+----------+----+----------+\n",
					"output_type": "stream"
				}
			]
		},
		{
			"cell_type": "code",
			"source": "#as you can see orderBy is asc on salary",
			"metadata": {
				"trusted": true,
				"tags": []
			},
			"execution_count": 11,
			"outputs": []
		},
		{
			"cell_type": "code",
			"source": "from pyspark.sql.functions import desc",
			"metadata": {
				"trusted": true,
				"tags": []
			},
			"execution_count": 101,
			"outputs": [
				{
					"name": "stdout",
					"text": "\n",
					"output_type": "stream"
				}
			]
		},
		{
			"cell_type": "code",
			"source": "partition_window = Window.partitionBy('department').orderBy(desc('salary'))",
			"metadata": {
				"trusted": true,
				"tags": []
			},
			"execution_count": 102,
			"outputs": [
				{
					"name": "stdout",
					"text": "\n",
					"output_type": "stream"
				}
			]
		},
		{
			"cell_type": "code",
			"source": "df.withColumn('rank',rank().over(partition_window)).show()",
			"metadata": {
				"trusted": true,
				"tags": []
			},
			"execution_count": 103,
			"outputs": [
				{
					"name": "stdout",
					"text": "+-----+----------+------+-----------+----------+----+\n|empid|      name|salary| department|      Date|rank|\n+-----+----------+------+-----------+----------+----+\n|  104|Lisa White| 75000|Engineering|2003-04-30|   1|\n|  106| Eva Adams| 70000|Engineering|2003-03-18|   2|\n|  108| Lucy Gray| 67000|Engineering|2003-01-12|   3|\n|  105| Tom Clark| 62000|    Finance|2002-11-05|   1|\n|  102|Jane Smith| 60000|    Finance|2002-09-10|   2|\n|  110|Anna Scott| 52000|    Finance|2002-06-30|   3|\n|  103| Bob Brown| 55000|         HR|2002-07-25|   1|\n|  109|Jack Black| 52000|         HR|2002-03-22|   2|\n|  101|  John Doe| 50000|         HR|2002-01-15|   3|\n|  107| Sam Green| 48000|         HR|2001-12-05|   4|\n+-----+----------+------+-----------+----------+----+\n",
					"output_type": "stream"
				}
			]
		},
		{
			"cell_type": "code",
			"source": "# without window function",
			"metadata": {
				"trusted": true,
				"tags": []
			},
			"execution_count": 12,
			"outputs": []
		},
		{
			"cell_type": "code",
			"source": "df.select('salary').distinct().orderBy(col('salary').desc()).take(3)[-1]",
			"metadata": {
				"trusted": true,
				"tags": []
			},
			"execution_count": 104,
			"outputs": [
				{
					"name": "stdout",
					"text": "Row(salary=67000)\n",
					"output_type": "stream"
				}
			]
		},
		{
			"cell_type": "code",
			"source": "df.filter(col('salary') == 67000).show()",
			"metadata": {
				"trusted": true,
				"tags": []
			},
			"execution_count": 105,
			"outputs": [
				{
					"name": "stdout",
					"text": "+-----+---------+------+-----------+----------+\n|empid|     name|salary| department|      Date|\n+-----+---------+------+-----------+----------+\n|  108|Lucy Gray| 67000|Engineering|2003-01-12|\n+-----+---------+------+-----------+----------+\n",
					"output_type": "stream"
				}
			]
		},
		{
			"cell_type": "code",
			"source": "df.orderBy('salary').orderBy('empid').show() #not working don't look",
			"metadata": {
				"trusted": true,
				"tags": []
			},
			"execution_count": 106,
			"outputs": [
				{
					"name": "stdout",
					"text": "+-----+----------+------+-----------+----------+\n|empid|      name|salary| department|      Date|\n+-----+----------+------+-----------+----------+\n|  101|  John Doe| 50000|         HR|2002-01-15|\n|  102|Jane Smith| 60000|    Finance|2002-09-10|\n|  103| Bob Brown| 55000|         HR|2002-07-25|\n|  104|Lisa White| 75000|Engineering|2003-04-30|\n|  105| Tom Clark| 62000|    Finance|2002-11-05|\n|  106| Eva Adams| 70000|Engineering|2003-03-18|\n|  107| Sam Green| 48000|         HR|2001-12-05|\n|  108| Lucy Gray| 67000|Engineering|2003-01-12|\n|  109|Jack Black| 52000|         HR|2002-03-22|\n|  110|Anna Scott| 52000|    Finance|2002-06-30|\n+-----+----------+------+-----------+----------+\n",
					"output_type": "stream"
				}
			]
		},
		{
			"cell_type": "code",
			"source": "df.orderBy(col('salary').desc()).orderBy(col('empid').desc()).show()  #not working don't look",
			"metadata": {
				"trusted": true,
				"tags": []
			},
			"execution_count": 107,
			"outputs": [
				{
					"name": "stdout",
					"text": "+-----+----------+------+-----------+----------+\n|empid|      name|salary| department|      Date|\n+-----+----------+------+-----------+----------+\n|  110|Anna Scott| 52000|    Finance|2002-06-30|\n|  109|Jack Black| 52000|         HR|2002-03-22|\n|  108| Lucy Gray| 67000|Engineering|2003-01-12|\n|  107| Sam Green| 48000|         HR|2001-12-05|\n|  106| Eva Adams| 70000|Engineering|2003-03-18|\n|  105| Tom Clark| 62000|    Finance|2002-11-05|\n|  104|Lisa White| 75000|Engineering|2003-04-30|\n|  103| Bob Brown| 55000|         HR|2002-07-25|\n|  102|Jane Smith| 60000|    Finance|2002-09-10|\n|  101|  John Doe| 50000|         HR|2002-01-15|\n+-----+----------+------+-----------+----------+\n",
					"output_type": "stream"
				}
			]
		},
		{
			"cell_type": "code",
			"source": "df.orderBy(['salary','empid']).show()   #worked",
			"metadata": {
				"trusted": true,
				"tags": []
			},
			"execution_count": 108,
			"outputs": [
				{
					"name": "stdout",
					"text": "+-----+----------+------+-----------+----------+\n|empid|      name|salary| department|      Date|\n+-----+----------+------+-----------+----------+\n|  107| Sam Green| 48000|         HR|2001-12-05|\n|  101|  John Doe| 50000|         HR|2002-01-15|\n|  109|Jack Black| 52000|         HR|2002-03-22|\n|  110|Anna Scott| 52000|    Finance|2002-06-30|\n|  103| Bob Brown| 55000|         HR|2002-07-25|\n|  102|Jane Smith| 60000|    Finance|2002-09-10|\n|  105| Tom Clark| 62000|    Finance|2002-11-05|\n|  108| Lucy Gray| 67000|Engineering|2003-01-12|\n|  106| Eva Adams| 70000|Engineering|2003-03-18|\n|  104|Lisa White| 75000|Engineering|2003-04-30|\n+-----+----------+------+-----------+----------+\n",
					"output_type": "stream"
				}
			]
		},
		{
			"cell_type": "code",
			"source": "#spliting Columns",
			"metadata": {
				"trusted": true,
				"tags": []
			},
			"execution_count": 13,
			"outputs": []
		},
		{
			"cell_type": "code",
			"source": "data",
			"metadata": {
				"trusted": true,
				"tags": []
			},
			"execution_count": 109,
			"outputs": [
				{
					"name": "stdout",
					"text": "[(107, 'Sam Green', 48000, 'HR', '2001-12-05'), (101, 'John Doe', 50000, 'HR', '2002-01-15'), (109, 'Jack Black', 52000, 'HR', '2002-03-22'), (110, 'Anna Scott', 52000, 'Finance', '2002-06-30'), (103, 'Bob Brown', 55000, 'HR', '2002-07-25'), (102, 'Jane Smith', 60000, 'Finance', '2002-09-10'), (105, 'Tom Clark', 62000, 'Finance', '2002-11-05'), (108, 'Lucy Gray', 67000, 'Engineering', '2003-01-12'), (106, 'Eva Adams', 70000, 'Engineering', '2003-03-18'), (104, 'Lisa White', 75000, 'Engineering', '2003-04-30')]\n",
					"output_type": "stream"
				}
			]
		},
		{
			"cell_type": "code",
			"source": "# in pandas we were doing it by .split('-')[-1]",
			"metadata": {
				"trusted": true,
				"tags": []
			},
			"execution_count": 14,
			"outputs": []
		},
		{
			"cell_type": "code",
			"source": "df.show()",
			"metadata": {
				"trusted": true,
				"tags": []
			},
			"execution_count": 110,
			"outputs": [
				{
					"name": "stdout",
					"text": "+-----+----------+------+-----------+----------+\n|empid|      name|salary| department|      Date|\n+-----+----------+------+-----------+----------+\n|  107| Sam Green| 48000|         HR|2001-12-05|\n|  101|  John Doe| 50000|         HR|2002-01-15|\n|  109|Jack Black| 52000|         HR|2002-03-22|\n|  110|Anna Scott| 52000|    Finance|2002-06-30|\n|  103| Bob Brown| 55000|         HR|2002-07-25|\n|  102|Jane Smith| 60000|    Finance|2002-09-10|\n|  105| Tom Clark| 62000|    Finance|2002-11-05|\n|  108| Lucy Gray| 67000|Engineering|2003-01-12|\n|  106| Eva Adams| 70000|Engineering|2003-03-18|\n|  104|Lisa White| 75000|Engineering|2003-04-30|\n+-----+----------+------+-----------+----------+\n",
					"output_type": "stream"
				}
			]
		},
		{
			"cell_type": "code",
			"source": "from pyspark.sql.functions import split",
			"metadata": {
				"trusted": true,
				"tags": []
			},
			"execution_count": 127,
			"outputs": [
				{
					"name": "stdout",
					"text": "\n",
					"output_type": "stream"
				}
			]
		},
		{
			"cell_type": "code",
			"source": "df.withColumn('year',split(df['Date'],'-')[-1]).show()",
			"metadata": {
				"trusted": true,
				"tags": []
			},
			"execution_count": 113,
			"outputs": [
				{
					"name": "stdout",
					"text": "+-----+----------+------+-----------+----------+----+\n|empid|      name|salary| department|      Date|year|\n+-----+----------+------+-----------+----------+----+\n|  107| Sam Green| 48000|         HR|2001-12-05|null|\n|  101|  John Doe| 50000|         HR|2002-01-15|null|\n|  109|Jack Black| 52000|         HR|2002-03-22|null|\n|  110|Anna Scott| 52000|    Finance|2002-06-30|null|\n|  103| Bob Brown| 55000|         HR|2002-07-25|null|\n|  102|Jane Smith| 60000|    Finance|2002-09-10|null|\n|  105| Tom Clark| 62000|    Finance|2002-11-05|null|\n|  108| Lucy Gray| 67000|Engineering|2003-01-12|null|\n|  106| Eva Adams| 70000|Engineering|2003-03-18|null|\n|  104|Lisa White| 75000|Engineering|2003-04-30|null|\n+-----+----------+------+-----------+----------+----+\n",
					"output_type": "stream"
				}
			]
		},
		{
			"cell_type": "code",
			"source": "df.withColumn('year', split(df['Date'], '-').getItem(0)).show()",
			"metadata": {
				"trusted": true,
				"tags": []
			},
			"execution_count": 138,
			"outputs": [
				{
					"name": "stdout",
					"text": "+-----+----------+------+-----------+----------+----+\n|empid|      name|salary| department|      Date|year|\n+-----+----------+------+-----------+----------+----+\n|  107| Sam Green| 48000|         HR|2001-12-05|2001|\n|  101|  John Doe| 50000|         HR|2002-01-15|2002|\n|  109|Jack Black| 52000|         HR|2002-03-22|2002|\n|  110|Anna Scott| 52000|    Finance|2002-06-30|2002|\n|  103| Bob Brown| 55000|         HR|2002-07-25|2002|\n|  102|Jane Smith| 60000|    Finance|2002-09-10|2002|\n|  105| Tom Clark| 62000|    Finance|2002-11-05|2002|\n|  108| Lucy Gray| 67000|Engineering|2003-01-12|2003|\n|  106| Eva Adams| 70000|Engineering|2003-03-18|2003|\n|  104|Lisa White| 75000|Engineering|2003-04-30|2003|\n+-----+----------+------+-----------+----------+----+\n",
					"output_type": "stream"
				}
			]
		},
		{
			"cell_type": "code",
			"source": "df.withColumn('day',split('date','-').getItem(2)).show()",
			"metadata": {
				"trusted": true,
				"tags": []
			},
			"execution_count": 139,
			"outputs": [
				{
					"name": "stdout",
					"text": "+-----+----------+------+-----------+----------+---+\n|empid|      name|salary| department|      Date|day|\n+-----+----------+------+-----------+----------+---+\n|  107| Sam Green| 48000|         HR|2001-12-05| 05|\n|  101|  John Doe| 50000|         HR|2002-01-15| 15|\n|  109|Jack Black| 52000|         HR|2002-03-22| 22|\n|  110|Anna Scott| 52000|    Finance|2002-06-30| 30|\n|  103| Bob Brown| 55000|         HR|2002-07-25| 25|\n|  102|Jane Smith| 60000|    Finance|2002-09-10| 10|\n|  105| Tom Clark| 62000|    Finance|2002-11-05| 05|\n|  108| Lucy Gray| 67000|Engineering|2003-01-12| 12|\n|  106| Eva Adams| 70000|Engineering|2003-03-18| 18|\n|  104|Lisa White| 75000|Engineering|2003-04-30| 30|\n+-----+----------+------+-----------+----------+---+\n",
					"output_type": "stream"
				}
			]
		},
		{
			"cell_type": "code",
			"source": "df.withColumn('year', split(df['Date'], '-').getItem(0)).withColumn('day',split('date','-').getItem(2)).withColumn('month',split('date','-').getItem(1)).show()",
			"metadata": {
				"trusted": true,
				"tags": []
			},
			"execution_count": 140,
			"outputs": [
				{
					"name": "stdout",
					"text": "+-----+----------+------+-----------+----------+----+---+-----+\n|empid|      name|salary| department|      Date|year|day|month|\n+-----+----------+------+-----------+----------+----+---+-----+\n|  107| Sam Green| 48000|         HR|2001-12-05|2001| 05|   12|\n|  101|  John Doe| 50000|         HR|2002-01-15|2002| 15|   01|\n|  109|Jack Black| 52000|         HR|2002-03-22|2002| 22|   03|\n|  110|Anna Scott| 52000|    Finance|2002-06-30|2002| 30|   06|\n|  103| Bob Brown| 55000|         HR|2002-07-25|2002| 25|   07|\n|  102|Jane Smith| 60000|    Finance|2002-09-10|2002| 10|   09|\n|  105| Tom Clark| 62000|    Finance|2002-11-05|2002| 05|   11|\n|  108| Lucy Gray| 67000|Engineering|2003-01-12|2003| 12|   01|\n|  106| Eva Adams| 70000|Engineering|2003-03-18|2003| 18|   03|\n|  104|Lisa White| 75000|Engineering|2003-04-30|2003| 30|   04|\n+-----+----------+------+-----------+----------+----+---+-----+\n",
					"output_type": "stream"
				}
			]
		},
		{
			"cell_type": "code",
			"source": "part_dep = Window.partitionBy('department').orderBy(col('salary').desc())",
			"metadata": {
				"trusted": true,
				"tags": []
			},
			"execution_count": 141,
			"outputs": [
				{
					"name": "stdout",
					"text": "\n",
					"output_type": "stream"
				}
			]
		},
		{
			"cell_type": "code",
			"source": "df.withColumn('dense_rank',dense_rank().over(part_dep)).show()",
			"metadata": {
				"trusted": true,
				"tags": []
			},
			"execution_count": 149,
			"outputs": [
				{
					"name": "stdout",
					"text": "+-----+----------+------+-----------+----------+----------+\n|empid|      name|salary| department|      Date|dense_rank|\n+-----+----------+------+-----------+----------+----------+\n|  104|Lisa White| 75000|Engineering|2003-04-30|         1|\n|  106| Eva Adams| 70000|Engineering|2003-03-18|         2|\n|  108| Lucy Gray| 67000|Engineering|2003-01-12|         3|\n|  105| Tom Clark| 62000|    Finance|2002-11-05|         1|\n|  102|Jane Smith| 60000|    Finance|2002-09-10|         2|\n|  110|Anna Scott| 52000|    Finance|2002-06-30|         3|\n|  103| Bob Brown| 55000|         HR|2002-07-25|         1|\n|  109|Jack Black| 52000|         HR|2002-03-22|         2|\n|  101|  John Doe| 50000|         HR|2002-01-15|         3|\n|  107| Sam Green| 48000|         HR|2001-12-05|         4|\n+-----+----------+------+-----------+----------+----------+\n",
					"output_type": "stream"
				}
			]
		},
		{
			"cell_type": "code",
			"source": "df.withColumn('dense_rank',dense_rank().over(part_dep)).filter(col('dense_rank')==2).show()",
			"metadata": {
				"trusted": true,
				"tags": []
			},
			"execution_count": 150,
			"outputs": [
				{
					"name": "stdout",
					"text": "+-----+----------+------+-----------+----------+----------+\n|empid|      name|salary| department|      Date|dense_rank|\n+-----+----------+------+-----------+----------+----------+\n|  106| Eva Adams| 70000|Engineering|2003-03-18|         2|\n|  102|Jane Smith| 60000|    Finance|2002-09-10|         2|\n|  109|Jack Black| 52000|         HR|2002-03-22|         2|\n+-----+----------+------+-----------+----------+----------+\n",
					"output_type": "stream"
				}
			]
		},
		{
			"cell_type": "code",
			"source": "",
			"metadata": {},
			"execution_count": null,
			"outputs": []
		},
		{
			"cell_type": "code",
			"source": "",
			"metadata": {},
			"execution_count": null,
			"outputs": []
		},
		{
			"cell_type": "code",
			"source": "",
			"metadata": {},
			"execution_count": null,
			"outputs": []
		},
		{
			"cell_type": "code",
			"source": "",
			"metadata": {},
			"execution_count": null,
			"outputs": []
		},
		{
			"cell_type": "code",
			"source": "",
			"metadata": {},
			"execution_count": null,
			"outputs": []
		},
		{
			"cell_type": "code",
			"source": "",
			"metadata": {},
			"execution_count": null,
			"outputs": []
		},
		{
			"cell_type": "code",
			"source": "",
			"metadata": {},
			"execution_count": null,
			"outputs": []
		},
		{
			"cell_type": "code",
			"source": "",
			"metadata": {},
			"execution_count": null,
			"outputs": []
		},
		{
			"cell_type": "code",
			"source": "",
			"metadata": {},
			"execution_count": null,
			"outputs": []
		},
		{
			"cell_type": "code",
			"source": "",
			"metadata": {},
			"execution_count": null,
			"outputs": []
		},
		{
			"cell_type": "code",
			"source": "",
			"metadata": {},
			"execution_count": null,
			"outputs": []
		}
	]
}