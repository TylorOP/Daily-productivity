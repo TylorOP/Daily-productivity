{
 "cells": [
  {
   "cell_type": "code",
   "execution_count": 12,
   "id": "46b96c87",
   "metadata": {},
   "outputs": [
    {
     "data": {
      "text/plain": [
       "[[123, 'shub', 2354326, 'mumbai'],\n",
       " [23, 'ram', 6423426, 'pune'],\n",
       " [3, 'rahul', 547423, 'chennai'],\n",
       " [123, 'ak', 2354326, 'mumbai']]"
      ]
     },
     "execution_count": 12,
     "metadata": {},
     "output_type": "execute_result"
    }
   ],
   "source": [
    "emp = [[123,'shub',2354326,'mumbai'],\n",
    "        [23,'ram',6423426,'pune'],\n",
    "        [3,'rahul',547423,'chennai'],\n",
    "       [123,'ak',2354326,'mumbai'],\n",
    "        \n",
    "      ]\n",
    "emp"
   ]
  },
  {
   "cell_type": "code",
   "execution_count": 13,
   "id": "d62021c5",
   "metadata": {},
   "outputs": [
    {
     "data": {
      "text/plain": [
       "[[123, 'shub', 2354326, 'mumbai'], [123, 'ak', 2354326, 'mumbai']]"
      ]
     },
     "execution_count": 13,
     "metadata": {},
     "output_type": "execute_result"
    }
   ],
   "source": [
    "[e for e in emp if 'mumbai' in e]"
   ]
  },
  {
   "cell_type": "code",
   "execution_count": 15,
   "id": "19fa8efa",
   "metadata": {},
   "outputs": [],
   "source": [
    "p = [['a','b','c'],['d','e','f'],['g','h','i']]"
   ]
  },
  {
   "cell_type": "code",
   "execution_count": 16,
   "id": "357da2ea",
   "metadata": {},
   "outputs": [
    {
     "data": {
      "text/plain": [
       "['a', 'b', 'c', 'd', 'e', 'f', 'g', 'h', 'i']"
      ]
     },
     "execution_count": 16,
     "metadata": {},
     "output_type": "execute_result"
    }
   ],
   "source": [
    "[ele for i in p for ele in i ]"
   ]
  },
  {
   "cell_type": "code",
   "execution_count": null,
   "id": "36583a8e",
   "metadata": {},
   "outputs": [],
   "source": [
    "#Create a list of squares for numbers from 1 to 10."
   ]
  },
  {
   "cell_type": "code",
   "execution_count": 18,
   "id": "0dc87935",
   "metadata": {},
   "outputs": [
    {
     "data": {
      "text/plain": [
       "[1, 4, 9, 16, 25, 36, 49, 64, 81, 100]"
      ]
     },
     "execution_count": 18,
     "metadata": {},
     "output_type": "execute_result"
    }
   ],
   "source": [
    "[ele**2 for ele in range(1,11)]"
   ]
  },
  {
   "cell_type": "code",
   "execution_count": 19,
   "id": "cb55c483",
   "metadata": {},
   "outputs": [],
   "source": [
    "#Generate a list of even numbers from a given list: [1, 2, 3, 4, 5, 6, 7, 8, 9, 10]."
   ]
  },
  {
   "cell_type": "code",
   "execution_count": 22,
   "id": "9928111e",
   "metadata": {},
   "outputs": [
    {
     "data": {
      "text/plain": [
       "[2, 4, 6, 8, 10]"
      ]
     },
     "execution_count": 22,
     "metadata": {},
     "output_type": "execute_result"
    }
   ],
   "source": [
    "numbers = [1, 2, 3, 4, 5, 6, 7, 8, 9, 10]\n",
    "[ele for ele in numbers if ele %2==0]"
   ]
  },
  {
   "cell_type": "code",
   "execution_count": null,
   "id": "01ec389e",
   "metadata": {},
   "outputs": [],
   "source": [
    "#Convert all strings in a list to uppercase: [\"apple\", \"banana\", \"cherry\"]."
   ]
  },
  {
   "cell_type": "code",
   "execution_count": 24,
   "id": "15ce2788",
   "metadata": {},
   "outputs": [
    {
     "data": {
      "text/plain": [
       "['APPLE', 'BANANA', 'CHERRY']"
      ]
     },
     "execution_count": 24,
     "metadata": {},
     "output_type": "execute_result"
    }
   ],
   "source": [
    "fruits = [\"apple\", \"banana\", \"cherry\"]\n",
    "\n",
    "[ele.upper() for ele in fruits]"
   ]
  },
  {
   "cell_type": "code",
   "execution_count": 25,
   "id": "c5a3c4fe",
   "metadata": {},
   "outputs": [],
   "source": [
    "#Create a list of the lengths of each word in a given sentence: \"Practice makes perfect\"."
   ]
  },
  {
   "cell_type": "code",
   "execution_count": 30,
   "id": "7bb6f208",
   "metadata": {},
   "outputs": [
    {
     "data": {
      "text/plain": [
       "[8, 5, 7]"
      ]
     },
     "execution_count": 30,
     "metadata": {},
     "output_type": "execute_result"
    }
   ],
   "source": [
    " string_ =  \"Practice makes perfect\"\n",
    "\n",
    "[len(ele) for ele in string_.split(' ')]"
   ]
  },
  {
   "cell_type": "code",
   "execution_count": null,
   "id": "85b03e90",
   "metadata": {},
   "outputs": [],
   "source": [
    "#Flatten a nested list: [[1, 2, 3], [4, 5, 6], [7, 8, 9]]."
   ]
  },
  {
   "cell_type": "code",
   "execution_count": 34,
   "id": "c136f1b3",
   "metadata": {},
   "outputs": [
    {
     "data": {
      "text/plain": [
       "[1, 2, 3, 4, 5, 6, 7, 8, 9]"
      ]
     },
     "execution_count": 34,
     "metadata": {},
     "output_type": "execute_result"
    }
   ],
   "source": [
    "list_ = [[1, 2, 3], [4, 5, 6], [7, 8, 9]]\n",
    "[sec_ele for ele in list_ for sec_ele in ele]"
   ]
  },
  {
   "cell_type": "code",
   "execution_count": 36,
   "id": "a81b85d2",
   "metadata": {},
   "outputs": [],
   "source": [
    "#Create a list of all possible pairs (as tuples) from two lists: \n",
    "# [1, 2, 3] and ['a', 'b', 'c']."
   ]
  },
  {
   "cell_type": "code",
   "execution_count": 41,
   "id": "dac1b929",
   "metadata": {},
   "outputs": [
    {
     "data": {
      "text/plain": [
       "[(1, 'a'),\n",
       " (1, 'b'),\n",
       " (1, 'c'),\n",
       " (2, 'a'),\n",
       " (2, 'b'),\n",
       " (2, 'c'),\n",
       " (3, 'a'),\n",
       " (3, 'b'),\n",
       " (3, 'c')]"
      ]
     },
     "execution_count": 41,
     "metadata": {},
     "output_type": "execute_result"
    }
   ],
   "source": [
    "lst1 = [1,2,3]\n",
    "lst2 = ['a','b','c']\n",
    "\n",
    "[(ele1,ele2) for ele1 in lst1 for ele2 in lst2]"
   ]
  },
  {
   "cell_type": "code",
   "execution_count": 42,
   "id": "85989ae2",
   "metadata": {},
   "outputs": [],
   "source": [
    "#Filter out all the vowels from a string: \"List comprehensions are powerful!\"."
   ]
  },
  {
   "cell_type": "code",
   "execution_count": 57,
   "id": "418bc93f",
   "metadata": {},
   "outputs": [
    {
     "data": {
      "text/plain": [
       "['L',\n",
       " 's',\n",
       " 't',\n",
       " ' ',\n",
       " 'c',\n",
       " 'm',\n",
       " 'p',\n",
       " 'r',\n",
       " 'h',\n",
       " 'n',\n",
       " 's',\n",
       " 'n',\n",
       " 's',\n",
       " ' ',\n",
       " 'r',\n",
       " ' ',\n",
       " 'p',\n",
       " 'w',\n",
       " 'r',\n",
       " 'f',\n",
       " 'l',\n",
       " '!']"
      ]
     },
     "execution_count": 57,
     "metadata": {},
     "output_type": "execute_result"
    }
   ],
   "source": [
    "#my answer\n",
    "string_ =  \"List comprehensions are powerful!\"\n",
    "#my ans\n",
    "[vowels for vowels in string_ if vowels not in ['a','e','i','o','u'] and ['A' 'E' 'I' 'O' 'U']]\n",
    "#google ans\n",
    "[vowels for vowels in string_ if vowels not in 'aeiouAEIOU']\n",
    "[char for char in \"List comprehensions are powerful!\" if char.lower() not in 'aeiouAEIOU']"
   ]
  },
  {
   "cell_type": "code",
   "execution_count": null,
   "id": "0de3f21e",
   "metadata": {},
   "outputs": [],
   "source": [
    "#Generate a list of prime numbers less than 20."
   ]
  },
  {
   "cell_type": "code",
   "execution_count": 66,
   "id": "06aefdab",
   "metadata": {},
   "outputs": [
    {
     "data": {
      "text/plain": [
       "[2, 3, 5, 7, 11, 13, 17, 19]"
      ]
     },
     "execution_count": 66,
     "metadata": {},
     "output_type": "execute_result"
    }
   ],
   "source": [
    "[n for n in range(2, 20) if all(n % i != 0 for i in range(2, int(n**0.5) + 1))]\n"
   ]
  },
  {
   "cell_type": "code",
   "execution_count": null,
   "id": "f77fe01f",
   "metadata": {},
   "outputs": [],
   "source": []
  },
  {
   "cell_type": "code",
   "execution_count": null,
   "id": "0335da52",
   "metadata": {},
   "outputs": [],
   "source": []
  },
  {
   "cell_type": "code",
   "execution_count": null,
   "id": "1555a449",
   "metadata": {},
   "outputs": [],
   "source": []
  },
  {
   "cell_type": "code",
   "execution_count": 72,
   "id": "6718e5b4",
   "metadata": {},
   "outputs": [
    {
     "data": {
      "text/plain": [
       "[2, 3, 5, 7, 11, 13, 17, 19]"
      ]
     },
     "execution_count": 72,
     "metadata": {},
     "output_type": "execute_result"
    }
   ],
   "source": [
    "[n for n in range(2,20) if all(n % i!=0 for i in range(2,int(n**0.5)+1))]"
   ]
  },
  {
   "cell_type": "code",
   "execution_count": null,
   "id": "b2026634",
   "metadata": {},
   "outputs": [],
   "source": []
  },
  {
   "cell_type": "code",
   "execution_count": null,
   "id": "f6c246d3",
   "metadata": {},
   "outputs": [],
   "source": []
  },
  {
   "cell_type": "code",
   "execution_count": null,
   "id": "a74db239",
   "metadata": {},
   "outputs": [],
   "source": []
  },
  {
   "cell_type": "code",
   "execution_count": null,
   "id": "f225637c",
   "metadata": {},
   "outputs": [],
   "source": []
  },
  {
   "cell_type": "code",
   "execution_count": null,
   "id": "7b554e3d",
   "metadata": {},
   "outputs": [],
   "source": []
  },
  {
   "cell_type": "code",
   "execution_count": null,
   "id": "0dba648f",
   "metadata": {},
   "outputs": [],
   "source": []
  },
  {
   "cell_type": "code",
   "execution_count": null,
   "id": "34cb07b1",
   "metadata": {},
   "outputs": [],
   "source": []
  },
  {
   "cell_type": "code",
   "execution_count": null,
   "id": "c5b1fa51",
   "metadata": {},
   "outputs": [],
   "source": []
  },
  {
   "cell_type": "code",
   "execution_count": 78,
   "id": "30e8e49c",
   "metadata": {},
   "outputs": [
    {
     "data": {
      "text/plain": [
       "[2, 3, 5, 7, 11, 13, 17, 19]"
      ]
     },
     "execution_count": 78,
     "metadata": {},
     "output_type": "execute_result"
    }
   ],
   "source": [
    "[n for n in range(2,20) if all(n%i!=0 for i in range(2,int(n**0.5)+1))]"
   ]
  },
  {
   "cell_type": "code",
   "execution_count": null,
   "id": "fcc03e36",
   "metadata": {},
   "outputs": [],
   "source": []
  },
  {
   "cell_type": "code",
   "execution_count": 98,
   "id": "888f936b",
   "metadata": {},
   "outputs": [
    {
     "name": "stdout",
     "output_type": "stream",
     "text": [
      "[2, 3, 5, 7, 11, 13, 17, 19]\n"
     ]
    }
   ],
   "source": [
    "def isprime(n):\n",
    "    if n<2:\n",
    "        return False\n",
    "    for i in range(2,int(n**0.5)+1):\n",
    "        if n%i==0:\n",
    "            return False\n",
    "    return True\n",
    "        \n",
    "\n",
    "list_prime = []\n",
    "for n in range(2,21):\n",
    "    if isprime(n):\n",
    "        list_prime.append(n)\n",
    "print(list_prime)"
   ]
  },
  {
   "cell_type": "code",
   "execution_count": null,
   "id": "89c20957",
   "metadata": {},
   "outputs": [],
   "source": []
  },
  {
   "cell_type": "code",
   "execution_count": 119,
   "id": "70fb6571",
   "metadata": {},
   "outputs": [
    {
     "data": {
      "text/plain": [
       "['a',\n",
       " 'b',\n",
       " 'c',\n",
       " 'd',\n",
       " 'e',\n",
       " 'f',\n",
       " 'g',\n",
       " 'h',\n",
       " 'i',\n",
       " 'j',\n",
       " 'k',\n",
       " 'l',\n",
       " 'm',\n",
       " 'n',\n",
       " 'o',\n",
       " 'p',\n",
       " 'q',\n",
       " 'r',\n",
       " 's',\n",
       " 't',\n",
       " 'u',\n",
       " 'v',\n",
       " 'w',\n",
       " 'x',\n",
       " 'y',\n",
       " 'z']"
      ]
     },
     "execution_count": 119,
     "metadata": {},
     "output_type": "execute_result"
    }
   ],
   "source": [
    "[chr(i) for i in range (97,123)]"
   ]
  },
  {
   "cell_type": "code",
   "execution_count": null,
   "id": "cfc79a0d",
   "metadata": {},
   "outputs": [],
   "source": []
  },
  {
   "cell_type": "code",
   "execution_count": 101,
   "id": "3a462cd3",
   "metadata": {},
   "outputs": [],
   "source": []
  },
  {
   "cell_type": "code",
   "execution_count": null,
   "id": "17cd1602",
   "metadata": {},
   "outputs": [],
   "source": []
  }
 ],
 "metadata": {
  "kernelspec": {
   "display_name": "Python 3 (ipykernel)",
   "language": "python",
   "name": "python3"
  },
  "language_info": {
   "codemirror_mode": {
    "name": "ipython",
    "version": 3
   },
   "file_extension": ".py",
   "mimetype": "text/x-python",
   "name": "python",
   "nbconvert_exporter": "python",
   "pygments_lexer": "ipython3",
   "version": "3.9.19"
  }
 },
 "nbformat": 4,
 "nbformat_minor": 5
}
