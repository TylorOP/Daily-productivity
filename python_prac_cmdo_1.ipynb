{
 "cells": [
  {
   "cell_type": "code",
   "execution_count": 1,
   "id": "95c38979",
   "metadata": {},
   "outputs": [],
   "source": [
    "my_variable = 1000"
   ]
  },
  {
   "cell_type": "code",
   "execution_count": 87,
   "id": "55041c25",
   "metadata": {},
   "outputs": [],
   "source": [
    "list1 = [3,5,3,6,3]\n",
    "list2 = [4,'ff',6,'dffdg']"
   ]
  },
  {
   "cell_type": "code",
   "execution_count": 21,
   "id": "2e2205c1",
   "metadata": {},
   "outputs": [],
   "source": [
    "list1.append(list2)"
   ]
  },
  {
   "cell_type": "code",
   "execution_count": 15,
   "id": "fbb64d0c",
   "metadata": {},
   "outputs": [],
   "source": [
    "l2"
   ]
  },
  {
   "cell_type": "code",
   "execution_count": 22,
   "id": "cddfe879",
   "metadata": {},
   "outputs": [
    {
     "data": {
      "text/plain": [
       "[3, 5, 3, 6, 3, 3, 3, 5, [4, 'ff', 6, 'dffdg']]"
      ]
     },
     "execution_count": 22,
     "metadata": {},
     "output_type": "execute_result"
    }
   ],
   "source": [
    "list1"
   ]
  },
  {
   "cell_type": "code",
   "execution_count": 23,
   "id": "61e377ca",
   "metadata": {},
   "outputs": [],
   "source": [
    "list1.extend(list2)"
   ]
  },
  {
   "cell_type": "code",
   "execution_count": 24,
   "id": "e294bb6b",
   "metadata": {},
   "outputs": [
    {
     "data": {
      "text/plain": [
       "[3, 5, 3, 6, 3, 3, 3, 5, [4, 'ff', 6, 'dffdg'], 4, 'ff', 6, 'dffdg']"
      ]
     },
     "execution_count": 24,
     "metadata": {},
     "output_type": "execute_result"
    }
   ],
   "source": [
    "list1"
   ]
  },
  {
   "cell_type": "code",
   "execution_count": 26,
   "id": "8f059621",
   "metadata": {},
   "outputs": [],
   "source": [
    "list1.extend('2')"
   ]
  },
  {
   "cell_type": "code",
   "execution_count": 27,
   "id": "497b91cd",
   "metadata": {},
   "outputs": [
    {
     "data": {
      "text/plain": [
       "[3, 5, 3, 6, 3, 3, 3, 5, [4, 'ff', 6, 'dffdg'], 4, 'ff', 6, 'dffdg', '2']"
      ]
     },
     "execution_count": 27,
     "metadata": {},
     "output_type": "execute_result"
    }
   ],
   "source": [
    "list1"
   ]
  },
  {
   "cell_type": "code",
   "execution_count": 31,
   "id": "99f7ee11",
   "metadata": {},
   "outputs": [
    {
     "data": {
      "text/plain": [
       "6"
      ]
     },
     "execution_count": 31,
     "metadata": {},
     "output_type": "execute_result"
    }
   ],
   "source": [
    "list1[8][2]"
   ]
  },
  {
   "cell_type": "code",
   "execution_count": 74,
   "id": "dd90430e",
   "metadata": {},
   "outputs": [],
   "source": [
    "topping = ['papper','chilli','mashroom']"
   ]
  },
  {
   "cell_type": "code",
   "execution_count": 70,
   "id": "9c2d1b97",
   "metadata": {},
   "outputs": [
    {
     "data": {
      "text/plain": [
       "'mashroom'"
      ]
     },
     "execution_count": 70,
     "metadata": {},
     "output_type": "execute_result"
    }
   ],
   "source": [
    "topping.pop()"
   ]
  },
  {
   "cell_type": "code",
   "execution_count": 71,
   "id": "0e811363",
   "metadata": {},
   "outputs": [
    {
     "data": {
      "text/plain": [
       "'chilli'"
      ]
     },
     "execution_count": 71,
     "metadata": {},
     "output_type": "execute_result"
    }
   ],
   "source": [
    "topping.pop()"
   ]
  },
  {
   "cell_type": "code",
   "execution_count": 75,
   "id": "fe68f4ed",
   "metadata": {},
   "outputs": [],
   "source": [
    "topping.remove('chilli')\n"
   ]
  },
  {
   "cell_type": "code",
   "execution_count": 76,
   "id": "1b710901",
   "metadata": {},
   "outputs": [
    {
     "data": {
      "text/plain": [
       "['papper', 'mashroom']"
      ]
     },
     "execution_count": 76,
     "metadata": {},
     "output_type": "execute_result"
    }
   ],
   "source": [
    "topping"
   ]
  },
  {
   "cell_type": "code",
   "execution_count": 77,
   "id": "01ad1968",
   "metadata": {},
   "outputs": [
    {
     "name": "stdout",
     "output_type": "stream",
     "text": [
      "<filter object at 0x7fad11398a90>\n"
     ]
    }
   ],
   "source": [
    "print(filter(lambda x : x>3,[1,2,3,4,5]))"
   ]
  },
  {
   "cell_type": "code",
   "execution_count": 80,
   "id": "38857952",
   "metadata": {},
   "outputs": [
    {
     "data": {
      "text/plain": [
       "[4, 5]"
      ]
     },
     "execution_count": 80,
     "metadata": {},
     "output_type": "execute_result"
    }
   ],
   "source": [
    "list(filter(lambda x : x>3,[1,2,3,4,5]))"
   ]
  },
  {
   "cell_type": "code",
   "execution_count": 83,
   "id": "2d394fb7",
   "metadata": {},
   "outputs": [
    {
     "name": "stdout",
     "output_type": "stream",
     "text": [
      "False\n"
     ]
    }
   ],
   "source": [
    "print(\"hello\".endswith(\"r\"))"
   ]
  },
  {
   "cell_type": "code",
   "execution_count": 84,
   "id": "2c8e7720",
   "metadata": {},
   "outputs": [
    {
     "name": "stdout",
     "output_type": "stream",
     "text": [
      "history 0\n",
      "science 1\n",
      "maths 2\n"
     ]
    }
   ],
   "source": [
    "courses = ['history','science','maths']\n",
    "marks = [23,34,12]\n",
    "\n",
    "for index,value in enumerate(courses):\n",
    "    print(value,index)"
   ]
  },
  {
   "cell_type": "code",
   "execution_count": null,
   "id": "8f45922f",
   "metadata": {},
   "outputs": [],
   "source": []
  },
  {
   "cell_type": "code",
   "execution_count": 88,
   "id": "7ecf3182",
   "metadata": {},
   "outputs": [
    {
     "data": {
      "text/plain": [
       "[4, 'ff', 6, 'dffdg']"
      ]
     },
     "execution_count": 88,
     "metadata": {},
     "output_type": "execute_result"
    }
   ],
   "source": [
    "list2"
   ]
  },
  {
   "cell_type": "code",
   "execution_count": 91,
   "id": "2f2ec851",
   "metadata": {},
   "outputs": [
    {
     "data": {
      "text/plain": [
       "[3, 5, 3, 3, 6, 3]"
      ]
     },
     "execution_count": 91,
     "metadata": {},
     "output_type": "execute_result"
    }
   ],
   "source": [
    "list1"
   ]
  },
  {
   "cell_type": "code",
   "execution_count": 110,
   "id": "44633b09",
   "metadata": {},
   "outputs": [],
   "source": [
    "list1.insert(-1,43)"
   ]
  },
  {
   "cell_type": "code",
   "execution_count": 111,
   "id": "09f28960",
   "metadata": {},
   "outputs": [
    {
     "data": {
      "text/plain": [
       "[7543, 3, 5, 3, 7, 3, 3, 6, 3, 8, 8, 2567543, 7543, 2567543, 43, 8]"
      ]
     },
     "execution_count": 111,
     "metadata": {},
     "output_type": "execute_result"
    }
   ],
   "source": [
    "list1"
   ]
  },
  {
   "cell_type": "code",
   "execution_count": 117,
   "id": "5fba31f3",
   "metadata": {},
   "outputs": [],
   "source": [
    "list2.append(list2)"
   ]
  },
  {
   "cell_type": "code",
   "execution_count": 118,
   "id": "d5bf2370",
   "metadata": {},
   "outputs": [
    {
     "data": {
      "text/plain": [
       "[4, 'ff', 6, 'dffdg', 2, 'asdfgf', [...]]"
      ]
     },
     "execution_count": 118,
     "metadata": {},
     "output_type": "execute_result"
    }
   ],
   "source": [
    "list2"
   ]
  },
  {
   "cell_type": "code",
   "execution_count": 127,
   "id": "5dbb54db",
   "metadata": {},
   "outputs": [],
   "source": [
    "import pandas as pd"
   ]
  },
  {
   "cell_type": "code",
   "execution_count": 148,
   "id": "ef2e567b",
   "metadata": {},
   "outputs": [],
   "source": [
    "import requests\n"
   ]
  },
  {
   "cell_type": "code",
   "execution_count": 151,
   "id": "afc818b3",
   "metadata": {},
   "outputs": [],
   "source": [
    "data = requests.get('https://www.kaggle.com/datasets/muhammadehsan02/126-years-of-historical-olympic-dataset').content"
   ]
  },
  {
   "cell_type": "code",
   "execution_count": 154,
   "id": "36947073",
   "metadata": {},
   "outputs": [],
   "source": [
    "import json"
   ]
  },
  {
   "cell_type": "code",
   "execution_count": null,
   "id": "a1cb6536",
   "metadata": {},
   "outputs": [],
   "source": [
    "Write a Python program that takes user input (e.g., age) and categorizes it (child, teenager, adult)."
   ]
  },
  {
   "cell_type": "code",
   "execution_count": 3,
   "id": "77ac2e37",
   "metadata": {},
   "outputs": [
    {
     "name": "stdout",
     "output_type": "stream",
     "text": [
      "enter your age: 65\n",
      "adult\n"
     ]
    }
   ],
   "source": [
    "user_input = int(input(\"enter your age: \"))\n",
    "\n",
    "if user_input >= 12 and user_input < 18: #elif 13 <= age < 18:\n",
    "    print(\"teen\")\n",
    "elif user_input > 1 and user_input < 12:  # if age < 13:\n",
    "    print('child')\n",
    "else:\n",
    "    print('adult')\n",
    "\n",
    "\n",
    "#my code"
   ]
  },
  {
   "cell_type": "code",
   "execution_count": 4,
   "id": "29001d87",
   "metadata": {},
   "outputs": [],
   "source": [
    "# age = int(input(\"Enter your age: \"))\n",
    "# if age < 13:\n",
    "#     print(\"You're a child.\")\n",
    "# elif 13 <= age < 18:\n",
    "#     print(\"You're a teenager.\")\n",
    "# else:\n",
    "#     print(\"You're an adult.\")\n",
    "\n",
    "#google"
   ]
  },
  {
   "cell_type": "code",
   "execution_count": null,
   "id": "d737b667",
   "metadata": {},
   "outputs": [],
   "source": [
    "    "
   ]
  }
 ],
 "metadata": {
  "kernelspec": {
   "display_name": "Python 3 (ipykernel)",
   "language": "python",
   "name": "python3"
  },
  "language_info": {
   "codemirror_mode": {
    "name": "ipython",
    "version": 3
   },
   "file_extension": ".py",
   "mimetype": "text/x-python",
   "name": "python",
   "nbconvert_exporter": "python",
   "pygments_lexer": "ipython3",
   "version": "3.9.19"
  }
 },
 "nbformat": 4,
 "nbformat_minor": 5
}
